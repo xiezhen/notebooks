{
 "cells": [
  {
   "cell_type": "markdown",
   "metadata": {},
   "source": [
    "### [Chapter 1 : Working Environment](http://cms-service-lumi.web.cern.ch/cms-service-lumi/brilnotebook/WorkingEnvironment.html)"
   ]
  },
  {
   "cell_type": "markdown",
   "metadata": {},
   "source": [
    "### [Chapter 2: Basic Concepts and Best Practice](http://cms-service-lumi.web.cern.ch/cms-service-lumi/brilnotebook/basics.html)"
   ]
  },
  {
   "cell_type": "markdown",
   "metadata": {},
   "source": [
    "### [Chapter 3: Your first xdaq application](http://cms-service-lumi.web.cern.ch/cms-service-lumi/brilnotebook/xdaqHelloWorld.html)"
   ]
  },
  {
   "cell_type": "markdown",
   "metadata": {},
   "source": [
    "### [Chapter 4: Hands-On usage of infospace, xdata event, infospace call-back, timer,web callback](http://cms-service-lumi.web.cern.ch/cms-service-lumi/brilnotebook/xdaqInfoSpace.html)"
   ]
  }
 ],
 "metadata": {
  "kernelspec": {
   "display_name": "Python 2",
   "language": "python",
   "name": "python2"
  },
  "language_info": {
   "codemirror_mode": {
    "name": "ipython",
    "version": 2
   },
   "file_extension": ".py",
   "mimetype": "text/x-python",
   "name": "python",
   "nbconvert_exporter": "python",
   "pygments_lexer": "ipython2",
   "version": "2.7.12"
  }
 },
 "nbformat": 4,
 "nbformat_minor": 1
}
