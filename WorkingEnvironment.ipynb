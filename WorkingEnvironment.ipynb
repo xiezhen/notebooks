{
 "cells": [
  {
   "cell_type": "markdown",
   "metadata": {},
   "source": [
    "## Handon Sessions"
   ]
  },
  {
   "cell_type": "markdown",
   "metadata": {},
   "source": [
    "### Working environment"
   ]
  },
  {
   "cell_type": "markdown",
   "metadata": {},
   "source": [
    "```\n",
    "# Log in brildev1 and use bash shell\n",
    "export workdir=`pwd`\n",
    "cd $workdir\n",
    "rm -rf daq\n",
    "svn export https://svn.cern.ch/reps/cmsos/branches/bril/examples/daq daq\n",
    "cd daq/bril/scripts\n",
    "source ./brilenv.sh\n",
    "echo $LD_LIBRARY_PATH\n",
    "```"
   ]
  },
  {
   "cell_type": "markdown",
   "metadata": {},
   "source": [
    "daq/bril/scripts/brilenv.sh sets runtime bash environment. It must be run from inside the scripts directory. It must be run in every new shell\n",
    "\n",
    "```\n",
    "more brilenv.sh\n",
    "```\n",
    "\n",
    "For real work, you need to adjust the content of brilenv.sh for your own need/dependencies."
   ]
  },
  {
   "cell_type": "markdown",
   "metadata": {},
   "source": [
    "#### Exercise: \n",
    "\n",
    "```\n",
    "What if your application uses Root, where would you need to change in brilenv.sh?\n",
    "\n",
    "brilenv.sh is setting $LOCALDAQ_ROOT or $XDAQ_ROOT as precedence and why?\n",
    "\n",
    "What is the purpose of $XDAQ_DOCUMENT_ROOT?\n",
    "\n",
    "If xdaq executive loads application libraries as plugins, why do I need to set $LD_LIBRARY_PATH?\n",
    "```"
   ]
  },
  {
   "cell_type": "markdown",
   "metadata": {},
   "source": [
    "### Optional utility :  set up application configuration via templates \n",
    "\n",
    "Help to generate xdaq application configuration xml with correct parameters. This is not a part ofa the framework.\n"
   ]
  },
  {
   "cell_type": "markdown",
   "metadata": {},
   "source": [
    "```\n",
    "# Look at the example application config template \n",
    "cd $workdir/daq/bril/scripts\n",
    "more $workdir/daq/bril/scripts/timesource/timesource_datagenerator.template\n",
    "```"
   ]
  },
  {
   "cell_type": "markdown",
   "metadata": {},
   "source": [
    "```\n",
    "# Look at the current template.param\n",
    "# Note: all the template variables in the previous file are defined here\n",
    "# Note: localdaqroot is special, when the righthand side is whitespace, it means the generator script will guess it\n",
    "more $workdir/daq/bril/scripts/timesource/template.param\n",
    "```"
   ]
  },
  {
   "cell_type": "markdown",
   "metadata": {},
   "source": [
    "<p> \n",
    "   <pre>\n",
    "    scripts/$package/myapp.template  this is the xdaq configuration file, except variables can be templated.\n",
    "    scripts/$package/template.param  template.param file contains substitutions of parameters defined in all the templates \n",
    "                                     (you might have more than one).\n",
    "    </pre>\n",
    "</p>\n",
    "* in the template file, \"%\" enclosed are template variables.\n",
    "* \"%brildaqroot%\" is special, when empty, it can be deduced\n",
    "* The rightside value is bash expanded. For example, the formats below are allowed and evaluated.\n",
    "    <pre>\n",
    "       %a%=`ls` \n",
    "       %b%=$BVAL \n",
    "   </pre>"
   ]
  },
  {
   "cell_type": "markdown",
   "metadata": {},
   "source": [
    "```\n",
    "# Generate application configuration files based on templates and parameters in directory timesource\n",
    "./generatexml.sh timesource\n",
    "\n",
    "```"
   ]
  },
  {
   "cell_type": "markdown",
   "metadata": {},
   "source": [
    "### Optional Utility : scan for free ports on the host\n",
    "\n",
    "Help to find a free port. This is not a part of the framework\n",
    "\n",
    "```\n",
    "cd $workdir/daq/bril/scripts\n",
    "\n",
    "# Scan for 10 free ports in default range [30000,30010)\n",
    "python freeportscanner.py \n",
    "\n",
    "# Scan for 10 free ports starting from the mininal value\n",
    "python freeportscanner.py 50000 \n",
    "\n",
    "# Scan for free ports in a precise range\n",
    "python freeportscanner.py 50000 50020\n",
    "\n",
    "#Scan for free ports in a precise range\n",
    "python freeportscanner.py \n",
    "\n",
    "```\n"
   ]
  }
 ],
 "metadata": {
  "kernelspec": {
   "display_name": "Python 2",
   "language": "python",
   "name": "python2"
  },
  "language_info": {
   "codemirror_mode": {
    "name": "ipython",
    "version": 2
   },
   "file_extension": ".py",
   "mimetype": "text/x-python",
   "name": "python",
   "nbconvert_exporter": "python",
   "pygments_lexer": "ipython2",
   "version": "2.7.12"
  }
 },
 "nbformat": 4,
 "nbformat_minor": 1
}
