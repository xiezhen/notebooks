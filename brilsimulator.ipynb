{
 "metadata": {
  "name": "",
  "signature": "sha256:bd12bf651ab993f11e65621ca3e2d5992e11a416649f0e4a5b20b9384bf1c429"
 },
 "nbformat": 3,
 "nbformat_minor": 0,
 "worksheets": [
  {
   "cells": [
    {
     "cell_type": "markdown",
     "metadata": {},
     "source": [
      "#brildaq component in simulation mode"
     ]
    },
    {
     "cell_type": "markdown",
     "metadata": {},
     "source": [
      "### *A minimalist xdaq application*\n",
      "\n",
      "\n",
      "We create a minimalist xdaq application which is \n",
      "\n",
      "   1. Configurable\n",
      "   2. Has a web page\n"
     ]
    },
    {
     "cell_type": "markdown",
     "metadata": {},
     "source": [
      "##### package structure"
     ]
    },
    {
     "cell_type": "code",
     "collapsed": false,
     "input": [
      "workdir = %pwd\n",
      "# go to a clean work directory and check out brildaq repository \n",
      "!svn co https://svn.cern.ch/reps/cmsos/branches/bril/daq ;     "
     ],
     "language": "python",
     "metadata": {},
     "outputs": [
      {
       "output_type": "stream",
       "stream": "stdout",
       "text": [
        "A    daq/interface\r\n",
        "A    daq/interface/bril\r\n",
        "A    daq/interface/bril/test\r\n",
        "A    daq/interface/bril/test/common\r\n",
        "A    daq/interface/bril/test/common/test_lookuptable.cpp\r\n",
        "A    daq/interface/bril/test/common/test_helpers.cpp\r\n",
        "A    daq/interface/bril/test/common/test_topicdb.cpp\r\n",
        "A    daq/interface/bril/include\r\n",
        "A    daq/interface/bril/include/interface\r\n",
        "A    daq/interface/bril/include/interface/bril\r\n"
       ]
      },
      {
       "output_type": "stream",
       "stream": "stdout",
       "text": [
        "A    daq/interface/bril/include/interface/bril/AllTopics.h\r\n",
        "A    daq/interface/bril/include/interface/bril/BCM1FTopics.h\r\n",
        "A    daq/interface/bril/include/interface/bril/DIPTopics.h\r\n"
       ]
      },
      {
       "output_type": "stream",
       "stream": "stdout",
       "text": [
        "A    daq/interface/bril/include/interface/bril/HFTopics.h\r\n",
        "A    daq/interface/bril/include/interface/bril/TCDSTopics.h\r\n",
        "A    daq/interface/bril/include/interface/bril/PLTTopics.h\r\n"
       ]
      },
      {
       "output_type": "stream",
       "stream": "stdout",
       "text": [
        "A    daq/interface/bril/include/interface/bril/DataFormat.h\r\n",
        "A    daq/interface/bril/include/interface/bril/version.h\r\n",
        "A    daq/interface/bril/include/interface/bril/BHMTopics.h\r\n",
        "A    daq/interface/bril/include/interface/bril/LUMITopics.h\r\n",
        "A    daq/interface/bril/dipworker.txt\r\n",
        "A    daq/interface/bril/src\r\n",
        "A    daq/interface/bril/src/common\r\n",
        "A    daq/interface/bril/src/common/version.cc\r\n",
        "A    daq/interface/bril/Makefile\r\n",
        "A    daq/interface/bril/dataformatguide.txt\r\n"
       ]
      },
      {
       "output_type": "stream",
       "stream": "stdout",
       "text": [
        "A    daq/bril\r\n",
        "A    daq/bril/pltprocessor\r\n",
        "A    daq/bril/pltprocessor/include\r\n",
        "A    daq/bril/pltprocessor/include/bril\r\n",
        "A    daq/bril/pltprocessor/include/bril/pltprocessor\r\n",
        "A    daq/bril/pltprocessor/include/bril/pltprocessor/lumiDataFormat.h\r\n",
        "A    daq/bril/pltprocessor/include/bril/pltprocessor/Application.h\r\n",
        "A    daq/bril/pltprocessor/include/bril/pltprocessor/version.h\r\n",
        "A    daq/bril/pltprocessor/src\r\n",
        "A    daq/bril/pltprocessor/src/common\r\n"
       ]
      },
      {
       "output_type": "stream",
       "stream": "stdout",
       "text": [
        "A    daq/bril/pltprocessor/src/common/Application.cc\r\n",
        "A    daq/bril/pltprocessor/src/common/version.cc\r\n",
        "A    daq/bril/pltprocessor/Makefile\r\n",
        "A    daq/bril/timesource\r\n",
        "A    daq/bril/timesource/xml\r\n",
        "A    daq/bril/timesource/xml/timesource.sensor\r\n"
       ]
      },
      {
       "output_type": "stream",
       "stream": "stdout",
       "text": [
        "A    daq/bril/timesource/xml/timesource.pulser\r\n",
        "A    daq/bril/timesource/xml/timesource.flash\r\n",
        "A    daq/bril/timesource/include\r\n",
        "A    daq/bril/timesource/include/bril\r\n",
        "A    daq/bril/timesource/include/bril/timesource\r\n",
        "A    daq/bril/timesource/include/bril/timesource/DataGenerator.h\r\n",
        "A    daq/bril/timesource/include/bril/timesource/NBTimer.h\r\n"
       ]
      },
      {
       "output_type": "stream",
       "stream": "stdout",
       "text": [
        "A    daq/bril/timesource/include/bril/timesource/Application.h\r\n",
        "A    daq/bril/timesource/include/bril/timesource/AppGUI.h\r\n",
        "A    daq/bril/timesource/include/bril/timesource/version.h\r\n",
        "A    daq/bril/timesource/include/bril/timesource/Common.h\r\n",
        "A    daq/bril/timesource/include/bril/timesource/exception\r\n",
        "A    daq/bril/timesource/include/bril/timesource/exception/TimeSourceAlarm.h\r\n",
        "A    daq/bril/timesource/include/bril/timesource/exception/Exception.h\r\n",
        "A    daq/bril/timesource/html\r\n",
        "A    daq/bril/timesource/html/js\r\n",
        "A    daq/bril/timesource/html/js/toggle.js\r\n",
        "A    daq/bril/timesource/src\r\n"
       ]
      },
      {
       "output_type": "stream",
       "stream": "stdout",
       "text": [
        "A    daq/bril/timesource/src/common\r\n",
        "A    daq/bril/timesource/src/common/DataGenerator.cc\r\n",
        "A    daq/bril/timesource/src/common/NBTimer.cc\r\n",
        "A    daq/bril/timesource/src/common/Application.cc\r\n",
        "A    daq/bril/timesource/src/common/AppGUI.cc\r\n",
        "A    daq/bril/timesource/src/common/version.cc\r\n"
       ]
      },
      {
       "output_type": "stream",
       "stream": "stdout",
       "text": [
        "A    daq/bril/timesource/Makefile\r\n",
        "A    daq/bril/pltslinkprocessor\r\n",
        "A    daq/bril/pltslinkprocessor/xml\r\n",
        "A    daq/bril/pltslinkprocessor/xml/lumi_proto_PLT_Slinkreceiver.xml\r\n",
        "A    daq/bril/pltslinkprocessor/include\r\n",
        "A    daq/bril/pltslinkprocessor/include/bril\r\n",
        "A    daq/bril/pltslinkprocessor/include/bril/pltslinkprocessor\r\n",
        "A    daq/bril/pltslinkprocessor/include/bril/pltslinkprocessor/lumiDataFormat.h\r\n",
        "A    daq/bril/pltslinkprocessor/include/bril/pltslinkprocessor/Application.h\r\n",
        "A    daq/bril/pltslinkprocessor/include/bril/pltslinkprocessor/version.h\r\n",
        "A    daq/bril/pltslinkprocessor/src\r\n",
        "A    daq/bril/pltslinkprocessor/src/common\r\n",
        "A    daq/bril/pltslinkprocessor/src/common/Application.cc\r\n",
        "A    daq/bril/pltslinkprocessor/src/common/version.cc\r\n",
        "A    daq/bril/pltslinkprocessor/Makefile\r\n"
       ]
      },
      {
       "output_type": "stream",
       "stream": "stdout",
       "text": [
        "A    daq/bril/pltsource\r\n",
        "A    daq/bril/pltsource/include\r\n",
        "A    daq/bril/pltsource/include/bril\r\n",
        "A    daq/bril/pltsource/include/bril/pltsource\r\n",
        "A    daq/bril/pltsource/include/bril/pltsource/lumiDataFormat.h\r\n",
        "A    daq/bril/pltsource/include/bril/pltsource/Application.h\r\n",
        "A    daq/bril/pltsource/include/bril/pltsource/version.h\r\n",
        "A    daq/bril/pltsource/src\r\n",
        "A    daq/bril/pltsource/src/common\r\n",
        "A    daq/bril/pltsource/src/common/Application.cc\r\n",
        "A    daq/bril/pltsource/src/common/version.cc\r\n",
        "A    daq/bril/pltsource/Makefile\r\n"
       ]
      },
      {
       "output_type": "stream",
       "stream": "stdout",
       "text": [
        "A    daq/bril/dipbroker\r\n",
        "A    daq/bril/pltslinksource\r\n",
        "A    daq/bril/pltslinksource/xml\r\n",
        "A    daq/bril/pltslinksource/xml/lumi_proto_PLT_Slinkprocessor.xml\r\n",
        "A    daq/bril/pltslinksource/include\r\n",
        "A    daq/bril/pltslinksource/include/bril\r\n",
        "A    daq/bril/pltslinksource/include/bril/pltslinksource\r\n",
        "A    daq/bril/pltslinksource/include/bril/pltslinksource/lumiDataFormat.h\r\n",
        "A    daq/bril/pltslinksource/include/bril/pltslinksource/PLTPlane.h\r\n",
        "A    daq/bril/pltslinksource/include/bril/pltslinksource/PLTCluster.h\r\n",
        "A    daq/bril/pltslinksource/include/bril/pltslinksource/Application.h\r\n",
        "A    daq/bril/pltslinksource/include/bril/pltslinksource/PLTHit.h\r\n",
        "A    daq/bril/pltslinksource/include/bril/pltslinksource/PLTU.h\r\n",
        "A    daq/bril/pltslinksource/include/bril/pltslinksource/version.h\r\n",
        "A    daq/bril/pltslinksource/src\r\n",
        "A    daq/bril/pltslinksource/src/common\r\n",
        "A    daq/bril/pltslinksource/src/common/PLTPlane.cc\r\n",
        "A    daq/bril/pltslinksource/src/common/PLTCluster.cc\r\n"
       ]
      },
      {
       "output_type": "stream",
       "stream": "stdout",
       "text": [
        "A    daq/bril/pltslinksource/src/common/Application.cc\r\n",
        "A    daq/bril/pltslinksource/src/common/PLTHit.cc\r\n",
        "A    daq/bril/pltslinksource/src/common/version.cc\r\n",
        "A    daq/bril/pltslinksource/Makefile\r\n",
        "A    daq/bril/lumistore\r\n",
        "A    daq/bril/lumistore/test\r\n",
        "A    daq/bril/lumistore/test/common\r\n"
       ]
      },
      {
       "output_type": "stream",
       "stream": "stdout",
       "text": [
        "A    daq/bril/lumistore/test/common/test_OutputFile.cpp\r\n"
       ]
      },
      {
       "output_type": "stream",
       "stream": "stdout",
       "text": [
        "A    daq/bril/lumistore/test/common/test_readback.py\r\n",
        "A    daq/bril/lumistore/test/common/test_StorageUnit.cpp\r\n",
        "A    daq/bril/lumistore/test/common/hdf5\r\n",
        "A    daq/bril/lumistore/test/common/hdf5/test_Utils.cpp\r\n",
        "A    daq/bril/lumistore/test/common/hdf5/test_hdf5write.cpp\r\n"
       ]
      },
      {
       "output_type": "stream",
       "stream": "stdout",
       "text": [
        "A    daq/bril/lumistore/test/common/hdf5/test_VariableTable.cpp\r\n",
        "A    daq/bril/lumistore/test/common/test_DiskWriter.cpp\r\n",
        "A    daq/bril/lumistore/xml\r\n",
        "A    daq/bril/lumistore/include\r\n",
        "A    daq/bril/lumistore/include/bril\r\n",
        "A    daq/bril/lumistore/include/bril/lumistore\r\n",
        "A    daq/bril/lumistore/include/bril/lumistore/StreamConfigStore.h\r\n"
       ]
      },
      {
       "output_type": "stream",
       "stream": "stdout",
       "text": [
        "A    daq/bril/lumistore/include/bril/lumistore/OutputFile.h\r\n",
        "A    daq/bril/lumistore/include/bril/lumistore/StreamQueue.h\r\n",
        "A    daq/bril/lumistore/include/bril/lumistore/hdf5\r\n",
        "A    daq/bril/lumistore/include/bril/lumistore/hdf5/VariableTable.h\r\n",
        "A    daq/bril/lumistore/include/bril/lumistore/hdf5/Utils.h\r\n",
        "A    daq/bril/lumistore/include/bril/lumistore/hdf5/VariableCollection.h\r\n",
        "A    daq/bril/lumistore/include/bril/lumistore/hdf5/DataSet.h\r\n",
        "A    daq/bril/lumistore/include/bril/lumistore/hdf5/Variable.h\r\n"
       ]
      },
      {
       "output_type": "stream",
       "stream": "stdout",
       "text": [
        "A    daq/bril/lumistore/include/bril/lumistore/hdf5/TimeIndex.h\r\n",
        "A    daq/bril/lumistore/include/bril/lumistore/hdf5/exception\r\n",
        "A    daq/bril/lumistore/include/bril/lumistore/Application.h\r\n",
        "A    daq/bril/lumistore/include/bril/lumistore/OutputFileStatus.h\r\n",
        "A    daq/bril/lumistore/include/bril/lumistore/StorageUnit.h\r\n",
        "A    daq/bril/lumistore/include/bril/lumistore/HDF5OutputFile.h\r\n",
        "A    daq/bril/lumistore/include/bril/lumistore/StreamID.h\r\n",
        "A    daq/bril/lumistore/include/bril/lumistore/exception\r\n"
       ]
      },
      {
       "output_type": "stream",
       "stream": "stdout",
       "text": [
        "A    daq/bril/lumistore/include/bril/lumistore/exception/Exception.h\r\n",
        "A    daq/bril/lumistore/include/bril/lumistore/StreamQueueStore.h\r\n",
        "A    daq/bril/lumistore/include/bril/lumistore/StreamConfig.h\r\n",
        "A    daq/bril/lumistore/include/bril/lumistore/TopicDescription.h\r\n",
        "A    daq/bril/lumistore/include/bril/lumistore/version.h\r\n",
        "A    daq/bril/lumistore/include/bril/lumistore/OutputFileConfig.h\r\n"
       ]
      },
      {
       "output_type": "stream",
       "stream": "stdout",
       "text": [
        "A    daq/bril/lumistore/include/bril/lumistore/DiskWriter.h\r\n",
        "A    daq/bril/lumistore/singletests\r\n",
        "A    daq/bril/lumistore/singletests/test\r\n",
        "A    daq/bril/lumistore/singletests/test/common\r\n",
        "A    daq/bril/lumistore/singletests/test/common/test_hdf5_hyperslab.cpp\r\n",
        "A    daq/bril/lumistore/singletests/test/common/test_coral.cpp\r\n",
        "A    daq/bril/lumistore/singletests/test/common/test_hdf5_unlimited.cpp\r\n",
        "A    daq/bril/lumistore/singletests/test/common/test_hdf5_ref.cpp\r\n",
        "A    daq/bril/lumistore/singletests/test/common/test_hdf5_vlenstr.cpp\r\n"
       ]
      },
      {
       "output_type": "stream",
       "stream": "stdout",
       "text": [
        "A    daq/bril/lumistore/singletests/test/common/test_hdf5.cpp\r\n",
        "A    daq/bril/lumistore/singletests/test/common/test_hdf5_stdstr.cpp\r\n",
        "A    daq/bril/lumistore/singletests/test/common/test_hdf5_compound.cpp\r\n",
        "A    daq/bril/lumistore/singletests/test/common/test_hdf5_table.cpp\r\n",
        "A    daq/bril/lumistore/singletests/mfDefs.linux\r\n",
        "A    daq/bril/lumistore/singletests/Makefile.rules\r\n",
        "A    daq/bril/lumistore/singletests/mfAutoconf.rules\r\n",
        "A    daq/bril/lumistore/singletests/Makefile\r\n",
        "A    daq/bril/lumistore/db\r\n"
       ]
      },
      {
       "output_type": "stream",
       "stream": "stdout",
       "text": [
        "A    daq/bril/lumistore/db/test\r\n",
        "A    daq/bril/lumistore/db/test/common\r\n",
        "A    daq/bril/lumistore/db/test/common/test_query.cpp\r\n",
        "A    daq/bril/lumistore/db/test/common/test_hltquery.cpp\r\n",
        "A    daq/bril/lumistore/db/mfDefs.linux\r\n",
        "A    daq/bril/lumistore/db/include\r\n",
        "A    daq/bril/lumistore/db/include/bril\r\n",
        "A    daq/bril/lumistore/db/include/bril/lumistore\r\n",
        "A    daq/bril/lumistore/db/include/bril/lumistore/db\r\n",
        "A    daq/bril/lumistore/db/include/bril/lumistore/db/DBQuery.h\r\n",
        "A    daq/bril/lumistore/db/include/bril/lumistore/db/DBFactory.h\r\n",
        "A    daq/bril/lumistore/db/Makefile.rules\r\n",
        "A    daq/bril/lumistore/db/src\r\n",
        "A    daq/bril/lumistore/db/src/common\r\n",
        "A    daq/bril/lumistore/db/src/common/DBQuery.cc\r\n",
        "A    daq/bril/lumistore/db/src/common/DBFactory.cc\r\n",
        "A    daq/bril/lumistore/db/mfAutoconf.rules\r\n",
        "A    daq/bril/lumistore/db/Makefile\r\n",
        "A    daq/bril/lumistore/scripts\r\n",
        "A    daq/bril/lumistore/src\r\n"
       ]
      },
      {
       "output_type": "stream",
       "stream": "stdout",
       "text": [
        "A    daq/bril/lumistore/src/common\r\n",
        "A    daq/bril/lumistore/src/common/StreamQueueStore.cc\r\n",
        "A    daq/bril/lumistore/src/common/StreamConfigStore.cc\r\n",
        "A    daq/bril/lumistore/src/common/OutputFile.cc\r\n",
        "A    daq/bril/lumistore/src/common/hdf5\r\n",
        "A    daq/bril/lumistore/src/common/hdf5/VariableTable.cc\r\n",
        "A    daq/bril/lumistore/src/common/hdf5/Utils.cc\r\n",
        "A    daq/bril/lumistore/src/common/hdf5/VariableCollection.cc\r\n",
        "A    daq/bril/lumistore/src/common/hdf5/DataSet.cc\r\n",
        "A    daq/bril/lumistore/src/common/hdf5/Variable.cc\r\n",
        "A    daq/bril/lumistore/src/common/hdf5/TimeIndex.cc\r\n",
        "A    daq/bril/lumistore/src/common/Application.cc\r\n"
       ]
      },
      {
       "output_type": "stream",
       "stream": "stdout",
       "text": [
        "A    daq/bril/lumistore/src/common/StorageUnit.cc\r\n",
        "A    daq/bril/lumistore/src/common/version.cc\r\n",
        "A    daq/bril/lumistore/src/common/DiskWriter.cc\r\n",
        "A    daq/bril/lumistore/src/common/HDF5OutputFile.cc\r\n"
       ]
      },
      {
       "output_type": "stream",
       "stream": "stdout",
       "text": [
        "A    daq/bril/lumistore/src/common/StreamID.cc\r\n",
        "A    daq/bril/lumistore/pyfile\r\n",
        "A    daq/bril/lumistore/pyfile/pyhd5lumi.py\r\n",
        "A    daq/bril/lumistore/Makefile\r\n",
        "A    daq/bril/lumistore/pydb\r\n",
        "A    daq/bril/lumistore/pydb/genoracle.py\r\n",
        "A    daq/bril/lumistore/pydb/data\r\n",
        "A    daq/bril/lumistore/pydb/data/schema_global.yaml\r\n"
       ]
      },
      {
       "output_type": "stream",
       "stream": "stdout",
       "text": [
        "A    daq/bril/lumistore/pydb/data/resource.yaml\r\n",
        "A    daq/bril/lumistore/pydb/data/schema_data.yaml\r\n",
        "A    daq/bril/extern\r\n",
        "A    daq/bril/extern/brilcondacore\r\n",
        "A    daq/bril/extern/brilcondacore/brilcondaheader.sh\r\n",
        "A    daq/bril/extern/brilcondacore/build_brilconda_core_pkgs.sh\r\n",
        "A    daq/bril/extern/brilcondacore/gen_brilconda_core_installer.sh\r\n",
        "A    daq/bril/extern/brilcondacore/daq-extern-brilcondacore.spec\r\n",
        "A    daq/bril/extern/brilcondacore/README.md\r\n",
        "A    daq/bril/extern/brilcondacore/Makefile\r\n",
        "A    daq/bril/extern/brilcondacore/dellist.txt\r\n",
        "A    daq/bril/extern/README.md\r\n",
        "A    daq/bril/extern/dip\r\n"
       ]
      },
      {
       "output_type": "stream",
       "stream": "stdout",
       "text": [
        "A    daq/bril/extern/dip/daq-extern-dip.spec\r\n",
        "A    daq/bril/extern/dip/Makefile\r\n",
        "A    daq/bril/bhmprocessor\r\n",
        "A    daq/bril/bhmsource\r\n",
        "A    daq/bril/bhmsource/xml\r\n",
        "A    daq/bril/bhmsource/xml/bhmsource.xml\r\n",
        "A    daq/bril/bhmsource/xml/bhmsource_inzone.xml\r\n",
        "A    daq/bril/bhmsource/include\r\n",
        "A    daq/bril/bhmsource/include/bril\r\n",
        "A    daq/bril/bhmsource/include/bril/bhmsource\r\n",
        "A    daq/bril/bhmsource/include/bril/bhmsource/Application.h\r\n",
        "A    daq/bril/bhmsource/include/bril/bhmsource/version.h\r\n",
        "A    daq/bril/bhmsource/src\r\n",
        "A    daq/bril/bhmsource/src/common\r\n"
       ]
      },
      {
       "output_type": "stream",
       "stream": "stdout",
       "text": [
        "A    daq/bril/bhmsource/src/common/Application.cc\r\n",
        "A    daq/bril/bhmsource/src/common/version.cc\r\n"
       ]
      },
      {
       "output_type": "stream",
       "stream": "stdout",
       "text": [
        "A    daq/bril/bhmsource/Makefile\r\n",
        "A    daq/bril/scripts\r\n",
        "A    daq/bril/scripts/eventing\r\n",
        "A    daq/bril/scripts/eventing/eventing.template\r\n",
        "A    daq/bril/scripts/eventing/template.param\r\n",
        "A    daq/bril/scripts/eventing/eventing_inzone.template\r\n",
        "A    daq/bril/scripts/timesource\r\n"
       ]
      },
      {
       "output_type": "stream",
       "stream": "stdout",
       "text": [
        "A    daq/bril/scripts/timesource/timesource_datagenerator.template\r\n",
        "A    daq/bril/scripts/timesource/template.param\r\n",
        "A    daq/bril/scripts/timesource/timesource_datagenerator_inzone.template\r\n",
        "A    daq/bril/scripts/pltsource\r\n",
        "A    daq/bril/scripts/pltsource/pltsource.template\r\n",
        "A    daq/bril/scripts/pltsource/template.param\r\n"
       ]
      },
      {
       "output_type": "stream",
       "stream": "stdout",
       "text": [
        "A    daq/bril/scripts/xaas_bril.txt\r\n",
        "A    daq/bril/scripts/default.profile\r\n",
        "A    daq/bril/scripts/lumistore\r\n",
        "A    daq/bril/scripts/lumistore/lumistore_inzone.template\r\n",
        "A    daq/bril/scripts/lumistore/template.param\r\n",
        "A    daq/bril/scripts/lumistore/lumistore.template\r\n"
       ]
      },
      {
       "output_type": "stream",
       "stream": "stdout",
       "text": [
        "A    daq/bril/scripts/generatexml.sh\r\n",
        "A    daq/bril/scripts/tree.py\r\n",
        "A    daq/bril/scripts/bhmsource\r\n",
        "A    daq/bril/scripts/bhmsource/bhmsource.template\r\n",
        "A    daq/bril/scripts/bhmsource/bhmsource_inzone.template\r\n",
        "A    daq/bril/scripts/bhmsource/template.param\r\n",
        "A    daq/bril/scripts/freeportscanner.py\r\n"
       ]
      },
      {
       "output_type": "stream",
       "stream": "stdout",
       "text": [
        "A    daq/bril/scripts/test_brilcondacore.py\r\n",
        "A    daq/bril/scripts/webprogramming.txt\r\n",
        "A    daq/bril/scripts/pltprocessor\r\n",
        "A    daq/bril/scripts/pltprocessor/pltprocessor.template\r\n",
        "A    daq/bril/scripts/pltprocessor/template.param\r\n",
        "A    daq/bril/scripts/stopApp.sh\r\n"
       ]
      },
      {
       "output_type": "stream",
       "stream": "stdout",
       "text": [
        "A    daq/bril/scripts/spec.template\r\n",
        "A    daq/bril/scripts/bhmprocessor\r\n",
        "A    daq/bril/scripts/brilenv.sh\r\n",
        "A    daq/bril/scripts/dummysource\r\n",
        "A    daq/bril/scripts/dummysource/LocalDataSimulator_inzone.template\r\n",
        "A    daq/bril/scripts/dummysource/LocalMonitorable.template\r\n",
        "A    daq/bril/scripts/dummysource/LocalMonitorable_inzone.template\r\n",
        "A    daq/bril/scripts/dummysource/SkeletonApplication.template\r\n",
        "A    daq/bril/scripts/dummysource/DataSimulator.template\r\n",
        "A    daq/bril/scripts/dummysource/DataSimulator_inzone.template\r\n",
        "A    daq/bril/scripts/dummysource/LocalApplication.template\r\n"
       ]
      },
      {
       "output_type": "stream",
       "stream": "stdout",
       "text": [
        "A    daq/bril/scripts/dummysource/LocalApplication_inzone.template\r\n",
        "A    daq/bril/scripts/dummysource/LocalMonitorableAndCollector.template\r\n",
        "A    daq/bril/scripts/dummysource/template.param\r\n",
        "A    daq/bril/scripts/dummysource/LocalMonitorableAndCollector_inzone.template\r\n",
        "A    daq/bril/scripts/dummysource/LocalDataSimulator.template\r\n"
       ]
      },
      {
       "output_type": "stream",
       "stream": "stdout",
       "text": [
        "A    daq/bril/scripts/Makefile\r\n",
        "A    daq/bril/bcm1fprocessor\r\n",
        "A    daq/bril/bcm1fsource\r\n",
        "A    daq/bril/dummysource\r\n",
        "A    daq/bril/dummysource/include\r\n",
        "A    daq/bril/dummysource/include/bril\r\n",
        "A    daq/bril/dummysource/include/bril/dummysource\r\n",
        "A    daq/bril/dummysource/include/bril/dummysource/DataSimulator.h\r\n"
       ]
      },
      {
       "output_type": "stream",
       "stream": "stdout",
       "text": [
        "A    daq/bril/dummysource/include/bril/dummysource/Monitorable.h\r\n",
        "A    daq/bril/dummysource/include/bril/dummysource/MonitoringCollector.h\r\n",
        "A    daq/bril/dummysource/include/bril/dummysource/Application.h\r\n",
        "A    daq/bril/dummysource/include/bril/dummysource/version.h\r\n",
        "A    daq/bril/dummysource/include/bril/dummysource/SkeletonApplication.h\r\n",
        "A    daq/bril/dummysource/include/bril/dummysource/exception\r\n",
        "A    daq/bril/dummysource/include/bril/dummysource/exception/Exception.h\r\n",
        "A    daq/bril/dummysource/src\r\n",
        "A    daq/bril/dummysource/src/common\r\n",
        "A    daq/bril/dummysource/src/common/Monitorable.cc\r\n",
        "A    daq/bril/dummysource/src/common/MonitoringCollector.cc\r\n",
        "A    daq/bril/dummysource/src/common/Application.cc\r\n",
        "A    daq/bril/dummysource/src/common/version.cc\r\n",
        "A    daq/bril/dummysource/src/common/SkeletonApplication.cc\r\n"
       ]
      },
      {
       "output_type": "stream",
       "stream": "stdout",
       "text": [
        "A    daq/bril/dummysource/src/common/DataSimulator.cc\r\n",
        "A    daq/bril/dummysource/Makefile\r\n",
        "A    daq/bril/dummysource/Makefile.noextern\r\n",
        "A    daq/bril/fakeru\r\n",
        "A    daq/bril/fakeru/include\r\n",
        "A    daq/bril/fakeru/include/fake\r\n",
        "A    daq/bril/fakeru/include/fake/FakeRU.h\r\n",
        "A    daq/bril/fakeru/src\r\n",
        "A    daq/bril/fakeru/src/common\r\n",
        "A    daq/bril/fakeru/src/common/FakeRU.cc\r\n",
        "A    daq/bril/fakeru/Makefile\r\n",
        "Checked out revision 24162.\r\n"
       ]
      }
     ],
     "prompt_number": 1
    },
    {
     "cell_type": "code",
     "collapsed": false,
     "input": [
      "# go to the dummysource package\n",
      "# daq is the project name, bri/dummysource is the subpackage. \n",
      "%cd $workdir/daq/bril/dummysource"
     ],
     "language": "python",
     "metadata": {},
     "outputs": [
      {
       "output_type": "stream",
       "stream": "stdout",
       "text": [
        "/home/zhen/work/pynb/sandbox/daq/bril/dummysource\n"
       ]
      }
     ],
     "prompt_number": 2
    },
    {
     "cell_type": "code",
     "collapsed": false,
     "input": [
      "# show brildaq package structure\n",
      "# 'include' is the top directory for header files. It is structured inside as bril/subpackage, \n",
      "# so that you always include headers starting from 'bril/'.\n",
      "# src/common is the directory for source .cc files\n",
      "!python ../scripts/tree.py"
     ],
     "language": "python",
     "metadata": {},
     "outputs": [
      {
       "output_type": "stream",
       "stream": "stdout",
       "text": [
        "scanning .\r\n",
        "./\r\n",
        "    include/\r\n",
        "        bril/\r\n",
        "            dummysource/\r\n",
        "                exception/\r\n",
        "    src/\r\n",
        "        common/\r\n"
       ]
      }
     ],
     "prompt_number": 3
    },
    {
     "cell_type": "code",
     "collapsed": false,
     "input": [
      "# This is a standard xdaq makefile. It builds the entire subpackage.\n",
      "#\n",
      "# make install   will use it to build/deploy the package\n",
      "# make rpm       will build the package rpm\n",
      "#\n",
      "# Note: fakeru is to simulate linking to an external library. We will use it at the end of the full session\n",
      "# Just carry it through for now\n",
      "%cat Makefile"
     ],
     "language": "python",
     "metadata": {},
     "outputs": [
      {
       "output_type": "stream",
       "stream": "stdout",
       "text": [
        "# $Id$\r\n",
        "# I'm a dummy bril source\r\n",
        "# I serve as an example and code skeleton\r\n",
        "# I should not be included in the release\r\n",
        "#\r\n",
        "BUILD_HOME:=$(shell pwd)/../../..\r\n",
        "\r\n",
        "include $(XDAQ_ROOT)/config/mfAutoconf.rules\r\n",
        "include $(XDAQ_ROOT)/config/mfDefs.$(XDAQ_OS)\r\n",
        "include $(XDAQ_ROOT)/config/mfDefs.extern_coretools\r\n",
        "include $(XDAQ_ROOT)/config/mfDefs.coretools\r\n",
        "include $(XDAQ_ROOT)/config/mfDefs.extern_powerpack\r\n",
        "include $(XDAQ_ROOT)/config/mfDefs.powerpack\r\n",
        "Project=daq\r\n",
        "Package=bril/dummysource\r\n",
        "Sources = $(wildcard src/common/*.cc)\r\n",
        "IncludeDirs = \\\r\n",
        "\t$(XI2O_UTILS_INCLUDE_PREFIX) \\\r\n",
        "        $(XERCES_INCLUDE_PREFIX) \\\r\n",
        "        $(LOG4CPLUS_INCLUDE_PREFIX) \\\r\n",
        "        $(CGICC_INCLUDE_PREFIX) \\\r\n",
        "        $(XCEPT_INCLUDE_PREFIX) \\\r\n",
        "        $(CONFIG_INCLUDE_PREFIX) \\\r\n",
        "\t$(TOOLBOX_INCLUDE_PREFIX) \\\r\n",
        "        $(PT_INCLUDE_PREFIX) \\\r\n",
        "\t$(XDAQ_INCLUDE_PREFIX) \\\r\n",
        "        $(XDATA_INCLUDE_PREFIX) \\\r\n",
        "        $(XOAP_INCLUDE_PREFIX) \\\r\n",
        "        $(XGI_INCLUDE_PREFIX) \\\r\n",
        "        $(I2O_INCLUDE_PREFIX) \\\r\n",
        "        $(XI2O_INCLUDE_PREFIX) \\\r\n",
        "        $(B2IN_NUB_INCLUDE_PREFIX) \\\r\n",
        "\t$(BUILD_HOME)/daq/interface/bril/include \\\r\n",
        "\t$(BUILD_HOME)/daq/bril/fakeru/include \r\n",
        "\r\n",
        "LibraryDirs = \r\n",
        "UserSourcePath =\r\n",
        "UserCFlags =\r\n",
        "UserCCFlags =\r\n",
        "UserDynamicLinkFlags =\r\n",
        "UserStaticLinkFlags =\r\n",
        "UserExecutableLinkFlags = \r\n",
        "DependentLibraryDirs = $(BUILD_HOME)/x86_64_slc6/lib\r\n",
        "DependentLibraries = fakeru\r\n",
        "ExternalObjects = \r\n",
        "DynamicLibrary=brildummysource\r\n",
        "StaticLibrary=\r\n",
        "TestLibraries=\r\n",
        "TestExecutables=\r\n",
        "include $(XDAQ_ROOT)/config/Makefile.rules\r\n",
        "include $(XDAQ_ROOT)/config/mfRPM.rules\r\n"
       ]
      }
     ],
     "prompt_number": 4
    },
    {
     "cell_type": "code",
     "collapsed": false,
     "input": [
      "# in brildaq we store application configuration templates in central place \n",
      "# daq/bril/scripts/$subpackage\n",
      "%ls $workdir/daq/bril/scripts/dummysource"
     ],
     "language": "python",
     "metadata": {},
     "outputs": [
      {
       "output_type": "stream",
       "stream": "stdout",
       "text": [
        "DataSimulator_inzone.template     LocalDataSimulator_inzone.template            LocalMonitorable_inzone.template\r\n",
        "DataSimulator.template            LocalDataSimulator.template                   LocalMonitorable.template\r\n",
        "LocalApplication_inzone.template  LocalMonitorableAndCollector_inzone.template  SkeletonApplication.template\r\n",
        "LocalApplication.template         LocalMonitorableAndCollector.template         template.param\r\n"
       ]
      }
     ],
     "prompt_number": 5
    },
    {
     "cell_type": "markdown",
     "metadata": {},
     "source": [
      "##### write SkeletonApplication"
     ]
    },
    {
     "cell_type": "code",
     "collapsed": false,
     "input": [
      "#\n",
      "# This is the definition of our minimal skeleton application\n",
      "#\n",
      "# We want it to be configurable and when it is configured as sim mode, private method do_sim method should be called.\n",
      "# We inherit as a xdaq::ActionListener to make this application configurable\n",
      "# xdata::Boolean m_simSource is our configuration parameter, true for sim mode\n",
      "#\n",
      "%cat include/bril/dummysource/SkeletonApplication.h"
     ],
     "language": "python",
     "metadata": {},
     "outputs": [
      {
       "output_type": "stream",
       "stream": "stdout",
       "text": [
        "// $Id$\r\n",
        "#ifndef _bril_dummysource_SkeletonApplication_h_\r\n",
        "#define _bril_dummysource_SkeletonApplication_h_\r\n",
        "#include <string>\r\n",
        "#include \"xdaq/Application.h\"\r\n",
        "#include \"xdata/ActionListener.h\"\r\n",
        "#include \"xgi/Method.h\"\r\n",
        "#include \"xgi/Output.h\"\r\n",
        "#include \"xgi/exception/Exception.h\"\r\n",
        "#include \"xdata/InfoSpace.h\"\r\n",
        "#include \"xdata/Boolean.h\"\r\n",
        "\r\n",
        "/**\r\n",
        "   A minimalist xdaq application:\r\n",
        "   1. Configurable\r\n",
        "   2. Has a web page\r\n",
        "*/\r\n",
        "namespace bril{\r\n",
        "  namespace dummysource{\r\n",
        "    class SkeletonApplication : public xdaq::Application,public xdata::ActionListener{\r\n",
        "    public:\r\n",
        "      XDAQ_INSTANTIATOR();\r\n",
        "      // constructor\r\n",
        "      SkeletonApplication (xdaq::ApplicationStub* s) throw (xdaq::exception::Exception);\r\n",
        "      // destructor\r\n",
        "      ~SkeletonApplication ();\r\n",
        "      // xgi(web) callback\r\n",
        "      void Default (xgi::Input * in, xgi::Output * out) throw (xgi::exception::Exception);\r\n",
        "      // infospace event callback\r\n",
        "      virtual void actionPerformed(xdata::Event& e);\r\n",
        "\r\n",
        "      \r\n",
        "      //\r\n",
        "      // members\r\n",
        "      //\r\n",
        "    private:\r\n",
        "      // some information about this application\r\n",
        "      xdata::InfoSpace *m_appInfoSpace;\r\n",
        "      xdaq::ApplicationDescriptor *m_appDescriptor;\r\n",
        "      std::string m_classname;\r\n",
        "      //a boolean configuration parameter \r\n",
        "      xdata::Boolean m_simSource;           \r\n",
        "      \r\n",
        "      //\r\n",
        "      // methods\r\n",
        "      //\r\n",
        "    private:\r\n",
        "      void do_sim();\r\n",
        "      // nocopy protection\r\n",
        "      SkeletonApplication(const SkeletonApplication&);\r\n",
        "      SkeletonApplication& operator=(const SkeletonApplication&);\r\n",
        "    };\r\n",
        "  }\r\n",
        "}\r\n",
        "#endif\r\n"
       ]
      }
     ],
     "prompt_number": 6
    },
    {
     "cell_type": "code",
     "collapsed": false,
     "input": [
      "# This is the implementation of our SkeletonApplication\n",
      "#\n",
      "# Standard call macro XDAQ_INSTANTIATOR_IMPL(fullclassname) right after the includes\n",
      "#\n",
      "# In the constructor, we bind method \"Default\" to the application's web page. Note the web method's signature.\n",
      "#\n",
      "# In the constructor, we first initialize the configuration parameter m_simSource as false\n",
      "# Then we declare it to be configurable by declaring it in our application's infospace:\n",
      "#\n",
      "#          m_appInfoSpace->fireItemAvailable(parametername_in_infospace,parameteraddress_in_memory)\n",
      "#\n",
      "# Now that this item is the app infospace, any class in the context can obtain its value on a xdata event \n",
      "# In this case, we want to pull the value after application configuration xml file has been readin and parsed, \n",
      "# the framework fires a xdata event at that time: \"urn:xdaq-event:setDefaultValues\"\n",
      "# so we intercept this event by binding ourselves as a listener:\n",
      "#\n",
      "#          m_appInfoSpace->addListener(this, \"urn:xdaq-event:setDefaultValues\");\n",
      "# \n",
      "# Method actionPerformed(xdata::Event& e) is what we inherited from xdata::ActionListener\n",
      "# It is the infospace xdata event hook. We write in here all our xdata event callbacks.\n",
      "# In which, in setDefaultValues callback, we do_sim if m_simSource==true\n",
      "#\n",
      "#      if( e.type() == \"urn:xdaq-event:setDefaultValues\" ){\n",
      "#            //do_sim if sim true; \n",
      "#            //do_real otherwise\n",
      "#       }\n",
      "#\n",
      "# (This is the pattern of any event-driven framework. It ensures nothing blocks the progress, \n",
      "# therefore something happens only if somethingelse happened. infospace is the common container for\n",
      "# data exchange between event dispatcher and listeners.\n",
      "# Please get used to think this way. We'll use this pattern heavily in later sessions.)\n",
      "#\n",
      "# Method Default is our web method, it sends web content to xdaq\n",
      "#\n",
      "\n",
      "%cat src/common/SkeletonApplication.cc"
     ],
     "language": "python",
     "metadata": {},
     "outputs": [
      {
       "output_type": "stream",
       "stream": "stdout",
       "text": [
        "// $Id$\r\n",
        "#include \"cgicc/CgiDefs.h\"\r\n",
        "#include \"cgicc/Cgicc.h\"\r\n",
        "#include \"cgicc/HTTPHTMLHeader.h\"\r\n",
        "#include \"cgicc/HTMLClasses.h\"\r\n",
        "#include \"xcept/tools.h\"\r\n",
        "#include \"bril/dummysource/SkeletonApplication.h\" \r\n",
        "\r\n",
        "XDAQ_INSTANTIATOR_IMPL (bril::dummysource::SkeletonApplication)\r\n",
        "\r\n",
        "bril::dummysource::SkeletonApplication::SkeletonApplication (xdaq::ApplicationStub* s) throw (xdaq::exception::Exception) : xdaq::Application(s){\r\n",
        "  /**\r\n",
        "     bind \"Default\" method as my web page method\r\n",
        "  */\r\n",
        "  xgi::bind(this, &bril::dummysource::SkeletonApplication::Default, \"Default\");\r\n",
        "  /**\r\n",
        "     some information about this application\r\n",
        "  */\r\n",
        "  m_appInfoSpace = getApplicationInfoSpace();\r\n",
        "  m_appDescriptor= getApplicationDescriptor();\r\n",
        "  m_classname    = m_appDescriptor->getClassName();\r\n",
        "  /**\r\n",
        "     Default configuration parameter value. \r\n",
        "     Can be changed by external configuration file\r\n",
        "  */ \r\n",
        "  m_simSource = false;\r\n",
        "  try{\r\n",
        "    /**\r\n",
        "       declare what configuration parameter I want to readin from the \r\n",
        "       external configuration file\r\n",
        "    */\r\n",
        "    m_appInfoSpace->fireItemAvailable(\"simSource\",&m_simSource);\r\n",
        "    /**\r\n",
        "       \"urn:xdaq-event:setDefaultValues\" is a xdata event, it is fired by \r\n",
        "       the framework when it is reading in the configuration file\r\n",
        "       I subscribe myself as a listener to this event\r\n",
        "    */  \r\n",
        "    m_appInfoSpace->addListener(this, \"urn:xdaq-event:setDefaultValues\");\r\n",
        "  }catch(xdata::exception::Exception& e){\r\n",
        "    std::string msg = \"Failed to setup app infospace \";\r\n",
        "    LOG4CPLUS_FATAL(getApplicationLogger(),stdformat_exception_history(e));\r\n",
        "  }\r\n",
        "}\r\n",
        "\r\n",
        "bril::dummysource::SkeletonApplication::~SkeletonApplication (){\r\n",
        "}\r\n",
        "\r\n",
        "void bril::dummysource::SkeletonApplication::Default (xgi::Input * in, xgi::Output * out) throw (xgi::exception::Exception){\r\n",
        "  //xdaq11 style web, will change to new look&feel one day \r\n",
        "  *out <<  \"<!doctype html>\" << std::endl;\r\n",
        "  *out << \"<html xmlns=\\\"http://www.w3.org/1999/xhtml\\\">\" << std::endl;\r\n",
        "  *out << \"<head>\"<< std::endl;\r\n",
        "  *out << \"<meta http-equiv=\\\"Content-Type\\\" content=\\\"text/html\\\"; charset=\\\"utf-8\\\">\"<<std::endl;\r\n",
        "  *out << \"<title>dummysource </title>\"<<std::endl;\r\n",
        "  *out << \"</head>\"<< std::endl;\r\n",
        "  *out << \"<body>\" << std::endl;\r\n",
        "  *out << m_classname <<std::endl;\r\n",
        "  *out << \"</body>\"<< std::endl;\r\n",
        "  *out << \"</html>\"<< std::endl;\r\n",
        "}\r\n",
        "\r\n",
        "void bril::dummysource::SkeletonApplication::actionPerformed(xdata::Event& e){\r\n",
        "  LOG4CPLUS_INFO(this->getApplicationLogger(), \"Received xdata event \" << e.type());\r\n",
        "  if( e.type() == \"urn:xdaq-event:setDefaultValues\" ){\r\n",
        "    /**\r\n",
        "       Inside urn:xdaq-event:setDefaultValues event \r\n",
        "       Now m_simSource value is what is read in from the configuration file\r\n",
        "       Not necessarily identical to the initial value I set in the constructor.\r\n",
        "     */\r\n",
        "    if(m_simSource){\r\n",
        "      // if in simSource is true, switch to sim mode\r\n",
        "      LOG4CPLUS_INFO(this->getApplicationLogger(), \"simSource changed from False to True\");\r\n",
        "      do_sim();\r\n",
        "    }\r\n",
        "  }\r\n",
        "}\r\n",
        "\r\n",
        "void bril::dummysource::SkeletonApplication::do_sim(){\r\n",
        "  LOG4CPLUS_INFO(this->getApplicationLogger(), \"simulate data\");\r\n",
        "}\r\n",
        "\r\n"
       ]
      }
     ],
     "prompt_number": 7
    },
    {
     "cell_type": "markdown",
     "metadata": {},
     "source": [
      "##### configure SkeletonApplication"
     ]
    },
    {
     "cell_type": "code",
     "collapsed": false,
     "input": [
      "# (details covered in last session) \n",
      "# Parameter file for package dummysource \n",
      "%cat $workdir/daq/bril/scripts/dummysource/template.param"
     ],
     "language": "python",
     "metadata": {},
     "outputs": [
      {
       "output_type": "stream",
       "stream": "stdout",
       "text": [
        "%hostname%=`hostname -f`\r\n",
        "%contextport%=50000\r\n",
        "%endpoint%=50010\r\n",
        "%eventinghostname%=`hostname -f`\r\n",
        "%utcpport%=30025\r\n",
        "%localdaqroot%=\r\n",
        "#EOF need this fake lastline if using ipython notebook editor#\r\n"
       ]
      }
     ],
     "prompt_number": 8
    },
    {
     "cell_type": "code",
     "collapsed": false,
     "input": [
      "# Template file for this application\n",
      "# This application does not work with peer transport layer, so we don't need a _inzone template.\n",
      "%cat $workdir/daq/bril/scripts/dummysource/SkeletonApplication.template"
     ],
     "language": "python",
     "metadata": {},
     "outputs": [
      {
       "output_type": "stream",
       "stream": "stdout",
       "text": [
        "<?xml version=\"1.0\" encoding=\"UTF-8\"?>\r\n",
        "<xc:Partition xmlns:soapenc=\"http://schemas.xmlsoap.org/soap/encoding/\" xmlns:xc=\"http://xdaq.web.cern.ch/xdaq/xsd/2004/XMLConfiguration-30\" xmlns:xsi=\"http://www.w3.org/2001/XMLSchema-instance\">\r\n",
        "<xc:Context url=\"http://%hostname%:%contextport%\">    \r\n",
        "   <xc:Application class=\"bril::dummysource::SkeletonApplication\" id=\"11\" instance=\"0\" network=\"local\">\r\n",
        "     <properties xmlns=\"urn:xdaq-application:bril::dummysource::SkeletonApplication\" xsi:type=\"soapenc:Struct\">\r\n",
        "       <simSource xsi:type=\"xsd:boolean\">true</simSource>\r\n",
        "     </properties>\r\n",
        "   </xc:Application>\r\n",
        " <xc:Module>%localdaqroot%/lib/libbrildummysource.so</xc:Module>\t   \r\n",
        "</xc:Context>\r\n",
        "</xc:Partition>\r\n"
       ]
      }
     ],
     "prompt_number": 9
    },
    {
     "cell_type": "code",
     "collapsed": false,
     "input": [
      "# initialize bril environment\n",
      "!source $workdir/daq/bril/scripts/brilenv.sh"
     ],
     "language": "python",
     "metadata": {},
     "outputs": [
      {
       "output_type": "stream",
       "stream": "stdout",
       "text": [
        "LD_LIBRARY_PATH is  /home/zhen/work/pynb/sandbox/daq/bril/scripts/../../../x86_64_slc6/lib:/opt/brilconda/lib:/opt/xdaq/lib:/home/zhen/brilconda/lib:/home/zhen/brilconda/root/lib\r\n",
        "PATH is  /opt/brilconda/bin:/home/zhen/brilconda/bin:/home/zhen/brilconda/root/bin:/usr/lib/jvm/java-1.6.0/bin:/home/zhen/scripts:/home/zhen/brilconda/bin:/home/zhen/brilconda/root/bin:/usr/lib/jvm/java-1.6.0/bin:/usr/sue/bin:/opt/WinCC_OA/3.11/bin:/usr/lib64/qt-3.3/bin:/usr/local/bin:/usr/bin:/bin:/usr/local/sbin:/usr/sbin:/sbin:/home/zhen/bin:/home/zhen/bin\r\n"
       ]
      }
     ],
     "prompt_number": 10
    },
    {
     "cell_type": "code",
     "collapsed": false,
     "input": [
      "# build our fake external\n",
      "%cd $workdir/daq/bril/fakeru \n",
      "!make install;"
     ],
     "language": "python",
     "metadata": {},
     "outputs": [
      {
       "output_type": "stream",
       "stream": "stdout",
       "text": [
        "/home/zhen/work/pynb/sandbox/daq/bril/fakeru\n",
        "In Makefile.fallbacks: guessing/checking values\r\n",
        "XDAQ_ROOT=\"/opt/xdaq\"\r\n",
        "Guessed undefined XDAQ_OS to \"linux\"\r\n",
        "Guessed undefined XDAQ_PLATFORM to \"x86_64_slc6\"\r\n",
        "mkdir -p /home/zhen/work/pynb/sandbox/daq/bril/fakeru/src/linux/x86_64_slc6/src/common\r\n",
        "/bin/sh -ec 'g++  -MM -g -O2 -Wall -fPIC -fno-omit-frame-pointer  -DOS_VERSION_CODE=132640 -Dx86_64_slc6 -Dlinux -DLITTLE_ENDIAN__ -I/opt/xdaq/config -I/home/zhen/work/pynb/sandbox/daq/bril/fakeru/include/linux -I/home/zhen/work/pynb/sandbox/daq/bril/fakeru/include -I/home/zhen/work/pynb/sandbox/x86_64_slc6/include -I/home/zhen/work/pynb/sandbox/x86_64_slc6/include/linux -I/opt/xdaq/include -I/opt/xdaq/include/linux  src/common/FakeRU.cc > /home/zhen/work/pynb/sandbox/daq/bril/fakeru/src/linux/x86_64_slc6/src/common/FakeRU.d' \r\n"
       ]
      },
      {
       "output_type": "stream",
       "stream": "stdout",
       "text": [
        "In Makefile.fallbacks: guessing/checking values\r\n",
        "XDAQ_ROOT=\"/opt/xdaq\"\r\n",
        "Guessed undefined XDAQ_OS to \"linux\"\r\n",
        "Guessed undefined XDAQ_PLATFORM to \"x86_64_slc6\"\r\n"
       ]
      },
      {
       "output_type": "stream",
       "stream": "stdout",
       "text": [
        "Calling make all in directory /home/zhen/work/pynb/sandbox/daq/bril/fakeru/.loop using install\r\n",
        "make -C /home/zhen/work/pynb/sandbox/daq/bril/fakeru/ -f Makefile _installall\r\n",
        "In Makefile.fallbacks: guessing/checking values\r\n",
        "XDAQ_ROOT=\"/opt/xdaq\"\r\n",
        "XDAQ_OS already set to \"linux\"\r\n",
        "XDAQ_PLATFORM already set to \"x86_64_slc6\"\r\n",
        "Guessed undefined XDAQ_PLATFORM to \"x86_64_slc6\"\r\n",
        "make[1]: Entering directory `/home/zhen/work/pynb/sandbox/daq/bril/fakeru'\r\n",
        "g++  -g -O2 -Wall -fPIC -fno-omit-frame-pointer  -DOS_VERSION_CODE=132640 -Dx86_64_slc6 -Dlinux -DLITTLE_ENDIAN__ -I/opt/xdaq/config -I/home/zhen/work/pynb/sandbox/daq/bril/fakeru/include/linux -I/home/zhen/work/pynb/sandbox/daq/bril/fakeru/include -I/home/zhen/work/pynb/sandbox/x86_64_slc6/include -I/home/zhen/work/pynb/sandbox/x86_64_slc6/include/linux -I/opt/xdaq/include -I/opt/xdaq/include/linux -c -o /home/zhen/work/pynb/sandbox/daq/bril/fakeru/src/linux/x86_64_slc6/src/common/FakeRU.o src/common/FakeRU.cc\r\n"
       ]
      },
      {
       "output_type": "stream",
       "stream": "stdout",
       "text": [
        "mkdir -p /home/zhen/work/pynb/sandbox/daq/bril/fakeru/lib/linux/x86_64_slc6\r\n",
        "g++ -shared -fPIC  -o /home/zhen/work/pynb/sandbox/daq/bril/fakeru/lib/linux/x86_64_slc6/libfakeru.so  /home/zhen/work/pynb/sandbox/daq/bril/fakeru/src/linux/x86_64_slc6/src/common/FakeRU.o  -L/home/zhen/work/pynb/sandbox/daq/bril/fakeru/lib/linux/x86_64_slc6  -L/home/zhen/work/pynb/sandbox/x86_64_slc6/lib -L/opt/xdaq/lib \r\n",
        "Build done.\r\n",
        "install -d /home/zhen/work/pynb/sandbox/x86_64_slc6/lib /home/zhen/work/pynb/sandbox/x86_64_slc6/bin /home/zhen/work/pynb/sandbox/x86_64_slc6/include /home/zhen/work/pynb/sandbox/x86_64_slc6/htdocs\r\n",
        "cd include; find ./ \\( -name \"*.[hi]\" -o -name \"*.hpp\" -o -name \"*.hh\" -o -name \"*.hxx\" \\) -exec install -p -D {} /home/zhen/work/pynb/sandbox/x86_64_slc6/include/{} \\;\r\n",
        "Installing dynamic library.\r\n",
        "cp -pd -p /home/zhen/work/pynb/sandbox/daq/bril/fakeru/lib/linux/x86_64_slc6/libfakeru.so* /home/zhen/work/pynb/sandbox/x86_64_slc6/lib/\r\n"
       ]
      },
      {
       "output_type": "stream",
       "stream": "stdout",
       "text": [
        "make[1]: Leaving directory `/home/zhen/work/pynb/sandbox/daq/bril/fakeru'\r\n"
       ]
      }
     ],
     "prompt_number": 11
    },
    {
     "cell_type": "code",
     "collapsed": false,
     "input": [
      "# build our dummysource package\n",
      "%cd $workdir/daq/bril/dummysource\n",
      "!make install"
     ],
     "language": "python",
     "metadata": {},
     "outputs": [
      {
       "output_type": "stream",
       "stream": "stdout",
       "text": [
        "/home/zhen/work/pynb/sandbox/daq/bril/dummysource\n",
        "In Makefile.fallbacks: guessing/checking values\r\n",
        "XDAQ_ROOT=\"/opt/xdaq\"\r\n",
        "Guessed undefined XDAQ_OS to \"linux\"\r\n",
        "Guessed undefined XDAQ_PLATFORM to \"x86_64_slc6\"\r\n"
       ]
      },
      {
       "output_type": "stream",
       "stream": "stdout",
       "text": [
        "mkdir -p /home/zhen/work/pynb/sandbox/daq/bril/dummysource/src/linux/x86_64_slc6/src/common\r\n",
        "/bin/sh -ec 'g++  -MM -g -O2 -Wall -fPIC -fno-omit-frame-pointer  -DOS_VERSION_CODE=132640 -Dx86_64_slc6 -Dlinux -DLITTLE_ENDIAN__ -I/opt/xdaq/config -I/home/zhen/work/pynb/sandbox/daq/bril/dummysource/include/linux -I/home/zhen/work/pynb/sandbox/daq/bril/dummysource/include -I/home/zhen/work/pynb/sandbox/daq/i2o/utils/include -I/home/zhen/work/pynb/sandbox/daq/i2o/utils/include/linux -I/home/zhen/work/pynb/sandbox/daq/extern/xerces/x86_64_slc6/include -I/home/zhen/work/pynb/sandbox/daq/extern/log4cplus/x86_64_slc6/include -I/home/zhen/work/pynb/sandbox/daq/extern/cgicc/x86_64_slc6/include -I/home/zhen/work/pynb/sandbox/daq/xcept/include -I/home/zhen/work/pynb/sandbox/daq/xcept/include/linux -I/home/zhen/work/pynb/sandbox/daq/config/include -I/home/zhen/work/pynb/sandbox/daq/config/include/linux -I/home/zhen/work/pynb/sandbox/daq/toolbox/include -I/home/zhen/work/pynb/sandbox/daq/toolbox/include/linux -I/home/zhen/work/pynb/sandbox/daq/pt/include -I/home/zhen/work/pynb/sandbox/daq/pt/include/linux -I/home/zhen/work/pynb/sandbox/daq/xdaq/include -I/home/zhen/work/pynb/sandbox/daq/xdaq/include/linux -I/home/zhen/work/pynb/sandbox/daq/xdata/include -I/home/zhen/work/pynb/sandbox/daq/xdata/include/linux -I/home/zhen/work/pynb/sandbox/daq/xoap/include -I/home/zhen/work/pynb/sandbox/daq/xoap/include/linux -I/home/zhen/work/pynb/sandbox/daq/xgi/include -I/home/zhen/work/pynb/sandbox/daq/xgi/include/linux -I/home/zhen/work/pynb/sandbox/daq/extern/i2o/include -I/home/zhen/work/pynb/sandbox/daq/i2o/include -I/home/zhen/work/pynb/sandbox/daq/i2o/include/linux -I/home/zhen/work/pynb/sandbox/daq/b2in/nub/include -I/home/zhen/work/pynb/sandbox/daq/b2in/nub/include/linux -I/home/zhen/work/pynb/sandbox/daq/interface/bril/include -I/home/zhen/work/pynb/sandbox/daq/bril/fakeru/include -I/home/zhen/work/pynb/sandbox/x86_64_slc6/include -I/home/zhen/work/pynb/sandbox/x86_64_slc6/include/linux -I/opt/xdaq/include -I/opt/xdaq/include/linux  src/common/version.cc > /home/zhen/work/pynb/sandbox/daq/bril/dummysource/src/linux/x86_64_slc6/src/common/version.d' \r\n"
       ]
      },
      {
       "output_type": "stream",
       "stream": "stdout",
       "text": [
        "mkdir -p /home/zhen/work/pynb/sandbox/daq/bril/dummysource/src/linux/x86_64_slc6/src/common\r\n",
        "/bin/sh -ec 'g++  -MM -g -O2 -Wall -fPIC -fno-omit-frame-pointer  -DOS_VERSION_CODE=132640 -Dx86_64_slc6 -Dlinux -DLITTLE_ENDIAN__ -I/opt/xdaq/config -I/home/zhen/work/pynb/sandbox/daq/bril/dummysource/include/linux -I/home/zhen/work/pynb/sandbox/daq/bril/dummysource/include -I/home/zhen/work/pynb/sandbox/daq/i2o/utils/include -I/home/zhen/work/pynb/sandbox/daq/i2o/utils/include/linux -I/home/zhen/work/pynb/sandbox/daq/extern/xerces/x86_64_slc6/include -I/home/zhen/work/pynb/sandbox/daq/extern/log4cplus/x86_64_slc6/include -I/home/zhen/work/pynb/sandbox/daq/extern/cgicc/x86_64_slc6/include -I/home/zhen/work/pynb/sandbox/daq/xcept/include -I/home/zhen/work/pynb/sandbox/daq/xcept/include/linux -I/home/zhen/work/pynb/sandbox/daq/config/include -I/home/zhen/work/pynb/sandbox/daq/config/include/linux -I/home/zhen/work/pynb/sandbox/daq/toolbox/include -I/home/zhen/work/pynb/sandbox/daq/toolbox/include/linux -I/home/zhen/work/pynb/sandbox/daq/pt/include -I/home/zhen/work/pynb/sandbox/daq/pt/include/linux -I/home/zhen/work/pynb/sandbox/daq/xdaq/include -I/home/zhen/work/pynb/sandbox/daq/xdaq/include/linux -I/home/zhen/work/pynb/sandbox/daq/xdata/include -I/home/zhen/work/pynb/sandbox/daq/xdata/include/linux -I/home/zhen/work/pynb/sandbox/daq/xoap/include -I/home/zhen/work/pynb/sandbox/daq/xoap/include/linux -I/home/zhen/work/pynb/sandbox/daq/xgi/include -I/home/zhen/work/pynb/sandbox/daq/xgi/include/linux -I/home/zhen/work/pynb/sandbox/daq/extern/i2o/include -I/home/zhen/work/pynb/sandbox/daq/i2o/include -I/home/zhen/work/pynb/sandbox/daq/i2o/include/linux -I/home/zhen/work/pynb/sandbox/daq/b2in/nub/include -I/home/zhen/work/pynb/sandbox/daq/b2in/nub/include/linux -I/home/zhen/work/pynb/sandbox/daq/interface/bril/include -I/home/zhen/work/pynb/sandbox/daq/bril/fakeru/include -I/home/zhen/work/pynb/sandbox/x86_64_slc6/include -I/home/zhen/work/pynb/sandbox/x86_64_slc6/include/linux -I/opt/xdaq/include -I/opt/xdaq/include/linux  src/common/SkeletonApplication.cc > /home/zhen/work/pynb/sandbox/daq/bril/dummysource/src/linux/x86_64_slc6/src/common/SkeletonApplication.d' \r\n"
       ]
      },
      {
       "output_type": "stream",
       "stream": "stdout",
       "text": [
        "mkdir -p /home/zhen/work/pynb/sandbox/daq/bril/dummysource/src/linux/x86_64_slc6/src/common\r\n",
        "/bin/sh -ec 'g++  -MM -g -O2 -Wall -fPIC -fno-omit-frame-pointer  -DOS_VERSION_CODE=132640 -Dx86_64_slc6 -Dlinux -DLITTLE_ENDIAN__ -I/opt/xdaq/config -I/home/zhen/work/pynb/sandbox/daq/bril/dummysource/include/linux -I/home/zhen/work/pynb/sandbox/daq/bril/dummysource/include -I/home/zhen/work/pynb/sandbox/daq/i2o/utils/include -I/home/zhen/work/pynb/sandbox/daq/i2o/utils/include/linux -I/home/zhen/work/pynb/sandbox/daq/extern/xerces/x86_64_slc6/include -I/home/zhen/work/pynb/sandbox/daq/extern/log4cplus/x86_64_slc6/include -I/home/zhen/work/pynb/sandbox/daq/extern/cgicc/x86_64_slc6/include -I/home/zhen/work/pynb/sandbox/daq/xcept/include -I/home/zhen/work/pynb/sandbox/daq/xcept/include/linux -I/home/zhen/work/pynb/sandbox/daq/config/include -I/home/zhen/work/pynb/sandbox/daq/config/include/linux -I/home/zhen/work/pynb/sandbox/daq/toolbox/include -I/home/zhen/work/pynb/sandbox/daq/toolbox/include/linux -I/home/zhen/work/pynb/sandbox/daq/pt/include -I/home/zhen/work/pynb/sandbox/daq/pt/include/linux -I/home/zhen/work/pynb/sandbox/daq/xdaq/include -I/home/zhen/work/pynb/sandbox/daq/xdaq/include/linux -I/home/zhen/work/pynb/sandbox/daq/xdata/include -I/home/zhen/work/pynb/sandbox/daq/xdata/include/linux -I/home/zhen/work/pynb/sandbox/daq/xoap/include -I/home/zhen/work/pynb/sandbox/daq/xoap/include/linux -I/home/zhen/work/pynb/sandbox/daq/xgi/include -I/home/zhen/work/pynb/sandbox/daq/xgi/include/linux -I/home/zhen/work/pynb/sandbox/daq/extern/i2o/include -I/home/zhen/work/pynb/sandbox/daq/i2o/include -I/home/zhen/work/pynb/sandbox/daq/i2o/include/linux -I/home/zhen/work/pynb/sandbox/daq/b2in/nub/include -I/home/zhen/work/pynb/sandbox/daq/b2in/nub/include/linux -I/home/zhen/work/pynb/sandbox/daq/interface/bril/include -I/home/zhen/work/pynb/sandbox/daq/bril/fakeru/include -I/home/zhen/work/pynb/sandbox/x86_64_slc6/include -I/home/zhen/work/pynb/sandbox/x86_64_slc6/include/linux -I/opt/xdaq/include -I/opt/xdaq/include/linux  src/common/MonitoringCollector.cc > /home/zhen/work/pynb/sandbox/daq/bril/dummysource/src/linux/x86_64_slc6/src/common/MonitoringCollector.d' \r\n"
       ]
      },
      {
       "output_type": "stream",
       "stream": "stdout",
       "text": [
        "mkdir -p /home/zhen/work/pynb/sandbox/daq/bril/dummysource/src/linux/x86_64_slc6/src/common\r\n",
        "/bin/sh -ec 'g++  -MM -g -O2 -Wall -fPIC -fno-omit-frame-pointer  -DOS_VERSION_CODE=132640 -Dx86_64_slc6 -Dlinux -DLITTLE_ENDIAN__ -I/opt/xdaq/config -I/home/zhen/work/pynb/sandbox/daq/bril/dummysource/include/linux -I/home/zhen/work/pynb/sandbox/daq/bril/dummysource/include -I/home/zhen/work/pynb/sandbox/daq/i2o/utils/include -I/home/zhen/work/pynb/sandbox/daq/i2o/utils/include/linux -I/home/zhen/work/pynb/sandbox/daq/extern/xerces/x86_64_slc6/include -I/home/zhen/work/pynb/sandbox/daq/extern/log4cplus/x86_64_slc6/include -I/home/zhen/work/pynb/sandbox/daq/extern/cgicc/x86_64_slc6/include -I/home/zhen/work/pynb/sandbox/daq/xcept/include -I/home/zhen/work/pynb/sandbox/daq/xcept/include/linux -I/home/zhen/work/pynb/sandbox/daq/config/include -I/home/zhen/work/pynb/sandbox/daq/config/include/linux -I/home/zhen/work/pynb/sandbox/daq/toolbox/include -I/home/zhen/work/pynb/sandbox/daq/toolbox/include/linux -I/home/zhen/work/pynb/sandbox/daq/pt/include -I/home/zhen/work/pynb/sandbox/daq/pt/include/linux -I/home/zhen/work/pynb/sandbox/daq/xdaq/include -I/home/zhen/work/pynb/sandbox/daq/xdaq/include/linux -I/home/zhen/work/pynb/sandbox/daq/xdata/include -I/home/zhen/work/pynb/sandbox/daq/xdata/include/linux -I/home/zhen/work/pynb/sandbox/daq/xoap/include -I/home/zhen/work/pynb/sandbox/daq/xoap/include/linux -I/home/zhen/work/pynb/sandbox/daq/xgi/include -I/home/zhen/work/pynb/sandbox/daq/xgi/include/linux -I/home/zhen/work/pynb/sandbox/daq/extern/i2o/include -I/home/zhen/work/pynb/sandbox/daq/i2o/include -I/home/zhen/work/pynb/sandbox/daq/i2o/include/linux -I/home/zhen/work/pynb/sandbox/daq/b2in/nub/include -I/home/zhen/work/pynb/sandbox/daq/b2in/nub/include/linux -I/home/zhen/work/pynb/sandbox/daq/interface/bril/include -I/home/zhen/work/pynb/sandbox/daq/bril/fakeru/include -I/home/zhen/work/pynb/sandbox/x86_64_slc6/include -I/home/zhen/work/pynb/sandbox/x86_64_slc6/include/linux -I/opt/xdaq/include -I/opt/xdaq/include/linux  src/common/Monitorable.cc > /home/zhen/work/pynb/sandbox/daq/bril/dummysource/src/linux/x86_64_slc6/src/common/Monitorable.d' \r\n"
       ]
      },
      {
       "output_type": "stream",
       "stream": "stdout",
       "text": [
        "mkdir -p /home/zhen/work/pynb/sandbox/daq/bril/dummysource/src/linux/x86_64_slc6/src/common\r\n",
        "/bin/sh -ec 'g++  -MM -g -O2 -Wall -fPIC -fno-omit-frame-pointer  -DOS_VERSION_CODE=132640 -Dx86_64_slc6 -Dlinux -DLITTLE_ENDIAN__ -I/opt/xdaq/config -I/home/zhen/work/pynb/sandbox/daq/bril/dummysource/include/linux -I/home/zhen/work/pynb/sandbox/daq/bril/dummysource/include -I/home/zhen/work/pynb/sandbox/daq/i2o/utils/include -I/home/zhen/work/pynb/sandbox/daq/i2o/utils/include/linux -I/home/zhen/work/pynb/sandbox/daq/extern/xerces/x86_64_slc6/include -I/home/zhen/work/pynb/sandbox/daq/extern/log4cplus/x86_64_slc6/include -I/home/zhen/work/pynb/sandbox/daq/extern/cgicc/x86_64_slc6/include -I/home/zhen/work/pynb/sandbox/daq/xcept/include -I/home/zhen/work/pynb/sandbox/daq/xcept/include/linux -I/home/zhen/work/pynb/sandbox/daq/config/include -I/home/zhen/work/pynb/sandbox/daq/config/include/linux -I/home/zhen/work/pynb/sandbox/daq/toolbox/include -I/home/zhen/work/pynb/sandbox/daq/toolbox/include/linux -I/home/zhen/work/pynb/sandbox/daq/pt/include -I/home/zhen/work/pynb/sandbox/daq/pt/include/linux -I/home/zhen/work/pynb/sandbox/daq/xdaq/include -I/home/zhen/work/pynb/sandbox/daq/xdaq/include/linux -I/home/zhen/work/pynb/sandbox/daq/xdata/include -I/home/zhen/work/pynb/sandbox/daq/xdata/include/linux -I/home/zhen/work/pynb/sandbox/daq/xoap/include -I/home/zhen/work/pynb/sandbox/daq/xoap/include/linux -I/home/zhen/work/pynb/sandbox/daq/xgi/include -I/home/zhen/work/pynb/sandbox/daq/xgi/include/linux -I/home/zhen/work/pynb/sandbox/daq/extern/i2o/include -I/home/zhen/work/pynb/sandbox/daq/i2o/include -I/home/zhen/work/pynb/sandbox/daq/i2o/include/linux -I/home/zhen/work/pynb/sandbox/daq/b2in/nub/include -I/home/zhen/work/pynb/sandbox/daq/b2in/nub/include/linux -I/home/zhen/work/pynb/sandbox/daq/interface/bril/include -I/home/zhen/work/pynb/sandbox/daq/bril/fakeru/include -I/home/zhen/work/pynb/sandbox/x86_64_slc6/include -I/home/zhen/work/pynb/sandbox/x86_64_slc6/include/linux -I/opt/xdaq/include -I/opt/xdaq/include/linux  src/common/DataSimulator.cc > /home/zhen/work/pynb/sandbox/daq/bril/dummysource/src/linux/x86_64_slc6/src/common/DataSimulator.d' \r\n"
       ]
      },
      {
       "output_type": "stream",
       "stream": "stdout",
       "text": [
        "mkdir -p /home/zhen/work/pynb/sandbox/daq/bril/dummysource/src/linux/x86_64_slc6/src/common\r\n",
        "/bin/sh -ec 'g++  -MM -g -O2 -Wall -fPIC -fno-omit-frame-pointer  -DOS_VERSION_CODE=132640 -Dx86_64_slc6 -Dlinux -DLITTLE_ENDIAN__ -I/opt/xdaq/config -I/home/zhen/work/pynb/sandbox/daq/bril/dummysource/include/linux -I/home/zhen/work/pynb/sandbox/daq/bril/dummysource/include -I/home/zhen/work/pynb/sandbox/daq/i2o/utils/include -I/home/zhen/work/pynb/sandbox/daq/i2o/utils/include/linux -I/home/zhen/work/pynb/sandbox/daq/extern/xerces/x86_64_slc6/include -I/home/zhen/work/pynb/sandbox/daq/extern/log4cplus/x86_64_slc6/include -I/home/zhen/work/pynb/sandbox/daq/extern/cgicc/x86_64_slc6/include -I/home/zhen/work/pynb/sandbox/daq/xcept/include -I/home/zhen/work/pynb/sandbox/daq/xcept/include/linux -I/home/zhen/work/pynb/sandbox/daq/config/include -I/home/zhen/work/pynb/sandbox/daq/config/include/linux -I/home/zhen/work/pynb/sandbox/daq/toolbox/include -I/home/zhen/work/pynb/sandbox/daq/toolbox/include/linux -I/home/zhen/work/pynb/sandbox/daq/pt/include -I/home/zhen/work/pynb/sandbox/daq/pt/include/linux -I/home/zhen/work/pynb/sandbox/daq/xdaq/include -I/home/zhen/work/pynb/sandbox/daq/xdaq/include/linux -I/home/zhen/work/pynb/sandbox/daq/xdata/include -I/home/zhen/work/pynb/sandbox/daq/xdata/include/linux -I/home/zhen/work/pynb/sandbox/daq/xoap/include -I/home/zhen/work/pynb/sandbox/daq/xoap/include/linux -I/home/zhen/work/pynb/sandbox/daq/xgi/include -I/home/zhen/work/pynb/sandbox/daq/xgi/include/linux -I/home/zhen/work/pynb/sandbox/daq/extern/i2o/include -I/home/zhen/work/pynb/sandbox/daq/i2o/include -I/home/zhen/work/pynb/sandbox/daq/i2o/include/linux -I/home/zhen/work/pynb/sandbox/daq/b2in/nub/include -I/home/zhen/work/pynb/sandbox/daq/b2in/nub/include/linux -I/home/zhen/work/pynb/sandbox/daq/interface/bril/include -I/home/zhen/work/pynb/sandbox/daq/bril/fakeru/include -I/home/zhen/work/pynb/sandbox/x86_64_slc6/include -I/home/zhen/work/pynb/sandbox/x86_64_slc6/include/linux -I/opt/xdaq/include -I/opt/xdaq/include/linux  src/common/Application.cc > /home/zhen/work/pynb/sandbox/daq/bril/dummysource/src/linux/x86_64_slc6/src/common/Application.d' \r\n"
       ]
      },
      {
       "output_type": "stream",
       "stream": "stdout",
       "text": [
        "In Makefile.fallbacks: guessing/checking values\r\n",
        "XDAQ_ROOT=\"/opt/xdaq\"\r\n",
        "Guessed undefined XDAQ_OS to \"linux\"\r\n",
        "Guessed undefined XDAQ_PLATFORM to \"x86_64_slc6\"\r\n"
       ]
      },
      {
       "output_type": "stream",
       "stream": "stdout",
       "text": [
        "Calling make all in directory /home/zhen/work/pynb/sandbox/daq/bril/dummysource/.loop using install\r\n",
        "make -C /home/zhen/work/pynb/sandbox/daq/bril/dummysource/ -f Makefile _installall\r\n",
        "In Makefile.fallbacks: guessing/checking values\r\n",
        "XDAQ_ROOT=\"/opt/xdaq\"\r\n",
        "XDAQ_OS already set to \"linux\"\r\n",
        "XDAQ_PLATFORM already set to \"x86_64_slc6\"\r\n",
        "Guessed undefined XDAQ_PLATFORM to \"x86_64_slc6\"\r\n"
       ]
      },
      {
       "output_type": "stream",
       "stream": "stdout",
       "text": [
        "make[1]: Entering directory `/home/zhen/work/pynb/sandbox/daq/bril/dummysource'\r\n",
        "g++  -g -O2 -Wall -fPIC -fno-omit-frame-pointer  -DOS_VERSION_CODE=132640 -Dx86_64_slc6 -Dlinux -DLITTLE_ENDIAN__ -I/opt/xdaq/config -I/home/zhen/work/pynb/sandbox/daq/bril/dummysource/include/linux -I/home/zhen/work/pynb/sandbox/daq/bril/dummysource/include -I/home/zhen/work/pynb/sandbox/daq/i2o/utils/include -I/home/zhen/work/pynb/sandbox/daq/i2o/utils/include/linux -I/home/zhen/work/pynb/sandbox/daq/extern/xerces/x86_64_slc6/include -I/home/zhen/work/pynb/sandbox/daq/extern/log4cplus/x86_64_slc6/include -I/home/zhen/work/pynb/sandbox/daq/extern/cgicc/x86_64_slc6/include -I/home/zhen/work/pynb/sandbox/daq/xcept/include -I/home/zhen/work/pynb/sandbox/daq/xcept/include/linux -I/home/zhen/work/pynb/sandbox/daq/config/include -I/home/zhen/work/pynb/sandbox/daq/config/include/linux -I/home/zhen/work/pynb/sandbox/daq/toolbox/include -I/home/zhen/work/pynb/sandbox/daq/toolbox/include/linux -I/home/zhen/work/pynb/sandbox/daq/pt/include -I/home/zhen/work/pynb/sandbox/daq/pt/include/linux -I/home/zhen/work/pynb/sandbox/daq/xdaq/include -I/home/zhen/work/pynb/sandbox/daq/xdaq/include/linux -I/home/zhen/work/pynb/sandbox/daq/xdata/include -I/home/zhen/work/pynb/sandbox/daq/xdata/include/linux -I/home/zhen/work/pynb/sandbox/daq/xoap/include -I/home/zhen/work/pynb/sandbox/daq/xoap/include/linux -I/home/zhen/work/pynb/sandbox/daq/xgi/include -I/home/zhen/work/pynb/sandbox/daq/xgi/include/linux -I/home/zhen/work/pynb/sandbox/daq/extern/i2o/include -I/home/zhen/work/pynb/sandbox/daq/i2o/include -I/home/zhen/work/pynb/sandbox/daq/i2o/include/linux -I/home/zhen/work/pynb/sandbox/daq/b2in/nub/include -I/home/zhen/work/pynb/sandbox/daq/b2in/nub/include/linux -I/home/zhen/work/pynb/sandbox/daq/interface/bril/include -I/home/zhen/work/pynb/sandbox/daq/bril/fakeru/include -I/home/zhen/work/pynb/sandbox/x86_64_slc6/include -I/home/zhen/work/pynb/sandbox/x86_64_slc6/include/linux -I/opt/xdaq/include -I/opt/xdaq/include/linux -c -o /home/zhen/work/pynb/sandbox/daq/bril/dummysource/src/linux/x86_64_slc6/src/common/Application.o src/common/Application.cc\r\n"
       ]
      },
      {
       "output_type": "stream",
       "stream": "stdout",
       "text": [
        "g++  -g -O2 -Wall -fPIC -fno-omit-frame-pointer  -DOS_VERSION_CODE=132640 -Dx86_64_slc6 -Dlinux -DLITTLE_ENDIAN__ -I/opt/xdaq/config -I/home/zhen/work/pynb/sandbox/daq/bril/dummysource/include/linux -I/home/zhen/work/pynb/sandbox/daq/bril/dummysource/include -I/home/zhen/work/pynb/sandbox/daq/i2o/utils/include -I/home/zhen/work/pynb/sandbox/daq/i2o/utils/include/linux -I/home/zhen/work/pynb/sandbox/daq/extern/xerces/x86_64_slc6/include -I/home/zhen/work/pynb/sandbox/daq/extern/log4cplus/x86_64_slc6/include -I/home/zhen/work/pynb/sandbox/daq/extern/cgicc/x86_64_slc6/include -I/home/zhen/work/pynb/sandbox/daq/xcept/include -I/home/zhen/work/pynb/sandbox/daq/xcept/include/linux -I/home/zhen/work/pynb/sandbox/daq/config/include -I/home/zhen/work/pynb/sandbox/daq/config/include/linux -I/home/zhen/work/pynb/sandbox/daq/toolbox/include -I/home/zhen/work/pynb/sandbox/daq/toolbox/include/linux -I/home/zhen/work/pynb/sandbox/daq/pt/include -I/home/zhen/work/pynb/sandbox/daq/pt/include/linux -I/home/zhen/work/pynb/sandbox/daq/xdaq/include -I/home/zhen/work/pynb/sandbox/daq/xdaq/include/linux -I/home/zhen/work/pynb/sandbox/daq/xdata/include -I/home/zhen/work/pynb/sandbox/daq/xdata/include/linux -I/home/zhen/work/pynb/sandbox/daq/xoap/include -I/home/zhen/work/pynb/sandbox/daq/xoap/include/linux -I/home/zhen/work/pynb/sandbox/daq/xgi/include -I/home/zhen/work/pynb/sandbox/daq/xgi/include/linux -I/home/zhen/work/pynb/sandbox/daq/extern/i2o/include -I/home/zhen/work/pynb/sandbox/daq/i2o/include -I/home/zhen/work/pynb/sandbox/daq/i2o/include/linux -I/home/zhen/work/pynb/sandbox/daq/b2in/nub/include -I/home/zhen/work/pynb/sandbox/daq/b2in/nub/include/linux -I/home/zhen/work/pynb/sandbox/daq/interface/bril/include -I/home/zhen/work/pynb/sandbox/daq/bril/fakeru/include -I/home/zhen/work/pynb/sandbox/x86_64_slc6/include -I/home/zhen/work/pynb/sandbox/x86_64_slc6/include/linux -I/opt/xdaq/include -I/opt/xdaq/include/linux -c -o /home/zhen/work/pynb/sandbox/daq/bril/dummysource/src/linux/x86_64_slc6/src/common/DataSimulator.o src/common/DataSimulator.cc\r\n"
       ]
      },
      {
       "output_type": "stream",
       "stream": "stdout",
       "text": [
        "g++  -g -O2 -Wall -fPIC -fno-omit-frame-pointer  -DOS_VERSION_CODE=132640 -Dx86_64_slc6 -Dlinux -DLITTLE_ENDIAN__ -I/opt/xdaq/config -I/home/zhen/work/pynb/sandbox/daq/bril/dummysource/include/linux -I/home/zhen/work/pynb/sandbox/daq/bril/dummysource/include -I/home/zhen/work/pynb/sandbox/daq/i2o/utils/include -I/home/zhen/work/pynb/sandbox/daq/i2o/utils/include/linux -I/home/zhen/work/pynb/sandbox/daq/extern/xerces/x86_64_slc6/include -I/home/zhen/work/pynb/sandbox/daq/extern/log4cplus/x86_64_slc6/include -I/home/zhen/work/pynb/sandbox/daq/extern/cgicc/x86_64_slc6/include -I/home/zhen/work/pynb/sandbox/daq/xcept/include -I/home/zhen/work/pynb/sandbox/daq/xcept/include/linux -I/home/zhen/work/pynb/sandbox/daq/config/include -I/home/zhen/work/pynb/sandbox/daq/config/include/linux -I/home/zhen/work/pynb/sandbox/daq/toolbox/include -I/home/zhen/work/pynb/sandbox/daq/toolbox/include/linux -I/home/zhen/work/pynb/sandbox/daq/pt/include -I/home/zhen/work/pynb/sandbox/daq/pt/include/linux -I/home/zhen/work/pynb/sandbox/daq/xdaq/include -I/home/zhen/work/pynb/sandbox/daq/xdaq/include/linux -I/home/zhen/work/pynb/sandbox/daq/xdata/include -I/home/zhen/work/pynb/sandbox/daq/xdata/include/linux -I/home/zhen/work/pynb/sandbox/daq/xoap/include -I/home/zhen/work/pynb/sandbox/daq/xoap/include/linux -I/home/zhen/work/pynb/sandbox/daq/xgi/include -I/home/zhen/work/pynb/sandbox/daq/xgi/include/linux -I/home/zhen/work/pynb/sandbox/daq/extern/i2o/include -I/home/zhen/work/pynb/sandbox/daq/i2o/include -I/home/zhen/work/pynb/sandbox/daq/i2o/include/linux -I/home/zhen/work/pynb/sandbox/daq/b2in/nub/include -I/home/zhen/work/pynb/sandbox/daq/b2in/nub/include/linux -I/home/zhen/work/pynb/sandbox/daq/interface/bril/include -I/home/zhen/work/pynb/sandbox/daq/bril/fakeru/include -I/home/zhen/work/pynb/sandbox/x86_64_slc6/include -I/home/zhen/work/pynb/sandbox/x86_64_slc6/include/linux -I/opt/xdaq/include -I/opt/xdaq/include/linux -c -o /home/zhen/work/pynb/sandbox/daq/bril/dummysource/src/linux/x86_64_slc6/src/common/Monitorable.o src/common/Monitorable.cc\r\n"
       ]
      },
      {
       "output_type": "stream",
       "stream": "stdout",
       "text": [
        "g++  -g -O2 -Wall -fPIC -fno-omit-frame-pointer  -DOS_VERSION_CODE=132640 -Dx86_64_slc6 -Dlinux -DLITTLE_ENDIAN__ -I/opt/xdaq/config -I/home/zhen/work/pynb/sandbox/daq/bril/dummysource/include/linux -I/home/zhen/work/pynb/sandbox/daq/bril/dummysource/include -I/home/zhen/work/pynb/sandbox/daq/i2o/utils/include -I/home/zhen/work/pynb/sandbox/daq/i2o/utils/include/linux -I/home/zhen/work/pynb/sandbox/daq/extern/xerces/x86_64_slc6/include -I/home/zhen/work/pynb/sandbox/daq/extern/log4cplus/x86_64_slc6/include -I/home/zhen/work/pynb/sandbox/daq/extern/cgicc/x86_64_slc6/include -I/home/zhen/work/pynb/sandbox/daq/xcept/include -I/home/zhen/work/pynb/sandbox/daq/xcept/include/linux -I/home/zhen/work/pynb/sandbox/daq/config/include -I/home/zhen/work/pynb/sandbox/daq/config/include/linux -I/home/zhen/work/pynb/sandbox/daq/toolbox/include -I/home/zhen/work/pynb/sandbox/daq/toolbox/include/linux -I/home/zhen/work/pynb/sandbox/daq/pt/include -I/home/zhen/work/pynb/sandbox/daq/pt/include/linux -I/home/zhen/work/pynb/sandbox/daq/xdaq/include -I/home/zhen/work/pynb/sandbox/daq/xdaq/include/linux -I/home/zhen/work/pynb/sandbox/daq/xdata/include -I/home/zhen/work/pynb/sandbox/daq/xdata/include/linux -I/home/zhen/work/pynb/sandbox/daq/xoap/include -I/home/zhen/work/pynb/sandbox/daq/xoap/include/linux -I/home/zhen/work/pynb/sandbox/daq/xgi/include -I/home/zhen/work/pynb/sandbox/daq/xgi/include/linux -I/home/zhen/work/pynb/sandbox/daq/extern/i2o/include -I/home/zhen/work/pynb/sandbox/daq/i2o/include -I/home/zhen/work/pynb/sandbox/daq/i2o/include/linux -I/home/zhen/work/pynb/sandbox/daq/b2in/nub/include -I/home/zhen/work/pynb/sandbox/daq/b2in/nub/include/linux -I/home/zhen/work/pynb/sandbox/daq/interface/bril/include -I/home/zhen/work/pynb/sandbox/daq/bril/fakeru/include -I/home/zhen/work/pynb/sandbox/x86_64_slc6/include -I/home/zhen/work/pynb/sandbox/x86_64_slc6/include/linux -I/opt/xdaq/include -I/opt/xdaq/include/linux -c -o /home/zhen/work/pynb/sandbox/daq/bril/dummysource/src/linux/x86_64_slc6/src/common/MonitoringCollector.o src/common/MonitoringCollector.cc\r\n"
       ]
      },
      {
       "output_type": "stream",
       "stream": "stdout",
       "text": [
        "g++  -g -O2 -Wall -fPIC -fno-omit-frame-pointer  -DOS_VERSION_CODE=132640 -Dx86_64_slc6 -Dlinux -DLITTLE_ENDIAN__ -I/opt/xdaq/config -I/home/zhen/work/pynb/sandbox/daq/bril/dummysource/include/linux -I/home/zhen/work/pynb/sandbox/daq/bril/dummysource/include -I/home/zhen/work/pynb/sandbox/daq/i2o/utils/include -I/home/zhen/work/pynb/sandbox/daq/i2o/utils/include/linux -I/home/zhen/work/pynb/sandbox/daq/extern/xerces/x86_64_slc6/include -I/home/zhen/work/pynb/sandbox/daq/extern/log4cplus/x86_64_slc6/include -I/home/zhen/work/pynb/sandbox/daq/extern/cgicc/x86_64_slc6/include -I/home/zhen/work/pynb/sandbox/daq/xcept/include -I/home/zhen/work/pynb/sandbox/daq/xcept/include/linux -I/home/zhen/work/pynb/sandbox/daq/config/include -I/home/zhen/work/pynb/sandbox/daq/config/include/linux -I/home/zhen/work/pynb/sandbox/daq/toolbox/include -I/home/zhen/work/pynb/sandbox/daq/toolbox/include/linux -I/home/zhen/work/pynb/sandbox/daq/pt/include -I/home/zhen/work/pynb/sandbox/daq/pt/include/linux -I/home/zhen/work/pynb/sandbox/daq/xdaq/include -I/home/zhen/work/pynb/sandbox/daq/xdaq/include/linux -I/home/zhen/work/pynb/sandbox/daq/xdata/include -I/home/zhen/work/pynb/sandbox/daq/xdata/include/linux -I/home/zhen/work/pynb/sandbox/daq/xoap/include -I/home/zhen/work/pynb/sandbox/daq/xoap/include/linux -I/home/zhen/work/pynb/sandbox/daq/xgi/include -I/home/zhen/work/pynb/sandbox/daq/xgi/include/linux -I/home/zhen/work/pynb/sandbox/daq/extern/i2o/include -I/home/zhen/work/pynb/sandbox/daq/i2o/include -I/home/zhen/work/pynb/sandbox/daq/i2o/include/linux -I/home/zhen/work/pynb/sandbox/daq/b2in/nub/include -I/home/zhen/work/pynb/sandbox/daq/b2in/nub/include/linux -I/home/zhen/work/pynb/sandbox/daq/interface/bril/include -I/home/zhen/work/pynb/sandbox/daq/bril/fakeru/include -I/home/zhen/work/pynb/sandbox/x86_64_slc6/include -I/home/zhen/work/pynb/sandbox/x86_64_slc6/include/linux -I/opt/xdaq/include -I/opt/xdaq/include/linux -c -o /home/zhen/work/pynb/sandbox/daq/bril/dummysource/src/linux/x86_64_slc6/src/common/SkeletonApplication.o src/common/SkeletonApplication.cc\r\n"
       ]
      },
      {
       "output_type": "stream",
       "stream": "stdout",
       "text": [
        "g++  -g -O2 -Wall -fPIC -fno-omit-frame-pointer  -DOS_VERSION_CODE=132640 -Dx86_64_slc6 -Dlinux -DLITTLE_ENDIAN__ -I/opt/xdaq/config -I/home/zhen/work/pynb/sandbox/daq/bril/dummysource/include/linux -I/home/zhen/work/pynb/sandbox/daq/bril/dummysource/include -I/home/zhen/work/pynb/sandbox/daq/i2o/utils/include -I/home/zhen/work/pynb/sandbox/daq/i2o/utils/include/linux -I/home/zhen/work/pynb/sandbox/daq/extern/xerces/x86_64_slc6/include -I/home/zhen/work/pynb/sandbox/daq/extern/log4cplus/x86_64_slc6/include -I/home/zhen/work/pynb/sandbox/daq/extern/cgicc/x86_64_slc6/include -I/home/zhen/work/pynb/sandbox/daq/xcept/include -I/home/zhen/work/pynb/sandbox/daq/xcept/include/linux -I/home/zhen/work/pynb/sandbox/daq/config/include -I/home/zhen/work/pynb/sandbox/daq/config/include/linux -I/home/zhen/work/pynb/sandbox/daq/toolbox/include -I/home/zhen/work/pynb/sandbox/daq/toolbox/include/linux -I/home/zhen/work/pynb/sandbox/daq/pt/include -I/home/zhen/work/pynb/sandbox/daq/pt/include/linux -I/home/zhen/work/pynb/sandbox/daq/xdaq/include -I/home/zhen/work/pynb/sandbox/daq/xdaq/include/linux -I/home/zhen/work/pynb/sandbox/daq/xdata/include -I/home/zhen/work/pynb/sandbox/daq/xdata/include/linux -I/home/zhen/work/pynb/sandbox/daq/xoap/include -I/home/zhen/work/pynb/sandbox/daq/xoap/include/linux -I/home/zhen/work/pynb/sandbox/daq/xgi/include -I/home/zhen/work/pynb/sandbox/daq/xgi/include/linux -I/home/zhen/work/pynb/sandbox/daq/extern/i2o/include -I/home/zhen/work/pynb/sandbox/daq/i2o/include -I/home/zhen/work/pynb/sandbox/daq/i2o/include/linux -I/home/zhen/work/pynb/sandbox/daq/b2in/nub/include -I/home/zhen/work/pynb/sandbox/daq/b2in/nub/include/linux -I/home/zhen/work/pynb/sandbox/daq/interface/bril/include -I/home/zhen/work/pynb/sandbox/daq/bril/fakeru/include -I/home/zhen/work/pynb/sandbox/x86_64_slc6/include -I/home/zhen/work/pynb/sandbox/x86_64_slc6/include/linux -I/opt/xdaq/include -I/opt/xdaq/include/linux -c -o /home/zhen/work/pynb/sandbox/daq/bril/dummysource/src/linux/x86_64_slc6/src/common/version.o src/common/version.cc\r\n"
       ]
      },
      {
       "output_type": "stream",
       "stream": "stdout",
       "text": [
        "mkdir -p /home/zhen/work/pynb/sandbox/daq/bril/dummysource/lib/linux/x86_64_slc6\r\n",
        "g++ -shared -fPIC  -o /home/zhen/work/pynb/sandbox/daq/bril/dummysource/lib/linux/x86_64_slc6/libbrildummysource.so  /home/zhen/work/pynb/sandbox/daq/bril/dummysource/src/linux/x86_64_slc6/src/common/Application.o  /home/zhen/work/pynb/sandbox/daq/bril/dummysource/src/linux/x86_64_slc6/src/common/DataSimulator.o  /home/zhen/work/pynb/sandbox/daq/bril/dummysource/src/linux/x86_64_slc6/src/common/Monitorable.o  /home/zhen/work/pynb/sandbox/daq/bril/dummysource/src/linux/x86_64_slc6/src/common/MonitoringCollector.o  /home/zhen/work/pynb/sandbox/daq/bril/dummysource/src/linux/x86_64_slc6/src/common/SkeletonApplication.o  /home/zhen/work/pynb/sandbox/daq/bril/dummysource/src/linux/x86_64_slc6/src/common/version.o  -L/home/zhen/work/pynb/sandbox/daq/bril/dummysource/lib/linux/x86_64_slc6 -L/home/zhen/work/pynb/sandbox/x86_64_slc6/lib -L/home/zhen/work/pynb/sandbox/x86_64_slc6/lib -L/opt/xdaq/lib -lfakeru\r\n"
       ]
      },
      {
       "output_type": "stream",
       "stream": "stdout",
       "text": [
        "Build done.\r\n",
        "install -d /home/zhen/work/pynb/sandbox/x86_64_slc6/lib /home/zhen/work/pynb/sandbox/x86_64_slc6/bin /home/zhen/work/pynb/sandbox/x86_64_slc6/include /home/zhen/work/pynb/sandbox/x86_64_slc6/htdocs\r\n",
        "cd include; find ./ \\( -name \"*.[hi]\" -o -name \"*.hpp\" -o -name \"*.hh\" -o -name \"*.hxx\" \\) -exec install -p -D {} /home/zhen/work/pynb/sandbox/x86_64_slc6/include/{} \\;\r\n"
       ]
      },
      {
       "output_type": "stream",
       "stream": "stdout",
       "text": [
        "Installing dynamic library.\r\n",
        "cp -pd -p /home/zhen/work/pynb/sandbox/daq/bril/dummysource/lib/linux/x86_64_slc6/libbrildummysource.so* /home/zhen/work/pynb/sandbox/x86_64_slc6/lib/\r\n",
        "make[1]: Leaving directory `/home/zhen/work/pynb/sandbox/daq/bril/dummysource'\r\n"
       ]
      }
     ],
     "prompt_number": 12
    },
    {
     "cell_type": "code",
     "collapsed": false,
     "input": [
      "# Go to the scripts directory \n",
      "%cd $workdir/daq/bril/scripts"
     ],
     "language": "python",
     "metadata": {},
     "outputs": [
      {
       "output_type": "stream",
       "stream": "stdout",
       "text": [
        "/home/zhen/work/pynb/sandbox/daq/bril/scripts\n"
       ]
      }
     ],
     "prompt_number": 13
    },
    {
     "cell_type": "code",
     "collapsed": false,
     "input": [
      "# Generate configuration xml\n",
      "!./generatexml.sh dummysource"
     ],
     "language": "python",
     "metadata": {},
     "outputs": [
      {
       "output_type": "stream",
       "stream": "stdout",
       "text": [
        "sources:\r\n",
        "    dummysource/template.param,dummysource/LocalDataSimulator_inzone.template\r\n",
        "generated:\r\n",
        "    /home/zhen/work/pynb/sandbox/daq/bril/scripts/LocalDataSimulator_inzone.xml\r\n"
       ]
      },
      {
       "output_type": "stream",
       "stream": "stdout",
       "text": [
        "command per context:\r\n",
        "   /opt/xdaq/bin/xdaq.exe -p 50000 -c /home/zhen/work/pynb/sandbox/daq/bril/scripts/LocalDataSimulator_inzone.xml -z bril\r\n",
        "\r\n",
        "sources:\r\n",
        "    dummysource/template.param,dummysource/SkeletonApplication.template\r\n",
        "generated:\r\n",
        "    /home/zhen/work/pynb/sandbox/daq/bril/scripts/SkeletonApplication.xml\r\n"
       ]
      },
      {
       "output_type": "stream",
       "stream": "stdout",
       "text": [
        "command per context:\r\n",
        "   /opt/xdaq/bin/xdaq.exe -p 50000 -c /home/zhen/work/pynb/sandbox/daq/bril/scripts/SkeletonApplication.xml \r\n",
        "\r\n",
        "sources:\r\n",
        "    dummysource/template.param,dummysource/LocalApplication_inzone.template\r\n",
        "generated:\r\n",
        "    /home/zhen/work/pynb/sandbox/daq/bril/scripts/LocalApplication_inzone.xml\r\n"
       ]
      },
      {
       "output_type": "stream",
       "stream": "stdout",
       "text": [
        "command per context:\r\n",
        "   /opt/xdaq/bin/xdaq.exe -p 50000 -c /home/zhen/work/pynb/sandbox/daq/bril/scripts/LocalApplication_inzone.xml -z bril\r\n",
        "\r\n",
        "sources:\r\n",
        "    dummysource/template.param,dummysource/LocalMonitorable.template\r\n",
        "generated:\r\n",
        "    /home/zhen/work/pynb/sandbox/daq/bril/scripts/LocalMonitorable.xml\r\n"
       ]
      },
      {
       "output_type": "stream",
       "stream": "stdout",
       "text": [
        "command per context:\r\n",
        "   /opt/xdaq/bin/xdaq.exe -p 50000 -c /home/zhen/work/pynb/sandbox/daq/bril/scripts/LocalMonitorable.xml \r\n",
        "\r\n",
        "sources:\r\n",
        "    dummysource/template.param,dummysource/LocalDataSimulator.template\r\n",
        "generated:\r\n",
        "    /home/zhen/work/pynb/sandbox/daq/bril/scripts/LocalDataSimulator.xml\r\n"
       ]
      },
      {
       "output_type": "stream",
       "stream": "stdout",
       "text": [
        "command per context:\r\n",
        "   /opt/xdaq/bin/xdaq.exe -p 50000 -c /home/zhen/work/pynb/sandbox/daq/bril/scripts/LocalDataSimulator.xml \r\n",
        "\r\n",
        "sources:\r\n",
        "    dummysource/template.param,dummysource/LocalMonitorableAndCollector.template\r\n",
        "generated:\r\n",
        "    /home/zhen/work/pynb/sandbox/daq/bril/scripts/LocalMonitorableAndCollector.xml\r\n"
       ]
      },
      {
       "output_type": "stream",
       "stream": "stdout",
       "text": [
        "command per context:\r\n",
        "   /opt/xdaq/bin/xdaq.exe -p 50000 -c /home/zhen/work/pynb/sandbox/daq/bril/scripts/LocalMonitorableAndCollector.xml \r\n",
        "\r\n",
        "sources:\r\n",
        "    dummysource/template.param,dummysource/LocalMonitorable_inzone.template\r\n"
       ]
      },
      {
       "output_type": "stream",
       "stream": "stdout",
       "text": [
        "generated:\r\n",
        "    /home/zhen/work/pynb/sandbox/daq/bril/scripts/LocalMonitorable_inzone.xml\r\n"
       ]
      },
      {
       "output_type": "stream",
       "stream": "stdout",
       "text": [
        "command per context:\r\n",
        "   /opt/xdaq/bin/xdaq.exe -p 50000 -c /home/zhen/work/pynb/sandbox/daq/bril/scripts/LocalMonitorable_inzone.xml -z bril\r\n",
        "\r\n",
        "sources:\r\n",
        "    dummysource/template.param,dummysource/DataSimulator.template\r\n",
        "generated:\r\n",
        "    /home/zhen/work/pynb/sandbox/daq/bril/scripts/DataSimulator.xml\r\n"
       ]
      },
      {
       "output_type": "stream",
       "stream": "stdout",
       "text": [
        "command per context:\r\n",
        "   /opt/xdaq/bin/xdaq.exe -p 50000 -c /home/zhen/work/pynb/sandbox/daq/bril/scripts/DataSimulator.xml \r\n",
        "\r\n",
        "sources:\r\n",
        "    dummysource/template.param,dummysource/LocalMonitorableAndCollector_inzone.template\r\n",
        "generated:\r\n",
        "    /home/zhen/work/pynb/sandbox/daq/bril/scripts/LocalMonitorableAndCollector_inzone.xml\r\n"
       ]
      },
      {
       "output_type": "stream",
       "stream": "stdout",
       "text": [
        "command per context:\r\n",
        "   /opt/xdaq/bin/xdaq.exe -p 50000 -c /home/zhen/work/pynb/sandbox/daq/bril/scripts/LocalMonitorableAndCollector_inzone.xml -z bril\r\n",
        "\r\n",
        "sources:\r\n",
        "    dummysource/template.param,dummysource/DataSimulator_inzone.template\r\n"
       ]
      },
      {
       "output_type": "stream",
       "stream": "stdout",
       "text": [
        "generated:\r\n",
        "    /home/zhen/work/pynb/sandbox/daq/bril/scripts/DataSimulator_inzone.xml\r\n",
        "command per context:\r\n",
        "   /opt/xdaq/bin/xdaq.exe -p 50000 -c /home/zhen/work/pynb/sandbox/daq/bril/scripts/DataSimulator_inzone.xml -z bril\r\n",
        "\r\n",
        "sources:\r\n",
        "    dummysource/template.param,dummysource/LocalApplication.template\r\n"
       ]
      },
      {
       "output_type": "stream",
       "stream": "stdout",
       "text": [
        "generated:\r\n",
        "    /home/zhen/work/pynb/sandbox/daq/bril/scripts/LocalApplication.xml\r\n"
       ]
      },
      {
       "output_type": "stream",
       "stream": "stdout",
       "text": [
        "command per context:\r\n",
        "   /opt/xdaq/bin/xdaq.exe -p 50000 -c /home/zhen/work/pynb/sandbox/daq/bril/scripts/LocalApplication.xml \r\n",
        "\r\n"
       ]
      }
     ],
     "prompt_number": 14
    },
    {
     "cell_type": "markdown",
     "metadata": {},
     "source": [
      "##### run SkeletonApplication"
     ]
    },
    {
     "cell_type": "code",
     "collapsed": false,
     "input": [
      "# Prepare the command xdaqcmd to run in bash.\n",
      "contextport=50000\n",
      "xdaqcmd=\"/opt/xdaq/bin/xdaq.exe -p 50000 -c /home/zhen/work/pynb/sandbox/daq/bril/scripts/SkeletonApplication.xml \"\n",
      "mycmd=\"source ./brilenv.sh; \"+xdaqcmd"
     ],
     "language": "python",
     "metadata": {},
     "outputs": [],
     "prompt_number": 15
    },
    {
     "cell_type": "code",
     "collapsed": false,
     "input": [
      "# Run the command in background\n",
      "# In bash, just run the above xdaqcmd with correct -p contextport and watch the screen\n",
      "from subprocess import Popen , PIPE, STDOUT\n",
      "proc=Popen(mycmd,stdin=PIPE,stdout=PIPE,stderr=PIPE,shell=True)"
     ],
     "language": "python",
     "metadata": {},
     "outputs": [],
     "prompt_number": 16
    },
    {
     "cell_type": "code",
     "collapsed": false,
     "input": [
      "# Check if your application is running with hyperdaq \n",
      "# Note: in static html the xdaq iframe below will not display. That is fine\n",
      "# In bash, open firefox and watch url http://hostname:contextport\n",
      "# Icon brildummysource SkeletonApplication is clickable. On click, it shows the classname.\n",
      "import socket\n",
      "hostname = socket.gethostname()\n",
      "xdaqcontexturl = 'http://%s:%d'%(hostname,contextport)\n",
      "from IPython.display import IFrame\n",
      "display(IFrame(xdaqcontexturl, '100%', '600px'))"
     ],
     "language": "python",
     "metadata": {},
     "outputs": [
      {
       "html": [
        "\n",
        "        <iframe\n",
        "            width=\"100%\"\n",
        "            height=600px\"\n",
        "            src=\"http://pczhen.cern.ch:50000\"\n",
        "            frameborder=\"0\"\n",
        "            allowfullscreen\n",
        "        ></iframe>\n",
        "        "
       ],
       "metadata": {},
       "output_type": "display_data",
       "text": [
        "<IPython.lib.display.IFrame at 0x7fc1ee4c3bd0>"
       ]
      }
     ],
     "prompt_number": 17
    },
    {
     "cell_type": "markdown",
     "metadata": {},
     "source": [
      "##### stop SkeletonApplication"
     ]
    },
    {
     "cell_type": "code",
     "collapsed": false,
     "input": [
      "# Stop SkeletonApplication \n",
      "# Ctrl-C is your process is running in the front\n",
      "!./stopApp.sh 50000"
     ],
     "language": "python",
     "metadata": {},
     "outputs": [
      {
       "output_type": "stream",
       "stream": "stdout",
       "text": [
        "                     USER        PID ACCESS COMMAND\r\n",
        "50000/tcp:           zhen        466 F.... xdaq.exe\r\n"
       ]
      }
     ],
     "prompt_number": 18
    },
    {
     "cell_type": "markdown",
     "metadata": {},
     "source": [
      "### *A data simulator*\n",
      "\n",
      "\n",
      "\n",
      "We write a xdaq application. \n",
      "When configured as simulation mode, it publishes simulated data to on bril timing signal.\n",
      "\n",
      "   1. Configurable\n",
      "   2. Subscribe to bril eventing for timing signals\n",
      "   3. Generate dummy data\n",
      "   4. Publish simulated data to bril eventing\n",
      "   5. Has a web page\n",
      "   \n",
      "We configure the application to run in two modes:\n",
      "\n",
      "   1. Local run  : run the time authority in the timesource package in your context.\n",
      "   2. Global run : assuming there is a bril central time authority, synchronise to it. \n"
     ]
    },
    {
     "cell_type": "markdown",
     "metadata": {},
     "source": [
      "##### write DataSimulator"
     ]
    },
    {
     "cell_type": "code",
     "collapsed": false,
     "input": [
      "# Because we subscribe and publish to bril eventing, we \n",
      "# #include \"eventing/api/Member.h\" and inherit from public eventing::api::Member\n",
      "# \n",
      "# method 'onMessage' is our b2in receiving callback. Note the signature.\n",
      "# \n",
      "# We need a memory pool for publishing data to eventing\n",
      "#\n",
      "# We have two configuration parameters: m_simSource, m_signalTopic\n",
      "#\n",
      "%cat $workdir/daq/bril/dummysource/include/bril/dummysource/DataSimulator.h"
     ],
     "language": "python",
     "metadata": {},
     "outputs": [
      {
       "output_type": "stream",
       "stream": "stdout",
       "text": [
        "// $Id$\r\n",
        "#ifndef _bril_dummysource_DataSimulator_h_\r\n",
        "#define _bril_dummysource_DataSimulator_h_\r\n",
        "#include <string>\r\n",
        "#include \"xdaq/Application.h\"\r\n",
        "#include \"xdata/ActionListener.h\"\r\n",
        "#include \"xgi/Method.h\"\r\n",
        "#include \"xgi/Output.h\"\r\n",
        "#include \"xgi/exception/Exception.h\"\r\n",
        "#include \"xdata/InfoSpace.h\"\r\n",
        "#include \"xdata/Boolean.h\"\r\n",
        "#include \"xdata/String.h\"\r\n",
        "\r\n",
        "#include \"eventing/api/Member.h\"\r\n",
        "#include \"toolbox/mem/MemoryPoolFactory.h\"\r\n",
        "#include \"toolbox/mem/Reference.h\"\r\n",
        "#include \"b2in/nub/exception/Exception.h\"\r\n",
        "\r\n",
        "/**\r\n",
        "   A xdaq application that when configured as simulation mode publishes simulated data on bril timing signal instead of hardware signal. \r\n",
        "\r\n",
        "Feats:\r\n",
        "   1. Configurable\r\n",
        "   2. Subscribes to bril eventing\r\n",
        "   3. Generate dummy dataset\r\n",
        "   4. Publish to bril eventing\r\n",
        "   5. Has web page\r\n",
        "*/\r\n",
        "namespace bril{\r\n",
        "  namespace dummysource{\r\n",
        "    class DataSimulator : public xdaq::Application,public xdata::ActionListener,public eventing::api::Member{\r\n",
        "    public:\r\n",
        "      XDAQ_INSTANTIATOR();\r\n",
        "      // constructor\r\n",
        "      DataSimulator (xdaq::ApplicationStub* s) throw (xdaq::exception::Exception);\r\n",
        "      // destructor\r\n",
        "      ~DataSimulator ();\r\n",
        "      // xgi(web) callback\r\n",
        "      void Default (xgi::Input * in, xgi::Output * out) throw (xgi::exception::Exception);\r\n",
        "      // infospace event callback\r\n",
        "      virtual void actionPerformed(xdata::Event& e);\r\n",
        "      // b2in message callback\r\n",
        "      void onMessage(toolbox::mem::Reference * ref, xdata::Properties & plist) throw (b2in::nub::exception::Exception);\r\n",
        "      \r\n",
        "    private:\r\n",
        "      // members\r\n",
        "      // some information about this application\r\n",
        "      xdata::InfoSpace *m_appInfoSpace;\r\n",
        "      xdaq::ApplicationDescriptor *m_appDescriptor;\r\n",
        "      std::string m_classname;\r\n",
        "      \r\n",
        "      toolbox::mem::MemoryPoolFactory *m_poolFactory;\r\n",
        "      toolbox::mem::Pool* m_memPool;\r\n",
        "      // configuration parameters\r\n",
        "      xdata::Boolean m_simSource;\r\n",
        "      xdata::String m_signalTopic;\r\n",
        "      \r\n",
        "    private:\r\n",
        "      // methods\r\n",
        "      void do_publish();\r\n",
        "      // nocopy protection\r\n",
        "      DataSimulator(const DataSimulator&);\r\n",
        "      DataSimulator& operator=(const DataSimulator&);\r\n",
        "    };\r\n",
        "  }\r\n",
        "}\r\n",
        "#endif\r\n"
       ]
      }
     ],
     "prompt_number": 19
    },
    {
     "cell_type": "code",
     "collapsed": false,
     "input": [
      "# In constructor, we bind the b2in message callback method onMessage. You can give the method any name, \n",
      "# but you should bind the method with b2in::nub::bind, note the signature.\n",
      "# In constructor, we define two configuration parameters and listen to them: simSource and signalTopic\n",
      "# In constructor, we create the memory pool for b2in publishing\n",
      "#\n",
      "# In actionPerformed(xdata::Event) callback, we pull the configuration parameters\n",
      "#    If simSource==true; we subscribe to our configured bril time signal topic.\n",
      "#                        \n",
      "# In b2in message callback onMessage method, \n",
      "#    we publish simulated data into the eventing unpon receiving the timing signal message from eventing\n",
      "# \n",
      "%cat $workdir/daq/bril/dummysource/src/common/DataSimulator.cc"
     ],
     "language": "python",
     "metadata": {},
     "outputs": [
      {
       "output_type": "stream",
       "stream": "stdout",
       "text": [
        "#include \"cgicc/CgiDefs.h\"\r\n",
        "#include \"cgicc/Cgicc.h\"\r\n",
        "#include \"cgicc/HTTPHTMLHeader.h\"\r\n",
        "#include \"cgicc/HTMLClasses.h\"\r\n",
        "#include \"xcept/tools.h\"\r\n",
        "#include \"toolbox/mem/HeapAllocator.h\"\r\n",
        "#include \"toolbox/mem/MemoryPoolFactory.h\"\r\n",
        "#include \"b2in/nub/Method.h\"\r\n",
        "#include \"bril/dummysource/DataSimulator.h\" \r\n",
        "\r\n",
        "XDAQ_INSTANTIATOR_IMPL (bril::dummysource::DataSimulator)\r\n",
        "\r\n",
        "bril::dummysource::DataSimulator::DataSimulator (xdaq::ApplicationStub* s) throw (xdaq::exception::Exception) : xdaq::Application(s),eventing::api::Member(this){\r\n",
        "  //bind web method\r\n",
        "  xgi::bind(this, &bril::dummysource::DataSimulator::Default, \"Default\");\r\n",
        "  //bind b2in message handler\r\n",
        "  b2in::nub::bind(this, &bril::dummysource::DataSimulator::onMessage);\r\n",
        "  m_appInfoSpace = getApplicationInfoSpace();\r\n",
        "  m_appDescriptor= getApplicationDescriptor();\r\n",
        "  m_classname    = m_appDescriptor->getClassName();\r\n",
        "  m_poolFactory  = toolbox::mem::getMemoryPoolFactory();\r\n",
        "  std::string memPoolName(\"DataSimulator_memPool\");\r\n",
        "  toolbox::net::URN urn(\"toolbox-mem-pool\",memPoolName); \r\n",
        "  try{\r\n",
        "    m_appInfoSpace->fireItemAvailable(\"simSource\",&m_simSource);\r\n",
        "    m_appInfoSpace->fireItemAvailable(\"signalTopic\",&m_signalTopic);\r\n",
        "    m_appInfoSpace->addListener(this, \"urn:xdaq-event:setDefaultValues\");\r\n",
        "    /**\r\n",
        "       Create memory pool for pt transport\r\n",
        "       The newed HeapAllocator will be freed by the framework\r\n",
        "       Please do not call delete by yourself.\r\n",
        "    */\r\n",
        "    toolbox::mem::HeapAllocator* allocator = new toolbox::mem::HeapAllocator();\r\n",
        "    m_memPool = m_poolFactory->createPool(urn,allocator);\r\n",
        "  }catch(xdata::exception::Exception& e){\r\n",
        "    LOG4CPLUS_ERROR(getApplicationLogger(),stdformat_exception_history(e));\r\n",
        "  }catch(xcept::Exception& e){\r\n",
        "    LOG4CPLUS_FATAL(getApplicationLogger(),stdformat_exception_history(e));\r\n",
        "  }\r\n",
        "}\r\n",
        "\r\n",
        "bril::dummysource::DataSimulator::~DataSimulator (){\r\n",
        "}\r\n",
        "\r\n",
        "void bril::dummysource::DataSimulator::Default (xgi::Input * in, xgi::Output * out) throw (xgi::exception::Exception){\r\n",
        "  *out <<  \"<!doctype html>\" << std::endl;\r\n",
        "  *out << \"<html xmlns=\\\"http://www.w3.org/1999/xhtml\\\">\" << std::endl;\r\n",
        "  *out << \"<head>\"<< std::endl;\r\n",
        "  *out << \"<meta http-equiv=\\\"Content-Type\\\" content=\\\"text/html\\\"; charset=\\\"utf-8\\\">\"<<std::endl;\r\n",
        "  *out << \"<title>dummysource </title>\"<<std::endl;\r\n",
        "  *out << \"</head>\"<< std::endl;\r\n",
        "  *out << \"<body>\" << std::endl;\r\n",
        "  *out << m_classname <<std::endl;\r\n",
        "  if(m_simSource){\r\n",
        "    *out << \"publish simulated data on frequency : \"<< m_signalTopic.toString() <<std::endl;\r\n",
        "  }else{\r\n",
        "    *out << \"publish real data\"<<std::endl;\r\n",
        "  }\r\n",
        "  *out << \"</body>\"<< std::endl;\r\n",
        "  *out << \"</html>\"<< std::endl;\r\n",
        "}\r\n",
        "\r\n",
        "void bril::dummysource::DataSimulator::actionPerformed(xdata::Event& e){\r\n",
        "  LOG4CPLUS_INFO(this->getApplicationLogger(), \"Received xdata event \" << e.type());\r\n",
        "  if( e.type() == \"urn:xdaq-event:setDefaultValues\" ){\r\n",
        "    if(m_simSource){\r\n",
        "      LOG4CPLUS_INFO(this->getApplicationLogger(), std::string(\"I'm a simulator, subscribing to \")+m_signalTopic.toString());\r\n",
        "      try{\r\n",
        "\tthis->getEventingBus(\"brildata\").subscribe(m_signalTopic);\r\n",
        "      }catch(eventing::api::exception::Exception& e){\r\n",
        "\tLOG4CPLUS_ERROR(getApplicationLogger(),stdformat_exception_history(e));\r\n",
        "      }\r\n",
        "    }else{\r\n",
        "      LOG4CPLUS_ERROR(this->getApplicationLogger(), \"Not implemented\");\r\n",
        "    }\r\n",
        "  }\r\n",
        "}\r\n",
        "\r\n",
        "void bril::dummysource::DataSimulator::onMessage(toolbox::mem::Reference * ref, xdata::Properties & plist) throw (b2in::nub::exception::Exception){\r\n",
        "  std::cout<<\"onMessage\"<<std::endl;\r\n",
        "      std::string action = plist.getProperty(\"urn:b2in-eventing:action\");\r\n",
        "      if (action == \"notify\"){\r\n",
        "\tstd::string topic = plist.getProperty(\"urn:b2in-eventing:topic\");\r\n",
        "\tif(topic == m_signalTopic.toString()){\r\n",
        "\t  // On receiving timing signal publish simulated data\r\n",
        "\t  do_publish();\r\n",
        "\t}\r\n",
        "      }\r\n",
        "      if(ref!=0){\r\n",
        "\tref->release();\r\n",
        "\tref=0;\r\n",
        "      }\r\n",
        "}\r\n",
        "\r\n",
        "/** publish an array to bril b2in \r\n",
        "    if you publish to DIP, change here\r\n",
        "*/\r\n",
        "void bril::dummysource::DataSimulator::do_publish(){\r\n",
        "  std::cout<<\"INSIDE do publish\"<<std::endl;  \r\n",
        "  LOG4CPLUS_INFO(this->getApplicationLogger(), \"publish a simulated histogram\");\r\n",
        "  toolbox::mem::Reference* bufRef=0;\r\n",
        "  xdata::Properties plist;\r\n",
        "  plist.setProperty(\"classname\",m_classname);\r\n",
        "  std::string topicname=m_classname+\"Topic\";\r\n",
        "  try{\r\n",
        "    size_t n=3564;\r\n",
        "    int fakedata[n];\r\n",
        "    for(size_t i=0;i<n;++i){fakedata[i]=i+1;}\r\n",
        "    size_t fakedatasize = n*sizeof(int);    \r\n",
        "    bufRef = m_poolFactory->getFrame(m_memPool,fakedatasize);\r\n",
        "    memcpy(bufRef->getDataLocation(),fakedata,fakedatasize);\r\n",
        "    this->getEventingBus(\"brildata\").publish(topicname,bufRef,plist);\r\n",
        "  }catch(xcept::Exception& e){\r\n",
        "    LOG4CPLUS_ERROR(getApplicationLogger(),stdformat_exception_history(e));\r\n",
        "  }\r\n",
        "}\r\n",
        "\r\n"
       ]
      }
     ],
     "prompt_number": 20
    },
    {
     "cell_type": "code",
     "collapsed": false,
     "input": [
      "# Build timesource\n",
      "%cd $workdir/daq/bril/timesource\n",
      "!make install"
     ],
     "language": "python",
     "metadata": {},
     "outputs": [
      {
       "output_type": "stream",
       "stream": "stdout",
       "text": [
        "/home/zhen/work/pynb/sandbox/daq/bril/timesource\n",
        "In Makefile.fallbacks: guessing/checking values\r\n",
        "XDAQ_ROOT=\"/opt/xdaq\"\r\n",
        "Guessed undefined XDAQ_OS to \"linux\"\r\n",
        "Guessed undefined XDAQ_PLATFORM to \"x86_64_slc6\"\r\n"
       ]
      },
      {
       "output_type": "stream",
       "stream": "stdout",
       "text": [
        "mkdir -p /home/zhen/work/pynb/sandbox/daq/bril/timesource/src/linux/x86_64_slc6/src/common\r\n",
        "/bin/sh -ec 'g++  -MM -g -O2 -Wall -fPIC -fno-omit-frame-pointer  -DOS_VERSION_CODE=132640 -Dx86_64_slc6 -Dlinux -DLITTLE_ENDIAN__ -I/opt/xdaq/config -I/home/zhen/work/pynb/sandbox/daq/bril/timesource/include/linux -I/home/zhen/work/pynb/sandbox/daq/bril/timesource/include -I/home/zhen/work/pynb/sandbox/daq/i2o/utils/include -I/home/zhen/work/pynb/sandbox/daq/i2o/utils/include/linux -I/home/zhen/work/pynb/sandbox/daq/extern/xerces/x86_64_slc6/include -I/home/zhen/work/pynb/sandbox/daq/extern/log4cplus/x86_64_slc6/include -I/home/zhen/work/pynb/sandbox/daq/extern/cgicc/x86_64_slc6/include -I/home/zhen/work/pynb/sandbox/daq/xcept/include -I/home/zhen/work/pynb/sandbox/daq/xcept/include/linux -I/home/zhen/work/pynb/sandbox/daq/config/include -I/home/zhen/work/pynb/sandbox/daq/config/include/linux -I/home/zhen/work/pynb/sandbox/daq/toolbox/include -I/home/zhen/work/pynb/sandbox/daq/toolbox/include/linux -I/home/zhen/work/pynb/sandbox/daq/pt/include -I/home/zhen/work/pynb/sandbox/daq/pt/include/linux -I/home/zhen/work/pynb/sandbox/daq/xdaq/include -I/home/zhen/work/pynb/sandbox/daq/xdaq/include/linux -I/home/zhen/work/pynb/sandbox/daq/xdata/include -I/home/zhen/work/pynb/sandbox/daq/xdata/include/linux -I/home/zhen/work/pynb/sandbox/daq/xoap/include -I/home/zhen/work/pynb/sandbox/daq/xoap/include/linux -I/home/zhen/work/pynb/sandbox/daq/xgi/include -I/home/zhen/work/pynb/sandbox/daq/xgi/include/linux -I/home/zhen/work/pynb/sandbox/daq/extern/i2o/include -I/home/zhen/work/pynb/sandbox/daq/i2o/include -I/home/zhen/work/pynb/sandbox/daq/i2o/include/linux -I/home/zhen/work/pynb/sandbox/daq/b2in/nub/include -I/home/zhen/work/pynb/sandbox/daq/b2in/nub/include/linux -I/home/zhen/work/pynb/sandbox/daq/interface/bril/include -I/home/zhen/work/pynb/sandbox/x86_64_slc6/include -I/home/zhen/work/pynb/sandbox/x86_64_slc6/include/linux -I/opt/xdaq/include -I/opt/xdaq/include/linux  src/common/version.cc > /home/zhen/work/pynb/sandbox/daq/bril/timesource/src/linux/x86_64_slc6/src/common/version.d' \r\n"
       ]
      },
      {
       "output_type": "stream",
       "stream": "stdout",
       "text": [
        "mkdir -p /home/zhen/work/pynb/sandbox/daq/bril/timesource/src/linux/x86_64_slc6/src/common\r\n",
        "/bin/sh -ec 'g++  -MM -g -O2 -Wall -fPIC -fno-omit-frame-pointer  -DOS_VERSION_CODE=132640 -Dx86_64_slc6 -Dlinux -DLITTLE_ENDIAN__ -I/opt/xdaq/config -I/home/zhen/work/pynb/sandbox/daq/bril/timesource/include/linux -I/home/zhen/work/pynb/sandbox/daq/bril/timesource/include -I/home/zhen/work/pynb/sandbox/daq/i2o/utils/include -I/home/zhen/work/pynb/sandbox/daq/i2o/utils/include/linux -I/home/zhen/work/pynb/sandbox/daq/extern/xerces/x86_64_slc6/include -I/home/zhen/work/pynb/sandbox/daq/extern/log4cplus/x86_64_slc6/include -I/home/zhen/work/pynb/sandbox/daq/extern/cgicc/x86_64_slc6/include -I/home/zhen/work/pynb/sandbox/daq/xcept/include -I/home/zhen/work/pynb/sandbox/daq/xcept/include/linux -I/home/zhen/work/pynb/sandbox/daq/config/include -I/home/zhen/work/pynb/sandbox/daq/config/include/linux -I/home/zhen/work/pynb/sandbox/daq/toolbox/include -I/home/zhen/work/pynb/sandbox/daq/toolbox/include/linux -I/home/zhen/work/pynb/sandbox/daq/pt/include -I/home/zhen/work/pynb/sandbox/daq/pt/include/linux -I/home/zhen/work/pynb/sandbox/daq/xdaq/include -I/home/zhen/work/pynb/sandbox/daq/xdaq/include/linux -I/home/zhen/work/pynb/sandbox/daq/xdata/include -I/home/zhen/work/pynb/sandbox/daq/xdata/include/linux -I/home/zhen/work/pynb/sandbox/daq/xoap/include -I/home/zhen/work/pynb/sandbox/daq/xoap/include/linux -I/home/zhen/work/pynb/sandbox/daq/xgi/include -I/home/zhen/work/pynb/sandbox/daq/xgi/include/linux -I/home/zhen/work/pynb/sandbox/daq/extern/i2o/include -I/home/zhen/work/pynb/sandbox/daq/i2o/include -I/home/zhen/work/pynb/sandbox/daq/i2o/include/linux -I/home/zhen/work/pynb/sandbox/daq/b2in/nub/include -I/home/zhen/work/pynb/sandbox/daq/b2in/nub/include/linux -I/home/zhen/work/pynb/sandbox/daq/interface/bril/include -I/home/zhen/work/pynb/sandbox/x86_64_slc6/include -I/home/zhen/work/pynb/sandbox/x86_64_slc6/include/linux -I/opt/xdaq/include -I/opt/xdaq/include/linux  src/common/NBTimer.cc > /home/zhen/work/pynb/sandbox/daq/bril/timesource/src/linux/x86_64_slc6/src/common/NBTimer.d' \r\n"
       ]
      },
      {
       "output_type": "stream",
       "stream": "stdout",
       "text": [
        "mkdir -p /home/zhen/work/pynb/sandbox/daq/bril/timesource/src/linux/x86_64_slc6/src/common\r\n",
        "/bin/sh -ec 'g++  -MM -g -O2 -Wall -fPIC -fno-omit-frame-pointer  -DOS_VERSION_CODE=132640 -Dx86_64_slc6 -Dlinux -DLITTLE_ENDIAN__ -I/opt/xdaq/config -I/home/zhen/work/pynb/sandbox/daq/bril/timesource/include/linux -I/home/zhen/work/pynb/sandbox/daq/bril/timesource/include -I/home/zhen/work/pynb/sandbox/daq/i2o/utils/include -I/home/zhen/work/pynb/sandbox/daq/i2o/utils/include/linux -I/home/zhen/work/pynb/sandbox/daq/extern/xerces/x86_64_slc6/include -I/home/zhen/work/pynb/sandbox/daq/extern/log4cplus/x86_64_slc6/include -I/home/zhen/work/pynb/sandbox/daq/extern/cgicc/x86_64_slc6/include -I/home/zhen/work/pynb/sandbox/daq/xcept/include -I/home/zhen/work/pynb/sandbox/daq/xcept/include/linux -I/home/zhen/work/pynb/sandbox/daq/config/include -I/home/zhen/work/pynb/sandbox/daq/config/include/linux -I/home/zhen/work/pynb/sandbox/daq/toolbox/include -I/home/zhen/work/pynb/sandbox/daq/toolbox/include/linux -I/home/zhen/work/pynb/sandbox/daq/pt/include -I/home/zhen/work/pynb/sandbox/daq/pt/include/linux -I/home/zhen/work/pynb/sandbox/daq/xdaq/include -I/home/zhen/work/pynb/sandbox/daq/xdaq/include/linux -I/home/zhen/work/pynb/sandbox/daq/xdata/include -I/home/zhen/work/pynb/sandbox/daq/xdata/include/linux -I/home/zhen/work/pynb/sandbox/daq/xoap/include -I/home/zhen/work/pynb/sandbox/daq/xoap/include/linux -I/home/zhen/work/pynb/sandbox/daq/xgi/include -I/home/zhen/work/pynb/sandbox/daq/xgi/include/linux -I/home/zhen/work/pynb/sandbox/daq/extern/i2o/include -I/home/zhen/work/pynb/sandbox/daq/i2o/include -I/home/zhen/work/pynb/sandbox/daq/i2o/include/linux -I/home/zhen/work/pynb/sandbox/daq/b2in/nub/include -I/home/zhen/work/pynb/sandbox/daq/b2in/nub/include/linux -I/home/zhen/work/pynb/sandbox/daq/interface/bril/include -I/home/zhen/work/pynb/sandbox/x86_64_slc6/include -I/home/zhen/work/pynb/sandbox/x86_64_slc6/include/linux -I/opt/xdaq/include -I/opt/xdaq/include/linux  src/common/DataGenerator.cc > /home/zhen/work/pynb/sandbox/daq/bril/timesource/src/linux/x86_64_slc6/src/common/DataGenerator.d' \r\n"
       ]
      },
      {
       "output_type": "stream",
       "stream": "stdout",
       "text": [
        "mkdir -p /home/zhen/work/pynb/sandbox/daq/bril/timesource/src/linux/x86_64_slc6/src/common\r\n",
        "/bin/sh -ec 'g++  -MM -g -O2 -Wall -fPIC -fno-omit-frame-pointer  -DOS_VERSION_CODE=132640 -Dx86_64_slc6 -Dlinux -DLITTLE_ENDIAN__ -I/opt/xdaq/config -I/home/zhen/work/pynb/sandbox/daq/bril/timesource/include/linux -I/home/zhen/work/pynb/sandbox/daq/bril/timesource/include -I/home/zhen/work/pynb/sandbox/daq/i2o/utils/include -I/home/zhen/work/pynb/sandbox/daq/i2o/utils/include/linux -I/home/zhen/work/pynb/sandbox/daq/extern/xerces/x86_64_slc6/include -I/home/zhen/work/pynb/sandbox/daq/extern/log4cplus/x86_64_slc6/include -I/home/zhen/work/pynb/sandbox/daq/extern/cgicc/x86_64_slc6/include -I/home/zhen/work/pynb/sandbox/daq/xcept/include -I/home/zhen/work/pynb/sandbox/daq/xcept/include/linux -I/home/zhen/work/pynb/sandbox/daq/config/include -I/home/zhen/work/pynb/sandbox/daq/config/include/linux -I/home/zhen/work/pynb/sandbox/daq/toolbox/include -I/home/zhen/work/pynb/sandbox/daq/toolbox/include/linux -I/home/zhen/work/pynb/sandbox/daq/pt/include -I/home/zhen/work/pynb/sandbox/daq/pt/include/linux -I/home/zhen/work/pynb/sandbox/daq/xdaq/include -I/home/zhen/work/pynb/sandbox/daq/xdaq/include/linux -I/home/zhen/work/pynb/sandbox/daq/xdata/include -I/home/zhen/work/pynb/sandbox/daq/xdata/include/linux -I/home/zhen/work/pynb/sandbox/daq/xoap/include -I/home/zhen/work/pynb/sandbox/daq/xoap/include/linux -I/home/zhen/work/pynb/sandbox/daq/xgi/include -I/home/zhen/work/pynb/sandbox/daq/xgi/include/linux -I/home/zhen/work/pynb/sandbox/daq/extern/i2o/include -I/home/zhen/work/pynb/sandbox/daq/i2o/include -I/home/zhen/work/pynb/sandbox/daq/i2o/include/linux -I/home/zhen/work/pynb/sandbox/daq/b2in/nub/include -I/home/zhen/work/pynb/sandbox/daq/b2in/nub/include/linux -I/home/zhen/work/pynb/sandbox/daq/interface/bril/include -I/home/zhen/work/pynb/sandbox/x86_64_slc6/include -I/home/zhen/work/pynb/sandbox/x86_64_slc6/include/linux -I/opt/xdaq/include -I/opt/xdaq/include/linux  src/common/Application.cc > /home/zhen/work/pynb/sandbox/daq/bril/timesource/src/linux/x86_64_slc6/src/common/Application.d' \r\n"
       ]
      },
      {
       "output_type": "stream",
       "stream": "stdout",
       "text": [
        "mkdir -p /home/zhen/work/pynb/sandbox/daq/bril/timesource/src/linux/x86_64_slc6/src/common\r\n",
        "/bin/sh -ec 'g++  -MM -g -O2 -Wall -fPIC -fno-omit-frame-pointer  -DOS_VERSION_CODE=132640 -Dx86_64_slc6 -Dlinux -DLITTLE_ENDIAN__ -I/opt/xdaq/config -I/home/zhen/work/pynb/sandbox/daq/bril/timesource/include/linux -I/home/zhen/work/pynb/sandbox/daq/bril/timesource/include -I/home/zhen/work/pynb/sandbox/daq/i2o/utils/include -I/home/zhen/work/pynb/sandbox/daq/i2o/utils/include/linux -I/home/zhen/work/pynb/sandbox/daq/extern/xerces/x86_64_slc6/include -I/home/zhen/work/pynb/sandbox/daq/extern/log4cplus/x86_64_slc6/include -I/home/zhen/work/pynb/sandbox/daq/extern/cgicc/x86_64_slc6/include -I/home/zhen/work/pynb/sandbox/daq/xcept/include -I/home/zhen/work/pynb/sandbox/daq/xcept/include/linux -I/home/zhen/work/pynb/sandbox/daq/config/include -I/home/zhen/work/pynb/sandbox/daq/config/include/linux -I/home/zhen/work/pynb/sandbox/daq/toolbox/include -I/home/zhen/work/pynb/sandbox/daq/toolbox/include/linux -I/home/zhen/work/pynb/sandbox/daq/pt/include -I/home/zhen/work/pynb/sandbox/daq/pt/include/linux -I/home/zhen/work/pynb/sandbox/daq/xdaq/include -I/home/zhen/work/pynb/sandbox/daq/xdaq/include/linux -I/home/zhen/work/pynb/sandbox/daq/xdata/include -I/home/zhen/work/pynb/sandbox/daq/xdata/include/linux -I/home/zhen/work/pynb/sandbox/daq/xoap/include -I/home/zhen/work/pynb/sandbox/daq/xoap/include/linux -I/home/zhen/work/pynb/sandbox/daq/xgi/include -I/home/zhen/work/pynb/sandbox/daq/xgi/include/linux -I/home/zhen/work/pynb/sandbox/daq/extern/i2o/include -I/home/zhen/work/pynb/sandbox/daq/i2o/include -I/home/zhen/work/pynb/sandbox/daq/i2o/include/linux -I/home/zhen/work/pynb/sandbox/daq/b2in/nub/include -I/home/zhen/work/pynb/sandbox/daq/b2in/nub/include/linux -I/home/zhen/work/pynb/sandbox/daq/interface/bril/include -I/home/zhen/work/pynb/sandbox/x86_64_slc6/include -I/home/zhen/work/pynb/sandbox/x86_64_slc6/include/linux -I/opt/xdaq/include -I/opt/xdaq/include/linux  src/common/AppGUI.cc > /home/zhen/work/pynb/sandbox/daq/bril/timesource/src/linux/x86_64_slc6/src/common/AppGUI.d' \r\n"
       ]
      },
      {
       "output_type": "stream",
       "stream": "stdout",
       "text": [
        "In Makefile.fallbacks: guessing/checking values\r\n",
        "XDAQ_ROOT=\"/opt/xdaq\"\r\n",
        "Guessed undefined XDAQ_OS to \"linux\"\r\n",
        "Guessed undefined XDAQ_PLATFORM to \"x86_64_slc6\"\r\n"
       ]
      },
      {
       "output_type": "stream",
       "stream": "stdout",
       "text": [
        "Calling make all in directory /home/zhen/work/pynb/sandbox/daq/bril/timesource/.loop using install\r\n",
        "make -C /home/zhen/work/pynb/sandbox/daq/bril/timesource/ -f Makefile _installall\r\n",
        "In Makefile.fallbacks: guessing/checking values\r\n",
        "XDAQ_ROOT=\"/opt/xdaq\"\r\n",
        "XDAQ_OS already set to \"linux\"\r\n",
        "XDAQ_PLATFORM already set to \"x86_64_slc6\"\r\n",
        "Guessed undefined XDAQ_PLATFORM to \"x86_64_slc6\"\r\n"
       ]
      },
      {
       "output_type": "stream",
       "stream": "stdout",
       "text": [
        "make[1]: Entering directory `/home/zhen/work/pynb/sandbox/daq/bril/timesource'\r\n",
        "g++  -g -O2 -Wall -fPIC -fno-omit-frame-pointer  -DOS_VERSION_CODE=132640 -Dx86_64_slc6 -Dlinux -DLITTLE_ENDIAN__ -I/opt/xdaq/config -I/home/zhen/work/pynb/sandbox/daq/bril/timesource/include/linux -I/home/zhen/work/pynb/sandbox/daq/bril/timesource/include -I/home/zhen/work/pynb/sandbox/daq/i2o/utils/include -I/home/zhen/work/pynb/sandbox/daq/i2o/utils/include/linux -I/home/zhen/work/pynb/sandbox/daq/extern/xerces/x86_64_slc6/include -I/home/zhen/work/pynb/sandbox/daq/extern/log4cplus/x86_64_slc6/include -I/home/zhen/work/pynb/sandbox/daq/extern/cgicc/x86_64_slc6/include -I/home/zhen/work/pynb/sandbox/daq/xcept/include -I/home/zhen/work/pynb/sandbox/daq/xcept/include/linux -I/home/zhen/work/pynb/sandbox/daq/config/include -I/home/zhen/work/pynb/sandbox/daq/config/include/linux -I/home/zhen/work/pynb/sandbox/daq/toolbox/include -I/home/zhen/work/pynb/sandbox/daq/toolbox/include/linux -I/home/zhen/work/pynb/sandbox/daq/pt/include -I/home/zhen/work/pynb/sandbox/daq/pt/include/linux -I/home/zhen/work/pynb/sandbox/daq/xdaq/include -I/home/zhen/work/pynb/sandbox/daq/xdaq/include/linux -I/home/zhen/work/pynb/sandbox/daq/xdata/include -I/home/zhen/work/pynb/sandbox/daq/xdata/include/linux -I/home/zhen/work/pynb/sandbox/daq/xoap/include -I/home/zhen/work/pynb/sandbox/daq/xoap/include/linux -I/home/zhen/work/pynb/sandbox/daq/xgi/include -I/home/zhen/work/pynb/sandbox/daq/xgi/include/linux -I/home/zhen/work/pynb/sandbox/daq/extern/i2o/include -I/home/zhen/work/pynb/sandbox/daq/i2o/include -I/home/zhen/work/pynb/sandbox/daq/i2o/include/linux -I/home/zhen/work/pynb/sandbox/daq/b2in/nub/include -I/home/zhen/work/pynb/sandbox/daq/b2in/nub/include/linux -I/home/zhen/work/pynb/sandbox/daq/interface/bril/include -I/home/zhen/work/pynb/sandbox/x86_64_slc6/include -I/home/zhen/work/pynb/sandbox/x86_64_slc6/include/linux -I/opt/xdaq/include -I/opt/xdaq/include/linux -c -o /home/zhen/work/pynb/sandbox/daq/bril/timesource/src/linux/x86_64_slc6/src/common/AppGUI.o src/common/AppGUI.cc\r\n"
       ]
      },
      {
       "output_type": "stream",
       "stream": "stdout",
       "text": [
        "g++  -g -O2 -Wall -fPIC -fno-omit-frame-pointer  -DOS_VERSION_CODE=132640 -Dx86_64_slc6 -Dlinux -DLITTLE_ENDIAN__ -I/opt/xdaq/config -I/home/zhen/work/pynb/sandbox/daq/bril/timesource/include/linux -I/home/zhen/work/pynb/sandbox/daq/bril/timesource/include -I/home/zhen/work/pynb/sandbox/daq/i2o/utils/include -I/home/zhen/work/pynb/sandbox/daq/i2o/utils/include/linux -I/home/zhen/work/pynb/sandbox/daq/extern/xerces/x86_64_slc6/include -I/home/zhen/work/pynb/sandbox/daq/extern/log4cplus/x86_64_slc6/include -I/home/zhen/work/pynb/sandbox/daq/extern/cgicc/x86_64_slc6/include -I/home/zhen/work/pynb/sandbox/daq/xcept/include -I/home/zhen/work/pynb/sandbox/daq/xcept/include/linux -I/home/zhen/work/pynb/sandbox/daq/config/include -I/home/zhen/work/pynb/sandbox/daq/config/include/linux -I/home/zhen/work/pynb/sandbox/daq/toolbox/include -I/home/zhen/work/pynb/sandbox/daq/toolbox/include/linux -I/home/zhen/work/pynb/sandbox/daq/pt/include -I/home/zhen/work/pynb/sandbox/daq/pt/include/linux -I/home/zhen/work/pynb/sandbox/daq/xdaq/include -I/home/zhen/work/pynb/sandbox/daq/xdaq/include/linux -I/home/zhen/work/pynb/sandbox/daq/xdata/include -I/home/zhen/work/pynb/sandbox/daq/xdata/include/linux -I/home/zhen/work/pynb/sandbox/daq/xoap/include -I/home/zhen/work/pynb/sandbox/daq/xoap/include/linux -I/home/zhen/work/pynb/sandbox/daq/xgi/include -I/home/zhen/work/pynb/sandbox/daq/xgi/include/linux -I/home/zhen/work/pynb/sandbox/daq/extern/i2o/include -I/home/zhen/work/pynb/sandbox/daq/i2o/include -I/home/zhen/work/pynb/sandbox/daq/i2o/include/linux -I/home/zhen/work/pynb/sandbox/daq/b2in/nub/include -I/home/zhen/work/pynb/sandbox/daq/b2in/nub/include/linux -I/home/zhen/work/pynb/sandbox/daq/interface/bril/include -I/home/zhen/work/pynb/sandbox/x86_64_slc6/include -I/home/zhen/work/pynb/sandbox/x86_64_slc6/include/linux -I/opt/xdaq/include -I/opt/xdaq/include/linux -c -o /home/zhen/work/pynb/sandbox/daq/bril/timesource/src/linux/x86_64_slc6/src/common/Application.o src/common/Application.cc\r\n"
       ]
      },
      {
       "output_type": "stream",
       "stream": "stdout",
       "text": [
        "g++  -g -O2 -Wall -fPIC -fno-omit-frame-pointer  -DOS_VERSION_CODE=132640 -Dx86_64_slc6 -Dlinux -DLITTLE_ENDIAN__ -I/opt/xdaq/config -I/home/zhen/work/pynb/sandbox/daq/bril/timesource/include/linux -I/home/zhen/work/pynb/sandbox/daq/bril/timesource/include -I/home/zhen/work/pynb/sandbox/daq/i2o/utils/include -I/home/zhen/work/pynb/sandbox/daq/i2o/utils/include/linux -I/home/zhen/work/pynb/sandbox/daq/extern/xerces/x86_64_slc6/include -I/home/zhen/work/pynb/sandbox/daq/extern/log4cplus/x86_64_slc6/include -I/home/zhen/work/pynb/sandbox/daq/extern/cgicc/x86_64_slc6/include -I/home/zhen/work/pynb/sandbox/daq/xcept/include -I/home/zhen/work/pynb/sandbox/daq/xcept/include/linux -I/home/zhen/work/pynb/sandbox/daq/config/include -I/home/zhen/work/pynb/sandbox/daq/config/include/linux -I/home/zhen/work/pynb/sandbox/daq/toolbox/include -I/home/zhen/work/pynb/sandbox/daq/toolbox/include/linux -I/home/zhen/work/pynb/sandbox/daq/pt/include -I/home/zhen/work/pynb/sandbox/daq/pt/include/linux -I/home/zhen/work/pynb/sandbox/daq/xdaq/include -I/home/zhen/work/pynb/sandbox/daq/xdaq/include/linux -I/home/zhen/work/pynb/sandbox/daq/xdata/include -I/home/zhen/work/pynb/sandbox/daq/xdata/include/linux -I/home/zhen/work/pynb/sandbox/daq/xoap/include -I/home/zhen/work/pynb/sandbox/daq/xoap/include/linux -I/home/zhen/work/pynb/sandbox/daq/xgi/include -I/home/zhen/work/pynb/sandbox/daq/xgi/include/linux -I/home/zhen/work/pynb/sandbox/daq/extern/i2o/include -I/home/zhen/work/pynb/sandbox/daq/i2o/include -I/home/zhen/work/pynb/sandbox/daq/i2o/include/linux -I/home/zhen/work/pynb/sandbox/daq/b2in/nub/include -I/home/zhen/work/pynb/sandbox/daq/b2in/nub/include/linux -I/home/zhen/work/pynb/sandbox/daq/interface/bril/include -I/home/zhen/work/pynb/sandbox/x86_64_slc6/include -I/home/zhen/work/pynb/sandbox/x86_64_slc6/include/linux -I/opt/xdaq/include -I/opt/xdaq/include/linux -c -o /home/zhen/work/pynb/sandbox/daq/bril/timesource/src/linux/x86_64_slc6/src/common/DataGenerator.o src/common/DataGenerator.cc\r\n"
       ]
      },
      {
       "output_type": "stream",
       "stream": "stdout",
       "text": [
        "g++  -g -O2 -Wall -fPIC -fno-omit-frame-pointer  -DOS_VERSION_CODE=132640 -Dx86_64_slc6 -Dlinux -DLITTLE_ENDIAN__ -I/opt/xdaq/config -I/home/zhen/work/pynb/sandbox/daq/bril/timesource/include/linux -I/home/zhen/work/pynb/sandbox/daq/bril/timesource/include -I/home/zhen/work/pynb/sandbox/daq/i2o/utils/include -I/home/zhen/work/pynb/sandbox/daq/i2o/utils/include/linux -I/home/zhen/work/pynb/sandbox/daq/extern/xerces/x86_64_slc6/include -I/home/zhen/work/pynb/sandbox/daq/extern/log4cplus/x86_64_slc6/include -I/home/zhen/work/pynb/sandbox/daq/extern/cgicc/x86_64_slc6/include -I/home/zhen/work/pynb/sandbox/daq/xcept/include -I/home/zhen/work/pynb/sandbox/daq/xcept/include/linux -I/home/zhen/work/pynb/sandbox/daq/config/include -I/home/zhen/work/pynb/sandbox/daq/config/include/linux -I/home/zhen/work/pynb/sandbox/daq/toolbox/include -I/home/zhen/work/pynb/sandbox/daq/toolbox/include/linux -I/home/zhen/work/pynb/sandbox/daq/pt/include -I/home/zhen/work/pynb/sandbox/daq/pt/include/linux -I/home/zhen/work/pynb/sandbox/daq/xdaq/include -I/home/zhen/work/pynb/sandbox/daq/xdaq/include/linux -I/home/zhen/work/pynb/sandbox/daq/xdata/include -I/home/zhen/work/pynb/sandbox/daq/xdata/include/linux -I/home/zhen/work/pynb/sandbox/daq/xoap/include -I/home/zhen/work/pynb/sandbox/daq/xoap/include/linux -I/home/zhen/work/pynb/sandbox/daq/xgi/include -I/home/zhen/work/pynb/sandbox/daq/xgi/include/linux -I/home/zhen/work/pynb/sandbox/daq/extern/i2o/include -I/home/zhen/work/pynb/sandbox/daq/i2o/include -I/home/zhen/work/pynb/sandbox/daq/i2o/include/linux -I/home/zhen/work/pynb/sandbox/daq/b2in/nub/include -I/home/zhen/work/pynb/sandbox/daq/b2in/nub/include/linux -I/home/zhen/work/pynb/sandbox/daq/interface/bril/include -I/home/zhen/work/pynb/sandbox/x86_64_slc6/include -I/home/zhen/work/pynb/sandbox/x86_64_slc6/include/linux -I/opt/xdaq/include -I/opt/xdaq/include/linux -c -o /home/zhen/work/pynb/sandbox/daq/bril/timesource/src/linux/x86_64_slc6/src/common/NBTimer.o src/common/NBTimer.cc\r\n"
       ]
      },
      {
       "output_type": "stream",
       "stream": "stdout",
       "text": [
        "g++  -g -O2 -Wall -fPIC -fno-omit-frame-pointer  -DOS_VERSION_CODE=132640 -Dx86_64_slc6 -Dlinux -DLITTLE_ENDIAN__ -I/opt/xdaq/config -I/home/zhen/work/pynb/sandbox/daq/bril/timesource/include/linux -I/home/zhen/work/pynb/sandbox/daq/bril/timesource/include -I/home/zhen/work/pynb/sandbox/daq/i2o/utils/include -I/home/zhen/work/pynb/sandbox/daq/i2o/utils/include/linux -I/home/zhen/work/pynb/sandbox/daq/extern/xerces/x86_64_slc6/include -I/home/zhen/work/pynb/sandbox/daq/extern/log4cplus/x86_64_slc6/include -I/home/zhen/work/pynb/sandbox/daq/extern/cgicc/x86_64_slc6/include -I/home/zhen/work/pynb/sandbox/daq/xcept/include -I/home/zhen/work/pynb/sandbox/daq/xcept/include/linux -I/home/zhen/work/pynb/sandbox/daq/config/include -I/home/zhen/work/pynb/sandbox/daq/config/include/linux -I/home/zhen/work/pynb/sandbox/daq/toolbox/include -I/home/zhen/work/pynb/sandbox/daq/toolbox/include/linux -I/home/zhen/work/pynb/sandbox/daq/pt/include -I/home/zhen/work/pynb/sandbox/daq/pt/include/linux -I/home/zhen/work/pynb/sandbox/daq/xdaq/include -I/home/zhen/work/pynb/sandbox/daq/xdaq/include/linux -I/home/zhen/work/pynb/sandbox/daq/xdata/include -I/home/zhen/work/pynb/sandbox/daq/xdata/include/linux -I/home/zhen/work/pynb/sandbox/daq/xoap/include -I/home/zhen/work/pynb/sandbox/daq/xoap/include/linux -I/home/zhen/work/pynb/sandbox/daq/xgi/include -I/home/zhen/work/pynb/sandbox/daq/xgi/include/linux -I/home/zhen/work/pynb/sandbox/daq/extern/i2o/include -I/home/zhen/work/pynb/sandbox/daq/i2o/include -I/home/zhen/work/pynb/sandbox/daq/i2o/include/linux -I/home/zhen/work/pynb/sandbox/daq/b2in/nub/include -I/home/zhen/work/pynb/sandbox/daq/b2in/nub/include/linux -I/home/zhen/work/pynb/sandbox/daq/interface/bril/include -I/home/zhen/work/pynb/sandbox/x86_64_slc6/include -I/home/zhen/work/pynb/sandbox/x86_64_slc6/include/linux -I/opt/xdaq/include -I/opt/xdaq/include/linux -c -o /home/zhen/work/pynb/sandbox/daq/bril/timesource/src/linux/x86_64_slc6/src/common/version.o src/common/version.cc\r\n"
       ]
      },
      {
       "output_type": "stream",
       "stream": "stdout",
       "text": [
        "mkdir -p /home/zhen/work/pynb/sandbox/daq/bril/timesource/lib/linux/x86_64_slc6\r\n",
        "g++ -shared -fPIC  -o /home/zhen/work/pynb/sandbox/daq/bril/timesource/lib/linux/x86_64_slc6/libbriltimesource.so  /home/zhen/work/pynb/sandbox/daq/bril/timesource/src/linux/x86_64_slc6/src/common/AppGUI.o  /home/zhen/work/pynb/sandbox/daq/bril/timesource/src/linux/x86_64_slc6/src/common/Application.o  /home/zhen/work/pynb/sandbox/daq/bril/timesource/src/linux/x86_64_slc6/src/common/DataGenerator.o  /home/zhen/work/pynb/sandbox/daq/bril/timesource/src/linux/x86_64_slc6/src/common/NBTimer.o  /home/zhen/work/pynb/sandbox/daq/bril/timesource/src/linux/x86_64_slc6/src/common/version.o  -L/home/zhen/work/pynb/sandbox/daq/bril/timesource/lib/linux/x86_64_slc6  -L/home/zhen/work/pynb/sandbox/x86_64_slc6/lib -L/opt/xdaq/lib \r\n"
       ]
      },
      {
       "output_type": "stream",
       "stream": "stdout",
       "text": [
        "Build done.\r\n",
        "install -d /home/zhen/work/pynb/sandbox/x86_64_slc6/lib /home/zhen/work/pynb/sandbox/x86_64_slc6/bin /home/zhen/work/pynb/sandbox/x86_64_slc6/include /home/zhen/work/pynb/sandbox/x86_64_slc6/htdocs\r\n",
        "cd include; find ./ \\( -name \"*.[hi]\" -o -name \"*.hpp\" -o -name \"*.hh\" -o -name \"*.hxx\" \\) -exec install -p -D {} /home/zhen/work/pynb/sandbox/x86_64_slc6/include/{} \\;\r\n"
       ]
      },
      {
       "output_type": "stream",
       "stream": "stdout",
       "text": [
        "Installing html files.\r\n",
        "mkdir -p /home/zhen/work/pynb/sandbox/x86_64_slc6/htdocs/bril/timesource/html\r\n",
        "cd /home/zhen/work/pynb/sandbox/daq/bril/timesource/html; find ./ -name \".svn\" -prune -o -name \"*\" -type f -exec install -D -m 655 {} /home/zhen/work/pynb/sandbox/x86_64_slc6/htdocs/bril/timesource/html/{} \\;\r\n",
        "Installing xml files.\r\n",
        "mkdir -p /home/zhen/work/pynb/sandbox/x86_64_slc6/htdocs/bril/timesource/xml\r\n",
        "cd /home/zhen/work/pynb/sandbox/daq/bril/timesource/xml; find ./ -name \".svn\" -prune -o -name \"*\" -type f -exec install -D -m 655 {} /home/zhen/work/pynb/sandbox/x86_64_slc6/htdocs/bril/timesource/xml/{} \\;\r\n"
       ]
      },
      {
       "output_type": "stream",
       "stream": "stdout",
       "text": [
        "Installing dynamic library.\r\n",
        "cp -pd -p /home/zhen/work/pynb/sandbox/daq/bril/timesource/lib/linux/x86_64_slc6/libbriltimesource.so* /home/zhen/work/pynb/sandbox/x86_64_slc6/lib/\r\n",
        "make[1]: Leaving directory `/home/zhen/work/pynb/sandbox/daq/bril/timesource'\r\n"
       ]
      }
     ],
     "prompt_number": 21
    },
    {
     "cell_type": "code",
     "collapsed": false,
     "input": [
      "# Build dummysource\n",
      "%cd $workdir/daq/bril/dummysource\n",
      "!make install"
     ],
     "language": "python",
     "metadata": {},
     "outputs": [
      {
       "output_type": "stream",
       "stream": "stdout",
       "text": [
        "/home/zhen/work/pynb/sandbox/daq/bril/dummysource\n",
        "In Makefile.fallbacks: guessing/checking values\r\n",
        "XDAQ_ROOT=\"/opt/xdaq\"\r\n",
        "Guessed undefined XDAQ_OS to \"linux\"\r\n",
        "Guessed undefined XDAQ_PLATFORM to \"x86_64_slc6\"\r\n"
       ]
      },
      {
       "output_type": "stream",
       "stream": "stdout",
       "text": [
        "Calling make all in directory /home/zhen/work/pynb/sandbox/daq/bril/dummysource/.loop using install\r\n",
        "make -C /home/zhen/work/pynb/sandbox/daq/bril/dummysource/ -f Makefile _installall\r\n",
        "In Makefile.fallbacks: guessing/checking values\r\n",
        "XDAQ_ROOT=\"/opt/xdaq\"\r\n",
        "XDAQ_OS already set to \"linux\"\r\n",
        "XDAQ_PLATFORM already set to \"x86_64_slc6\"\r\n",
        "Guessed undefined XDAQ_PLATFORM to \"x86_64_slc6\"\r\n"
       ]
      },
      {
       "output_type": "stream",
       "stream": "stdout",
       "text": [
        "make[1]: Entering directory `/home/zhen/work/pynb/sandbox/daq/bril/dummysource'\r\n",
        "Build done.\r\n",
        "install -d /home/zhen/work/pynb/sandbox/x86_64_slc6/lib /home/zhen/work/pynb/sandbox/x86_64_slc6/bin /home/zhen/work/pynb/sandbox/x86_64_slc6/include /home/zhen/work/pynb/sandbox/x86_64_slc6/htdocs\r\n",
        "cd include; find ./ \\( -name \"*.[hi]\" -o -name \"*.hpp\" -o -name \"*.hh\" -o -name \"*.hxx\" \\) -exec install -p -D {} /home/zhen/work/pynb/sandbox/x86_64_slc6/include/{} \\;\r\n"
       ]
      },
      {
       "output_type": "stream",
       "stream": "stdout",
       "text": [
        "Installing dynamic library.\r\n",
        "cp -pd -p /home/zhen/work/pynb/sandbox/daq/bril/dummysource/lib/linux/x86_64_slc6/libbrildummysource.so* /home/zhen/work/pynb/sandbox/x86_64_slc6/lib/\r\n",
        "make[1]: Leaving directory `/home/zhen/work/pynb/sandbox/daq/bril/dummysource'\r\n"
       ]
      }
     ],
     "prompt_number": 22
    },
    {
     "cell_type": "markdown",
     "metadata": {},
     "source": [
      "##### configure DataSimulator in local run scenario"
     ]
    },
    {
     "cell_type": "code",
     "collapsed": false,
     "input": [
      "# Go to the scripts directory\n",
      "%cd $workdir/daq/bril/scripts"
     ],
     "language": "python",
     "metadata": {},
     "outputs": [
      {
       "output_type": "stream",
       "stream": "stdout",
       "text": [
        "/home/zhen/work/pynb/sandbox/daq/bril/scripts\n"
       ]
      }
     ],
     "prompt_number": 23
    },
    {
     "cell_type": "code",
     "collapsed": false,
     "input": [
      "# The local run scenario configuration template\n",
      "# In the executive/context, we include several applications :\n",
      "#     pt::utcp                      is the peer transport layer, it is needed because we use b2in eventing here\n",
      "#     eventing::core::Publisher     is the b2in publishing agent\n",
      "#     eventing::core::Subscriber    is the b2in receiver agent. \n",
      "#\n",
      "#     bril::timesource::Application is the simulation time authority. We run it inside our context in local run scenario\n",
      "#                               it's configured to publish into NB4 , NB64 timing topics\n",
      "#                               starting from run x for n runs, then loop back\n",
      "#     bril::dummysource::DataSimulator is your application\n",
      "#                               it's configured to run in simulation, and synchonize to NB64\n",
      "#     Note: the eventing agent applications have two attributes with the following format\n",
      "#           service=\"eventing-publisher\" bus=\"brildata\" for eventing::core::Publisher\n",
      "#                     or\n",
      "#           service=\"eventing-subscriber\" bus=\"brildata\" for eventing::core::Subscriber\n",
      "#\n",
      "%cat dummysource/LocalDataSimulator.template"
     ],
     "language": "python",
     "metadata": {},
     "outputs": [
      {
       "output_type": "stream",
       "stream": "stdout",
       "text": [
        "<?xml version=\"1.0\" encoding=\"UTF-8\"?>\r\n",
        "<xc:Partition xmlns:soapenc=\"http://schemas.xmlsoap.org/soap/encoding/\" xmlns:xc=\"http://xdaq.web.cern.ch/xdaq/xsd/2004/XMLConfiguration-30\" xmlns:xsi=\"http://www.w3.org/2001/XMLSchema-instance\">\r\n",
        "\r\n",
        " <xc:Context url=\"http://%hostname%:%contextport%\">\r\n",
        "    <xc:Endpoint protocol=\"utcp\" service=\"b2in\" rmode=\"select\" hostname=\"%hostname%\" port=\"%endpoint%\" network=\"utcp1\" sndTimeout=\"0\" rcvTimeout=\"0\" affinity=\"RCV:P,SND:W,DSR:W,DSS:W\" singleThread=\"true\" publish=\"true\"/>\r\n",
        "\r\n",
        "    <xc:Application class=\"pt::utcp::Application\" id=\"12\" instance=\"0\" network=\"local\">\r\n",
        "      <properties xmlns=\"urn:xdaq-application:pt::utcp::Application\" xsi:type=\"soapenc:Struct\">\r\n",
        "\t<maxClients xsi:type=\"xsd:unsignedInt\">10</maxClients>\r\n",
        "        <autoConnect xsi:type=\"xsd:boolean\">false</autoConnect>\r\n",
        "        <ioQueueSize xsi:type=\"xsd:unsignedInt\">65536</ioQueueSize>\r\n",
        "        <eventQueueSize xsi:type=\"xsd:unsignedInt\">65536</eventQueueSize>\r\n",
        "        <maxReceiveBuffers xsi:type=\"xsd:unsignedInt\">2</maxReceiveBuffers>\r\n",
        "        <maxBlockSize xsi:type=\"xsd:unsignedInt\">4096</maxBlockSize>\r\n",
        "        <committedPoolSize xsi:type=\"xsd:double\">0x100000</committedPoolSize> \r\n",
        "      </properties>\r\n",
        "    </xc:Application>\r\n",
        "    <xc:Module>${XDAQ_ROOT}/lib/libtcpla.so</xc:Module>\r\n",
        "    <xc:Module>${XDAQ_ROOT}/lib/libptutcp.so</xc:Module>\r\n",
        "\t       \r\n",
        "    <xc:Application class=\"eventing::core::Publisher\" id=\"101\" instance=\"0\" network=\"utcp1\" group=\"b2in\" service=\"eventing-publisher\" bus=\"brildata\">\r\n",
        "      <properties xmlns=\"urn:xdaq-application:eventing::core::Publisher\" xsi:type=\"soapenc:Struct\">\r\n",
        "\t<eventings xsi:type=\"soapenc:Array\" soapenc:arrayType=\"xsd:ur-type[1]\">\r\n",
        "          <item xsi:type=\"xsd:string\" soapenc:position=\"[0]\">utcp://%eventinghostname%:%utcpport%</item>\r\n",
        "        </eventings>\r\n",
        "      </properties>\r\n",
        "    </xc:Application>\r\n",
        "    <xc:Module>${XDAQ_ROOT}/lib/libb2inutils.so</xc:Module>\r\n",
        "    <xc:Module>${XDAQ_ROOT}/lib/libeventingcore.so</xc:Module>\r\n",
        "    \r\n",
        "    <xc:Application class=\"bril::timesource::Application\" id=\"102\" instance=\"0\" network=\"local\">\r\n",
        "      <properties xmlns=\"urn:xdaq-application:bril::timesource::Application\" xsi:type=\"soapenc:Struct\">\r\n",
        "         <simSource xsi:type=\"xsd:boolean\">true</simSource>\r\n",
        "         <swInitRun xsi:type=\"xsd:unsignedInt\">655360</swInitRun>\r\n",
        "         <swLSPerRun xsi:type=\"xsd:unsignedInt\">2</swLSPerRun>\r\n",
        "         <swNRuns xsi:type=\"xsd:unsignedInt\">2</swNRuns>\r\n",
        "         <swRunPerFill xsi:type=\"xsd:unsignedInt\">1</swRunPerFill>\r\n",
        "         <swNBTimers xsi:type=\"soapenc:Array\" soapenc:arrayType=\"xsd:ur-type[2]\">\r\n",
        "            <item xsi:type=\"soapenc:Struct\"  soapenc:position=\"[0]\"> \r\n",
        "              <properties xsi:type=\"soapenc:Struct\">\r\n",
        "                <signalTopic xsi:type=\"xsd:string\">NB4</signalTopic>\r\n",
        "                <nbFrequency xsi:type=\"xsd:string\">4</nbFrequency>\r\n",
        "              </properties>\r\n",
        "            </item>\r\n",
        "            <item xsi:type=\"soapenc:Struct\"  soapenc:position=\"[1]\"> \r\n",
        "              <properties xsi:type=\"soapenc:Struct\">\r\n",
        "                <signalTopic xsi:type=\"xsd:string\">NB64</signalTopic>\r\n",
        "                <nbFrequency xsi:type=\"xsd:string\">64</nbFrequency>\r\n",
        "            </properties>\r\n",
        "            </item> \r\n",
        "         </swNBTimers>\r\n",
        "      </properties>\r\n",
        "    </xc:Application>\r\n",
        "    <xc:Module>${XDAQ_ROOT}/lib/libeventingapi.so</xc:Module>\r\n",
        "    <xc:Module>%localdaqroot%/lib/libbriltimesource.so</xc:Module>\t \r\n",
        "\r\n",
        "    <xc:Application class=\"eventing::core::Subscriber\" id=\"103\" instance=\"0\" network=\"utcp1\" group=\"b2in\" service=\"eventing-subscriber\" bus=\"brildata\">\r\n",
        "      <properties xmlns=\"urn:xdaq-application:eventing::core::Subscriber\" xsi:type=\"soapenc:Struct\">\r\n",
        "        <eventings xsi:type=\"soapenc:Array\" soapenc:arrayType=\"xsd:ur-type[1]\">\r\n",
        "          <item xsi:type=\"xsd:string\" soapenc:position=\"[0]\">utcp://%eventinghostname%:%utcpport%</item>\r\n",
        "        </eventings>\r\n",
        "      </properties>\r\n",
        "    </xc:Application>\r\n",
        "    <xc:Module>${XDAQ_ROOT}/lib/libb2inutils.so</xc:Module>\r\n",
        "    <xc:Module>${XDAQ_ROOT}/lib/libeventingcore.so</xc:Module>\r\n",
        "\r\n",
        "    <xc:Application class=\"bril::dummysource::DataSimulator\" id=\"121\" instance=\"0\" network=\"local\" service=\"sim\">\r\n",
        "      <properties xmlns=\"urn:xdaq-application:bril::timesource::Application\" xsi:type=\"soapenc:Struct\">\r\n",
        "          <simSource xsi:type=\"xsd:boolean\">true</simSource>\r\n",
        "          <signalTopic xsi:type=\"xsd:string\">NB64</signalTopic>\r\n",
        "      </properties>\r\n",
        "    </xc:Application>\r\n",
        "    <xc:Module>${XDAQ_ROOT}/lib/libeventingapi.so</xc:Module>\r\n",
        "    <xc:Module>%localdaqroot%/lib/libbrildummysource.so</xc:Module>\r\n",
        "\r\n",
        "</xc:Context>\r\n",
        "</xc:Partition>\r\n"
       ]
      }
     ],
     "prompt_number": 24
    },
    {
     "cell_type": "markdown",
     "metadata": {},
     "source": [
      "##### configure DataSimulator in global run scenario"
     ]
    },
    {
     "cell_type": "code",
     "collapsed": false,
     "input": [
      "# The global run scenario configuration template\n",
      "# is the local run configuration with bril::timesource::Application block removed\n",
      "# Usually you do not need to write the global run configuration by yourself.\n",
      "# It is shown here to illustrate that the same application can be configured to run in different modes.\n",
      "# Therefore we decouple entirely the application from the deployment model \n",
      "%cat dummysource/DataSimulator.template"
     ],
     "language": "python",
     "metadata": {},
     "outputs": [
      {
       "output_type": "stream",
       "stream": "stdout",
       "text": [
        "<?xml version=\"1.0\" encoding=\"UTF-8\"?>\r\n",
        "<xc:Partition xmlns:soapenc=\"http://schemas.xmlsoap.org/soap/encoding/\" xmlns:xc=\"http://xdaq.web.cern.ch/xdaq/xsd/2004/XMLConfiguration-30\" xmlns:xsi=\"http://www.w3.org/2001/XMLSchema-instance\">\r\n",
        "\r\n",
        " <xc:Context url=\"http://%hostname%:%contextport%\">\r\n",
        "    <xc:Endpoint protocol=\"utcp\" service=\"b2in\" rmode=\"select\" hostname=\"%hostname%\" port=\"%endpoint%\" network=\"utcp1\" sndTimeout=\"0\" rcvTimeout=\"0\" affinity=\"RCV:P,SND:W,DSR:W,DSS:W\" singleThread=\"true\" publish=\"true\"/>\r\n",
        "\r\n",
        "    <xc:Application class=\"pt::utcp::Application\" id=\"12\" instance=\"0\" network=\"local\">\r\n",
        "      <properties xmlns=\"urn:xdaq-application:pt::utcp::Application\" xsi:type=\"soapenc:Struct\">\r\n",
        "\t<maxClients xsi:type=\"xsd:unsignedInt\">10</maxClients>\r\n",
        "        <autoConnect xsi:type=\"xsd:boolean\">false</autoConnect>\r\n",
        "        <ioQueueSize xsi:type=\"xsd:unsignedInt\">65536</ioQueueSize>\r\n",
        "        <eventQueueSize xsi:type=\"xsd:unsignedInt\">65536</eventQueueSize>\r\n",
        "        <maxReceiveBuffers xsi:type=\"xsd:unsignedInt\">2</maxReceiveBuffers>\r\n",
        "        <maxBlockSize xsi:type=\"xsd:unsignedInt\">4096</maxBlockSize>\r\n",
        "        <committedPoolSize xsi:type=\"xsd:double\">0x100000</committedPoolSize> \r\n",
        "      </properties>\r\n",
        "    </xc:Application>\r\n",
        "    <xc:Module>${XDAQ_ROOT}/lib/libtcpla.so</xc:Module>\r\n",
        "    <xc:Module>${XDAQ_ROOT}/lib/libptutcp.so</xc:Module>\r\n",
        "\t       \r\n",
        "    <xc:Application class=\"eventing::core::Publisher\" id=\"101\" instance=\"0\" network=\"utcp1\" group=\"b2in\" service=\"eventing-publisher\" bus=\"brildata\">\r\n",
        "      <properties xmlns=\"urn:xdaq-application:eventing::core::Publisher\" xsi:type=\"soapenc:Struct\">\r\n",
        "\t<eventings xsi:type=\"soapenc:Array\" soapenc:arrayType=\"xsd:ur-type[1]\">\r\n",
        "          <item xsi:type=\"xsd:string\" soapenc:position=\"[0]\">utcp://%eventinghostname%:%utcpport%</item>\r\n",
        "        </eventings>\r\n",
        "      </properties>\r\n",
        "    </xc:Application>\r\n",
        "    <xc:Application class=\"eventing::core::Subscriber\" id=\"103\" instance=\"0\" network=\"utcp1\" group=\"b2in\" service=\"eventing-subscriber\" bus=\"brildata\">\r\n",
        "      <properties xmlns=\"urn:xdaq-application:eventing::core::Subscriber\" xsi:type=\"soapenc:Struct\">\r\n",
        "        <eventings xsi:type=\"soapenc:Array\" soapenc:arrayType=\"xsd:ur-type[1]\">\r\n",
        "          <item xsi:type=\"xsd:string\" soapenc:position=\"[0]\">utcp://%eventinghostname%:%utcpport%</item>\r\n",
        "        </eventings>\r\n",
        "      </properties>\r\n",
        "    </xc:Application>\r\n",
        "    <xc:Module>${XDAQ_ROOT}/lib/libb2inutils.so</xc:Module>\r\n",
        "    <xc:Module>${XDAQ_ROOT}/lib/libeventingcore.so</xc:Module>\r\n",
        "\r\n",
        "    <xc:Application class=\"bril::dummysource::DataSimulator\" id=\"121\" instance=\"0\" network=\"local\" service=\"sim\">\r\n",
        "      <properties xmlns=\"urn:xdaq-application:bril::timesource::Application\" xsi:type=\"soapenc:Struct\">\r\n",
        "          <simSource xsi:type=\"xsd:boolean\">true</simSource>\r\n",
        "          <signalTopic xsi:type=\"xsd:string\">NB64</signalTopic>\r\n",
        "      </properties>\r\n",
        "    </xc:Application>\r\n",
        "    <xc:Module>${XDAQ_ROOT}/lib/libeventingapi.so</xc:Module>\r\n",
        "    <xc:Module>%localdaqroot%/lib/libbrildummysource.so</xc:Module>\r\n",
        "\r\n",
        "</xc:Context>\r\n",
        "</xc:Partition>\r\n"
       ]
      }
     ],
     "prompt_number": 25
    },
    {
     "cell_type": "markdown",
     "metadata": {},
     "source": [
      "##### configure DataSimulator in bril zone"
     ]
    },
    {
     "cell_type": "code",
     "collapsed": false,
     "input": [
      "#When running in bril zone, the peer transport layer is already defined by the zone profile and installed on the hosts. \n",
      "#If pt::utcp is defined again in the application configuration file, it will crash\n",
      "#Therefore we need a _inzone configuration template for DataSimulator where pt::utcp block is removed\n",
      "%cat dummysource/LocalDataSimulator_inzone.template"
     ],
     "language": "python",
     "metadata": {},
     "outputs": [
      {
       "output_type": "stream",
       "stream": "stdout",
       "text": [
        "<?xml version=\"1.0\" encoding=\"UTF-8\"?>\r\n",
        "<xc:Partition xmlns:soapenc=\"http://schemas.xmlsoap.org/soap/encoding/\" xmlns:xc=\"http://xdaq.web.cern.ch/xdaq/xsd/2004/XMLConfiguration-30\" xmlns:xsi=\"http://www.w3.org/2001/XMLSchema-instance\">\r\n",
        "\r\n",
        " <xc:Context url=\"http://%hostname%:%contextport%\">\r\n",
        "    <xc:Endpoint protocol=\"utcp\" service=\"b2in\" rmode=\"select\" hostname=\"%hostname%\" port=\"%endpoint%\" network=\"utcp1\" sndTimeout=\"0\" rcvTimeout=\"0\" affinity=\"RCV:P,SND:W,DSR:W,DSS:W\" singleThread=\"true\" publish=\"true\"/>\r\n",
        "\r\n",
        "    <xc:Application class=\"eventing::core::Publisher\" id=\"101\" instance=\"0\" network=\"utcp1\" group=\"b2in\" service=\"eventing-publisher\" bus=\"brildata\">\r\n",
        "      <properties xmlns=\"urn:xdaq-application:eventing::core::Publisher\" xsi:type=\"soapenc:Struct\">\r\n",
        "\t<eventings xsi:type=\"soapenc:Array\" soapenc:arrayType=\"xsd:ur-type[1]\">\r\n",
        "          <item xsi:type=\"xsd:string\" soapenc:position=\"[0]\">utcp://%eventinghostname%:%utcpport%</item>\r\n",
        "        </eventings>\r\n",
        "      </properties>\r\n",
        "    </xc:Application>\r\n",
        "    <xc:Module>${XDAQ_ROOT}/lib/libb2inutils.so</xc:Module>\r\n",
        "    <xc:Module>${XDAQ_ROOT}/lib/libeventingcore.so</xc:Module>\r\n",
        "    \r\n",
        "    <xc:Application class=\"bril::timesource::Application\" id=\"102\" instance=\"0\" network=\"local\">\r\n",
        "      <properties xmlns=\"urn:xdaq-application:bril::timesource::Application\" xsi:type=\"soapenc:Struct\">\r\n",
        "         <simSource xsi:type=\"xsd:boolean\">true</simSource>\r\n",
        "         <swInitRun xsi:type=\"xsd:unsignedInt\">655360</swInitRun>\r\n",
        "         <swLSPerRun xsi:type=\"xsd:unsignedInt\">2</swLSPerRun>\r\n",
        "         <swNRuns xsi:type=\"xsd:unsignedInt\">2</swNRuns>\r\n",
        "         <swRunPerFill xsi:type=\"xsd:unsignedInt\">1</swRunPerFill>\r\n",
        "         <swNBTimers xsi:type=\"soapenc:Array\" soapenc:arrayType=\"xsd:ur-type[2]\">\r\n",
        "            <item xsi:type=\"soapenc:Struct\"  soapenc:position=\"[0]\"> \r\n",
        "              <properties xsi:type=\"soapenc:Struct\">\r\n",
        "                <signalTopic xsi:type=\"xsd:string\">NB4</signalTopic>\r\n",
        "                <nbFrequency xsi:type=\"xsd:string\">4</nbFrequency>\r\n",
        "              </properties>\r\n",
        "            </item>\r\n",
        "            <item xsi:type=\"soapenc:Struct\"  soapenc:position=\"[1]\"> \r\n",
        "              <properties xsi:type=\"soapenc:Struct\">\r\n",
        "                <signalTopic xsi:type=\"xsd:string\">NB64</signalTopic>\r\n",
        "                <nbFrequency xsi:type=\"xsd:string\">64</nbFrequency>\r\n",
        "            </properties>\r\n",
        "            </item> \r\n",
        "         </swNBTimers>\r\n",
        "      </properties>\r\n",
        "    </xc:Application>\r\n",
        "    <xc:Module>${XDAQ_ROOT}/lib/libeventingapi.so</xc:Module>\r\n",
        "    <xc:Module>%localdaqroot%/lib/libbriltimesource.so</xc:Module>\t \r\n",
        "\r\n",
        "    <xc:Application class=\"eventing::core::Subscriber\" id=\"103\" instance=\"0\" network=\"utcp1\" group=\"b2in\" service=\"eventing-subscriber\" bus=\"brildata\">\r\n",
        "      <properties xmlns=\"urn:xdaq-application:eventing::core::Subscriber\" xsi:type=\"soapenc:Struct\">\r\n",
        "        <eventings xsi:type=\"soapenc:Array\" soapenc:arrayType=\"xsd:ur-type[1]\">\r\n",
        "          <item xsi:type=\"xsd:string\" soapenc:position=\"[0]\">utcp://%eventinghostname%:%utcpport%</item>\r\n",
        "        </eventings>\r\n",
        "      </properties>\r\n",
        "    </xc:Application>\r\n",
        "    <xc:Module>${XDAQ_ROOT}/lib/libb2inutils.so</xc:Module>\r\n",
        "    <xc:Module>${XDAQ_ROOT}/lib/libeventingcore.so</xc:Module>\r\n",
        "\r\n",
        "    <xc:Application class=\"bril::dummysource::DataSimulator\" id=\"121\" instance=\"0\" network=\"local\" service=\"sim\">\r\n",
        "      <properties xmlns=\"urn:xdaq-application:bril::timesource::Application\" xsi:type=\"soapenc:Struct\">\r\n",
        "          <simSource xsi:type=\"xsd:boolean\">true</simSource>\r\n",
        "          <signalTopic xsi:type=\"xsd:string\">NB64</signalTopic>\r\n",
        "      </properties>\r\n",
        "    </xc:Application>\r\n",
        "    <xc:Module>${XDAQ_ROOT}/lib/libeventingapi.so</xc:Module>\r\n",
        "    <xc:Module>%localdaqroot%/lib/libbrildummysource.so</xc:Module>\r\n",
        "\r\n",
        "</xc:Context>\r\n",
        "</xc:Partition>\r\n"
       ]
      }
     ],
     "prompt_number": 26
    },
    {
     "cell_type": "code",
     "collapsed": false,
     "input": [
      "##### generate all configurations \n",
      "# Go to the scripts directory \n",
      "%cd $workdir/daq/bril/scripts\n",
      "!./generatexml.sh dummysource"
     ],
     "language": "python",
     "metadata": {},
     "outputs": [
      {
       "output_type": "stream",
       "stream": "stdout",
       "text": [
        "/home/zhen/work/pynb/sandbox/daq/bril/scripts\n",
        "sources:\r\n",
        "    dummysource/template.param,dummysource/LocalDataSimulator_inzone.template\r\n",
        "generated:\r\n",
        "    /home/zhen/work/pynb/sandbox/daq/bril/scripts/LocalDataSimulator_inzone.xml\r\n"
       ]
      },
      {
       "output_type": "stream",
       "stream": "stdout",
       "text": [
        "command per context:\r\n",
        "   /opt/xdaq/bin/xdaq.exe -p 50000 -c /home/zhen/work/pynb/sandbox/daq/bril/scripts/LocalDataSimulator_inzone.xml -z bril\r\n",
        "\r\n",
        "sources:\r\n",
        "    dummysource/template.param,dummysource/SkeletonApplication.template\r\n",
        "generated:\r\n",
        "    /home/zhen/work/pynb/sandbox/daq/bril/scripts/SkeletonApplication.xml\r\n"
       ]
      },
      {
       "output_type": "stream",
       "stream": "stdout",
       "text": [
        "command per context:\r\n",
        "   /opt/xdaq/bin/xdaq.exe -p 50000 -c /home/zhen/work/pynb/sandbox/daq/bril/scripts/SkeletonApplication.xml \r\n",
        "\r\n",
        "sources:\r\n",
        "    dummysource/template.param,dummysource/LocalApplication_inzone.template\r\n",
        "generated:\r\n",
        "    /home/zhen/work/pynb/sandbox/daq/bril/scripts/LocalApplication_inzone.xml\r\n"
       ]
      },
      {
       "output_type": "stream",
       "stream": "stdout",
       "text": [
        "command per context:\r\n",
        "   /opt/xdaq/bin/xdaq.exe -p 50000 -c /home/zhen/work/pynb/sandbox/daq/bril/scripts/LocalApplication_inzone.xml -z bril\r\n",
        "\r\n",
        "sources:\r\n",
        "    dummysource/template.param,dummysource/LocalMonitorable.template\r\n"
       ]
      },
      {
       "output_type": "stream",
       "stream": "stdout",
       "text": [
        "generated:\r\n",
        "    /home/zhen/work/pynb/sandbox/daq/bril/scripts/LocalMonitorable.xml\r\n"
       ]
      },
      {
       "output_type": "stream",
       "stream": "stdout",
       "text": [
        "command per context:\r\n",
        "   /opt/xdaq/bin/xdaq.exe -p 50000 -c /home/zhen/work/pynb/sandbox/daq/bril/scripts/LocalMonitorable.xml \r\n",
        "\r\n",
        "sources:\r\n",
        "    dummysource/template.param,dummysource/LocalDataSimulator.template\r\n",
        "generated:\r\n",
        "    /home/zhen/work/pynb/sandbox/daq/bril/scripts/LocalDataSimulator.xml\r\n"
       ]
      },
      {
       "output_type": "stream",
       "stream": "stdout",
       "text": [
        "command per context:\r\n",
        "   /opt/xdaq/bin/xdaq.exe -p 50000 -c /home/zhen/work/pynb/sandbox/daq/bril/scripts/LocalDataSimulator.xml \r\n",
        "\r\n",
        "sources:\r\n",
        "    dummysource/template.param,dummysource/LocalMonitorableAndCollector.template\r\n",
        "generated:\r\n",
        "    /home/zhen/work/pynb/sandbox/daq/bril/scripts/LocalMonitorableAndCollector.xml\r\n"
       ]
      },
      {
       "output_type": "stream",
       "stream": "stdout",
       "text": [
        "command per context:\r\n",
        "   /opt/xdaq/bin/xdaq.exe -p 50000 -c /home/zhen/work/pynb/sandbox/daq/bril/scripts/LocalMonitorableAndCollector.xml \r\n",
        "\r\n",
        "sources:\r\n",
        "    dummysource/template.param,dummysource/LocalMonitorable_inzone.template\r\n",
        "generated:\r\n",
        "    /home/zhen/work/pynb/sandbox/daq/bril/scripts/LocalMonitorable_inzone.xml\r\n"
       ]
      },
      {
       "output_type": "stream",
       "stream": "stdout",
       "text": [
        "command per context:\r\n",
        "   /opt/xdaq/bin/xdaq.exe -p 50000 -c /home/zhen/work/pynb/sandbox/daq/bril/scripts/LocalMonitorable_inzone.xml -z bril\r\n",
        "\r\n",
        "sources:\r\n",
        "    dummysource/template.param,dummysource/DataSimulator.template\r\n",
        "generated:\r\n",
        "    /home/zhen/work/pynb/sandbox/daq/bril/scripts/DataSimulator.xml\r\n"
       ]
      },
      {
       "output_type": "stream",
       "stream": "stdout",
       "text": [
        "command per context:\r\n",
        "   /opt/xdaq/bin/xdaq.exe -p 50000 -c /home/zhen/work/pynb/sandbox/daq/bril/scripts/DataSimulator.xml \r\n",
        "\r\n",
        "sources:\r\n",
        "    dummysource/template.param,dummysource/LocalMonitorableAndCollector_inzone.template\r\n",
        "generated:\r\n",
        "    /home/zhen/work/pynb/sandbox/daq/bril/scripts/LocalMonitorableAndCollector_inzone.xml\r\n"
       ]
      },
      {
       "output_type": "stream",
       "stream": "stdout",
       "text": [
        "command per context:\r\n",
        "   /opt/xdaq/bin/xdaq.exe -p 50000 -c /home/zhen/work/pynb/sandbox/daq/bril/scripts/LocalMonitorableAndCollector_inzone.xml -z bril\r\n",
        "\r\n",
        "sources:\r\n",
        "    dummysource/template.param,dummysource/DataSimulator_inzone.template\r\n",
        "generated:\r\n",
        "    /home/zhen/work/pynb/sandbox/daq/bril/scripts/DataSimulator_inzone.xml\r\n"
       ]
      },
      {
       "output_type": "stream",
       "stream": "stdout",
       "text": [
        "command per context:\r\n",
        "   /opt/xdaq/bin/xdaq.exe -p 50000 -c /home/zhen/work/pynb/sandbox/daq/bril/scripts/DataSimulator_inzone.xml -z bril\r\n",
        "\r\n",
        "sources:\r\n",
        "    dummysource/template.param,dummysource/LocalApplication.template\r\n"
       ]
      },
      {
       "output_type": "stream",
       "stream": "stdout",
       "text": [
        "generated:\r\n",
        "    /home/zhen/work/pynb/sandbox/daq/bril/scripts/LocalApplication.xml\r\n"
       ]
      },
      {
       "output_type": "stream",
       "stream": "stdout",
       "text": [
        "command per context:\r\n",
        "   /opt/xdaq/bin/xdaq.exe -p 50000 -c /home/zhen/work/pynb/sandbox/daq/bril/scripts/LocalApplication.xml \r\n",
        "\r\n"
       ]
      }
     ],
     "prompt_number": 27
    },
    {
     "cell_type": "code",
     "collapsed": false,
     "input": [
      "# Run DataSimulator in local run scenario\n",
      "# Now run the suggested line with LocalDataSimulator_inzone.xml -z bril if using brildev host\n",
      "# Otherwise, run LocalDataSimulator.xml \n",
      "# In the screen, you should see alternate printout from timesource and DataSimulator at regular interval\n",
      "# (In a session where you don't have an eventing server running, you should start it by yourself first)"
     ],
     "language": "python",
     "metadata": {},
     "outputs": [],
     "prompt_number": 28
    },
    {
     "cell_type": "markdown",
     "metadata": {},
     "source": [
      "#brildaq component in real mode\n",
      "\n",
      "### *The full application*\n",
      "\n",
      "\n",
      "We write another xdaq application whose simulation mode is identical to our DataSimulator.\n",
      "In addition, we implement the real mode where we fetch data from external fakeru readout queue as soon as they arrive. \n",
      "We then publish the fetched data to bril eventing. In the reading thread a hardware error occurred and we notify it to \n",
      "the error observer(sentinel) in zone.\n",
      "\n",
      "   1. Configurable\n",
      "   2. Has a web page\n",
      "   3. In sim mode, subscribe to bril timing signal and generate simulated data\n",
      "   4. In real mode, fetch data from fakeru readout queue in a workloop\n",
      "   5. Publish data to bril eventing\n",
      "   6. Notify external observer when a hardware error occurred\n",
      "   7. Compiletime linked to external libfakeru.so\n",
      "   \n",
      "Configuration:\n",
      "\n",
      "   1. Configured as real mode, the application ignores the time authority, central or local. "
     ]
    },
    {
     "cell_type": "markdown",
     "metadata": {},
     "source": [
      "##### write Application"
     ]
    },
    {
     "cell_type": "code",
     "collapsed": false,
     "input": [
      "# The Application header file. Mostly the same as our DataSimulator\n",
      "# Additionaly we have a handle to the fakeRU, a WorkLoop instance and the method \"reading\" which \n",
      "# we want the workloop to execute. Note the signature.\n",
      "# WorkLoop is a thin wrapper and managing layer around threading. Submitting a workloop is to submit a slave thread to do work.\n",
      "# Please use WorkLoop and avoid direct low level threading calls to insulate yourself from low level details and changes \n",
      "# \n",
      "# Note: we inherit from public toolbox::ActionListener and implement toolbox::Event callback \n",
      "#   void actionPerformed(toolbox::Event& e)\n",
      "# This is because in this scenario, we need to listen to a toolbox::Event (events fired by the framework without data exchange)\n",
      "# in order not to launch our workloop too early\n",
      "# \n",
      "# actionPerformed for toolbox::Event and for xdata::Event are called the same for historical reasons, we should be careful\n",
      "# to use correctly the signature \n",
      "#\n",
      "%cat $workdir/daq/bril/dummysource/include/bril/dummysource/Application.h"
     ],
     "language": "python",
     "metadata": {},
     "outputs": [
      {
       "output_type": "stream",
       "stream": "stdout",
       "text": [
        "#ifndef _bril_dummysource_Application_h_\r\n",
        "#define _bril_dummysource_Application_h_\r\n",
        "#include <string>\r\n",
        "#include \"xdaq/Application.h\"\r\n",
        "#include \"xdata/ActionListener.h\"\r\n",
        "#include \"xgi/Method.h\"\r\n",
        "#include \"xgi/Output.h\"\r\n",
        "#include \"xgi/exception/Exception.h\"\r\n",
        "#include \"xdata/InfoSpace.h\"\r\n",
        "#include \"xdata/Boolean.h\"\r\n",
        "#include \"xdata/String.h\"\r\n",
        "\r\n",
        "#include \"eventing/api/Member.h\"\r\n",
        "#include \"toolbox/mem/MemoryPoolFactory.h\"\r\n",
        "#include \"toolbox/mem/Reference.h\"\r\n",
        "#include \"b2in/nub/exception/Exception.h\"\r\n",
        "\r\n",
        "/**\r\n",
        "   A xdaq application that when configured as simulation mode simulate data on bril timing signal; in real mode, it interacts with an external library in a workloop, sends data to bril whenever the readout queue has data. It uses an external library for readout(histograming unit or dip client)\r\n",
        "\r\n",
        "   1. Configurable\r\n",
        "   2. Has a web page\r\n",
        "   3. In sim mode, subscribe to bril timing signal and generate simulated data\r\n",
        "   4. In real mode, fetch data from fakeru readout queue in a workloop\r\n",
        "   5. Publish data to bril eventing\r\n",
        "   6. Notify external observer when a hardware error happens\r\n",
        "   7. Compiletime linked to external libfakeru.so\r\n",
        "*/\r\n",
        "\r\n",
        "//forward declaration\r\n",
        "namespace toolbox{\r\n",
        "  namespace task{\r\n",
        "    class WorkLoop;\r\n",
        "  }\r\n",
        "}\r\n",
        "namespace fake{\r\n",
        "  class FakeRU;\r\n",
        "}\r\n",
        "\r\n",
        "namespace bril{\r\n",
        "  namespace dummysource{\r\n",
        "    class Application : public xdaq::Application,public eventing::api::Member,public xdata::ActionListener,public toolbox::ActionListener{\r\n",
        "    public:\r\n",
        "      XDAQ_INSTANTIATOR();\r\n",
        "      // constructor\r\n",
        "      Application (xdaq::ApplicationStub* s) throw (xdaq::exception::Exception);\r\n",
        "      // destructor\r\n",
        "      ~Application ();\r\n",
        "      // xgi(web) callback\r\n",
        "      void Default (xgi::Input * in, xgi::Output * out) throw (xgi::exception::Exception);\r\n",
        "      // infospace event callback\r\n",
        "      virtual void actionPerformed(xdata::Event& e);\r\n",
        "      // toolbox event callback\r\n",
        "      virtual void actionPerformed(toolbox::Event& e);\r\n",
        "      // b2in message callback\r\n",
        "      void onMessage(toolbox::mem::Reference * ref, xdata::Properties & plist) throw (b2in::nub::exception::Exception);\r\n",
        "      \r\n",
        "    private:\r\n",
        "      // members\r\n",
        "      // some information about this application\r\n",
        "      xdata::InfoSpace *m_appInfoSpace;\r\n",
        "      xdaq::ApplicationDescriptor *m_appDescriptor;\r\n",
        "      std::string m_classname;\r\n",
        "      \r\n",
        "      toolbox::mem::MemoryPoolFactory *m_poolFactory;\r\n",
        "      toolbox::mem::Pool* m_memPool;\r\n",
        "      // configuration parameters\r\n",
        "      xdata::Boolean m_simSource;\r\n",
        "      xdata::String m_signalTopic;\r\n",
        "      \r\n",
        "      // reading workloop\r\n",
        "      toolbox::task::WorkLoop* m_readingwl;\r\n",
        "\r\n",
        "      // fakeru handle\r\n",
        "      fake::FakeRU* m_fakeru;\r\n",
        "    private:\r\n",
        "      // methods\r\n",
        "      void do_publish();\r\n",
        "      // workloop worker methods\r\n",
        "      bool reading(toolbox::task::WorkLoop* wl);\r\n",
        "\r\n",
        "      // nocopy protection\r\n",
        "      Application(const Application&);\r\n",
        "      Application& operator=(const Application&);\r\n",
        "    };\r\n",
        "  }\r\n",
        "}\r\n",
        "#endif\r\n"
       ]
      }
     ],
     "prompt_number": 29
    },
    {
     "cell_type": "code",
     "collapsed": false,
     "input": [
      "# The Application implementation is identical to DataSimulator in the sim mode\n",
      "# We implement the real mode now. In this full application, we handle exceptions and log info and errors. \n",
      "# But we focus on the main story here and will only go through error/exception/logging during the 2nd read. \n",
      "#\n",
      "# Note : Extra headers included : WorkLoop*, FakeRU*, dummysource/exception/Exception.h\n",
      "#\n",
      "# In constructor: we declare ourselves listener to any toolbox::Event happening on bus \"brildata\"\n",
      "#                     this->getEventingBus(\"brildata\").addActionListener(this);\n",
      "#                 we create our reading workloop instance, but we don't launch it here.\n",
      "#                 since we don't know yet if we are in sim or real mode, we initialize fakeRU handle to 0.\n",
      "# \n",
      "# In xdata::Event callback: if found we are in real mode, we connect to fakeRU. \n",
      "#                           We don't launch the reading workloop here because xdata event \"urn:xdaq-event:setDefaultValues\"\n",
      "#                           happens very early the event stack. It could be too early to do any network communication here.\n",
      "#\n",
      "# In toolbox::Event callback: since we are a listener to brildata bus event, we can intercept \"eventing::api::BusReadyToPublish\". \n",
      "#                           By now, we know if we are in real or sim mode. If for real, we launch the reading workloop.\n",
      "#                           Note: the bind, activate, submit pattern\n",
      "#                   \n",
      "# It is not always necessary for a publisher to do this kind of publishing readiness check. For example, in a situation where\n",
      "# you publish only after having received something else, you are sure that the bus is ready. Then there is no need of extra check.\n",
      "# In the current situation, we don't know and we prefer to be on the safe side. \n",
      "#\n",
      "# In the worker method \"reading\": our worker thread checks the fakeRU's data queue, publishes it immediately when found data \n",
      "#                               (in try/catch block).\n",
      "#                               Then return true asking for more work.\n",
      "#                               Note: because fakeRU::getnext() is implemented in such a way that it sleeps in case of \n",
      "#                               empty belly (queue), we don't need to explicitly sleep here on our (queue consumer) side. \n",
      "#                               \n",
      "\n",
      "%cat $workdir/daq/bril/dummysource/src/common/Application.cc"
     ],
     "language": "python",
     "metadata": {},
     "outputs": [
      {
       "output_type": "stream",
       "stream": "stdout",
       "text": [
        "#include \"cgicc/CgiDefs.h\"\r\n",
        "#include \"cgicc/Cgicc.h\"\r\n",
        "#include \"cgicc/HTTPHTMLHeader.h\"\r\n",
        "#include \"cgicc/HTMLClasses.h\"\r\n",
        "#include \"xcept/tools.h\"\r\n",
        "#include \"toolbox/mem/HeapAllocator.h\"\r\n",
        "#include \"toolbox/mem/MemoryPoolFactory.h\"\r\n",
        "#include \"toolbox/task/WorkLoop.h\"\r\n",
        "#include \"toolbox/task/WorkLoopFactory.h\"\r\n",
        "#include \"b2in/nub/Method.h\"\r\n",
        "#include \"bril/dummysource/Application.h\" \r\n",
        "#include \"bril/dummysource/exception/Exception.h\"\r\n",
        "#include \"fake/FakeRU.h\"\r\n",
        "#include <unistd.h>\r\n",
        "\r\n",
        "XDAQ_INSTANTIATOR_IMPL (bril::dummysource::Application)\r\n",
        "\r\n",
        "bril::dummysource::Application::Application (xdaq::ApplicationStub* s) throw (xdaq::exception::Exception) : xdaq::Application(s),eventing::api::Member(this){\r\n",
        "  this->getEventingBus(\"brildata\").addActionListener(this);\r\n",
        "  xgi::bind(this, &bril::dummysource::Application::Default, \"Default\");\r\n",
        "  b2in::nub::bind(this, &bril::dummysource::Application::onMessage);\r\n",
        "  m_appInfoSpace = getApplicationInfoSpace();\r\n",
        "  m_appDescriptor= getApplicationDescriptor();\r\n",
        "  m_classname    = m_appDescriptor->getClassName();\r\n",
        "  m_poolFactory  = toolbox::mem::getMemoryPoolFactory();\r\n",
        "  toolbox::net::URN memurn(\"toolbox-mem-pool\",m_classname+\"_mem\"); \r\n",
        "  try{\r\n",
        "    m_appInfoSpace->fireItemAvailable(\"simSource\",&m_simSource);\r\n",
        "    m_appInfoSpace->fireItemAvailable(\"signalTopic\",&m_signalTopic);\r\n",
        "    m_appInfoSpace->addListener(this, \"urn:xdaq-event:setDefaultValues\");\r\n",
        "    toolbox::mem::HeapAllocator* allocator = new toolbox::mem::HeapAllocator();\r\n",
        "    m_memPool = m_poolFactory->createPool(memurn,allocator);\r\n",
        "    /**\r\n",
        "       create reading workloop for real mode, but we don't activate it here\r\n",
        "       \r\n",
        "     */\r\n",
        "    xdata::UnsignedInteger instanceid = m_appDescriptor->getInstance();\r\n",
        "    toolbox::net::URN wlurn(\"xdaq-workloop\",m_classname+instanceid.toString()+\"_reading\");\r\n",
        "    m_readingwl = toolbox::task::getWorkLoopFactory()->getWorkLoop(wlurn.toString(),\"waiting\");\r\n",
        "  }catch(xdata::exception::Exception& e){\r\n",
        "    std::string msg(\"Failed to setup appInfoSpace \");\r\n",
        "    LOG4CPLUS_FATAL(getApplicationLogger(),msg+stdformat_exception_history(e)); \r\n",
        "    XCEPT_RETHROW(bril::dummysource::exception::Exception,msg,e);\t\r\n",
        "  }catch(xcept::Exception& e){\r\n",
        "    std::string msg(\"Failed to setup memory pool \");\r\n",
        "    LOG4CPLUS_FATAL(getApplicationLogger(),msg+stdformat_exception_history(e));\r\n",
        "    XCEPT_RETHROW(bril::dummysource::exception::Exception,msg,e);\t\r\n",
        "  }\r\n",
        "\r\n",
        "  m_fakeru = 0;\r\n",
        "}\r\n",
        "\r\n",
        "bril::dummysource::Application::~Application (){\r\n",
        "  // cancel workloop\r\n",
        "  m_readingwl->cancel();\r\n",
        "  // cleanup resource\r\n",
        "  if(m_fakeru){\r\n",
        "    delete m_fakeru;\r\n",
        "    m_fakeru = 0;\r\n",
        "  }\r\n",
        "}\r\n",
        "\r\n",
        "void bril::dummysource::Application::Default (xgi::Input * in, xgi::Output * out) throw (xgi::exception::Exception){\r\n",
        "  *out <<  \"<!doctype html>\" << std::endl;\r\n",
        "  *out << \"<html xmlns=\\\"http://www.w3.org/1999/xhtml\\\">\" << std::endl;\r\n",
        "  *out << \"<head>\"<< std::endl;\r\n",
        "  *out << \"<meta http-equiv=\\\"Content-Type\\\" content=\\\"text/html\\\"; charset=\\\"utf-8\\\">\"<<std::endl;\r\n",
        "  *out << \"<title>dummysource </title>\"<<std::endl;\r\n",
        "  *out << \"</head>\"<< std::endl;\r\n",
        "  *out << \"<body>\" << std::endl;\r\n",
        "  std::string appurl = getApplicationContext()->getContextDescriptor()->getURL()+\"/\"+m_appDescriptor->getURN();\r\n",
        "  *out << appurl <<std::endl;\r\n",
        "  if(m_simSource){\r\n",
        "    *out << \"publish simulated data on frequency : \"<< m_signalTopic.toString() <<std::endl;\r\n",
        "  }else{\r\n",
        "    *out << \"publish real data\"<<std::endl;\r\n",
        "  }\r\n",
        "  *out << \"</body>\"<< std::endl;\r\n",
        "  *out << \"</html>\"<< std::endl;\r\n",
        "}\r\n",
        "\r\n",
        "void bril::dummysource::Application::actionPerformed(xdata::Event& e){\r\n",
        "  LOG4CPLUS_INFO(getApplicationLogger(), \"Received xdata event \" << e.type());\r\n",
        "  if( e.type() == \"urn:xdaq-event:setDefaultValues\" ){\r\n",
        "    if(m_simSource){\r\n",
        "      LOG4CPLUS_DEBUG(getApplicationLogger(), std::string(\"I'm a simulator, subscribing to \")+m_signalTopic.toString());\r\n",
        "      try{\r\n",
        "\tthis->getEventingBus(\"brildata\").subscribe(m_signalTopic);\r\n",
        "      }catch(eventing::api::exception::Exception& e){\r\n",
        "\tstd::string msg(\"Failed to subscribe to eventing bus brildata\");\r\n",
        "\tLOG4CPLUS_ERROR(getApplicationLogger(),msg+stdformat_exception_history(e));\r\n",
        "\tXCEPT_RETHROW(bril::dummysource::exception::Exception,msg,e);\t\r\n",
        "      }\r\n",
        "    }else{\r\n",
        "      LOG4CPLUS_DEBUG(getApplicationLogger(), std::string(\"I'm for real, connect to ru\"));\r\n",
        "      m_fakeru = new fake::FakeRU;      \r\n",
        "    }\r\n",
        "  }\r\n",
        "}\r\n",
        "\r\n",
        "void bril::dummysource::Application::actionPerformed(toolbox::Event& e){\r\n",
        "  LOG4CPLUS_INFO(getApplicationLogger(), \"Received toolbox event \" << e.type());\r\n",
        "  if ( (!m_simSource)&&(e.type() == \"eventing::api::BusReadyToPublish\") ){\r\n",
        "    std::string busname = (static_cast<eventing::api::Bus*>(e.originator()))->getBusName();\r\n",
        "    std::stringstream msg;\r\n",
        "    msg<< \"event Bus '\" << busname << \"' is ready to publish\";\r\n",
        "    LOG4CPLUS_INFO(getApplicationLogger(),msg.str());\r\n",
        "    try{\r\n",
        "      // bind method \"reading\" to reading workloop\r\n",
        "      toolbox::task::ActionSignature* as_reading = toolbox::task::bind(this,&bril::dummysource::Application::reading,\"reading\");\r\n",
        "      // activate and submit workloop \"reading\"\r\n",
        "      m_readingwl->activate();\r\n",
        "      m_readingwl->submit(as_reading);\r\n",
        "    }catch(toolbox::task::exception::Exception& e){\r\n",
        "      // Note: when caught an exception, if you don't handle it\r\n",
        "      // you should rethrow either as the same type, or as a different type. \r\n",
        "      // Exceptions swallowed by you are hidden from upstream callers who\r\n",
        "      // might be able to handle it.\r\n",
        "      // Here we log the error then rethrow it as our own type \r\n",
        "      std::string msg(\"Failed to start workloop \");\r\n",
        "      LOG4CPLUS_ERROR(getApplicationLogger(),msg+stdformat_exception_history(e));\r\n",
        "      XCEPT_RETHROW(bril::dummysource::exception::Exception,msg,e);\t\r\n",
        "    }\r\n",
        "  }\r\n",
        "}\r\n",
        "\r\n",
        "void bril::dummysource::Application::onMessage(toolbox::mem::Reference * ref, xdata::Properties & plist) throw (b2in::nub::exception::Exception){\r\n",
        "      std::string action = plist.getProperty(\"urn:b2in-eventing:action\");\r\n",
        "      if (action == \"notify\"){\r\n",
        "\tstd::string topic = plist.getProperty(\"urn:b2in-eventing:topic\");\r\n",
        "\tif(topic == m_signalTopic.toString()){\r\n",
        "\t  // On receiving timing signal we publish simulated data \r\n",
        "\t  do_publish();\r\n",
        "\t}\r\n",
        "      }\r\n",
        "      if(ref!=0){\r\n",
        "\tref->release();\r\n",
        "\tref=0;\r\n",
        "      }\r\n",
        "}\r\n",
        "\r\n",
        "/** publish an array to bril b2in \r\n",
        "    if you publish to DIP, change here\r\n",
        "*/\r\n",
        "void bril::dummysource::Application::do_publish(){\r\n",
        "  toolbox::mem::Reference* bufRef=0;\r\n",
        "  xdata::Properties plist;\r\n",
        "  plist.setProperty(\"classname\",m_classname);\r\n",
        "  std::string topicname=m_classname+\"Topic\";\r\n",
        "  try{\r\n",
        "    size_t n=3564;\r\n",
        "    int fakedata[n];\r\n",
        "    for(size_t i=0;i<n;++i){fakedata[i]=i+1;}\r\n",
        "    size_t fakedatasize = n*sizeof(int);    \r\n",
        "    bufRef = m_poolFactory->getFrame(m_memPool,fakedatasize);\r\n",
        "    memcpy(bufRef->getDataLocation(),fakedata,fakedatasize);\r\n",
        "    LOG4CPLUS_INFO(this->getApplicationLogger(), \"publish a simulated histogram to bril\");\r\n",
        "    this->getEventingBus(\"brildata\").publish(topicname,bufRef,plist);\r\n",
        "  }catch(xcept::Exception& e){\r\n",
        "    std::string msg(\"Failed to publish data to eventing \");\r\n",
        "    LOG4CPLUS_ERROR(getApplicationLogger(),msg+stdformat_exception_history(e));\r\n",
        "    XCEPT_RETHROW(bril::dummysource::exception::Exception,msg,e);  \r\n",
        "  }\r\n",
        "}\r\n",
        "\r\n",
        "bool bril::dummysource::Application::reading(toolbox::task::WorkLoop* wl){\r\n",
        "  std::string topicname=m_classname+\"Topic\";\r\n",
        "  toolbox::mem::Reference* bufRef=0;\r\n",
        "  xdata::Properties plist;\r\n",
        "  plist.setProperty(\"classname\",m_classname);\r\n",
        "  int* dataAddress = m_fakeru->getnext(); \r\n",
        "  if(dataAddress){\r\n",
        "    if(dataAddress[0]>5&&dataAddress[0]<10){\r\n",
        "      // we notify the external error collector(sentinel) that a hardware error occured. \r\n",
        "      // Note: here we don't throw. \r\n",
        "      //Because it's inside a workloop, no one can handle the error.\r\n",
        "      // So we just notify the system and leave it at that.\r\n",
        "      std::string msg(\"bunch 1 overflow\");\r\n",
        "      XCEPT_DECLARE(bril::dummysource::exception::HardwareError,myerrorobj,msg);\r\n",
        "      this->notifyQualified(\"fatal\",myerrorobj);\r\n",
        "    }\r\n",
        "    size_t datasize = m_fakeru->datasize();\r\n",
        "    try{\r\n",
        "      bufRef = m_poolFactory->getFrame(m_memPool,datasize);\r\n",
        "      memcpy(bufRef->getDataLocation(),dataAddress,datasize);\r\n",
        "      LOG4CPLUS_INFO(getApplicationLogger(),\"publish a real histogram to bril\");\r\n",
        "      this->getEventingBus(\"brildata\").publish(topicname,bufRef,plist);\r\n",
        "      free(dataAddress);\r\n",
        "    }catch(toolbox::mem::exception::Exception& e){\r\n",
        "      std::string msg(\"Failed to obtain buffer from memory pool \");\r\n",
        "      XCEPT_DECLARE_NESTED(bril::dummysource::exception::Exception,myerrorobj,msg,e);\r\n",
        "      this->notifyQualified(\"fatal\",myerrorobj);\r\n",
        "    }catch(eventing::api::exception::Exception& e){\r\n",
        "      std::string msg(\"Failed to publish to eventing \");\r\n",
        "      XCEPT_DECLARE_NESTED(bril::dummysource::exception::Exception,myerrorobj,msg,e);\r\n",
        "      this->notifyQualified(\"fatal\",myerrorobj);\r\n",
        "    }\r\n",
        "  }\r\n",
        "  // return true asks the workloop coming back for more work until canceled.\r\n",
        "  return true;\r\n",
        "}\r\n",
        "\r\n",
        "\r\n",
        "\r\n",
        "\r\n"
       ]
      }
     ],
     "prompt_number": 30
    },
    {
     "cell_type": "markdown",
     "metadata": {},
     "source": [
      "##### configure Application "
     ]
    },
    {
     "cell_type": "code",
     "collapsed": false,
     "input": [
      "# We already know everything about the sim mode when running DataSimulator \n",
      "# Here we only play with the real mode\n",
      "# With real mode, we ignore completely the bril time authority since we synchronise with hardware.\n",
      "# So we fine tune the Application bril::timesource::Application to be quiet by setting attribute loglevel=\"ERROR\"\n",
      "#\n",
      "# Note: libfakeru.so is NOT present as Module in the configuration file\n",
      "# Because it is linked at compile time to your package libbrildummysource.so, we do not dynamically load it at runtime\n",
      "# as what Module tag is for\n",
      "%cat $workdir/daq/bril/scripts/dummysource/LocalApplication.template"
     ],
     "language": "python",
     "metadata": {},
     "outputs": [
      {
       "output_type": "stream",
       "stream": "stdout",
       "text": [
        "<?xml version=\"1.0\" encoding=\"UTF-8\"?>\r\n",
        "<xc:Partition xmlns:soapenc=\"http://schemas.xmlsoap.org/soap/encoding/\" xmlns:xc=\"http://xdaq.web.cern.ch/xdaq/xsd/2004/XMLConfiguration-30\" xmlns:xsi=\"http://www.w3.org/2001/XMLSchema-instance\">\r\n",
        "\r\n",
        " <xc:Context url=\"http://%hostname%:%contextport%\">\r\n",
        "    <xc:Endpoint protocol=\"utcp\" service=\"b2in\" rmode=\"select\" hostname=\"%hostname%\" port=\"%endpoint%\" network=\"utcp1\" sndTimeout=\"0\" rcvTimeout=\"0\" affinity=\"RCV:P,SND:W,DSR:W,DSS:W\" singleThread=\"true\" publish=\"true\"/>\r\n",
        "\r\n",
        "    <xc:Application class=\"pt::utcp::Application\" id=\"12\" instance=\"0\" network=\"local\" logpolicy=\"inherit\">\r\n",
        "      <properties xmlns=\"urn:xdaq-application:pt::utcp::Application\" xsi:type=\"soapenc:Struct\">\r\n",
        "\t<maxClients xsi:type=\"xsd:unsignedInt\">10</maxClients>\r\n",
        "        <autoConnect xsi:type=\"xsd:boolean\">false</autoConnect>\r\n",
        "        <ioQueueSize xsi:type=\"xsd:unsignedInt\">65536</ioQueueSize>\r\n",
        "        <eventQueueSize xsi:type=\"xsd:unsignedInt\">65536</eventQueueSize>\r\n",
        "        <maxReceiveBuffers xsi:type=\"xsd:unsignedInt\">2</maxReceiveBuffers>\r\n",
        "        <maxBlockSize xsi:type=\"xsd:unsignedInt\">4096</maxBlockSize>\r\n",
        "        <committedPoolSize xsi:type=\"xsd:double\">0x100000</committedPoolSize> \r\n",
        "      </properties>\r\n",
        "    </xc:Application>\r\n",
        "    <xc:Module>${XDAQ_ROOT}/lib/libtcpla.so</xc:Module>\r\n",
        "    <xc:Module>${XDAQ_ROOT}/lib/libptutcp.so</xc:Module>\r\n",
        "\t       \r\n",
        "    <xc:Application class=\"eventing::core::Publisher\" id=\"101\" instance=\"0\" network=\"utcp1\" group=\"b2in\" service=\"eventing-publisher\" bus=\"brildata\" logpolicy=\"inherit\">\r\n",
        "      <properties xmlns=\"urn:xdaq-application:eventing::core::Publisher\" xsi:type=\"soapenc:Struct\">\r\n",
        "\t<eventings xsi:type=\"soapenc:Array\" soapenc:arrayType=\"xsd:ur-type[1]\">\r\n",
        "          <item xsi:type=\"xsd:string\" soapenc:position=\"[0]\">utcp://%eventinghostname%:%utcpport%</item>\r\n",
        "        </eventings>\r\n",
        "      </properties>\r\n",
        "    </xc:Application>\r\n",
        "    <xc:Module>${XDAQ_ROOT}/lib/libb2inutils.so</xc:Module>\r\n",
        "    <xc:Module>${XDAQ_ROOT}/lib/libeventingcore.so</xc:Module>\r\n",
        "    \r\n",
        "    <xc:Application class=\"bril::timesource::Application\" id=\"102\" instance=\"0\" network=\"local\" loglevel=\"ERROR\">\r\n",
        "      <properties xmlns=\"urn:xdaq-application:bril::timesource::Application\" xsi:type=\"soapenc:Struct\">\r\n",
        "         <simSource xsi:type=\"xsd:boolean\">true</simSource>\r\n",
        "         <swInitRun xsi:type=\"xsd:unsignedInt\">655360</swInitRun>\r\n",
        "         <swLSPerRun xsi:type=\"xsd:unsignedInt\">2</swLSPerRun>\r\n",
        "         <swNRuns xsi:type=\"xsd:unsignedInt\">2</swNRuns>\r\n",
        "         <swRunPerFill xsi:type=\"xsd:unsignedInt\">1</swRunPerFill>\r\n",
        "         <swNBTimers xsi:type=\"soapenc:Array\" soapenc:arrayType=\"xsd:ur-type[2]\">\r\n",
        "            <item xsi:type=\"soapenc:Struct\"  soapenc:position=\"[0]\"> \r\n",
        "              <properties xsi:type=\"soapenc:Struct\">\r\n",
        "                <signalTopic xsi:type=\"xsd:string\">NB4</signalTopic>\r\n",
        "                <nbFrequency xsi:type=\"xsd:string\">4</nbFrequency>\r\n",
        "              </properties>\r\n",
        "            </item>\r\n",
        "            <item xsi:type=\"soapenc:Struct\"  soapenc:position=\"[1]\"> \r\n",
        "              <properties xsi:type=\"soapenc:Struct\">\r\n",
        "                <signalTopic xsi:type=\"xsd:string\">NB64</signalTopic>\r\n",
        "                <nbFrequency xsi:type=\"xsd:string\">64</nbFrequency>\r\n",
        "            </properties>\r\n",
        "            </item> \r\n",
        "         </swNBTimers>\r\n",
        "      </properties>\r\n",
        "    </xc:Application>\r\n",
        "    <xc:Module>${XDAQ_ROOT}/lib/libeventingapi.so</xc:Module>\r\n",
        "    <xc:Module>%localdaqroot%/lib/libbriltimesource.so</xc:Module>\t \r\n",
        "\r\n",
        "    <xc:Application class=\"eventing::core::Subscriber\" id=\"103\" instance=\"0\" network=\"utcp1\" group=\"b2in\" service=\"eventing-subscriber\" bus=\"brildata\" logpolicy=\"inherit\">\r\n",
        "      <properties xmlns=\"urn:xdaq-application:eventing::core::Subscriber\" xsi:type=\"soapenc:Struct\">\r\n",
        "        <eventings xsi:type=\"soapenc:Array\" soapenc:arrayType=\"xsd:ur-type[1]\">\r\n",
        "          <item xsi:type=\"xsd:string\" soapenc:position=\"[0]\">utcp://%eventinghostname%:%utcpport%</item>\r\n",
        "        </eventings>\r\n",
        "      </properties>\r\n",
        "    </xc:Application>\r\n",
        "    <xc:Module>${XDAQ_ROOT}/lib/libb2inutils.so</xc:Module>\r\n",
        "    <xc:Module>${XDAQ_ROOT}/lib/libeventingcore.so</xc:Module>\r\n",
        "\r\n",
        "    <xc:Application class=\"bril::dummysource::Application\" id=\"121\" instance=\"0\" network=\"local\" service=\"sim\" logpolicy=\"inherit\">\r\n",
        "      <properties xmlns=\"urn:xdaq-application:bril::dummysource::Application\" xsi:type=\"soapenc:Struct\">\r\n",
        "          <simSource xsi:type=\"xsd:boolean\">false</simSource>\r\n",
        "          <signalTopic xsi:type=\"xsd:string\">NB64</signalTopic>\r\n",
        "      </properties>\r\n",
        "    </xc:Application>\r\n",
        "    <xc:Module>${XDAQ_ROOT}/lib/libeventingapi.so</xc:Module>\r\n",
        "    <xc:Module>%localdaqroot%/lib/libbrildummysource.so</xc:Module>\r\n",
        "\r\n",
        "</xc:Context>\r\n",
        "</xc:Partition>\r\n"
       ]
      }
     ],
     "prompt_number": 31
    },
    {
     "cell_type": "code",
     "collapsed": false,
     "input": [
      "# Rewind to rememember how did you link to the external libfakeru.so, it's in your package Makefile\n",
      "# It is used in DependentLibraryDirs, DependentLibraries, IncludeDirs\n",
      "%cat $workdir/daq/bril/dummysource/Makefile"
     ],
     "language": "python",
     "metadata": {},
     "outputs": [
      {
       "output_type": "stream",
       "stream": "stdout",
       "text": [
        "# $Id$\r\n",
        "# I'm a dummy bril source\r\n",
        "# I serve as an example and code skeleton\r\n",
        "# I should not be included in the release\r\n",
        "#\r\n",
        "BUILD_HOME:=$(shell pwd)/../../..\r\n",
        "\r\n",
        "include $(XDAQ_ROOT)/config/mfAutoconf.rules\r\n",
        "include $(XDAQ_ROOT)/config/mfDefs.$(XDAQ_OS)\r\n",
        "include $(XDAQ_ROOT)/config/mfDefs.extern_coretools\r\n",
        "include $(XDAQ_ROOT)/config/mfDefs.coretools\r\n",
        "include $(XDAQ_ROOT)/config/mfDefs.extern_powerpack\r\n",
        "include $(XDAQ_ROOT)/config/mfDefs.powerpack\r\n",
        "Project=daq\r\n",
        "Package=bril/dummysource\r\n",
        "Sources = $(wildcard src/common/*.cc)\r\n",
        "IncludeDirs = \\\r\n",
        "\t$(XI2O_UTILS_INCLUDE_PREFIX) \\\r\n",
        "        $(XERCES_INCLUDE_PREFIX) \\\r\n",
        "        $(LOG4CPLUS_INCLUDE_PREFIX) \\\r\n",
        "        $(CGICC_INCLUDE_PREFIX) \\\r\n",
        "        $(XCEPT_INCLUDE_PREFIX) \\\r\n",
        "        $(CONFIG_INCLUDE_PREFIX) \\\r\n",
        "\t$(TOOLBOX_INCLUDE_PREFIX) \\\r\n",
        "        $(PT_INCLUDE_PREFIX) \\\r\n",
        "\t$(XDAQ_INCLUDE_PREFIX) \\\r\n",
        "        $(XDATA_INCLUDE_PREFIX) \\\r\n",
        "        $(XOAP_INCLUDE_PREFIX) \\\r\n",
        "        $(XGI_INCLUDE_PREFIX) \\\r\n",
        "        $(I2O_INCLUDE_PREFIX) \\\r\n",
        "        $(XI2O_INCLUDE_PREFIX) \\\r\n",
        "        $(B2IN_NUB_INCLUDE_PREFIX) \\\r\n",
        "\t$(BUILD_HOME)/daq/interface/bril/include \\\r\n",
        "\t$(BUILD_HOME)/daq/bril/fakeru/include \r\n",
        "\r\n",
        "LibraryDirs = \r\n",
        "UserSourcePath =\r\n",
        "UserCFlags =\r\n",
        "UserCCFlags =\r\n",
        "UserDynamicLinkFlags =\r\n",
        "UserStaticLinkFlags =\r\n",
        "UserExecutableLinkFlags = \r\n",
        "DependentLibraryDirs = $(BUILD_HOME)/x86_64_slc6/lib\r\n",
        "DependentLibraries = fakeru\r\n",
        "ExternalObjects = \r\n",
        "DynamicLibrary=brildummysource\r\n",
        "StaticLibrary=\r\n",
        "TestLibraries=\r\n",
        "TestExecutables=\r\n",
        "include $(XDAQ_ROOT)/config/Makefile.rules\r\n",
        "include $(XDAQ_ROOT)/config/mfRPM.rules\r\n"
       ]
      }
     ],
     "prompt_number": 32
    },
    {
     "cell_type": "code",
     "collapsed": false,
     "input": [
      "# Generate configuration\n",
      "%cd $workdir/daq/bril/scripts\n",
      "!./generatexml.sh dummysource"
     ],
     "language": "python",
     "metadata": {},
     "outputs": [
      {
       "output_type": "stream",
       "stream": "stdout",
       "text": [
        "/home/zhen/work/pynb/sandbox/daq/bril/scripts\n",
        "sources:\r\n",
        "    dummysource/template.param,dummysource/LocalDataSimulator_inzone.template\r\n",
        "generated:\r\n",
        "    /home/zhen/work/pynb/sandbox/daq/bril/scripts/LocalDataSimulator_inzone.xml\r\n"
       ]
      },
      {
       "output_type": "stream",
       "stream": "stdout",
       "text": [
        "command per context:\r\n",
        "   /opt/xdaq/bin/xdaq.exe -p 50000 -c /home/zhen/work/pynb/sandbox/daq/bril/scripts/LocalDataSimulator_inzone.xml -z bril\r\n",
        "\r\n",
        "sources:\r\n",
        "    dummysource/template.param,dummysource/SkeletonApplication.template\r\n",
        "generated:\r\n",
        "    /home/zhen/work/pynb/sandbox/daq/bril/scripts/SkeletonApplication.xml\r\n"
       ]
      },
      {
       "output_type": "stream",
       "stream": "stdout",
       "text": [
        "command per context:\r\n",
        "   /opt/xdaq/bin/xdaq.exe -p 50000 -c /home/zhen/work/pynb/sandbox/daq/bril/scripts/SkeletonApplication.xml \r\n",
        "\r\n",
        "sources:\r\n",
        "    dummysource/template.param,dummysource/LocalApplication_inzone.template\r\n",
        "generated:\r\n",
        "    /home/zhen/work/pynb/sandbox/daq/bril/scripts/LocalApplication_inzone.xml\r\n"
       ]
      },
      {
       "output_type": "stream",
       "stream": "stdout",
       "text": [
        "command per context:\r\n",
        "   /opt/xdaq/bin/xdaq.exe -p 50000 -c /home/zhen/work/pynb/sandbox/daq/bril/scripts/LocalApplication_inzone.xml -z bril\r\n",
        "\r\n",
        "sources:\r\n",
        "    dummysource/template.param,dummysource/LocalMonitorable.template\r\n",
        "generated:\r\n",
        "    /home/zhen/work/pynb/sandbox/daq/bril/scripts/LocalMonitorable.xml\r\n"
       ]
      },
      {
       "output_type": "stream",
       "stream": "stdout",
       "text": [
        "command per context:\r\n",
        "   /opt/xdaq/bin/xdaq.exe -p 50000 -c /home/zhen/work/pynb/sandbox/daq/bril/scripts/LocalMonitorable.xml \r\n",
        "\r\n",
        "sources:\r\n",
        "    dummysource/template.param,dummysource/LocalDataSimulator.template\r\n"
       ]
      },
      {
       "output_type": "stream",
       "stream": "stdout",
       "text": [
        "generated:\r\n",
        "    /home/zhen/work/pynb/sandbox/daq/bril/scripts/LocalDataSimulator.xml\r\n"
       ]
      },
      {
       "output_type": "stream",
       "stream": "stdout",
       "text": [
        "command per context:\r\n",
        "   /opt/xdaq/bin/xdaq.exe -p 50000 -c /home/zhen/work/pynb/sandbox/daq/bril/scripts/LocalDataSimulator.xml \r\n",
        "\r\n",
        "sources:\r\n",
        "    dummysource/template.param,dummysource/LocalMonitorableAndCollector.template\r\n",
        "generated:\r\n",
        "    /home/zhen/work/pynb/sandbox/daq/bril/scripts/LocalMonitorableAndCollector.xml\r\n"
       ]
      },
      {
       "output_type": "stream",
       "stream": "stdout",
       "text": [
        "command per context:\r\n"
       ]
      },
      {
       "output_type": "stream",
       "stream": "stdout",
       "text": [
        "   /opt/xdaq/bin/xdaq.exe -p 50000 -c /home/zhen/work/pynb/sandbox/daq/bril/scripts/LocalMonitorableAndCollector.xml \r\n",
        "\r\n",
        "sources:\r\n",
        "    dummysource/template.param,dummysource/LocalMonitorable_inzone.template\r\n",
        "generated:\r\n",
        "    /home/zhen/work/pynb/sandbox/daq/bril/scripts/LocalMonitorable_inzone.xml\r\n"
       ]
      },
      {
       "output_type": "stream",
       "stream": "stdout",
       "text": [
        "command per context:\r\n",
        "   /opt/xdaq/bin/xdaq.exe -p 50000 -c /home/zhen/work/pynb/sandbox/daq/bril/scripts/LocalMonitorable_inzone.xml -z bril\r\n",
        "\r\n",
        "sources:\r\n",
        "    dummysource/template.param,dummysource/DataSimulator.template\r\n",
        "generated:\r\n",
        "    /home/zhen/work/pynb/sandbox/daq/bril/scripts/DataSimulator.xml\r\n"
       ]
      },
      {
       "output_type": "stream",
       "stream": "stdout",
       "text": [
        "command per context:\r\n",
        "   /opt/xdaq/bin/xdaq.exe -p 50000 -c /home/zhen/work/pynb/sandbox/daq/bril/scripts/DataSimulator.xml \r\n",
        "\r\n",
        "sources:\r\n",
        "    dummysource/template.param,dummysource/LocalMonitorableAndCollector_inzone.template\r\n",
        "generated:\r\n",
        "    /home/zhen/work/pynb/sandbox/daq/bril/scripts/LocalMonitorableAndCollector_inzone.xml\r\n"
       ]
      },
      {
       "output_type": "stream",
       "stream": "stdout",
       "text": [
        "command per context:\r\n",
        "   /opt/xdaq/bin/xdaq.exe -p 50000 -c /home/zhen/work/pynb/sandbox/daq/bril/scripts/LocalMonitorableAndCollector_inzone.xml -z bril\r\n",
        "\r\n",
        "sources:\r\n",
        "    dummysource/template.param,dummysource/DataSimulator_inzone.template\r\n",
        "generated:\r\n",
        "    /home/zhen/work/pynb/sandbox/daq/bril/scripts/DataSimulator_inzone.xml\r\n"
       ]
      },
      {
       "output_type": "stream",
       "stream": "stdout",
       "text": [
        "command per context:\r\n",
        "   /opt/xdaq/bin/xdaq.exe -p 50000 -c /home/zhen/work/pynb/sandbox/daq/bril/scripts/DataSimulator_inzone.xml -z bril\r\n",
        "\r\n",
        "sources:\r\n",
        "    dummysource/template.param,dummysource/LocalApplication.template\r\n",
        "generated:\r\n",
        "    /home/zhen/work/pynb/sandbox/daq/bril/scripts/LocalApplication.xml\r\n"
       ]
      },
      {
       "output_type": "stream",
       "stream": "stdout",
       "text": [
        "command per context:\r\n",
        "   /opt/xdaq/bin/xdaq.exe -p 50000 -c /home/zhen/work/pynb/sandbox/daq/bril/scripts/LocalApplication.xml \r\n",
        "\r\n"
       ]
      }
     ],
     "prompt_number": 33
    },
    {
     "cell_type": "code",
     "collapsed": false,
     "input": [
      "# Now run the suggested line with LocalApplication_inzone.xml -z bril if using brildev host\n",
      "# Otherwise, run LocalApplication.xml \n",
      "# In the screen, you should see \"publish a real histogram\" in about every 0.3 sec. And some \"bunch 1 overflow\"\n",
      "# error in the middle.\n",
      "# (In a session where you don't have an eventing server running, you should start it by yourself first)"
     ],
     "language": "python",
     "metadata": {},
     "outputs": [],
     "prompt_number": 34
    },
    {
     "cell_type": "code",
     "collapsed": false,
     "input": [
      "# Rewind to read Application.cc another time but focus on logging, exception and error handling\n",
      "# For logging, we use macro LOG4CPLUS_XXXXX\n",
      "#\n",
      "# For throwing exception as our own type, we use macro XCEPT_RAISE or XCEPT_RETHROW\n",
      "#\n",
      "# Inside a workloop, or in a situation that the exception has no possible handlers, we swallow it\n",
      "# by declaring exception without throwing using macro XCEPT_DECLARE, XCEPT_DECLARE_NESTED\n",
      "# Then notify the system and leave it as that. In bril zone, such notification will be collected by xmas/sentinel.\n",
      "#\n",
      "# For example, inside the reading workloop method, in block \"if(dataAddress)\", we construct a hardware error situation \n",
      "# then declare and notify the system. If we run in the bril zone, the error will be shown in xdaq xmas web\n",
      "# https://xdaq.web.cern.ch/xdaq/smarthub\n",
      "%cat $workdir/daq/bril/dummysource/src/common/Application.cc"
     ],
     "language": "python",
     "metadata": {},
     "outputs": [
      {
       "output_type": "stream",
       "stream": "stdout",
       "text": [
        "#include \"cgicc/CgiDefs.h\"\r\n",
        "#include \"cgicc/Cgicc.h\"\r\n",
        "#include \"cgicc/HTTPHTMLHeader.h\"\r\n",
        "#include \"cgicc/HTMLClasses.h\"\r\n",
        "#include \"xcept/tools.h\"\r\n",
        "#include \"toolbox/mem/HeapAllocator.h\"\r\n",
        "#include \"toolbox/mem/MemoryPoolFactory.h\"\r\n",
        "#include \"toolbox/task/WorkLoop.h\"\r\n",
        "#include \"toolbox/task/WorkLoopFactory.h\"\r\n",
        "#include \"b2in/nub/Method.h\"\r\n",
        "#include \"bril/dummysource/Application.h\" \r\n",
        "#include \"bril/dummysource/exception/Exception.h\"\r\n",
        "#include \"fake/FakeRU.h\"\r\n",
        "#include <unistd.h>\r\n",
        "\r\n",
        "XDAQ_INSTANTIATOR_IMPL (bril::dummysource::Application)\r\n",
        "\r\n",
        "bril::dummysource::Application::Application (xdaq::ApplicationStub* s) throw (xdaq::exception::Exception) : xdaq::Application(s),eventing::api::Member(this){\r\n",
        "  this->getEventingBus(\"brildata\").addActionListener(this);\r\n",
        "  xgi::bind(this, &bril::dummysource::Application::Default, \"Default\");\r\n",
        "  b2in::nub::bind(this, &bril::dummysource::Application::onMessage);\r\n",
        "  m_appInfoSpace = getApplicationInfoSpace();\r\n",
        "  m_appDescriptor= getApplicationDescriptor();\r\n",
        "  m_classname    = m_appDescriptor->getClassName();\r\n",
        "  m_poolFactory  = toolbox::mem::getMemoryPoolFactory();\r\n",
        "  toolbox::net::URN memurn(\"toolbox-mem-pool\",m_classname+\"_mem\"); \r\n",
        "  try{\r\n",
        "    m_appInfoSpace->fireItemAvailable(\"simSource\",&m_simSource);\r\n",
        "    m_appInfoSpace->fireItemAvailable(\"signalTopic\",&m_signalTopic);\r\n",
        "    m_appInfoSpace->addListener(this, \"urn:xdaq-event:setDefaultValues\");\r\n",
        "    toolbox::mem::HeapAllocator* allocator = new toolbox::mem::HeapAllocator();\r\n",
        "    m_memPool = m_poolFactory->createPool(memurn,allocator);\r\n",
        "    /**\r\n",
        "       create reading workloop for real mode, but we don't activate it here\r\n",
        "       \r\n",
        "     */\r\n",
        "    xdata::UnsignedInteger instanceid = m_appDescriptor->getInstance();\r\n",
        "    toolbox::net::URN wlurn(\"xdaq-workloop\",m_classname+instanceid.toString()+\"_reading\");\r\n",
        "    m_readingwl = toolbox::task::getWorkLoopFactory()->getWorkLoop(wlurn.toString(),\"waiting\");\r\n",
        "  }catch(xdata::exception::Exception& e){\r\n",
        "    std::string msg(\"Failed to setup appInfoSpace \");\r\n",
        "    LOG4CPLUS_FATAL(getApplicationLogger(),msg+stdformat_exception_history(e)); \r\n",
        "    XCEPT_RETHROW(bril::dummysource::exception::Exception,msg,e);\t\r\n",
        "  }catch(xcept::Exception& e){\r\n",
        "    std::string msg(\"Failed to setup memory pool \");\r\n",
        "    LOG4CPLUS_FATAL(getApplicationLogger(),msg+stdformat_exception_history(e));\r\n",
        "    XCEPT_RETHROW(bril::dummysource::exception::Exception,msg,e);\t\r\n",
        "  }\r\n",
        "\r\n",
        "  m_fakeru = 0;\r\n",
        "}\r\n",
        "\r\n",
        "bril::dummysource::Application::~Application (){\r\n",
        "  // cancel workloop\r\n",
        "  m_readingwl->cancel();\r\n",
        "  // cleanup resource\r\n",
        "  if(m_fakeru){\r\n",
        "    delete m_fakeru;\r\n",
        "    m_fakeru = 0;\r\n",
        "  }\r\n",
        "}\r\n",
        "\r\n",
        "void bril::dummysource::Application::Default (xgi::Input * in, xgi::Output * out) throw (xgi::exception::Exception){\r\n",
        "  *out <<  \"<!doctype html>\" << std::endl;\r\n",
        "  *out << \"<html xmlns=\\\"http://www.w3.org/1999/xhtml\\\">\" << std::endl;\r\n",
        "  *out << \"<head>\"<< std::endl;\r\n",
        "  *out << \"<meta http-equiv=\\\"Content-Type\\\" content=\\\"text/html\\\"; charset=\\\"utf-8\\\">\"<<std::endl;\r\n",
        "  *out << \"<title>dummysource </title>\"<<std::endl;\r\n",
        "  *out << \"</head>\"<< std::endl;\r\n",
        "  *out << \"<body>\" << std::endl;\r\n",
        "  std::string appurl = getApplicationContext()->getContextDescriptor()->getURL()+\"/\"+m_appDescriptor->getURN();\r\n",
        "  *out << appurl <<std::endl;\r\n",
        "  if(m_simSource){\r\n",
        "    *out << \"publish simulated data on frequency : \"<< m_signalTopic.toString() <<std::endl;\r\n",
        "  }else{\r\n",
        "    *out << \"publish real data\"<<std::endl;\r\n",
        "  }\r\n",
        "  *out << \"</body>\"<< std::endl;\r\n",
        "  *out << \"</html>\"<< std::endl;\r\n",
        "}\r\n",
        "\r\n",
        "void bril::dummysource::Application::actionPerformed(xdata::Event& e){\r\n",
        "  LOG4CPLUS_INFO(getApplicationLogger(), \"Received xdata event \" << e.type());\r\n",
        "  if( e.type() == \"urn:xdaq-event:setDefaultValues\" ){\r\n",
        "    if(m_simSource){\r\n",
        "      LOG4CPLUS_DEBUG(getApplicationLogger(), std::string(\"I'm a simulator, subscribing to \")+m_signalTopic.toString());\r\n",
        "      try{\r\n",
        "\tthis->getEventingBus(\"brildata\").subscribe(m_signalTopic);\r\n",
        "      }catch(eventing::api::exception::Exception& e){\r\n",
        "\tstd::string msg(\"Failed to subscribe to eventing bus brildata\");\r\n",
        "\tLOG4CPLUS_ERROR(getApplicationLogger(),msg+stdformat_exception_history(e));\r\n",
        "\tXCEPT_RETHROW(bril::dummysource::exception::Exception,msg,e);\t\r\n",
        "      }\r\n",
        "    }else{\r\n",
        "      LOG4CPLUS_DEBUG(getApplicationLogger(), std::string(\"I'm for real, connect to ru\"));\r\n",
        "      m_fakeru = new fake::FakeRU;      \r\n",
        "    }\r\n",
        "  }\r\n",
        "}\r\n",
        "\r\n",
        "void bril::dummysource::Application::actionPerformed(toolbox::Event& e){\r\n",
        "  LOG4CPLUS_INFO(getApplicationLogger(), \"Received toolbox event \" << e.type());\r\n",
        "  if ( (!m_simSource)&&(e.type() == \"eventing::api::BusReadyToPublish\") ){\r\n",
        "    std::string busname = (static_cast<eventing::api::Bus*>(e.originator()))->getBusName();\r\n",
        "    std::stringstream msg;\r\n",
        "    msg<< \"event Bus '\" << busname << \"' is ready to publish\";\r\n",
        "    LOG4CPLUS_INFO(getApplicationLogger(),msg.str());\r\n",
        "    try{\r\n",
        "      // bind method \"reading\" to reading workloop\r\n",
        "      toolbox::task::ActionSignature* as_reading = toolbox::task::bind(this,&bril::dummysource::Application::reading,\"reading\");\r\n",
        "      // activate and submit workloop \"reading\"\r\n",
        "      m_readingwl->activate();\r\n",
        "      m_readingwl->submit(as_reading);\r\n",
        "    }catch(toolbox::task::exception::Exception& e){\r\n",
        "      // Note: when caught an exception, if you don't handle it\r\n",
        "      // you should rethrow either as the same type, or as a different type. \r\n",
        "      // Exceptions swallowed by you are hidden from upstream callers who\r\n",
        "      // might be able to handle it.\r\n",
        "      // Here we log the error then rethrow it as our own type \r\n",
        "      std::string msg(\"Failed to start workloop \");\r\n",
        "      LOG4CPLUS_ERROR(getApplicationLogger(),msg+stdformat_exception_history(e));\r\n",
        "      XCEPT_RETHROW(bril::dummysource::exception::Exception,msg,e);\t\r\n",
        "    }\r\n",
        "  }\r\n",
        "}\r\n",
        "\r\n",
        "void bril::dummysource::Application::onMessage(toolbox::mem::Reference * ref, xdata::Properties & plist) throw (b2in::nub::exception::Exception){\r\n",
        "      std::string action = plist.getProperty(\"urn:b2in-eventing:action\");\r\n",
        "      if (action == \"notify\"){\r\n",
        "\tstd::string topic = plist.getProperty(\"urn:b2in-eventing:topic\");\r\n",
        "\tif(topic == m_signalTopic.toString()){\r\n",
        "\t  // On receiving timing signal we publish simulated data \r\n",
        "\t  do_publish();\r\n",
        "\t}\r\n",
        "      }\r\n",
        "      if(ref!=0){\r\n",
        "\tref->release();\r\n",
        "\tref=0;\r\n",
        "      }\r\n",
        "}\r\n",
        "\r\n",
        "/** publish an array to bril b2in \r\n",
        "    if you publish to DIP, change here\r\n",
        "*/\r\n",
        "void bril::dummysource::Application::do_publish(){\r\n",
        "  toolbox::mem::Reference* bufRef=0;\r\n",
        "  xdata::Properties plist;\r\n",
        "  plist.setProperty(\"classname\",m_classname);\r\n",
        "  std::string topicname=m_classname+\"Topic\";\r\n",
        "  try{\r\n",
        "    size_t n=3564;\r\n",
        "    int fakedata[n];\r\n",
        "    for(size_t i=0;i<n;++i){fakedata[i]=i+1;}\r\n",
        "    size_t fakedatasize = n*sizeof(int);    \r\n",
        "    bufRef = m_poolFactory->getFrame(m_memPool,fakedatasize);\r\n",
        "    memcpy(bufRef->getDataLocation(),fakedata,fakedatasize);\r\n",
        "    LOG4CPLUS_INFO(this->getApplicationLogger(), \"publish a simulated histogram to bril\");\r\n",
        "    this->getEventingBus(\"brildata\").publish(topicname,bufRef,plist);\r\n",
        "  }catch(xcept::Exception& e){\r\n",
        "    std::string msg(\"Failed to publish data to eventing \");\r\n",
        "    LOG4CPLUS_ERROR(getApplicationLogger(),msg+stdformat_exception_history(e));\r\n",
        "    XCEPT_RETHROW(bril::dummysource::exception::Exception,msg,e);  \r\n",
        "  }\r\n",
        "}\r\n",
        "\r\n",
        "bool bril::dummysource::Application::reading(toolbox::task::WorkLoop* wl){\r\n",
        "  std::string topicname=m_classname+\"Topic\";\r\n",
        "  toolbox::mem::Reference* bufRef=0;\r\n",
        "  xdata::Properties plist;\r\n",
        "  plist.setProperty(\"classname\",m_classname);\r\n",
        "  int* dataAddress = m_fakeru->getnext(); \r\n",
        "  if(dataAddress){\r\n",
        "    if(dataAddress[0]>5&&dataAddress[0]<10){\r\n",
        "      // we notify the external error collector(sentinel) that a hardware error occured. \r\n",
        "      // Note: here we don't throw. \r\n",
        "      //Because it's inside a workloop, no one can handle the error.\r\n",
        "      // So we just notify the system and leave it at that.\r\n",
        "      std::string msg(\"bunch 1 overflow\");\r\n",
        "      XCEPT_DECLARE(bril::dummysource::exception::HardwareError,myerrorobj,msg);\r\n",
        "      this->notifyQualified(\"fatal\",myerrorobj);\r\n",
        "    }\r\n",
        "    size_t datasize = m_fakeru->datasize();\r\n",
        "    try{\r\n",
        "      bufRef = m_poolFactory->getFrame(m_memPool,datasize);\r\n",
        "      memcpy(bufRef->getDataLocation(),dataAddress,datasize);\r\n",
        "      LOG4CPLUS_INFO(getApplicationLogger(),\"publish a real histogram to bril\");\r\n",
        "      this->getEventingBus(\"brildata\").publish(topicname,bufRef,plist);\r\n",
        "      free(dataAddress);\r\n",
        "    }catch(toolbox::mem::exception::Exception& e){\r\n",
        "      std::string msg(\"Failed to obtain buffer from memory pool \");\r\n",
        "      XCEPT_DECLARE_NESTED(bril::dummysource::exception::Exception,myerrorobj,msg,e);\r\n",
        "      this->notifyQualified(\"fatal\",myerrorobj);\r\n",
        "    }catch(eventing::api::exception::Exception& e){\r\n",
        "      std::string msg(\"Failed to publish to eventing \");\r\n",
        "      XCEPT_DECLARE_NESTED(bril::dummysource::exception::Exception,myerrorobj,msg,e);\r\n",
        "      this->notifyQualified(\"fatal\",myerrorobj);\r\n",
        "    }\r\n",
        "  }\r\n",
        "  // return true asks the workloop coming back for more work until canceled.\r\n",
        "  return true;\r\n",
        "}\r\n",
        "\r\n",
        "\r\n",
        "\r\n",
        "\r\n"
       ]
      }
     ],
     "prompt_number": 35
    },
    {
     "cell_type": "code",
     "collapsed": false,
     "input": [
      "# We define our own exception types in include/bril/subpackage/exception/Exception.h \n",
      "# In most case, you just need to copy& paste this Exception.h and throw your generic bril::subpackage::exception::Exception.\n",
      "# In some case, you want more specific errors, use macro XCEPT_DEFINE_EXCEPTION\n",
      "# Better exception handling requires some time to get experience, for now we just follow some dumb rules:\n",
      "#   copy&paste the include exception directory\n",
      "#   always try/catch/rethrow if we don't handle, except in workloops\n",
      "#   in workloops, we don't throw. We declare or try/catch/declare_nested and notify"
     ],
     "language": "python",
     "metadata": {},
     "outputs": [],
     "prompt_number": 36
    },
    {
     "cell_type": "markdown",
     "metadata": {},
     "source": [
      "### *Make your own package*\n",
      "Note: *this is not a drill, you should do this for real and commit.*"
     ]
    },
    {
     "cell_type": "markdown",
     "metadata": {},
     "source": [
      "\n",
      "If you already have any of the destination files below in the repository, save them first to filename.save\n",
      "\n",
      "cp \\$workdir/daq/bril/dummysource/Makefile \\$workdir/daq/bril/$yoursource/Makefile\n",
      "\n",
      "cp \\$workdir/daq/bril/dummysource/include/bril/dummysource/Application.h \\$workdir/daq/bril/\\$yoursource/include/bril/\\$yoursource/Application.h\n",
      "\n",
      "If you do not already have exception directory\n",
      "\n",
      "cp -rf \\$workdir/daq/bril/dummysource/include/bril/dummysource/exception  \\$workdir/daq/bril/\\$yoursource/include/bril/\\$yoursource\n",
      "\n",
      "cp \\$workdir/daq/bril/dummysource/src/common/Application.cc  \\$workdir/daq/bril/\\$yoursource/src/common/Application.cc\n",
      "\n",
      "cp \\$workdir/daq/bril/scripts/dummysource/LocalApplication\\*  \\$workdir/daq/bril/scripts/\\$yoursource/\n",
      "\n",
      "cp \\$workdir/daq/bril/scripts/dummysource/template.param \\$workdir/daq/bril/scripts/\\$yoursource/\n",
      "\n",
      "\n",
      "\n",
      "If you do not already have version.\\* files, copy them too. Otherwise, do not copy. \n",
      "\n",
      "version files are used for version and dependency control in rpm building, they do not affect your application's functionality. \n",
      "\n",
      "cp \\$workdir/daq/bril/dummysource/include/bril/dummysource/version.h \\$workdir/daq/bril/\\$yoursource/include/bril/\\$yoursource\n",
      "\n",
      "cp \\$workdir/daq/bril/dummysource/src/common/version.cc \\$workdir/daq/bril/\\$yoursource/src/common\n",
      "\n",
      "\n",
      "Open your preferred editor to modify the newly copied files.\n",
      "The usual hotspots are: namespace, include guards, include path, use grep -i dummysource \\$yoursource/*/*/* \n",
      "\n",
      "Finally test with make install and run in brilzone"
     ]
    },
    {
     "cell_type": "markdown",
     "metadata": {},
     "source": [
      "### *Customize your own package(s)*\n",
      "\n",
      "Now look at your saved files if any, merge back any functionalities which you consider valuable. If none, discard them.\n",
      "\n",
      "Commit all in your package to svn. Yes, please do.\n",
      "\n",
      "You can populate the processor package as well if you have one. All identical to above, except :\n",
      "\n",
      "   1. remove all about sim or real mode.\n",
      "   2. you subscribe to data topics instead of the timing topic from timesource. Remove timesource from configuration\n",
      "   3. implement a do_process as message callback \n",
      " "
     ]
    },
    {
     "cell_type": "code",
     "collapsed": false,
     "input": [],
     "language": "python",
     "metadata": {},
     "outputs": []
    }
   ],
   "metadata": {}
  }
 ]
}