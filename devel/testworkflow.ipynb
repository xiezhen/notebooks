{
 "metadata": {
  "name": "",
  "signature": "sha256:58158060415b3a062721e18ef0d5756d4c9f7ffd426cb63d61efe091ca44f0f5"
 },
 "nbformat": 3,
 "nbformat_minor": 0,
 "worksheets": [
  {
   "cells": [
    {
     "cell_type": "code",
     "collapsed": false,
     "input": [
      "%pwd"
     ],
     "language": "python",
     "metadata": {},
     "outputs": []
    },
    {
     "cell_type": "code",
     "collapsed": false,
     "input": [
      "!mkdir devel_example"
     ],
     "language": "python",
     "metadata": {},
     "outputs": [],
     "prompt_number": 2
    },
    {
     "cell_type": "code",
     "collapsed": false,
     "input": [
      "%cd devel_example"
     ],
     "language": "python",
     "metadata": {},
     "outputs": [
      {
       "output_type": "stream",
       "stream": "stdout",
       "text": [
        "/home/zhen/work/bril/notebooks/devel_example\n"
       ]
      }
     ],
     "prompt_number": 3
    },
    {
     "cell_type": "markdown",
     "metadata": {},
     "source": [
      "* load variables with useful information"
     ]
    },
    {
     "cell_type": "code",
     "collapsed": false,
     "input": [
      "project_name = \"devel_example\"\n",
      "project_remote = \"git@github.com:xiezhen/notebooks.git\""
     ],
     "language": "python",
     "metadata": {},
     "outputs": [],
     "prompt_number": 5
    },
    {
     "cell_type": "markdown",
     "metadata": {},
     "source": [
      "* clone the project "
     ]
    },
    {
     "cell_type": "code",
     "collapsed": false,
     "input": [
      "# Create the project as new\n",
      "!git clone $project_remote $project_name\n",
      "\n",
      "# Or clone the project\n",
      "! git clone $project_remote\n",
      "\n",
      "# cd into the local project folder\n",
      "%cd $project_name\n"
     ],
     "language": "python",
     "metadata": {},
     "outputs": [
      {
       "output_type": "stream",
       "stream": "stdout",
       "text": [
        "Initialized empty Git repository in /home/zhen/work/bril/notebooks/devel_example/devel_example/devel_example/.git/\r\n"
       ]
      },
      {
       "output_type": "stream",
       "stream": "stdout",
       "text": [
        "remote: Counting objects: 3, done.\u001b[K\r\n",
        "remote: Total 3 (delta 0), reused 0 (delta 0)\u001b[K\r\n",
        "Receiving objects:  33% (1/3)   \r",
        "Receiving objects:  66% (2/3)   \r",
        "Receiving objects: 100% (3/3)   \r",
        "Receiving objects: 100% (3/3), done.\r\n"
       ]
      },
      {
       "output_type": "stream",
       "stream": "stdout",
       "text": [
        "Initialized empty Git repository in /home/zhen/work/bril/notebooks/devel_example/devel_example/notebooks/.git/\r\n"
       ]
      },
      {
       "output_type": "stream",
       "stream": "stdout",
       "text": [
        "remote: Counting objects: 3, done.\u001b[K\r\n",
        "remote: Total 3 (delta 0), reused 0 (delta 0)\u001b[K\r\n",
        "Receiving objects:  33% (1/3)   \r",
        "Receiving objects:  66% (2/3)   \r",
        "Receiving objects: 100% (3/3)   \r",
        "Receiving objects: 100% (3/3), done.\r\n"
       ]
      },
      {
       "output_type": "stream",
       "stream": "stdout",
       "text": [
        "/home/zhen/work/bril/notebooks/devel_example/devel_example/devel_example\n"
       ]
      }
     ],
     "prompt_number": 8
    },
    {
     "cell_type": "code",
     "collapsed": false,
     "input": [
      "# list the files structure to find the needed files\n",
      "%ls"
     ],
     "language": "python",
     "metadata": {},
     "outputs": [
      {
       "output_type": "stream",
       "stream": "stdout",
       "text": [
        "README.md\r\n"
       ]
      }
     ],
     "prompt_number": 9
    },
    {
     "cell_type": "code",
     "collapsed": false,
     "input": [
      "%load README.md\n",
      "# After executing %load, a new cell containing the source code will be added.\n",
      "# Be sure to add the next line (with the proper path) to overwrite the file\n",
      "# with your changes.\n",
      "#\n",
      "# %%writefile README.md\n",
      "# copy&paste from output , modify then execute here"
     ],
     "language": "python",
     "metadata": {},
     "outputs": [],
     "prompt_number": 19
    },
    {
     "cell_type": "code",
     "collapsed": false,
     "input": [
      "notebooks\n",
      "=========\n",
      "\n",
      "my ipython notebooks\n"
     ],
     "language": "python",
     "metadata": {},
     "outputs": []
    },
    {
     "cell_type": "code",
     "collapsed": false,
     "input": [
      "%%writefile README.md\n",
      "notebooks\n",
      "=========\n",
      "\n",
      "my ipython notebook collection "
     ],
     "language": "python",
     "metadata": {},
     "outputs": [
      {
       "output_type": "stream",
       "stream": "stdout",
       "text": [
        "Overwriting README.md\n"
       ]
      }
     ],
     "prompt_number": 20
    },
    {
     "cell_type": "markdown",
     "metadata": {},
     "source": [
      "* check the status and diff of your modifications:"
     ]
    },
    {
     "cell_type": "code",
     "collapsed": false,
     "input": [
      "# Check status\n",
      "!git status"
     ],
     "language": "python",
     "metadata": {},
     "outputs": [
      {
       "output_type": "stream",
       "stream": "stdout",
       "text": [
        "# On branch master\r\n",
        "# Changed but not updated:\r\n",
        "#   (use \"git add <file>...\" to update what will be committed)\r\n",
        "#   (use \"git checkout -- <file>...\" to discard changes in working directory)\r\n",
        "#\r\n",
        "#\tmodified:   README.md\r\n",
        "#\r\n",
        "no changes added to commit (use \"git add\" and/or \"git commit -a\")\r\n"
       ]
      }
     ],
     "prompt_number": 21
    },
    {
     "cell_type": "code",
     "collapsed": false,
     "input": [
      "# See the diff\n",
      "!git diff"
     ],
     "language": "python",
     "metadata": {},
     "outputs": [
      {
       "output_type": "stream",
       "stream": "stdout",
       "text": [
        "diff --git a/README.md b/README.md\r\n",
        "index e3311a6..0e38e6c 100644\r\n",
        "--- a/README.md\r\n",
        "+++ b/README.md\r\n",
        "@@ -1,4 +1,4 @@\r\n",
        " notebooks\r\n",
        " =========\r\n",
        " \r\n",
        "-my ipython notebooks\r\n",
        "+my ipython notebook collection \r\n",
        "\\ No newline at end of file\r\n"
       ]
      }
     ],
     "prompt_number": 22
    },
    {
     "cell_type": "code",
     "collapsed": false,
     "input": [
      "# Add the modified files to the stage\n",
      "!git add ."
     ],
     "language": "python",
     "metadata": {},
     "outputs": [],
     "prompt_number": 24
    },
    {
     "cell_type": "code",
     "collapsed": false,
     "input": [
      "# Add to your commit\n",
      "!git commit -am \"added modification\""
     ],
     "language": "python",
     "metadata": {},
     "outputs": [
      {
       "output_type": "stream",
       "stream": "stdout",
       "text": [
        "[master 157b2ce] added modification\r\n",
        " Committer: Zhen Xie <zhen@pczhen.cern.ch>\r\n",
        "Your name and email address were configured automatically based\r\n",
        "on your username and hostname. Please check that they are accurate.\r\n",
        "You can suppress this message by setting them explicitly:\r\n",
        "\r\n",
        "    git config --global user.name \"Your Name\"\r\n",
        "    git config --global user.email you@example.com\r\n",
        "\r\n",
        "If the identity used for this commit is wrong, you can fix it with:\r\n",
        "\r\n",
        "    git commit --amend --author='Your Name <you@example.com>'\r\n",
        "\r\n",
        " 1 files changed, 1 insertions(+), 1 deletions(-)\r\n"
       ]
      }
     ],
     "prompt_number": 25
    },
    {
     "cell_type": "markdown",
     "metadata": {},
     "source": [
      "* Push your local development to Github:\n"
     ]
    },
    {
     "cell_type": "code",
     "collapsed": false,
     "input": [
      "# Push updates from your local git to remote master\n",
      "!git push origin master"
     ],
     "language": "python",
     "metadata": {},
     "outputs": [
      {
       "output_type": "stream",
       "stream": "stdout",
       "text": [
        "Counting objects: 5, done.\r\n",
        "Delta compression using up to 4 threads.\r\n",
        "Compressing objects:  50% (1/2)   \r",
        "Compressing objects: 100% (2/2)   \r",
        "Compressing objects: 100% (2/2), done.\r\n",
        "Writing objects:  33% (1/3)   \r",
        "Writing objects:  66% (2/3)   \r",
        "Writing objects: 100% (3/3)   \r",
        "Writing objects: 100% (3/3), 284 bytes, done.\r\n",
        "Total 3 (delta 0), reused 0 (delta 0)\r\n"
       ]
      },
      {
       "output_type": "stream",
       "stream": "stdout",
       "text": [
        "To git@github.com:xiezhen/notebooks.git\r\n",
        "   dce9adc..157b2ce  master -> master\r\n"
       ]
      }
     ],
     "prompt_number": 26
    },
    {
     "cell_type": "code",
     "collapsed": false,
     "input": [],
     "language": "python",
     "metadata": {},
     "outputs": []
    }
   ],
   "metadata": {}
  }
 ]
}