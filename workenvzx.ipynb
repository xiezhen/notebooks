{
 "metadata": {
  "name": "",
  "signature": "sha256:c736929fa915415ad71cad6035cf4cd8213a74cbe254bc7934454dd2e444917e"
 },
 "nbformat": 3,
 "nbformat_minor": 0,
 "worksheets": [
  {
   "cells": [
    {
     "cell_type": "markdown",
     "metadata": {},
     "source": [
      "<div>\n",
      "IPython notebook notions:<br>\n",
      "empty bracket[]:          executable code cell, Ctr-Enter to run in place. <br>\n",
      "number in bracket[1]:     executed. The command number in history.<br>\n",
      "\\* in bracket\\[\\*\\]:      process busy. ipython will not respond in this state. To force stop process: interrupt/restart Kernel <br>\n",
      "!:                    run one command in bash.<br>\n",
      "%%bash:               run block in bash. Same as what you run for real.<br>\n",
      "%run:                 run python script. As if you would do normally: python p.py <br>\n",
      "% :                   ipython notebook native command. Same functionality as in shell if called the same. <br>\n",
      "</div>"
     ]
    },
    {
     "cell_type": "heading",
     "level": 2,
     "metadata": {},
     "source": [
      "Preparation"
     ]
    },
    {
     "cell_type": "code",
     "collapsed": true,
     "input": [
      "# Remember workdir\n",
      "workdir=%pwd\n",
      "print workdir"
     ],
     "language": "python",
     "metadata": {},
     "outputs": [
      {
       "output_type": "stream",
       "stream": "stdout",
       "text": [
        "/home/zhen/work/pynb/sandbox/zx/notebooks\n"
       ]
      }
     ],
     "prompt_number": 1
    },
    {
     "cell_type": "code",
     "collapsed": true,
     "input": [
      "%%bash --out output --err error\n",
      "rm -rf daq\n",
      "svn export https://svn.cern.ch/reps/cmsos/branches/bril/daq "
     ],
     "language": "python",
     "metadata": {},
     "outputs": [],
     "prompt_number": 2
    },
    {
     "cell_type": "code",
     "collapsed": false,
     "input": [
      "# Where I am now \n",
      "%pwd"
     ],
     "language": "python",
     "metadata": {},
     "outputs": [
      {
       "metadata": {},
       "output_type": "pyout",
       "prompt_number": 3,
       "text": [
        "u'/home/zhen/work/pynb/sandbox/zx/notebooks'"
       ]
      }
     ],
     "prompt_number": 3
    },
    {
     "cell_type": "code",
     "collapsed": true,
     "input": [
      "# list my top level workdir\n",
      "%ls"
     ],
     "language": "python",
     "metadata": {},
     "outputs": [
      {
       "output_type": "stream",
       "stream": "stdout",
       "text": [
        "\u001b[0m\u001b[01;34mdaq\u001b[0m/  README.md  \u001b[01;34mserver\u001b[0m/  testworkflow.ipynb  workenvzx.ipynb  workflow.ipynb  \u001b[01;34mx86_64_slc6\u001b[0m/\r\n",
        "\u001b[m"
       ]
      }
     ],
     "prompt_number": 4
    },
    {
     "cell_type": "heading",
     "level": 2,
     "metadata": {},
     "source": [
      "Set up working environment"
     ]
    },
    {
     "cell_type": "code",
     "collapsed": true,
     "input": [
      "# Go to scripts directory where all the controls are\n",
      "%cd $workdir/daq/bril/scripts"
     ],
     "language": "python",
     "metadata": {},
     "outputs": [
      {
       "output_type": "stream",
       "stream": "stdout",
       "text": [
        "/home/zhen/work/pynb/sandbox/zx/notebooks/daq/bril/scripts\n"
       ]
      }
     ],
     "prompt_number": 5
    },
    {
     "cell_type": "code",
     "collapsed": true,
     "input": [
      "# Look at scripts directory contents\n",
      "%ls"
     ],
     "language": "python",
     "metadata": {},
     "outputs": [
      {
       "output_type": "stream",
       "stream": "stdout",
       "text": [
        "\u001b[0m\u001b[01;32mbrilenv.sh\u001b[0m*      \u001b[01;32mfreeportscanner.py\u001b[0m*  \u001b[01;34mlumistore\u001b[0m/  spec.template          \u001b[01;34mtimesource\u001b[0m/\r\n",
        "default.profile  \u001b[01;32mgeneratexml.sh\u001b[0m*      Makefile    \u001b[01;32mstopApp.sh\u001b[0m*            webprogramming.txt\r\n",
        "\u001b[01;34meventing\u001b[0m/        generator.txt        ReadMe.txt  test_brilcondacore.py  xaas_bril.txt\r\n",
        "\u001b[m"
       ]
      }
     ],
     "prompt_number": 6
    },
    {
     "cell_type": "code",
     "collapsed": true,
     "input": [
      "# scripts/brilenv.sh sets runtime bash environment\n",
      "# It must be run from inside the scripts directory\n",
      "# It must be run in every new shell\n",
      "! source ./brilenv.sh"
     ],
     "language": "python",
     "metadata": {},
     "outputs": [
      {
       "output_type": "stream",
       "stream": "stdout",
       "text": [
        "LD_LIBRARY_PATH is  /home/zhen/work/pynb/sandbox/zx/notebooks/daq/bril/scripts/../../../x86_64_slc6/lib:/opt/brilconda/lib:/opt/xdaq/lib:/home/zhen/brilconda/lib:/home/zhen/brilconda/root/lib\r\n",
        "PATH is  /opt/brilconda/bin:/home/zhen/brilconda/bin:/home/zhen/brilconda/root/bin:/usr/lib/jvm/java-1.6.0/bin:/home/zhen/scripts:/home/zhen/brilconda/bin:/home/zhen/brilconda/root/bin:/usr/lib/jvm/java-1.6.0/bin:/usr/sue/bin:/opt/WinCC_OA/3.11/bin:/usr/lib64/qt-3.3/bin:/usr/local/bin:/usr/bin:/bin:/usr/local/sbin:/usr/sbin:/sbin:/home/zhen/bin:/home/zhen/bin\r\n"
       ]
      }
     ],
     "prompt_number": 7
    },
    {
     "cell_type": "heading",
     "level": 2,
     "metadata": {},
     "source": [
      "Compile Application Package (skip if done once today)"
     ]
    },
    {
     "cell_type": "code",
     "collapsed": true,
     "input": [
      "# Change to the package directory in order to compile\n",
      "%cd $workdir/daq/bril/timesource"
     ],
     "language": "python",
     "metadata": {},
     "outputs": [
      {
       "output_type": "stream",
       "stream": "stdout",
       "text": [
        "/home/zhen/work/pynb/sandbox/zx/notebooks/daq/bril/timesource\n"
       ]
      }
     ],
     "prompt_number": 8
    },
    {
     "cell_type": "code",
     "collapsed": true,
     "input": [
      "%%bash --out output --err error\n",
      "make install"
     ],
     "language": "python",
     "metadata": {},
     "outputs": [],
     "prompt_number": 9
    },
    {
     "cell_type": "heading",
     "level": 2,
     "metadata": {},
     "source": [
      "Application configuration templates and their parameter file"
     ]
    },
    {
     "cell_type": "markdown",
     "metadata": {},
     "source": [
      "<p> \n",
      "   <pre>\n",
      "    scripts/$package/myapp.template  this is the xdaq configuration file, except variables can be templated.\n",
      "    scripts/$package/template.param  template.param file contains substitutions of parameters defined in all the templates \n",
      "                                     (you might have more than one).\n",
      "    </pre>\n",
      "</p>\n",
      "* in the template file, \"%\" enclosed are template variables.\n",
      "* \"%brildaqroot%\" is special, when empty, it can be deduced\n",
      "* The rightside value is bash expanded. For example, the formats below are allowed and evaluated.\n",
      "    <pre>\n",
      "       %a%=`ls` \n",
      "       %b%=$BVAL \n",
      "   </pre>\n",
      "\n"
     ]
    },
    {
     "cell_type": "code",
     "collapsed": true,
     "input": [
      "# Go to scripts directory to work with configurations\n",
      "%cd $workdir/daq/bril/scripts"
     ],
     "language": "python",
     "metadata": {},
     "outputs": [
      {
       "output_type": "stream",
       "stream": "stdout",
       "text": [
        "/home/zhen/work/pynb/sandbox/zx/notebooks/daq/bril/scripts\n"
       ]
      }
     ],
     "prompt_number": 10
    },
    {
     "cell_type": "code",
     "collapsed": true,
     "input": [
      "# Look at the current application config template \n",
      "%cat $workdir/daq/bril/scripts/timesource/timesource_datagenerator.template"
     ],
     "language": "python",
     "metadata": {},
     "outputs": [
      {
       "output_type": "stream",
       "stream": "stdout",
       "text": [
        "<?xml version=\"1.0\" encoding=\"UTF-8\"?>\r\n",
        "<xc:Partition xmlns:soapenc=\"http://schemas.xmlsoap.org/soap/encoding/\" xmlns:xc=\"http://xdaq.web.cern.ch/xdaq/xsd/2004/XMLConfiguration-30\" xmlns:xsi=\"http://www.w3.org/2001/XMLSchema-instance\">\r\n",
        "\r\n",
        " <xc:Context url=\"http://%hostname%:%tscontextport%\">\r\n",
        "    <xc:Endpoint protocol=\"utcp\" service=\"b2in\" rmode=\"select\" hostname=\"%hostname%\" port=\"%tsendpoint%\" network=\"utcp1\" sndTimeout=\"0\" rcvTimeout=\"0\" affinity=\"RCV:P,SND:W,DSR:W,DSS:W\" singleThread=\"true\" publish=\"true\"/>\r\n",
        "\r\n",
        "    <xc:Application class=\"pt::utcp::Application\" id=\"12\" instance=\"0\" network=\"local\">\r\n",
        "      <properties xmlns=\"urn:xdaq-application:pt::utcp::Application\" xsi:type=\"soapenc:Struct\">\r\n",
        "\t<maxClients xsi:type=\"xsd:unsignedInt\">10</maxClients>\r\n",
        "        <autoConnect xsi:type=\"xsd:boolean\">false</autoConnect>\r\n",
        "        <ioQueueSize xsi:type=\"xsd:unsignedInt\">65536</ioQueueSize>\r\n",
        "        <eventQueueSize xsi:type=\"xsd:unsignedInt\">65536</eventQueueSize>\r\n",
        "        <maxReceiveBuffers xsi:type=\"xsd:unsignedInt\">2</maxReceiveBuffers>\r\n",
        "        <maxBlockSize xsi:type=\"xsd:unsignedInt\">4096</maxBlockSize>\r\n",
        "        <committedPoolSize xsi:type=\"xsd:double\">0x100000</committedPoolSize> \r\n",
        "      </properties>\r\n",
        "    </xc:Application>\r\n",
        "    <xc:Module>${XDAQ_ROOT}/lib/libtcpla.so</xc:Module>\r\n",
        "    <xc:Module>${XDAQ_ROOT}/lib/libptutcp.so</xc:Module>\r\n",
        "\t       \r\n",
        "    <xc:Application class=\"eventing::core::Publisher\" id=\"16\" instance=\"0\" network=\"utcp1\" group=\"b2in\" service=\"tx\">\r\n",
        "      <properties xmlns=\"urn:xdaq-application:eventing::core::Publisher\" xsi:type=\"soapenc:Struct\">\r\n",
        "\t<eventings xsi:type=\"soapenc:Array\" soapenc:arrayType=\"xsd:ur-type[1]\">\r\n",
        "          <item xsi:type=\"xsd:string\" soapenc:position=\"[0]\">utcp://%eventinghostname%:%utcpport%</item>\r\n",
        "        </eventings>\r\n",
        "      </properties>\r\n",
        "    </xc:Application>\r\n",
        "    \r\n",
        "    <xc:Module>${XDAQ_ROOT}/lib/libb2inutils.so</xc:Module>\r\n",
        "    <xc:Module>${XDAQ_ROOT}/lib/libeventingcore.so</xc:Module>\r\n",
        "    \r\n",
        "<xc:Application class=\"bril::timesource::Application\" id=\"11\" instance=\"0\" network=\"local\">\r\n",
        "  <properties xmlns=\"urn:xdaq-application:bril::timesource::Application\" xsi:type=\"soapenc:Struct\">\r\n",
        "    <simSource xsi:type=\"xsd:boolean\">true</simSource>\r\n",
        "    <swInitRun xsi:type=\"xsd:unsignedInt\">65536</swInitRun>\r\n",
        "    <swLSPerRun xsi:type=\"xsd:unsignedInt\">2</swLSPerRun>\r\n",
        "    <swNRuns xsi:type=\"xsd:unsignedInt\">2</swNRuns>\r\n",
        "    <swRunPerFill xsi:type=\"xsd:unsignedInt\">1</swRunPerFill>\r\n",
        "    <swNBTimers xsi:type=\"soapenc:Array\" soapenc:arrayType=\"xsd:ur-type[2]\">\r\n",
        "      <item xsi:type=\"soapenc:Struct\"  soapenc:position=\"[0]\"> \r\n",
        "        <properties xsi:type=\"soapenc:Struct\">\r\n",
        "         <signalTopic xsi:type=\"xsd:string\">NB4</signalTopic>\r\n",
        "         <nbFrequency xsi:type=\"xsd:string\">4</nbFrequency>\r\n",
        "        </properties>\r\n",
        "      </item>\r\n",
        "      <item xsi:type=\"soapenc:Struct\"  soapenc:position=\"[1]\"> \r\n",
        "        <properties xsi:type=\"soapenc:Struct\">\r\n",
        "           <signalTopic xsi:type=\"xsd:string\">NB64</signalTopic>\r\n",
        "           <nbFrequency xsi:type=\"xsd:string\">64</nbFrequency>\r\n",
        "        </properties>\r\n",
        "      </item> \r\n",
        "    </swNBTimers>\r\n",
        "  </properties>\r\n",
        "</xc:Application>\r\n",
        "<xc:Module>${XDAQ_ROOT}/lib/libeventingapi.so</xc:Module>\r\n",
        "<xc:Module>%localdaqroot%/lib/libbriltimesource.so</xc:Module>\t   \r\n",
        "</xc:Context>\r\n",
        "\r\n",
        "  <xc:Context url=\"http://%hostname%:%dgcontextport%\">\r\n",
        " <xc:Endpoint protocol=\"utcp\" service=\"b2in\" rmode=\"select\" hostname=\"%hostname%\" port=\"%dgendpoint%\" network=\"utcp1\" sndTimeout=\"0\" rcvTimeout=\"0\" affinity=\"RCV:P,SND:W,DSR:W,DSS:W\" singleThread=\"true\" publish=\"true\"/>\r\n",
        " <xc:Application class=\"pt::utcp::Application\" id=\"12\" instance=\"0\" network=\"local\">\r\n",
        "      <properties xmlns=\"urn:xdaq-application:pt::utcp::Application\" xsi:type=\"soapenc:Struct\">\r\n",
        "\t<maxClients xsi:type=\"xsd:unsignedInt\">10</maxClients>\r\n",
        "        <autoConnect xsi:type=\"xsd:boolean\">false</autoConnect>\r\n",
        "        <ioQueueSize xsi:type=\"xsd:unsignedInt\">65536</ioQueueSize>\r\n",
        "        <eventQueueSize xsi:type=\"xsd:unsignedInt\">65536</eventQueueSize>\r\n",
        "        <maxReceiveBuffers xsi:type=\"xsd:unsignedInt\">2</maxReceiveBuffers>\r\n",
        "        <maxBlockSize xsi:type=\"xsd:unsignedInt\">4096</maxBlockSize>\r\n",
        "        <committedPoolSize xsi:type=\"xsd:double\">0x100000</committedPoolSize> \r\n",
        "      </properties>\r\n",
        "   </xc:Application>\r\n",
        "   <xc:Module>${XDAQ_ROOT}/lib/libtcpla.so</xc:Module>\r\n",
        "   <xc:Module>${XDAQ_ROOT}/lib/libptutcp.so</xc:Module>\r\n",
        "\t       \r\n",
        " <xc:Application class=\"eventing::core::Publisher\" id=\"19\" instance=\"0\" network=\"utcp1\" group=\"b2in\" service=\"ts\">\r\n",
        "    <properties xmlns=\"urn:xdaq-application:eventing::core::Publisher\" xsi:type=\"soapenc:Struct\">\r\n",
        "      <eventings xsi:type=\"soapenc:Array\" soapenc:arrayType=\"xsd:ur-type[1]\">\r\n",
        "        <item xsi:type=\"xsd:string\" soapenc:position=\"[0]\">utcp://%eventinghostname%:%utcpport%</item>\r\n",
        "      </eventings>\r\n",
        "    </properties>\r\n",
        " </xc:Application>\r\n",
        " <xc:Application class=\"eventing::core::Subscriber\" id=\"18\" instance=\"0\" network=\"utcp1\" group=\"b2in\" service=\"tx\">\r\n",
        "    <properties xmlns=\"urn:xdaq-application:eventing::core::Subscriber\" xsi:type=\"soapenc:Struct\">\r\n",
        "     <eventings xsi:type=\"soapenc:Array\" soapenc:arrayType=\"xsd:ur-type[1]\">\r\n",
        "       <item xsi:type=\"xsd:string\" soapenc:position=\"[0]\">utcp://%eventinghostname%:%utcpport%</item>\r\n",
        "     </eventings>\r\n",
        "   </properties>\r\n",
        " </xc:Application>\r\n",
        " <xc:Module>${XDAQ_ROOT}/lib/libb2inutils.so</xc:Module>\r\n",
        " <xc:Module>${XDAQ_ROOT}/lib/libeventingcore.so</xc:Module>\r\n",
        " <xc:Application class=\"bril::timesource::DataGenerator\" id=\"111\" instance=\"0\" network=\"local\" service=\"simdata\" >\r\n",
        "   <properties xmlns=\"urn:xdaq-application:bril::timesource::DataGenerator\" xsi:type=\"soapenc:Struct\">\r\n",
        "     <dataTopics xsi:type=\"soapenc:Array\" soapenc:arrayType=\"xsd:ur-type[1]\">\r\n",
        "       <item xsi:type=\"soapenc:Struct\"  soapenc:position=\"[0]\"> \r\n",
        "          <properties xsi:type=\"soapenc:Struct\">\r\n",
        "\t    <signalTopic xsi:type=\"xsd:string\">NB4</signalTopic>\r\n",
        "            <dataTopic xsi:type=\"xsd:string\">bestbxlumi</dataTopic>\r\n",
        "\t  </properties>\r\n",
        "       </item>\r\n",
        "     </dataTopics>\r\n",
        "   </properties>\r\n",
        " </xc:Application>\r\n",
        " <xc:Module>${XDAQ_ROOT}/lib/libeventingapi.so</xc:Module>\r\n",
        " <xc:Module>%localdaqroot%/lib/libbriltimesource.so</xc:Module>\t   \r\n",
        "</xc:Context>\r\n",
        "</xc:Partition>\r\n"
       ]
      }
     ],
     "prompt_number": 11
    },
    {
     "cell_type": "code",
     "collapsed": false,
     "input": [
      "# Look at the current template.param\n",
      "# Note: all the template variables in the previous file are defined here\n",
      "# Note: localdaqroot is special, when the righthand side is whitespace, it means the generator script will guess it\n",
      "%cat $workdir/daq/bril/scripts/timesource/template.param"
     ],
     "language": "python",
     "metadata": {},
     "outputs": [
      {
       "output_type": "stream",
       "stream": "stdout",
       "text": [
        "%hostname%=`hostname -f`\r\n",
        "%tscontextport%=40000\r\n",
        "%tsendpoint%=400001\r\n",
        "%dgcontextport%=40001\r\n",
        "%dgendpoint%=400011\r\n",
        "%eventinghostname%=`hostname -f`\r\n",
        "%utcpport%=30020\r\n",
        "%localdaqroot%=\r\n",
        "#EOF need this fake lastline if using ipython notebook editor#\r\n"
       ]
      }
     ],
     "prompt_number": 12
    },
    {
     "cell_type": "code",
     "collapsed": true,
     "input": [
      "# Generate application configuration files based on templates and parameters in directory timesource\n",
      "!./generatexml.sh timesource"
     ],
     "language": "python",
     "metadata": {},
     "outputs": [
      {
       "output_type": "stream",
       "stream": "stdout",
       "text": [
        "sources:\r\n",
        "    timesource/template.param,timesource/timesource_datagenerator.template\r\n",
        "generated:\r\n",
        "    /home/zhen/work/pynb/sandbox/zx/notebooks/daq/bril/scripts/timesource_datagenerator.xml\r\n"
       ]
      },
      {
       "output_type": "stream",
       "stream": "stdout",
       "text": [
        "command per context:\r\n",
        "   /opt/xdaq/bin/xdaq.exe -p 40000 -c /home/zhen/work/pynb/sandbox/zx/notebooks/daq/bril/scripts/timesource_datagenerator.xml \r\n",
        "   /opt/xdaq/bin/xdaq.exe -p 40001 -c /home/zhen/work/pynb/sandbox/zx/notebooks/daq/bril/scripts/timesource_datagenerator.xml \r\n",
        "\r\n",
        "sources:\r\n",
        "    timesource/template.param,timesource/timesource_datagenerator_inzone.template\r\n",
        "generated:\r\n",
        "    /home/zhen/work/pynb/sandbox/zx/notebooks/daq/bril/scripts/timesource_datagenerator_inzone.xml\r\n"
       ]
      },
      {
       "output_type": "stream",
       "stream": "stdout",
       "text": [
        "command per context:\r\n",
        "   /opt/xdaq/bin/xdaq.exe -p 40000 -c /home/zhen/work/pynb/sandbox/zx/notebooks/daq/bril/scripts/timesource_datagenerator_inzone.xml -z bril\r\n",
        "   /opt/xdaq/bin/xdaq.exe -p 40001 -c /home/zhen/work/pynb/sandbox/zx/notebooks/daq/bril/scripts/timesource_datagenerator_inzone.xml -z bril\r\n",
        "\r\n"
       ]
      }
     ],
     "prompt_number": 13
    },
    {
     "cell_type": "markdown",
     "metadata": {},
     "source": [
      "<div style=\"color:DarkCyan\">\n",
      "    The output of this script suggests you the xdaq command to run. <br>\n",
      "    In this example, it configures two xdaq executives. <br>\n",
      "    The first Context block is the one we are going to run. This is a timing simulator and a b2in eventing publisher. <br>\n",
      "    Since this notebook server is not in bril zone, we are going to run the configuratio without _inzone.<br>\n",
      "    Ready to go?\n",
      "    Wait...all the same xdaq applications running on this notebook server, port 40000 will not be free for everyone.<br>\n",
      "    We need to edit the port numbers to free ones.\n",
      "</div>"
     ]
    },
    {
     "cell_type": "heading",
     "level": 2,
     "metadata": {},
     "source": [
      "Configure XDAQ Application"
     ]
    },
    {
     "cell_type": "code",
     "collapsed": true,
     "input": [
      "# Scan for 10 free ports in default range [30000,30010)\n",
      "%run freeportscanner.py \n",
      "# Scan for 10 free ports starting from the mininal value\n",
      "%run freeportscanner.py 50000 \n",
      "# Scan for free ports in a precise range\n",
      "%run freeportscanner.py 50000 50020"
     ],
     "language": "python",
     "metadata": {},
     "outputs": [
      {
       "output_type": "stream",
       "stream": "stdout",
       "text": [
        "scan range: [30000,30010)\n",
        "free ports: [30000, 30002, 30003, 30004, 30005, 30006, 30007, 30008, 30009]\n",
        "scan range: [50000,50010)\n",
        "free ports: [50000, 50001, 50002, 50003, 50004, 50005, 50006, 50007, 50008, 50009]\n",
        "scan range: [50000,50020)\n",
        "free ports: [50000, 50001, 50002, 50003, 50004, 50005, 50006, 50007, 50008, 50009, 50010, 50011, 50012, 50013, 50014, 50015, 50016, 50017, 50018, 50019]\n"
       ]
      }
     ],
     "prompt_number": 14
    },
    {
     "cell_type": "code",
     "collapsed": true,
     "input": [
      "# Select your context port number and endpoint port number, and remember it\n",
      "# This Application is a b2in publisher, it uses two ports: http for xdaq context and endpoint for pt transport\n",
      "contextport = 50002\n",
      "endpointport = 50003"
     ],
     "language": "python",
     "metadata": {},
     "outputs": [],
     "prompt_number": 15
    },
    {
     "cell_type": "markdown",
     "metadata": {},
     "source": [
      "<div style=\"color:DarkCyan\">\n",
      "Open the template file <br>\n",
      "modify %tscontextport% and %tsendpoint% <br>\n",
      "Execution of the command will overwrite file timesource/template.param\n",
      "</div>"
     ]
    },
    {
     "cell_type": "code",
     "collapsed": false,
     "input": [
      "%cat $workdir/daq/bril/scripts/timesource/template.param"
     ],
     "language": "python",
     "metadata": {},
     "outputs": [
      {
       "output_type": "stream",
       "stream": "stdout",
       "text": [
        "%hostname%=`hostname -f`\r\n",
        "%tscontextport%=40000\r\n",
        "%tsendpoint%=400001\r\n",
        "%dgcontextport%=40001\r\n",
        "%dgendpoint%=400011\r\n",
        "%eventinghostname%=`hostname -f`\r\n",
        "%utcpport%=30020\r\n",
        "%localdaqroot%=\r\n",
        "#EOF need this fake lastline if using ipython notebook editor#\r\n"
       ]
      }
     ],
     "prompt_number": 16
    },
    {
     "cell_type": "markdown",
     "metadata": {},
     "source": [
      "<div style=\"color:DarkCyan\">\n",
      " Replace the line \"To Paste\" with the output of last command, then modify tscontextport, tsendpoint values. Control-Enter to save file\n",
      "</div>"
     ]
    },
    {
     "cell_type": "code",
     "collapsed": false,
     "input": [
      "%%file $workdir/daq/bril/scripts/timesource/template.param\n",
      "%hostname%=`hostname -f`\n",
      "%tscontextport%=50002\n",
      "%tsendpoint%=50003\n",
      "%dgcontextport%=40001\n",
      "%dgendpoint%=400011\n",
      "%eventinghostname%=`hostname -f`\n",
      "%utcpport%=30020\n",
      "%localdaqroot%=\n",
      "#EOF need this fake lastline if using ipython notebook editor#\n"
     ],
     "language": "python",
     "metadata": {},
     "outputs": [
      {
       "output_type": "stream",
       "stream": "stdout",
       "text": [
        "Overwriting /home/zhen/work/pynb/sandbox/zx/notebooks/daq/bril/scripts/timesource/template.param\n"
       ]
      }
     ],
     "prompt_number": 17
    },
    {
     "cell_type": "code",
     "collapsed": true,
     "input": [
      "# Generate application configuration again to get your runnable version\n",
      "!./generatexml.sh timesource"
     ],
     "language": "python",
     "metadata": {},
     "outputs": [
      {
       "output_type": "stream",
       "stream": "stdout",
       "text": [
        "sources:\r\n",
        "    timesource/template.param,timesource/timesource_datagenerator.template\r\n",
        "generated:\r\n",
        "    /home/zhen/work/pynb/sandbox/zx/notebooks/daq/bril/scripts/timesource_datagenerator.xml\r\n"
       ]
      },
      {
       "output_type": "stream",
       "stream": "stdout",
       "text": [
        "command per context:\r\n",
        "   /opt/xdaq/bin/xdaq.exe -p 50002 -c /home/zhen/work/pynb/sandbox/zx/notebooks/daq/bril/scripts/timesource_datagenerator.xml \r\n",
        "   /opt/xdaq/bin/xdaq.exe -p 40001 -c /home/zhen/work/pynb/sandbox/zx/notebooks/daq/bril/scripts/timesource_datagenerator.xml \r\n",
        "\r\n",
        "sources:\r\n",
        "    timesource/template.param,timesource/timesource_datagenerator_inzone.template\r\n",
        "generated:\r\n",
        "    /home/zhen/work/pynb/sandbox/zx/notebooks/daq/bril/scripts/timesource_datagenerator_inzone.xml\r\n"
       ]
      },
      {
       "output_type": "stream",
       "stream": "stdout",
       "text": [
        "command per context:\r\n",
        "   /opt/xdaq/bin/xdaq.exe -p 50002 -c /home/zhen/work/pynb/sandbox/zx/notebooks/daq/bril/scripts/timesource_datagenerator_inzone.xml -z bril\r\n",
        "   /opt/xdaq/bin/xdaq.exe -p 40001 -c /home/zhen/work/pynb/sandbox/zx/notebooks/daq/bril/scripts/timesource_datagenerator_inzone.xml -z bril\r\n",
        "\r\n"
       ]
      }
     ],
     "prompt_number": 18
    },
    {
     "cell_type": "code",
     "collapsed": false,
     "input": [
      "# Look at the configuration you want to run, simbol % should not be there if template substitution worked\n",
      "!grep '%' /home/zhen/work/pynb/sandbox/zx/notebooks/daq/bril/scripts/timesource_datagenerator.xml"
     ],
     "language": "python",
     "metadata": {},
     "outputs": [],
     "prompt_number": 19
    },
    {
     "cell_type": "heading",
     "level": 2,
     "metadata": {},
     "source": [
      "Run XDAQ application and check its web page"
     ]
    },
    {
     "cell_type": "markdown",
     "metadata": {},
     "source": [
      "<div style=\"color:DarkCyan\">\n",
      "    Pick the command to run from generatexml.sh output.\n",
      "    Copy and paste it inside the quote of xdaqcommand\n",
      "</div>"
     ]
    },
    {
     "cell_type": "code",
     "collapsed": true,
     "input": [
      "#\n",
      "# Pick and Copy-Paste the command to run in the quote .\n",
      "# 'source brilenv.sh' is run again because we are going to send xdaq to a python subprocess to run in the background.\n",
      "# And we want that new shell has the correct environment.\n",
      "# If in a normal main bash session, you don't need to source again\n",
      "#\n",
      "xdaqcmd=\"/opt/xdaq/bin/xdaq.exe -p 50002 -c /home/zhen/work/pynb/sandbox/zx/notebooks/daq/bril/scripts/timesource_datagenerator.xml\"\n",
      "mycmd=\"source ./brilenv.sh; \"+xdaqcmd"
     ],
     "language": "python",
     "metadata": {},
     "outputs": [],
     "prompt_number": 22
    },
    {
     "cell_type": "code",
     "collapsed": true,
     "input": [
      "print mycmd"
     ],
     "language": "python",
     "metadata": {},
     "outputs": [
      {
       "output_type": "stream",
       "stream": "stdout",
       "text": [
        "source ./brilenv.sh; /opt/xdaq/bin/xdaq.exe -p 50002 -c /home/zhen/work/pynb/sandbox/zx/notebooks/daq/bril/scripts/timesource_datagenerator.xml\n"
       ]
      }
     ],
     "prompt_number": 23
    },
    {
     "cell_type": "code",
     "collapsed": true,
     "input": [
      "# Run the command in background\n",
      "# This is a python way of command& , in real life, you just run the command and watch the screen\n",
      "from subprocess import Popen , PIPE, STDOUT\n",
      "proc=Popen(mycmd,stdin=PIPE,stdout=PIPE,stderr=PIPE,shell=True)"
     ],
     "language": "python",
     "metadata": {},
     "outputs": [],
     "prompt_number": 24
    },
    {
     "cell_type": "markdown",
     "metadata": {},
     "source": []
    },
    {
     "cell_type": "code",
     "collapsed": true,
     "input": [
      "# Check if your application is running with hyperdaq \n",
      "import socket\n",
      "hostname = socket.gethostname()\n",
      "xdaqcontexturl = 'http://%s:%d'%(hostname,contextport)\n",
      "from IPython.display import IFrame\n",
      "display(IFrame(xdaqcontexturl, '100%', '600px'))"
     ],
     "language": "python",
     "metadata": {},
     "outputs": [
      {
       "html": [
        "\n",
        "        <iframe\n",
        "            width=\"100%\"\n",
        "            height=600px\"\n",
        "            src=\"http://pczhen.cern.ch:50002\"\n",
        "            frameborder=\"0\"\n",
        "            allowfullscreen\n",
        "        ></iframe>\n",
        "        "
       ],
       "metadata": {},
       "output_type": "display_data",
       "text": [
        "<IPython.lib.display.IFrame at 0x7ff6aab38650>"
       ]
      }
     ],
     "prompt_number": 25
    },
    {
     "cell_type": "markdown",
     "metadata": {},
     "source": [
      "Yay! You should see a hyperdaq page. \"bril timesource\" is you, all the others are the xdaq services you are using. "
     ]
    },
    {
     "cell_type": "heading",
     "level": 2,
     "metadata": {},
     "source": [
      "Stop Application "
     ]
    },
    {
     "cell_type": "code",
     "collapsed": true,
     "input": [
      "# Export contextport from python to bash \n",
      "import os\n",
      "os.environ['mycontextport'] = str(contextport)"
     ],
     "language": "python",
     "metadata": {},
     "outputs": [],
     "prompt_number": 26
    },
    {
     "cell_type": "code",
     "collapsed": true,
     "input": [
      "# Stop your application by context port number\n",
      "# If in a normal bash session, you can also do kill -9 processid\n",
      "!./stopApp.sh $mycontextport"
     ],
     "language": "python",
     "metadata": {},
     "outputs": [
      {
       "output_type": "stream",
       "stream": "stdout",
       "text": [
        "                     USER        PID ACCESS COMMAND\r\n",
        "50002/tcp:           zhen        769 F.... xdaq.exe\r\n"
       ]
      }
     ],
     "prompt_number": 27
    },
    {
     "cell_type": "heading",
     "level": 2,
     "metadata": {},
     "source": [
      "Working with graphics"
     ]
    },
    {
     "cell_type": "code",
     "collapsed": true,
     "input": [
      "# an example to plot a histogram in bril environment\n",
      "from numpy.random import normal\n",
      "import matplotlib.pyplot as plt\n",
      "gaussian_numbers = normal(size=1000)\n",
      "plt.hist(gaussian_numbers,bins=50,label='Gaussian')\n",
      "plt.title(\"Gaussian Histogram\")\n",
      "plt.xlabel(\"Value\")\n",
      "plt.ylabel(\"Frequency\")\n",
      "plt.legend()\n",
      "plt.show()"
     ],
     "language": "python",
     "metadata": {},
     "outputs": [
      {
       "metadata": {},
       "output_type": "display_data",
       "png": "[encoded data removed]",
       "text": [
        "<matplotlib.figure.Figure at 0x7ff6aa94e1d0>"
       ]
      }
     ],
     "prompt_number": 36
    },
    {
     "cell_type": "markdown",
     "metadata": {},
     "source": [
      "Yay"
     ]
    },
    {
     "cell_type": "code",
     "collapsed": false,
     "input": [],
     "language": "python",
     "metadata": {},
     "outputs": []
    }
   ],
   "metadata": {}
  }
 ]
}