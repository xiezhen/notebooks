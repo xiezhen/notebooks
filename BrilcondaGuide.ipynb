{
 "metadata": {
  "name": "",
  "signature": "sha256:91958e3173fa2d16cb34fb60f0ac96398bce939ff2eb9ea4d2c8e1105ddf284a"
 },
 "nbformat": 3,
 "nbformat_minor": 0,
 "worksheets": [
  {
   "cells": [
    {
     "cell_type": "heading",
     "level": 1,
     "metadata": {},
     "source": [
      "Brilconda Survivor Guide"
     ]
    },
    {
     "cell_type": "markdown",
     "metadata": {},
     "source": [
      "__Brilconda__ is a custom build of [Anaconda Scientific Python](https://store.continuum.io/cshop/anaconda/) with packages for Brildaq and luminosity data analysis and display. \n",
      "\n",
      "* Cross platform on Linux, Mac\n",
      "\n",
      "* Multiple installation mode: local directory with no root privileges or central\n",
      "\n",
      "* Run as virtual environment with self-contained dependencies with no runtime environment requirement"
     ]
    },
    {
     "cell_type": "heading",
     "level": 2,
     "metadata": {},
     "source": [
      "Install locally (Optional)"
     ]
    },
    {
     "cell_type": "markdown",
     "metadata": {},
     "source": [
      "Skip to the next section if you use centrally installed virtual environment on /afs/cern.ch or /opt/brilconda.\n",
      "\n",
      "Local installation is useful for working locally or with extra python packages."
     ]
    },
    {
     "cell_type": "markdown",
     "metadata": {},
     "source": [
      "* Download the installer: \n",
      "\n",
      "  * Linux: `wget http://cms-service-lumi.web.cern.ch/cms-service-lumi/installers/linux-64/Brilconda-1.0.0-Linux-x86_64.sh` \n",
      "  \n",
      "  * Mac: `wget http://cms-service-lumi.web.cern.ch/cms-service-lumi/installers/macos-64/Brilconda-1.0.0-Darwin-x86_64.sh`\n",
      "  \n",
      "  \n",
      "* Run the installer :\n",
      "\n",
      "__```export BRILCONDA_HOME=local_install_dir```__\n",
      "\n",
      "__```bash Brilconda-xxx.sh -p $BRILCONDA_HOME```__\n"
     ]
    },
    {
     "cell_type": "heading",
     "level": 2,
     "metadata": {},
     "source": [
      "Run"
     ]
    },
    {
     "cell_type": "heading",
     "level": 3,
     "metadata": {},
     "source": [
      "set up virtual environment"
     ]
    },
    {
     "cell_type": "markdown",
     "metadata": {},
     "source": [
      "The __Brilconda__ virtual environment is switched on when you have `$BRILCONDA_HOME/bin` in the `$PATH`. Nothing else.\n",
      "\n",
      "It is switched off when `$BRILCONDA_HOME/bin/python` is not in the `$PATH`. \n",
      "\n",
      "If you don't switch python version/installation frequently, simply add the following line to your shell startup script .bashrc . "
     ]
    },
    {
     "cell_type": "markdown",
     "metadata": {},
     "source": [
      "* central offline installation at CERN : \n",
      "__```export PATH=/afs/cern.ch/cms/lumi/brilconda-1.0.0/bin:$PATH```__\n",
      "\n",
      "* central online installation on BRIL cluster : \n",
      "__```export PATH=/opt/brilconda/bin:$PATH```__\n",
      "\n",
      "  There are helper scripts in the brildaq scripts directory: \n",
      "  \n",
      "        \n",
      "            source brilcondaOn.sh\n",
      "            \n",
      "            source brilcondaOff.sh\n",
      "       \n",
      "        \n",
      "* local installation : \n",
      "__```export PATH=$BRILCONDA_HOME/bin:$PATH```__"
     ]
    },
    {
     "cell_type": "heading",
     "level": 3,
     "metadata": {},
     "source": [
      "a simple test\n",
      "(run with command ipython or python)"
     ]
    },
    {
     "cell_type": "code",
     "collapsed": false,
     "input": [
      "#this is ipython macro for ipython-notebook inline plotting; for ipython use qt4; skip this if run with python\n",
      "%matplotlib inline"
     ],
     "language": "python",
     "metadata": {},
     "outputs": [],
     "prompt_number": 1
    },
    {
     "cell_type": "code",
     "collapsed": false,
     "input": [
      "import pandas as pd\n",
      "import numpy as np\n",
      "import matplotlib.pyplot as plt\n",
      "df = pd.DataFrame(np.random.randn(10,2), columns=['x','y'])    #generate a 10x2 matrix of random numbers\n",
      "df['s'] = np.arange(len(df))**2 * 100 + 100                    #add another column s to DataFrame\n",
      "df"
     ],
     "language": "python",
     "metadata": {},
     "outputs": [
      {
       "html": [
        "<div style=\"max-height:1000px;max-width:1500px;overflow:auto;\">\n",
        "<table border=\"1\" class=\"dataframe\">\n",
        "  <thead>\n",
        "    <tr style=\"text-align: right;\">\n",
        "      <th></th>\n",
        "      <th>x</th>\n",
        "      <th>y</th>\n",
        "      <th>s</th>\n",
        "    </tr>\n",
        "  </thead>\n",
        "  <tbody>\n",
        "    <tr>\n",
        "      <th>0</th>\n",
        "      <td> 0.262227</td>\n",
        "      <td>-0.159312</td>\n",
        "      <td>  100</td>\n",
        "    </tr>\n",
        "    <tr>\n",
        "      <th>1</th>\n",
        "      <td>-1.069032</td>\n",
        "      <td>-0.771058</td>\n",
        "      <td>  200</td>\n",
        "    </tr>\n",
        "    <tr>\n",
        "      <th>2</th>\n",
        "      <td> 1.188179</td>\n",
        "      <td> 0.459832</td>\n",
        "      <td>  500</td>\n",
        "    </tr>\n",
        "    <tr>\n",
        "      <th>3</th>\n",
        "      <td>-0.409006</td>\n",
        "      <td> 0.025299</td>\n",
        "      <td> 1000</td>\n",
        "    </tr>\n",
        "    <tr>\n",
        "      <th>4</th>\n",
        "      <td>-0.539048</td>\n",
        "      <td> 0.012854</td>\n",
        "      <td> 1700</td>\n",
        "    </tr>\n",
        "    <tr>\n",
        "      <th>5</th>\n",
        "      <td>-0.013359</td>\n",
        "      <td>-1.576475</td>\n",
        "      <td> 2600</td>\n",
        "    </tr>\n",
        "    <tr>\n",
        "      <th>6</th>\n",
        "      <td> 0.092306</td>\n",
        "      <td> 0.579158</td>\n",
        "      <td> 3700</td>\n",
        "    </tr>\n",
        "    <tr>\n",
        "      <th>7</th>\n",
        "      <td>-1.180713</td>\n",
        "      <td> 0.480036</td>\n",
        "      <td> 5000</td>\n",
        "    </tr>\n",
        "    <tr>\n",
        "      <th>8</th>\n",
        "      <td> 0.326047</td>\n",
        "      <td>-1.310131</td>\n",
        "      <td> 6500</td>\n",
        "    </tr>\n",
        "    <tr>\n",
        "      <th>9</th>\n",
        "      <td> 1.234485</td>\n",
        "      <td>-0.845797</td>\n",
        "      <td> 8200</td>\n",
        "    </tr>\n",
        "  </tbody>\n",
        "</table>\n",
        "</div>"
       ],
       "metadata": {},
       "output_type": "pyout",
       "prompt_number": 2,
       "text": [
        "          x         y     s\n",
        "0  0.262227 -0.159312   100\n",
        "1 -1.069032 -0.771058   200\n",
        "2  1.188179  0.459832   500\n",
        "3 -0.409006  0.025299  1000\n",
        "4 -0.539048  0.012854  1700\n",
        "5 -0.013359 -1.576475  2600\n",
        "6  0.092306  0.579158  3700\n",
        "7 -1.180713  0.480036  5000\n",
        "8  0.326047 -1.310131  6500\n",
        "9  1.234485 -0.845797  8200"
       ]
      }
     ],
     "prompt_number": 2
    },
    {
     "cell_type": "code",
     "collapsed": false,
     "input": [
      "#Draw scatter plot of x,y where the scatter point size is based column s\n",
      "plt.scatter(df.x, df.y, s=df.s) "
     ],
     "language": "python",
     "metadata": {},
     "outputs": [
      {
       "metadata": {},
       "output_type": "pyout",
       "prompt_number": 3,
       "text": [
        "<matplotlib.collections.PathCollection at 0x104d3b310>"
       ]
      },
      {
       "metadata": {},
       "output_type": "display_data",
       "png": "[encoded data removed]",
       "text": [
        "<matplotlib.figure.Figure at 0x10711a950>"
       ]
      }
     ],
     "prompt_number": 3
    },
    {
     "cell_type": "code",
     "collapsed": false,
     "input": [
      "#Save data to csv\n",
      "df.to_csv('mytest.csv',index=False)"
     ],
     "language": "python",
     "metadata": {},
     "outputs": [],
     "prompt_number": 4
    },
    {
     "cell_type": "code",
     "collapsed": false,
     "input": [
      "#ipython macro to show saved csv file on disk. Use unix command cat if not in ipython session. \n",
      "%cat 'mytest.csv' "
     ],
     "language": "python",
     "metadata": {},
     "outputs": [
      {
       "output_type": "stream",
       "stream": "stdout",
       "text": [
        "x,y,s\r\n",
        "0.26222735493257116,-0.15931187297363456,100\r\n",
        "-1.0690317434079464,-0.771058444544669,200\r\n",
        "1.1881791939724855,0.459831795533801,500\r\n",
        "-0.40900627596052225,0.025298847474329155,1000\r\n",
        "-0.5390477053497735,0.012854015078247105,1700\r\n",
        "-0.013358579977255303,-1.576475189553988,2600\r\n",
        "0.09230568836688773,0.5791579691007505,3700\r\n",
        "-1.1807134730546691,0.4800355361843964,5000\r\n",
        "0.3260466868843069,-1.310130942218929,6500\r\n",
        "1.234485197608488,-0.8457968603480347,8200\r\n"
       ]
      }
     ],
     "prompt_number": 5
    },
    {
     "cell_type": "heading",
     "level": 2,
     "metadata": {},
     "source": [
      "Packages"
     ]
    },
    {
     "cell_type": "markdown",
     "metadata": {},
     "source": [
      "* [numpy](http://www.numpy.org/) : fast manipulation of large N-dimensional array. Simple polyfit.\n",
      "* [pandas](http://pandas.pydata.org/) : high level data analysis with simple I/O interface to csv,hdf5,oracle. Support large table merge, join, concatenate. \n",
      "* [scipy](http://docs.scipy.org/doc/scipy/reference/) : algebra and fit.\n",
      "* [pytables](https://pytables.github.io/usersguide/tutorials.html) : manipulate and query hdf5 files as if they are tables.\n",
      "* [matplotlib](http://matplotlib.org/) : graphics.\n",
      "* [hdf2root](https://root.cern.ch/phpBB3/viewtopic.php?t=618) : ROOT users can stop reading here, you just need to make hdf2root work."
     ]
    },
    {
     "cell_type": "heading",
     "level": 2,
     "metadata": {},
     "source": [
      "Fetch some data and get ready to go"
     ]
    },
    {
     "cell_type": "markdown",
     "metadata": {},
     "source": [
      "* wget http://cms-service-lumi.web.cern.ch/cms-service-lumi/beam2.hd5"
     ]
    },
    {
     "cell_type": "heading",
     "level": 2,
     "metadata": {},
     "source": [
      "Commandline tools to peek into data"
     ]
    },
    {
     "cell_type": "heading",
     "level": 4,
     "metadata": {},
     "source": [
      " Lists specified features of HDF5 file contents: h5ls"
     ]
    },
    {
     "cell_type": "code",
     "collapsed": false,
     "input": [
      "!h5ls -h"
     ],
     "language": "python",
     "metadata": {},
     "outputs": [
      {
       "output_type": "stream",
       "stream": "stdout",
       "text": [
        "usage: h5ls [OPTIONS] file[/OBJECT] [file[/[OBJECT]...]\r\n",
        "  OPTIONS\r\n",
        "   -h, -?, --help  Print a usage message and exit\r\n",
        "   -a, --address   Print raw data address.  If dataset is contiguous, address\r\n",
        "                   is offset in file of beginning of raw data. If chunked,\r\n",
        "                   returned list of addresses indicates offset of each chunk.\r\n",
        "                   Must be used with -v, --verbose option.\r\n",
        "                   Provides no information for non-dataset objects.\r\n",
        "   -d, --data      Print the values of datasets\r\n",
        "   --enable-error-stack\r\n",
        "                   Prints messages from the HDF5 error stack as they occur.\r\n",
        "   --follow-symlinks\r\n",
        "                   Follow symbolic links (soft links and external links)\r\n",
        "                   to display target object information.\r\n",
        "                   Without this option, h5ls identifies a symbolic link\r\n",
        "                   as a soft link or external link and prints the value\r\n",
        "                   assigned to the symbolic link; it does not provide any\r\n",
        "                   information regarding the target object or determine\r\n",
        "                   whether the link is a dangling link.\r\n",
        "   --no-dangling-links\r\n",
        "                   Must be used with --follow-symlinks option;\r\n",
        "                   otherwise, h5ls shows error message and returns an exit\r\n",
        "                   code of 1. \r\n",
        "                   Check for any symbolic links (soft links or external links)\r\n",
        "                   that do not resolve to an existing object (dataset, group,\r\n",
        "                   or named datatype).\r\n",
        "                   If any dangling link is found, this situation is treated\r\n",
        "                   as an error and h5ls returns an exit code of 1.\r\n",
        "   -f, --full      Print full path names instead of base names\r\n",
        "   -g, --group     Show information about a group, not its contents\r\n",
        "   -l, --label     Label members of compound datasets\r\n",
        "   -r, --recursive List all groups recursively, avoiding cycles\r\n",
        "   -s, --string    Print 1-byte integer datasets as ASCII\r\n",
        "   -S, --simple    Use a machine-readable output format\r\n",
        "   -wN, --width=N  Set the number of columns of output\r\n",
        "   -v, --verbose   Generate more verbose output\r\n",
        "   -V, --version   Print version number and exit\r\n",
        "   --vfd=DRIVER    Use the specified virtual file driver\r\n",
        "   -x, --hexdump   Show raw data in hexadecimal format\r\n",
        "\r\n",
        "  file/OBJECT\r\n",
        "    Each object consists of an HDF5 file name optionally followed by a\r\n",
        "    slash and an object name within the file (if no object is specified\r\n",
        "    within the file then the contents of the root group are displayed).\r\n",
        "    The file name may include a printf(3C) integer format such as\r\n",
        "    \"%05d\" to open a file family.\r\n",
        "\r\n",
        "  Deprecated Options\r\n",
        "    The following options have been deprecated in HDF5. While they remain\r\n",
        "    available, they have been superseded as indicated and may be removed\r\n",
        "    from HDF5 in the future. Use the indicated replacement option in all\r\n",
        "    new work; where possible, existing scripts, et cetera, should also be\r\n",
        "    updated to use the replacement option.\r\n",
        "\r\n",
        "   -E or --external   Follow external links.\r\n",
        "                      Replaced by --follow-symlinks.\r\n",
        "   -e, --errors       Show all HDF5 error reporting\r\n",
        "                      Replaced by --enable-error-stack.\r\n"
       ]
      }
     ],
     "prompt_number": 17
    },
    {
     "cell_type": "code",
     "collapsed": false,
     "input": [
      "!h5ls beam2.hd5\n",
      "# we have one extendable dataset 'beam' with 12 entries"
     ],
     "language": "python",
     "metadata": {},
     "outputs": [
      {
       "output_type": "stream",
       "stream": "stdout",
       "text": [
        "beam                     Dataset {12/Inf}\r\n"
       ]
      }
     ],
     "prompt_number": 18
    },
    {
     "cell_type": "heading",
     "level": 4,
     "metadata": {},
     "source": [
      "Examine the contents of an HDF5 file and dump those contents to an ASCII file : h5dump"
     ]
    },
    {
     "cell_type": "code",
     "collapsed": false,
     "input": [
      "!h5dump -h"
     ],
     "language": "python",
     "metadata": {},
     "outputs": [
      {
       "output_type": "stream",
       "stream": "stdout",
       "text": [
        "usage: h5dump [OPTIONS] files\r\n",
        "  OPTIONS\r\n",
        "     -h,   --help         Print a usage message and exit\r\n",
        "     -V,   --version      Print version number and exit\r\n",
        "--------------- File Options ---------------\r\n",
        "     -n,   --contents     Print a list of the file contents and exit\r\n",
        "                          Optional value 1 also prints attributes.\r\n",
        "     -B,   --superblock   Print the content of the super block\r\n",
        "     -H,   --header       Print the header only; no data is displayed\r\n",
        "     -f D, --filedriver=D Specify which driver to open the file with\r\n",
        "     -o F, --output=F     Output raw data into file F\r\n",
        "     -b B, --binary=B     Binary file output, of form B\r\n",
        "     -O F, --ddl=F        Output ddl text into file F\r\n",
        "                          Do not use filename F to suppress ddl display\r\n",
        "--------------- Object Options ---------------\r\n",
        "     -a P, --attribute=P  Print the specified attribute\r\n",
        "                          If an attribute name contains a slash (/), escape the\r\n",
        "                          slash with a preceding backslash (\\).\r\n",
        "                          (See example section below.)\r\n",
        "     -d P, --dataset=P    Print the specified dataset\r\n",
        "     -g P, --group=P      Print the specified group and all members\r\n",
        "     -l P, --soft-link=P  Print the value(s) of the specified soft link\r\n",
        "     -t P, --datatype=P   Print the specified named datatype\r\n",
        "     -N P, --any_path=P   Print any attribute, dataset, group, datatype, or link that matches P\r\n",
        "                          P can be the absolute path or just a relative path.\r\n",
        "     -A,   --onlyattr     Print the header and value of attributes\r\n",
        "                          Optional value 0 suppresses printing attributes.\r\n",
        "--------------- Object Property Options ---------------\r\n",
        "     -i,   --object-ids   Print the object ids\r\n",
        "     -p,   --properties   Print dataset filters, storage layout and fill value\r\n",
        "     -M L, --packedbits=L Print packed bits as unsigned integers, using mask\r\n",
        "                          format L for an integer dataset specified with\r\n",
        "                          option -d. L is a list of offset,length values,\r\n",
        "                          separated by commas. Offset is the beginning bit in\r\n",
        "                          the data value and length is the number of bits of\r\n",
        "                          the mask.\r\n",
        "     -R,   --region       Print dataset pointed by region references\r\n",
        "--------------- Formatting Options ---------------\r\n",
        "     -e,   --escape       Escape non printing characters\r\n",
        "     -r,   --string       Print 1-byte integer datasets as ASCII\r\n",
        "     -y,   --noindex      Do not print array indices with the data\r\n",
        "     -m T, --format=T     Set the floating point output format\r\n",
        "     -q Q, --sort_by=Q    Sort groups and attributes by index Q\r\n",
        "     -z Z, --sort_order=Z Sort groups and attributes by order Z\r\n",
        "     --enable-error-stack Prints messages from the HDF5 error stack as they\r\n",
        "                          occur.\r\n",
        "     --no-compact-subset  Disable compact form of subsetting and allow the use\r\n",
        "                          of \"[\" in dataset names.\r\n",
        "     -w N, --width=N      Set the number of columns of output. A value of 0 (zero)\r\n",
        "                          sets the number of columns to the maximum (65535).\r\n",
        "                          Default width is 80 columns.\r\n",
        "--------------- XML Options ---------------\r\n",
        "     -x,   --xml          Output in XML using Schema\r\n",
        "     -u,   --use-dtd      Output in XML using DTD\r\n",
        "     -D U, --xml-dtd=U    Use the DTD or schema at U\r\n",
        "     -X S, --xml-ns=S     (XML Schema) Use qualified names n the XML\r\n",
        "                          \":\": no namespace, default: \"hdf5:\"\r\n",
        "                          E.g., to dump a file called `-f', use h5dump -- -f\r\n",
        "\r\n",
        "--------------- Subsetting Options ---------------\r\n",
        " Subsetting is available by using the following options with a dataset\r\n",
        " option. Subsetting is done by selecting a hyperslab from the data.\r\n",
        " Thus, the options mirror those for performing a hyperslab selection.\r\n",
        " One of the START, COUNT, STRIDE, or BLOCK parameters are mandatory if you do subsetting.\r\n",
        " The STRIDE, COUNT, and BLOCK parameters are optional and will default to 1 in\r\n",
        " each dimension. START is optional and will default to 0 in each dimension.\r\n",
        "\r\n",
        "      -s START,  --start=START    Offset of start of subsetting selection\r\n",
        "      -S STRIDE, --stride=STRIDE  Hyperslab stride\r\n",
        "      -c COUNT,  --count=COUNT    Number of blocks to include in selection\r\n",
        "      -k BLOCK,  --block=BLOCK    Size of block in hyperslab\r\n",
        "  START, COUNT, STRIDE, and BLOCK - is a list of integers the number of which are equal to the\r\n",
        "      number of dimensions in the dataspace being queried\r\n",
        "      (Alternate compact form of subsetting is described in the Reference Manual)\r\n",
        "\r\n",
        "--------------- Option Argument Conventions ---------------\r\n",
        "  D - is the file driver to use in opening the file. Acceptable values\r\n",
        "      are \"sec2\", \"family\", \"split\", \"multi\", \"direct\", and \"stream\". Without\r\n",
        "      the file driver flag, the file will be opened with each driver in\r\n",
        "      turn and in the order specified above until one driver succeeds\r\n",
        "      in opening the file.\r\n",
        "      See examples below for family, split, and multi driver special file name usage.\r\n",
        "\r\n",
        "  F - is a filename.\r\n",
        "  P - is the full path from the root group to the object.\r\n",
        "  N - is an integer greater than 1.\r\n",
        "  T - is a string containing the floating point format, e.g '%.3f'\r\n",
        "  U - is a URI reference (as defined in [IETF RFC 2396],\r\n",
        "        updated by [IETF RFC 2732])\r\n",
        "  B - is the form of binary output: NATIVE for a memory type, FILE for the\r\n",
        "        file type, LE or BE for pre-existing little or big endian types.\r\n",
        "        Must be used with -o (output file) and it is recommended that\r\n",
        "        -d (dataset) is used. B is an optional argument, defaults to NATIVE\r\n",
        "  Q - is the sort index type. It can be \"creation_order\" or \"name\" (default)\r\n",
        "  Z - is the sort order type. It can be \"descending\" or \"ascending\" (default)\r\n",
        "\r\n",
        "--------------- Examples ---------------\r\n",
        "\r\n",
        "  1) Attribute foo of the group /bar_none in file quux.h5\r\n",
        "\r\n",
        "      h5dump -a /bar_none/foo quux.h5\r\n",
        "\r\n",
        "     Attribute \"high/low\" of the group /bar_none in the file quux.h5\r\n",
        "\r\n",
        "      h5dump -a \"/bar_none/high\\/low\" quux.h5\r\n",
        "\r\n",
        "  2) Selecting a subset from dataset /foo in file quux.h5\r\n",
        "\r\n",
        "      h5dump -d /foo -s \"0,1\" -S \"1,1\" -c \"2,3\" -k \"2,2\" quux.h5\r\n",
        "\r\n",
        "  3) Saving dataset 'dset' in file quux.h5 to binary file 'out.bin'\r\n",
        "        using a little-endian type\r\n",
        "\r\n",
        "      h5dump -d /dset -b LE -o out.bin quux.h5\r\n",
        "\r\n",
        "  4) Display two packed bits (bits 0-1 and bits 4-6) in the dataset /dset\r\n",
        "\r\n",
        "      h5dump -d /dset -M 0,1,4,3 quux.h5\r\n",
        "\r\n",
        "  5) Dataset foo in files file1.h5 file2.h5 file3.h5\r\n",
        "\r\n",
        "      h5dump -d /foo file1.h5 file2.h5 file3.h5\r\n",
        "\r\n",
        "  6) Dataset foo in split files splitfile-m.h5 splitfile-r.h5\r\n",
        "\r\n",
        "      h5dump -d /foo -f split splitfile\r\n",
        "\r\n",
        "  7) Dataset foo in multi files mf-s.h5, mf-b.h5, mf-r.h5, mf-g.h5, mf-l.h5 and mf-o.h5\r\n",
        "\r\n",
        "      h5dump -d /foo -f multi mf\r\n",
        "\r\n",
        "  8) Dataset foo in family files fam00000.h5 fam00001.h5 and fam00002.h5\r\n",
        "\r\n",
        "      h5dump -d /foo -f family fam%05d.h5\r\n",
        "\r\n"
       ]
      }
     ],
     "prompt_number": 19
    },
    {
     "cell_type": "heading",
     "level": 2,
     "metadata": {},
     "source": [
      "Query beam data from ipython or python with pytables"
     ]
    },
    {
     "cell_type": "code",
     "collapsed": false,
     "input": [
      "import tables\n",
      "h5file = tables.open_file('./beam2.hd5','r')\n",
      "h5file                         # file layout . It is a tree"
     ],
     "language": "python",
     "metadata": {},
     "outputs": [
      {
       "metadata": {},
       "output_type": "pyout",
       "prompt_number": 20,
       "text": [
        "File(filename=./beam2.hd5, title='', mode='r', root_uep='/', filters=Filters(complevel=0, shuffle=False, fletcher32=False, least_significant_digit=None))\n",
        "/ (RootGroup) ''\n",
        "/beam (Table(12,)) 'beam'\n",
        "  description := {\n",
        "  \"fillnum\": UInt32Col(shape=(), dflt=0, pos=0),\n",
        "  \"runnum\": UInt32Col(shape=(), dflt=0, pos=1),\n",
        "  \"lsnum\": UInt32Col(shape=(), dflt=0, pos=2),\n",
        "  \"nbnum\": UInt32Col(shape=(), dflt=0, pos=3),\n",
        "  \"timestampsec\": UInt32Col(shape=(), dflt=0, pos=4),\n",
        "  \"timestampmsec\": UInt32Col(shape=(), dflt=0, pos=5),\n",
        "  \"totsize\": UInt32Col(shape=(), dflt=0, pos=6),\n",
        "  \"publishnnb\": UInt8Col(shape=(), dflt=0, pos=7),\n",
        "  \"datasourceid\": UInt8Col(shape=(), dflt=0, pos=8),\n",
        "  \"algoid\": UInt8Col(shape=(), dflt=0, pos=9),\n",
        "  \"channelid\": UInt8Col(shape=(), dflt=0, pos=10),\n",
        "  \"payloadtype\": UInt8Col(shape=(), dflt=0, pos=11),\n",
        "  \"status\": StringCol(itemsize=28, shape=(), dflt='', pos=12),\n",
        "  \"egev\": Float32Col(shape=(), dflt=0.0, pos=13),\n",
        "  \"targetegev\": UInt16Col(shape=(), dflt=0, pos=14),\n",
        "  \"bxconfig1\": UInt8Col(shape=(3564,), dflt=0, pos=15),\n",
        "  \"bxconfig2\": UInt8Col(shape=(3564,), dflt=0, pos=16),\n",
        "  \"intensity1\": Float32Col(shape=(), dflt=0.0, pos=17),\n",
        "  \"intensity2\": Float32Col(shape=(), dflt=0.0, pos=18),\n",
        "  \"bxintensity1\": Float32Col(shape=(3564,), dflt=0.0, pos=19),\n",
        "  \"bxintensity2\": Float32Col(shape=(3564,), dflt=0.0, pos=20),\n",
        "  \"machinemode\": StringCol(itemsize=20, shape=(), dflt='', pos=21),\n",
        "  \"fillscheme\": StringCol(itemsize=64, shape=(), dflt='', pos=22)}\n",
        "  byteorder := 'little'\n",
        "  chunkshape := (1,)"
       ]
      }
     ],
     "prompt_number": 20
    },
    {
     "cell_type": "code",
     "collapsed": false,
     "input": [
      "# Traversing the object tree\n",
      "for node in h5file: print 'Node ',node"
     ],
     "language": "python",
     "metadata": {},
     "outputs": [
      {
       "output_type": "stream",
       "stream": "stdout",
       "text": [
        "Node  / (RootGroup) ''\n",
        "Node  /beam (Table(12,)) 'beam'\n"
       ]
      }
     ],
     "prompt_number": 21
    },
    {
     "cell_type": "code",
     "collapsed": false,
     "input": [
      "for group in h5file.walk_groups(): print 'Group ',group"
     ],
     "language": "python",
     "metadata": {},
     "outputs": [
      {
       "output_type": "stream",
       "stream": "stdout",
       "text": [
        "Group  / (RootGroup) ''\n"
       ]
      }
     ],
     "prompt_number": 22
    },
    {
     "cell_type": "code",
     "collapsed": false,
     "input": [
      "for leaf in h5file.walk_nodes('/','Leaf'): print 'Leaf ',leaf"
     ],
     "language": "python",
     "metadata": {},
     "outputs": [
      {
       "output_type": "stream",
       "stream": "stdout",
       "text": [
        "Leaf  /beam (Table(12,)) 'beam'\n"
       ]
      }
     ],
     "prompt_number": 23
    },
    {
     "cell_type": "code",
     "collapsed": false,
     "input": [
      "# Retrieve node method 1 - by path\n",
      "beam_a = h5file.root.beam"
     ],
     "language": "python",
     "metadata": {},
     "outputs": [],
     "prompt_number": 24
    },
    {
     "cell_type": "code",
     "collapsed": false,
     "input": [
      "# Retrieve node method 2 - by path name\n",
      "beam_b = h5file.get_node('/beam')"
     ],
     "language": "python",
     "metadata": {},
     "outputs": [],
     "prompt_number": 25
    },
    {
     "cell_type": "markdown",
     "metadata": {},
     "source": [
      "* We will use beam_a, beam_b interchangably from now on"
     ]
    },
    {
     "cell_type": "code",
     "collapsed": false,
     "input": [
      "# Inspect node attributes\n",
      "print(beam_a.attrs)\n",
      "print(beam_a.attrs._f_list('all'))\n",
      "print(beam_a.attrs._f_list('user')) \n",
      "print(beam_a.attrs.VERSION)"
     ],
     "language": "python",
     "metadata": {},
     "outputs": [
      {
       "output_type": "stream",
       "stream": "stdout",
       "text": [
        "/beam._v_attrs (AttributeSet), 26 attributes\n",
        "['CLASS', 'FIELD_0_NAME', 'FIELD_10_NAME', 'FIELD_11_NAME', 'FIELD_12_NAME', 'FIELD_13_NAME', 'FIELD_14_NAME', 'FIELD_15_NAME', 'FIELD_16_NAME', 'FIELD_17_NAME', 'FIELD_18_NAME', 'FIELD_19_NAME', 'FIELD_1_NAME', 'FIELD_20_NAME', 'FIELD_21_NAME', 'FIELD_22_NAME', 'FIELD_2_NAME', 'FIELD_3_NAME', 'FIELD_4_NAME', 'FIELD_5_NAME', 'FIELD_6_NAME', 'FIELD_7_NAME', 'FIELD_8_NAME', 'FIELD_9_NAME', 'TITLE', 'VERSION']\n",
        "[]\n",
        "2.7\n"
       ]
      }
     ],
     "prompt_number": 26
    },
    {
     "cell_type": "code",
     "collapsed": false,
     "input": [
      "# Inspect node metadata\n",
      "print 'Object: ',beam_a"
     ],
     "language": "python",
     "metadata": {},
     "outputs": [
      {
       "output_type": "stream",
       "stream": "stdout",
       "text": [
        "Object:  /beam (Table(12,)) 'beam'\n"
       ]
      }
     ],
     "prompt_number": 27
    },
    {
     "cell_type": "code",
     "collapsed": false,
     "input": [
      "print 'Table description'\n",
      "print 'name: ', beam_a.name\n",
      "print 'title: ',beam_a.title\n",
      "print 'nrows: ',beam_a.nrows\n",
      "print 'columns: ',beam_a.colnames"
     ],
     "language": "python",
     "metadata": {},
     "outputs": [
      {
       "output_type": "stream",
       "stream": "stdout",
       "text": [
        "Table description\n",
        "name:  beam\n",
        "title:  beam\n",
        "nrows:  12\n",
        "columns:  ['fillnum', 'runnum', 'lsnum', 'nbnum', 'timestampsec', 'timestampmsec', 'totsize', 'publishnnb', 'datasourceid', 'algoid', 'channelid', 'payloadtype', 'status', 'egev', 'targetegev', 'bxconfig1', 'bxconfig2', 'intensity1', 'intensity2', 'bxintensity1', 'bxintensity2', 'machinemode', 'fillscheme']\n"
       ]
      }
     ],
     "prompt_number": 28
    },
    {
     "cell_type": "code",
     "collapsed": false,
     "input": [
      "# Iterating rows with iterator from method iterrows() \n",
      "for row in beam_b.iterrows():\n",
      "    print row[2:5]\n",
      "#Note: [:] is python collection slicing syntax [from:to) . [:] means to select all fields in the row, [2:5] field 2 to 4"
     ],
     "language": "python",
     "metadata": {},
     "outputs": [
      {
       "output_type": "stream",
       "stream": "stdout",
       "text": [
        "(1L, 1L, 1426104667L)\n",
        "(1L, 5L, 1426104668L)\n",
        "(1L, 9L, 1426104670L)\n",
        "(1L, 13L, 1426104671L)\n",
        "(1L, 17L, 1426104673L)\n",
        "(1L, 21L, 1426104674L)\n",
        "(1L, 25L, 1426104676L)\n",
        "(1L, 29L, 1426104677L)\n",
        "(1L, 33L, 1426104678L)\n",
        "(1L, 37L, 1426104680L)\n",
        "(1L, 41L, 1426104681L)\n",
        "(1L, 45L, 1426104683L)\n"
       ]
      }
     ],
     "prompt_number": 29
    },
    {
     "cell_type": "code",
     "collapsed": false,
     "input": [
      "# Access row field by name and some pretty printing\n",
      "print '%4s | %6s | %6s | %4s | %10s | %6s | %5s | %10s'%('fill','run','ls','nb','sec','msec','egev','bxconfig1')\n",
      "for row in beam_b.iterrows():\n",
      "    print(\"%4d | %6d | %6d | %4d | %10d | %6d | %4.4g | %s\"%(row['fillnum'],row['runnum'],row['lsnum'],row['nbnum'],\n",
      "                                                        row['timestampsec'],row['timestampmsec'],row['egev'],\n",
      "                                                        str(row['bxconfig1']) )\n",
      "          )"
     ],
     "language": "python",
     "metadata": {},
     "outputs": [
      {
       "output_type": "stream",
       "stream": "stdout",
       "text": [
        "fill |    run |     ls |   nb |        sec |   msec |  egev |  bxconfig1\n",
        "2322 | 123450 |      1 |    1 | 1426104667 |    193 | 449.9 | [0 0 0 ..., 0 0 0]\n",
        "2322 | 123450 |      1 |    5 | 1426104668 |    755 | 449.9 | [0 0 0 ..., 0 0 0]\n",
        "2322 | 123450 |      1 |    9 | 1426104670 |    215 | 449.9 | [0 0 0 ..., 0 0 0]\n",
        "2322 | 123450 |      1 |   13 | 1426104671 |    675 | 449.9 | [0 0 0 ..., 0 0 0]\n",
        "2322 | 123450 |      1 |   17 | 1426104673 |    135 | 449.9 | [0 0 0 ..., 0 0 0]\n",
        "2322 | 123450 |      1 |   21 | 1426104674 |    595 | 449.9 | [0 0 0 ..., 0 0 0]\n",
        "2322 | 123450 |      1 |   25 | 1426104676 |     55 | 449.9 | [0 0 0 ..., 0 0 0]\n",
        "2322 | 123450 |      1 |   29 | 1426104677 |    515 | 449.9 | [0 0 0 ..., 0 0 0]\n",
        "2322 | 123450 |      1 |   33 | 1426104678 |    975 | 449.9 | [0 0 0 ..., 0 0 0]\n",
        "2322 | 123450 |      1 |   37 | 1426104680 |    435 |  450 | [0 0 0 ..., 0 0 0]\n",
        "2322 | 123450 |      1 |   41 | 1426104681 |    895 | 449.9 | [0 0 0 ..., 0 0 0]\n",
        "2322 | 123450 |      1 |   45 | 1426104683 |    355 | 449.9 | [0 0 0 ..., 0 0 0]\n"
       ]
      }
     ],
     "prompt_number": 30
    },
    {
     "cell_type": "code",
     "collapsed": false,
     "input": [
      "# Random access of file by index\n",
      "# The full file is not read into the memory\n",
      "print beam_b[1:5]['egev'] "
     ],
     "language": "python",
     "metadata": {},
     "outputs": [
      {
       "output_type": "stream",
       "stream": "stdout",
       "text": [
        "[ 449.88000488  449.88000488  449.88000488  449.88000488]\n"
       ]
      }
     ],
     "prompt_number": 31
    },
    {
     "cell_type": "code",
     "collapsed": false,
     "input": [
      "# Random access of file by query with Table.where() method\n",
      "# Note: where() method returns an iterator\n",
      "# The full file is not read into the memory \n",
      "q = '(fillnum==2322)&(runnum==123450)&(lsnum==1)&(nbnum>1)&(nbnum<10)' \n",
      "selected = [ (x['intensity1'],x['status'] ) for x in beam_a.where(q) ]            # python list comprehension. shortcut of loops\n",
      "print selected"
     ],
     "language": "python",
     "metadata": {},
     "outputs": [
      {
       "output_type": "stream",
       "stream": "stdout",
       "text": [
        "[(2.0916581923117598e+36, 'NO BEAM'), (6746944000.0, 'NO BEAM')]\n"
       ]
      }
     ],
     "prompt_number": 32
    },
    {
     "cell_type": "code",
     "collapsed": false,
     "input": [
      "# Plot beam1 intensity vs time\n",
      "%matplotlib inline\n",
      "import matplotlib.pyplot as plt\n",
      "timestampsec=beam_a[:]['timestampsec']\n",
      "intensity1=beam_a[:]['intensity1']\n",
      "plt.scatter(timestampsec,intensity1)"
     ],
     "language": "python",
     "metadata": {},
     "outputs": [
      {
       "metadata": {},
       "output_type": "pyout",
       "prompt_number": 33,
       "text": [
        "<matplotlib.collections.PathCollection at 0x109497310>"
       ]
      },
      {
       "metadata": {},
       "output_type": "display_data",
       "png": "[encoded data removed]",
       "text": [
        "<matplotlib.figure.Figure at 0x1096d5a90>"
       ]
      }
     ],
     "prompt_number": 33
    },
    {
     "cell_type": "heading",
     "level": 2,
     "metadata": {},
     "source": []
    }
   ],
   "metadata": {}
  }
 ]
}