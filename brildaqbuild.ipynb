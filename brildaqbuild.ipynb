{
 "metadata": {
  "name": "",
  "signature": "sha256:900344b1ed67323a441fb2c5517ba789e4da1f950a7f2ab389f6123244661c84"
 },
 "nbformat": 3,
 "nbformat_minor": 0,
 "worksheets": [
  {
   "cells": [
    {
     "cell_type": "heading",
     "level": 1,
     "metadata": {},
     "source": [
      "BrilDAQ Build"
     ]
    },
    {
     "cell_type": "heading",
     "level": 3,
     "metadata": {},
     "source": [
      "group extern_brildaqcore , brildaqcore"
     ]
    },
    {
     "cell_type": "markdown",
     "metadata": {},
     "source": [
      "```\n",
      "mkdir -p build\n",
      "cd build\n",
      "svn co https://svn.cern.ch/reps/cmsos/branches/bril/config config\n",
      "make rpm \n",
      "sudo rpm -U rpm/daq-build-*\n",
      "\n",
      "svn co https://svn.cern.ch/reps/cmsos/trunk/daq/extern/dip daq/extern/dip\n",
      "svn co https://svn.cern.ch/reps/cmsos/trunk/daq/extern/hdf5 daq/extern/hdf5\n",
      "svn co https://svn.cern.ch/reps/cmsos/trunk/daq/bril daq/bril\n",
      "svn co https://svn.cern.ch/reps/cmsos/trunk/daq/interface/bril daq/interface/bril\n",
      "\n",
      "cd daq\n",
      "svn export https://svn.cern.ch/reps/cmsos/trunk/daq/Makefile\n",
      "make Set=bril_worksuite\n",
      "make rpm Set=bril_worksuite\n",
      "ls */*/rpm/*.rpm\n",
      "mv */*/rpm/*.src.rpm /nfshome0/lumipro/brildaqrepo/12/slc6x/x86_64/base/SRPMS\n",
      "mv */*/rpm/*.rpm /nfshome0/lumipro/brildaqrepo/12/slc6x/x86_64/base/RPMS\n",
      "rebuild yum repo with createrepo command\n",
      "```\n",
      "\n",
      "Note: the division of group is going to change when detector external software dependencies diverge. "
     ]
    },
    {
     "cell_type": "heading",
     "level": 3,
     "metadata": {},
     "source": [
      "group xaas_bril"
     ]
    },
    {
     "cell_type": "markdown",
     "metadata": {},
     "source": [
      "```\n",
      "mkdir -p xaas/xdaq\n",
      "cd xaas/xdaq\n",
      "\n",
      "svn co https://svn.cern.ch/reps/cmsos/releases/baseline12/trunk/config config\n",
      "svn co https://svn.cern.ch/reps/cmsos/branches/bril/daq/xaas daq/xaas\n",
      "\n",
      "export XDAQ_ROOT=`pwd`\n",
      "cd daq/xaas/slim/bril\n",
      "cd zone\n",
      "make;make rpm\n",
      "cd ../client\n",
      "make;make rpm\n",
      "\n",
      "cd ..\n",
      "ls */rpm/*.rpm\n",
      "mv */rpm/*.rpm /nfshome0/lumipro/brildaqrepo/12/slc6x/x86_64/base/RPMS\n",
      "rebuild yum repo with createrepo command\n",
      "```\n"
     ]
    },
    {
     "cell_type": "heading",
     "level": 3,
     "metadata": {},
     "source": [
      "rpm dropbox and bril yum repo"
     ]
    },
    {
     "cell_type": "markdown",
     "metadata": {},
     "source": [
      "* [online rpm dropbox instruction](https://twiki.cern.ch/twiki/bin/view/CMS/DropboxForUsers)\n",
      "\n",
      "* [bril yum repo](http://cmsinstallationserver/repo/repository/yumsnapshots/subsystems/bril/cms_bril_slc6_64)\n",
      "\n",
      "* etc/yum.repos.d/bril.repo \n",
      "  * baseurl = http://cmsinstallationserver/repo/repository/yumsnapshots/subsystems/bril/cms_bril_slc6_64"
     ]
    },
    {
     "cell_type": "heading",
     "level": 3,
     "metadata": {},
     "source": [
      "builder hosts"
     ]
    },
    {
     "cell_type": "markdown",
     "metadata": {},
     "source": [
      "srv-c2d05-18, srv-c2d05-19"
     ]
    }
   ],
   "metadata": {}
  }
 ]
}