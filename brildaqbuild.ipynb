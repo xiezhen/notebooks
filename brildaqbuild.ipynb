{
 "metadata": {
  "name": "",
  "signature": "sha256:6eaf2abd9cd1e57e1cd99189cb77988520abf45d7733a6814d92ad359270ba0d"
 },
 "nbformat": 3,
 "nbformat_minor": 0,
 "worksheets": [
  {
   "cells": [
    {
     "cell_type": "heading",
     "level": 1,
     "metadata": {},
     "source": [
      "BrilDAQ Build"
     ]
    },
    {
     "cell_type": "heading",
     "level": 3,
     "metadata": {},
     "source": [
      "group extern_brildaqcore , brildaqcore"
     ]
    },
    {
     "cell_type": "markdown",
     "metadata": {},
     "source": [
      "```\n",
      "mkdir -p build\n",
      "cd build\n",
      "svn co https://svn.cern.ch/reps/cmsos/branches/bril/config config\n",
      "make rpm \n",
      "sudo rpm -U rpm/daq-build-*\n",
      "\n",
      "svn co https://svn.cern.ch/reps/cmsos/trunk/daq/extern/dip daq/extern/dip\n",
      "svn co https://svn.cern.ch/reps/cmsos/trunk/daq/extern/hdf5 daq/extern/hdf5\n",
      "svn co https://svn.cern.ch/reps/cmsos/trunk/daq/bril daq/bril\n",
      "svn co https://svn.cern.ch/reps/cmsos/trunk/daq/interface/bril daq/interface/bril\n",
      "\n",
      "cd daq\n",
      "svn export https://svn.cern.ch/reps/cmsos/trunk/daq/Makefile\n",
      "make Set=bril_worksuite\n",
      "make rpm Set=bril_worksuite\n",
      "ls */*/rpm/*.rpm\n",
      "mv */*/rpm/*.src.rpm /nfshome0/lumipro/brildaqrepo/12/slc6x/x86_64/base/SRPMS\n",
      "mv */*/rpm/*.rpm /nfshome0/lumipro/brildaqrepo/12/slc6x/x86_64/base/RPMS\n",
      "rebuild yum repo with createrepo command\n",
      "```\n",
      "\n",
      "Note: the division of group is going to change when detector external software dependencies diverge. "
     ]
    },
    {
     "cell_type": "heading",
     "level": 3,
     "metadata": {},
     "source": [
      "group xaas_bril"
     ]
    },
    {
     "cell_type": "markdown",
     "metadata": {},
     "source": [
      "```\n",
      "mkdir -p xaas/xdaq\n",
      "cd xaas/xdaq\n",
      "svn co https://svn.cern.ch/reps/cmsos/releases/baseline12/trunk/config config\n",
      "svn co https://svn.cern.ch/reps/cmsos/branches/bril/daq/xaas daq/xaas\n",
      "export XDAQ_ROOT=`pwd`\n",
      "cd daq/xaas/slim/bril\n",
      "cd zone\n",
      "make;make rpm\n",
      "cd ../client\n",
      "make;make rpm\n",
      "cd ..\n",
      "ls */rpm/*.rpm\n",
      "mv */rpm/*.rpm /nfshome0/lumipro/brildaqrepo/12/slc6x/x86_64/base/RPMS\n",
      "rebuild yum repo with createrepo command\n",
      "```"
     ]
    },
    {
     "cell_type": "heading",
     "level": 2,
     "metadata": {},
     "source": [
      "builder hosts"
     ]
    },
    {
     "cell_type": "markdown",
     "metadata": {},
     "source": [
      "srv-c2d05-18, srv-c2d05-19"
     ]
    },
    {
     "cell_type": "code",
     "collapsed": false,
     "input": [],
     "language": "python",
     "metadata": {},
     "outputs": []
    }
   ],
   "metadata": {}
  }
 ]
}