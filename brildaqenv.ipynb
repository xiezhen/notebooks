{
 "cells": [
  {
   "cell_type": "markdown",
   "metadata": {},
   "source": [
    "## Chapter 2 : Working Environment"
   ]
  },
  {
   "cell_type": "markdown",
   "metadata": {},
   "source": [
    "SSH Log in to brildev1.cms and use bash shell as the working shell.\n",
    "\n",
    "If your local browser is needed, use another session to set up the ssh tunnel to the .cms network.\n",
    "\n",
    "\n",
    "   * For ssh login : \n",
    "\n",
    "From inside CERN network: ssh login first to cmsusr, then brildev1.\n",
    "\n",
    "From outside CERN network: ssh login  first to lxplus, then to cmsusr, then to brildev1. \n",
    "\n",
    "   * For setting up ssh tunnel to .cms network :\n",
    "\n",
    "From inside CERN network: see [instruction](https://twiki.cern.ch/twiki/bin/view/CMS/BrilDAQP5Tunnel)  section on single forwarding. \n",
    "\n",
    "From outside CERN network: see [instruction](https://twiki.cern.ch/twiki/bin/view/CMS/BrilDAQP5Tunnel) section on double forwarding."
   ]
  },
  {
   "cell_type": "markdown",
   "metadata": {},
   "source": [
    "```\n",
    "export workdir=`pwd`\n",
    "cd $workdir\n",
    "rm -rf daq\n",
    "svn export https://svn.cern.ch/reps/cmsos/branches/bril/examples/daq daq\n",
    "cd daq/bril/scripts\n",
    "source ./brilenv.sh\n",
    "echo $LD_LIBRARY_PATH\n",
    "```"
   ]
  },
  {
   "cell_type": "markdown",
   "metadata": {},
   "source": [
    "daq/bril/scripts/brilenv.sh sets runtime bash environment. It must be run from inside the scripts directory. It must be run in every new shell\n",
    "\n",
    "```\n",
    "more brilenv.sh\n",
    "```\n",
    "\n",
    "For real work, you need to adjust the content of brilenv.sh for your own need/dependencies."
   ]
  },
  {
   "cell_type": "markdown",
   "metadata": {},
   "source": [
    "#### Exercise: \n",
    "\n",
    "```\n",
    "What if your application uses Root, where would you need to change in brilenv.sh and in Makefile?\n",
    "\n",
    "brilenv.sh is setting $LOCALDAQ_ROOT or $XDAQ_ROOT as precedence and why?\n",
    "\n",
    "What is the purpose of $XDAQ_DOCUMENT_ROOT?\n",
    "\n",
    "If xdaq executive loads application libraries as plugins, why do I need to set $LD_LIBRARY_PATH?\n",
    "```"
   ]
  },
  {
   "cell_type": "markdown",
   "metadata": {},
   "source": [
    "### Optional utility :  set up application configuration via templates \n",
    "\n",
    "Help to generate xdaq application configuration xml with correct parameters. This is not a part ofa the framework.\n"
   ]
  },
  {
   "cell_type": "markdown",
   "metadata": {},
   "source": [
    "```\n",
    "# Look at the example application config template \n",
    "cd $workdir/daq/bril/scripts\n",
    "more $workdir/daq/bril/scripts/mypackage/HelloWorld/HelloWorld.template\n",
    "```"
   ]
  },
  {
   "cell_type": "markdown",
   "metadata": {},
   "source": [
    "```\n",
    "# Look at the current template.param\n",
    "# Note: all the template variables in the previous file are defined here\n",
    "# Note: localdaqroot is special, when the righthand side is whitespace, it means the generator script will guess it\n",
    "more $workdir/daq/bril/scripts/mypackage/HelloWorld/template.param\n",
    "```"
   ]
  },
  {
   "cell_type": "markdown",
   "metadata": {},
   "source": [
    "<p> \n",
    "   <pre>\n",
    "    *.template  this is the xdaq configuration file, except variables can be templated.\n",
    "    template.param  template.param file contains substitutions of parameters defined in all the templates \n",
    "                                     (you might have more than one).\n",
    "    </pre>\n",
    "</p>\n",
    "* in the template file, \"%\" enclosed are template variables.\n",
    "* \"%brildaqroot%\" is special, when empty, it can be deduced\n",
    "* The rightside value is bash expanded. For example, the formats below are allowed and evaluated.\n",
    "    <pre>\n",
    "       %a%=`ls` \n",
    "       %b%=$BVAL \n",
    "   </pre>"
   ]
  },
  {
   "cell_type": "markdown",
   "metadata": {},
   "source": [
    "```\n",
    "# Generate application configuration files based on templates and parameters in directory scripts/mypackage/HelloWorld\n",
    "./generatexml.sh HelloWorld\n",
    "\n",
    "```"
   ]
  },
  {
   "cell_type": "markdown",
   "metadata": {},
   "source": [
    "### Optional Utility : scan for free ports on the host\n",
    "\n",
    "Help to find a free port. This is not a part of the framework\n",
    "\n",
    "```\n",
    "cd $workdir/daq/bril/scripts\n",
    "\n",
    "# Scan for 10 free ports in default range [30000,30010)\n",
    "/nfshome0/lumipro/brilconda/bin/python freeportscanner.py \n",
    "\n",
    "# Scan for 10 free ports starting from the mininal value\n",
    "/nfshome0/lumipro/brilconda/bin/python freeportscanner.py 50000 \n",
    "\n",
    "# Scan for free ports in a precise range\n",
    "/nfshome0/lumipro/brilconda/bin/python freeportscanner.py 50000 50020\n",
    "\n",
    "#Scan for free ports in a precise range\n",
    "/nfshome0/lumipro/brilconda/bin/python freeportscanner.py \n",
    "\n",
    "```\n"
   ]
  }
 ],
 "metadata": {
  "kernelspec": {
   "display_name": "Python 2",
   "language": "python",
   "name": "python2"
  },
  "language_info": {
   "codemirror_mode": {
    "name": "ipython",
    "version": 2
   },
   "file_extension": ".py",
   "mimetype": "text/x-python",
   "name": "python",
   "nbconvert_exporter": "python",
   "pygments_lexer": "ipython2",
   "version": "2.7.12"
  }
 },
 "nbformat": 4,
 "nbformat_minor": 1
}
