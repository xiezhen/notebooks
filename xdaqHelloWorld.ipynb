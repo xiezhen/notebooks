{
 "cells": [
  {
   "cell_type": "markdown",
   "metadata": {},
   "source": [
    "## Chapter 3 : Your first xdaq application\n",
    "\n",
    "We build a basic xdaq application with its hyperdaq page.\n",
    "\n",
    "We learn about :\n",
    "\n",
    "   * typical brildaq package directory structure ;\n",
    "\n",
    "   * xdaq framework generic Makefile ;\n",
    "\n",
    "   * basic web programming "
   ]
  },
  {
   "cell_type": "markdown",
   "metadata": {},
   "source": [
    "### Create mypackage\n",
    "\n",
    "Observe directory structure\n",
    "\n",
    "```\n",
    "\n",
    "#require $workdir is set and package $workdir/daq/bril/mypackage exists, working environment variables set\n",
    "\n",
    "cd $workdir/daq\n",
    "/nfshome0/lumipro/brilconda/bin/python bril/scripts/tree.py .\n",
    "\n",
    "/nfshome0/lumipro/brilconda/bin/python bril/scripts/tree.py bril\n",
    "\n",
    "/nfshome0/lumipro/brilconda/bin/python bril/scripts/tree.py bril/mypackage\n",
    "\n",
    "```"
   ]
  },
  {
   "cell_type": "markdown",
   "metadata": {},
   "source": [
    "### Build mypackage\n",
    "\n",
    "```\n",
    "\n",
    "cd $workdir/daq/bril/mypackage\n",
    "more Makefile\n",
    "make install\n",
    "make clean\n",
    "make install\n",
    "```"
   ]
  },
  {
   "cell_type": "markdown",
   "metadata": {},
   "source": [
    "### HelloWorld application\n",
    "```\n",
    "\n",
    "more $workdir/daq/bril/mypackage/include/bril/mypackage/HelloWorld.h\n",
    "\n",
    "more $workdir/daq/bril/mypackage/src/common/HelloWorld.cc\n",
    "\n",
    "more $workdir/daq/bril/mypackage/xml/HelloWorld.xml\n",
    "\n",
    "```\n",
    "\n",
    "You might want to use the freeportscanner utility to find a freeport on the working host.\n",
    "\n",
    "Change HelloWorld.xml parameters (context port, host, module lib path) to your case then run it.\n",
    "\n",
    "If you prefer to use the templating and generate xml machinary and the generated xml configuration file, leave here and go to alternative workflow.\n",
    "\n",
    "```\n",
    "/opt/xdaq/bin/xdaq.exe -p $your_context_port -e /opt/xdaq/etc/default.profile -c `pwd`/xml/HelloWorld.xml\n",
    "```\n",
    "\n",
    "open web browser with ssh tunnel. Note: for browser outside .cern.ch, double forwarding is needed.\n",
    "\n",
    "open url ```http://<yourhost>:<yourcontextport>``` (which is printed out from the constructor of your application). This is the website of your context, find and go to your application HelloWorld\n",
    "\n",
    "Refresh the url and observe the counter increase from your application logging screen.\n",
    "\n",
    "#### Alternative workflow with xml generation\n",
    "\n",
    "```\n",
    "edit $workdir/daq/bril/scripts/mypackage/HelloWorld/template.param\n",
    "cd $workdir/daq/bril/scripts/\n",
    "./generatexml.sh mypackage/HelloWorld\n",
    "more HelloWorld.xml\n",
    "/opt/xdaq/bin/xdaq.exe -p $your_context_port -e /opt/xdaq/etc/default.profile -c `pwd`/HelloWorld.xml\n",
    "```\n",
    "\n",
    "open web browser with ssh tunnel. Note: for browser outside .cern.ch, double forwarding is needed.\n",
    "\n",
    "open url http://<yourhost>:<yourcontextport> and go to your application HelloWorld\n",
    "refresh the url and observe the counter increase from your application screen."
   ]
  },
  {
   "cell_type": "markdown",
   "metadata": {},
   "source": [
    "### Excercise:\n",
    "\n",
    "Change std::cout printout in HelloWorld.cc to xdaq log stream with xdaq LOG4CPLUS macros (see xdaq developer manual Chapter 9).\n",
    "\n",
    "Which function is responsible for the web page you see and must it always have the same name ?\n",
    "\n",
    "What are the other icons in the top level hyperdaq page ? \n",
    "\n",
    "After all printouts are converted to xdaq log stream, how to see the debug level messages ?"
   ]
  }
 ],
 "metadata": {
  "kernelspec": {
   "display_name": "Python 2",
   "language": "python",
   "name": "python2"
  },
  "language_info": {
   "codemirror_mode": {
    "name": "ipython",
    "version": 2
   },
   "file_extension": ".py",
   "mimetype": "text/x-python",
   "name": "python",
   "nbconvert_exporter": "python",
   "pygments_lexer": "ipython2",
   "version": "2.7.12"
  }
 },
 "nbformat": 4,
 "nbformat_minor": 1
}
