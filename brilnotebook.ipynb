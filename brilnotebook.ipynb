{
 "metadata": {
  "name": "",
  "signature": "sha256:2fc58292e288f9b4c5d74d843bfa2eb0cc62f74aa136edd266648cc01def5b60"
 },
 "nbformat": 3,
 "nbformat_minor": 0,
 "worksheets": [
  {
   "cells": [
    {
     "cell_type": "heading",
     "level": 1,
     "metadata": {},
     "source": [
      "Brildaq workbook \n",
      "<div>\n",
      "[home](http://cern.ch/cmslumi/brilnotebook/) \n",
      "[svn](https://svnweb.cern.ch/trac/cmsos/browser/branches/bril/daq)\n",
      "</div>"
     ]
    },
    {
     "cell_type": "heading",
     "level": 2,
     "metadata": {},
     "source": [
      "1. [working environment](http://cern.ch/cmslumi/brilnotebook/workenv.html)"
     ]
    },
    {
     "cell_type": "heading",
     "level": 2,
     "metadata": {},
     "source": [
      "2. build components running in simulation mode "
     ]
    },
    {
     "cell_type": "heading",
     "level": 2,
     "metadata": {},
     "source": [
      "3. add logging,exception handling; monitor them in bril zone"
     ]
    },
    {
     "cell_type": "heading",
     "level": 2,
     "metadata": {},
     "source": [
      "4. infospace, signal/slot, pull/push mode; publish monitorables to application web page"
     ]
    },
    {
     "cell_type": "heading",
     "level": 2,
     "metadata": {},
     "source": [
      "5. multithread basics: workloop,lock,queue"
     ]
    },
    {
     "cell_type": "heading",
     "level": 2,
     "metadata": {},
     "source": [
      "6. data model; write data to file"
     ]
    },
    {
     "cell_type": "heading",
     "level": 2,
     "metadata": {},
     "source": [
      "7. new style hyperdaq (optional, read [doc](http://cern.ch/cmslumi/brilnotebook/xdaq12_hyperdaq.pdf) by A.Forest )"
     ]
    },
    {
     "cell_type": "heading",
     "level": 2,
     "metadata": {},
     "source": [
      "<font color=\"green\">Milestone release: global run on simulation mode in bril zone </font>"
     ]
    },
    {
     "cell_type": "heading",
     "level": 1,
     "metadata": {},
     "source": [
      "Efficency booster"
     ]
    },
    {
     "cell_type": "markdown",
     "metadata": {},
     "source": [
      "   * [vi](http://www.keyxl.com/aaa8263/290/vim-keyboard-shortcuts.htm) \n",
      "   \n",
      "            :wq! x, dd, :u, 0, ^ , $, w, gg , /his n, :s/his/her/g\n",
      "             \n",
      "   * [emacs, emacs -nw](http://sean.wenzel.net/docs/emacs/quick_reference/) \n",
      "            C-xf , C-xc, C-xs, C-xw, C-w, C-y, C-s, M-x replace-string\n",
      "            \n",
      "   * [nano](http://linux.goeszen.com/nano-editor-keyboard-shortcuts.html)\n",
      "\n",
      "   * [Markdown cheatsheet](https://github.com/adam-p/markdown-here/wiki/Markdown-Cheatsheet)\n",
      "\n",
      "   * [ipython notebook shortcuts](http://johnlaudun.org/20131228-ipython-notebook-keyboard-shortcuts/)\n",
      "    \n",
      "   * xdaq: [svn/trac](https://svnweb.cern.ch/trac/cmsos/browser/trunk/daq) [user](https://edms.cern.ch/document/1001791) [developer](https://edms.cern.ch/document/998717) [build](https://edms.cern.ch/document/984719)\n"
     ]
    },
    {
     "cell_type": "heading",
     "level": 1,
     "metadata": {},
     "source": [
      "[interactive tutorial workflow](http://cern.ch/cmslumisw/brilnotebook/workflow.html)"
     ]
    }
   ],
   "metadata": {}
  }
 ]
}