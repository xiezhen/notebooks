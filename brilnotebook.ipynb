{
 "metadata": {
  "name": "",
  "signature": "sha256:bf291bdd0b52f6846c0107bd2d536047b7d357f953955cf8e501da50aa377b9f"
 },
 "nbformat": 3,
 "nbformat_minor": 0,
 "worksheets": [
  {
   "cells": [
    {
     "cell_type": "heading",
     "level": 1,
     "metadata": {},
     "source": [
      "BrilDAQ Work Book"
     ]
    },
    {
     "cell_type": "heading",
     "level": 3,
     "metadata": {},
     "source": [
      "[Developer Area](http://cms-service-lumi.web.cern.ch/cms-service-lumi/brilnotebook/brildaqdev.html)"
     ]
    },
    {
     "cell_type": "heading",
     "level": 3,
     "metadata": {},
     "source": [
      "[Build](http://cms-service-lumi.web.cern.ch/cms-service-lumi/brilnotebook/brildaqbuild.html) - [Deployment](http://cms-service-lumi.web.cern.ch/cms-service-lumi/brilnotebook/brildaqdeploy.html) - [Run](http://cms-service-lumi.web.cern.ch/cms-service-lumi/brilnotebook/brildaqrun.html)"
     ]
    },
    {
     "cell_type": "heading",
     "level": 3,
     "metadata": {},
     "source": [
      "Data analysis with python: [Survivor](http://cms-service-lumi.web.cern.ch/cms-service-lumi/brilnotebook/BrilcondaGuide.html) - [Advanced](http://cms-service-lumi.web.cern.ch/cms-service-lumi/brilnotebook/BrilcondaAdvanced.html)"
     ]
    },
    {
     "cell_type": "heading",
     "level": 3,
     "metadata": {},
     "source": [
      "[BRIL Work Suite User's Guide](http://cms-service-lumi.web.cern.ch/cms-service-lumi/brilwsdoc.html)"
     ]
    },
    {
     "cell_type": "heading",
     "level": 3,
     "metadata": {},
     "source": [
      "Requirements"
     ]
    },
    {
     "cell_type": "heading",
     "level": 4,
     "metadata": {},
     "source": [
      "Data rate "
     ]
    },
    {
     "cell_type": "markdown",
     "metadata": {},
     "source": [
      "[bhm](http://cms-service-lumi.web.cern.ch/cms-service-lumi/brilnotebook/bhmdata.txt) - [bcm1f](http://cms-service-lumi.web.cern.ch/cms-service-lumi/brilnotebook/bcm1fdata.txt) - [plt](http://cms-service-lumi.web.cern.ch/cms-service-lumi/brilnotebook/pltdata.txt)"
     ]
    },
    {
     "cell_type": "heading",
     "level": 4,
     "metadata": {},
     "source": [
      "Monitoring matrix"
     ]
    },
    {
     "cell_type": "markdown",
     "metadata": {},
     "source": [
      "[bhm](http://cern.ch/cmslumisw/brilnotebook/bhmmonitor.txt) - [bcm1f](http://cern.ch/cmslumisw/brilnotebook/bcm1fmonitor.txt)"
     ]
    }
   ],
   "metadata": {}
  }
 ]
}