{
 "metadata": {
  "name": "",
  "signature": "sha256:e72387217d4ba4fe91846ef4a42d665a7a6a2ad67036d455ff9bc3595e4018e6"
 },
 "nbformat": 3,
 "nbformat_minor": 0,
 "worksheets": [
  {
   "cells": [
    {
     "cell_type": "heading",
     "level": 1,
     "metadata": {},
     "source": [
      "BrilDAQ Work Book"
     ]
    },
    {
     "cell_type": "heading",
     "level": 3,
     "metadata": {},
     "source": [
      "[Developer Area](http://cms-service-lumi.web.cern.ch/cms-service-lumi/brilnotebook/brildaqdev.html)"
     ]
    },
    {
     "cell_type": "heading",
     "level": 3,
     "metadata": {},
     "source": [
      "[Build](http://cms-service-lumi.web.cern.ch/cms-service-lumi/brilnotebook/brildaqbuild.html) - [Deployment](http://cms-service-lumi.web.cern.ch/cms-service-lumi/brilnotebook/brildaqdeploy.html) - [Run](http://cms-service-lumi.web.cern.ch/cms-service-lumi/brilnotebook/brildaqrun.html)"
     ]
    },
    {
     "cell_type": "heading",
     "level": 3,
     "metadata": {},
     "source": [
      "Status"
     ]
    },
    {
     "cell_type": "heading",
     "level": 4,
     "metadata": {},
     "source": [
      "Current Stable Applications"
     ]
    },
    {
     "cell_type": "markdown",
     "metadata": {},
     "source": [
      "| Application       | Module          | Purpose  | Configuration |\n",
      "|:-------------|:-------------|:-----| :----- |\n",
      "| timesource    | libbriltimesource | simulated nibble clock | to fill | \n",
      "| DiskWriter    | libbrillumistore  | eventing subscriber writing subscribed topics to file | to fill | \n",
      "| bhmsource | libbrilbhmsource | bhm occupancy, amplitude histogram readout, 20 channels per instance x 2 instances | to fill | \n",
      "| bhmprocessor | libbrilbhmprocessor | bhm histogram accumulation, data reduction and beam background calculation | to fill | \n",
      "| bcm1fsource | libbrilbcm1fsource | bcm1f rhu histogram readout, 8 channels per instance x 6 instances | to fill | \n",
      "| bcm1fprocessor | libbrilbcm1fprocessor | bcm1f histogram accumulation, data reduction and bcm1flumi/background calculation | to fill | \n",
      "| pltsource | libbrilpltsource | plt occupancy histogram readout, 16 channels per instance x 1 instance | to fill | \n",
      "| pltprocessor | libbrilpltprocessor | plt histogram accumulation, data reduction and pltlumi calculation | to fill | \n"
     ]
    },
    {
     "cell_type": "heading",
     "level": 4,
     "metadata": {},
     "source": [
      "In-test Applications"
     ]
    },
    {
     "cell_type": "markdown",
     "metadata": {},
     "source": [
      "| Application       | Module          | Purpose  |\n",
      "|:-------------|:-------------|:------|\n",
      "| CommonDipExchange | libbrildipprocessor | common LHC/DIP data exchange via eventing |\n",
      "| BLM DipAnalyzer | libbrildipprocessor | subscribe, analyze and publish BLM data via DIP, publish to eventing for storage |\n",
      "| IOVDataProvider | libbrillumistore | provide slow changing Interval-Of-Validity driven data from database via eventing |"
     ]
    },
    {
     "cell_type": "heading",
     "level": 3,
     "metadata": {},
     "source": [
      "Requirements"
     ]
    },
    {
     "cell_type": "heading",
     "level": 4,
     "metadata": {},
     "source": [
      "Data rate "
     ]
    },
    {
     "cell_type": "markdown",
     "metadata": {},
     "source": [
      "[bhm](http://cms-service-lumi.web.cern.ch/cms-service-lumi/brilnotebook/bhmdata.txt) - [bcm1f](http://cms-service-lumi.web.cern.ch/cms-service-lumi/brilnotebook/bcm1fdata.txt) - [plt](http://cms-service-lumi.web.cern.ch/cms-service-lumi/brilnotebook/pltdata.txt)"
     ]
    },
    {
     "cell_type": "heading",
     "level": 4,
     "metadata": {},
     "source": [
      "Monitoring matrix"
     ]
    },
    {
     "cell_type": "markdown",
     "metadata": {},
     "source": [
      "[bhm](http://cern.ch/cmslumisw/brilnotebook/bhmmonitor.txt) - [bcm1f](http://cern.ch/cmslumisw/brilnotebook/bcm1fmonitor.txt)"
     ]
    },
    {
     "cell_type": "code",
     "collapsed": false,
     "input": [],
     "language": "python",
     "metadata": {},
     "outputs": []
    }
   ],
   "metadata": {}
  }
 ]
}