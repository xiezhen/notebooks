{
 "metadata": {
  "name": "",
  "signature": "sha256:9e37f0d4bdf5172f2d2c7f55d95591c0de871929e947c2d61ee05479e2fa3d7f"
 },
 "nbformat": 3,
 "nbformat_minor": 0,
 "worksheets": [
  {
   "cells": [
    {
     "cell_type": "heading",
     "level": 1,
     "metadata": {},
     "source": [
      "Brildaq workbook \n",
      "<div>\n",
      "[home](http://cern.ch/cmslumisw/brilnotebook/) \n",
      "[svn](https://svnweb.cern.ch/trac/cmsos/browser/branches/bril/daq)\n",
      "</div>"
     ]
    },
    {
     "cell_type": "heading",
     "level": 2,
     "metadata": {},
     "source": [
      "1. [working environment](http://cern.ch/cmslumisw/brilnotebook/workenv.html)"
     ]
    },
    {
     "cell_type": "heading",
     "level": 2,
     "metadata": {},
     "source": [
      "2. [build a component with simulation/real switch, configure it in global/local run scenarios](http://cern.ch/cmslumisw/brilnotebook/brilsimulator.html) "
     ]
    },
    {
     "cell_type": "heading",
     "level": 2,
     "metadata": {},
     "source": [
      "3. add logging,exception handling; notify and monitor exceptions in bril zone"
     ]
    },
    {
     "cell_type": "heading",
     "level": 2,
     "metadata": {},
     "source": [
      "4. infospace/event; add monitorable \"pull\" from application page and \"push\" to a collector"
     ]
    },
    {
     "cell_type": "heading",
     "level": 2,
     "metadata": {},
     "source": [
      "5. multithread basics: workloop,timer,lock,queue (if necessary)"
     ]
    },
    {
     "cell_type": "heading",
     "level": 2,
     "metadata": {},
     "source": [
      "6. data model; write data to file"
     ]
    },
    {
     "cell_type": "heading",
     "level": 2,
     "metadata": {},
     "source": [
      "7. new style hyperdaq (optional, read extra [doc](http://cern.ch/cmslumisw/brilnotebook/xdaq12_hyperdaq.pdf) by daq team )"
     ]
    },
    {
     "cell_type": "heading",
     "level": 2,
     "metadata": {},
     "source": [
      "<font color=\"green\">Milestone and release: bril global run with simulation mode in bril zone </font>"
     ]
    },
    {
     "cell_type": "heading",
     "level": 1,
     "metadata": {},
     "source": [
      "Efficiency booster"
     ]
    },
    {
     "cell_type": "markdown",
     "metadata": {},
     "source": [
      "   * [vi](http://www.keyxl.com/aaa8263/290/vim-keyboard-shortcuts.htm) \n",
      "   \n",
      "            :wq! x, dd, :u, 0, ^ , $, w, gg , /his n, :s/his/her/g\n",
      "             \n",
      "   * [emacs, emacs -nw](http://sean.wenzel.net/docs/emacs/quick_reference/) \n",
      "            C-xf , C-xc, C-xs, C-xw, C-w, C-y, C-s, M-x replace-string\n",
      "            \n",
      "   * [nano](http://linux.goeszen.com/nano-editor-keyboard-shortcuts.html)\n",
      "\n",
      "   * [Markdown cheatsheet](https://github.com/adam-p/markdown-here/wiki/Markdown-Cheatsheet)\n",
      "\n",
      "   * [ipython notebook shortcuts](http://johnlaudun.org/20131228-ipython-notebook-keyboard-shortcuts/)\n",
      "    \n",
      "   * xdaq: [svn/trac](https://svnweb.cern.ch/trac/cmsos/browser/trunk/daq) [user](https://edms.cern.ch/document/1001791) [developer](https://edms.cern.ch/document/998717) [build](https://edms.cern.ch/document/984719)\n"
     ]
    },
    {
     "cell_type": "heading",
     "level": 1,
     "metadata": {},
     "source": [
      "[interactive tutorial workflow](http://cern.ch/cmslumisw/brilnotebook/workflow.html)"
     ]
    }
   ],
   "metadata": {}
  }
 ]
}