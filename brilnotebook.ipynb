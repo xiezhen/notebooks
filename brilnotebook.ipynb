{
 "metadata": {
  "name": "",
  "signature": "sha256:fc3ce4bb57e9d9301eae6fd2df1ccaaf1361bde0ac98aa10b2fb433c2bc6ed4e"
 },
 "nbformat": 3,
 "nbformat_minor": 0,
 "worksheets": [
  {
   "cells": [
    {
     "cell_type": "heading",
     "level": 1,
     "metadata": {},
     "source": [
      "BrilDAQ Work Book"
     ]
    },
    {
     "cell_type": "heading",
     "level": 3,
     "metadata": {},
     "source": [
      "[Developer Area](http://cms-service-lumi.web.cern.ch/cms-service-lumi/brilnotebook/brildaqdev.html)"
     ]
    },
    {
     "cell_type": "heading",
     "level": 3,
     "metadata": {},
     "source": [
      "[Build](http://cms-service-lumi.web.cern.ch/cms-service-lumi/brilnotebook/brildaqbuild.html) - [Deployment](http://cms-service-lumi.web.cern.ch/cms-service-lumi/brilnotebook/brildaqdeploy.html) - [Run](http://cms-service-lumi.web.cern.ch/cms-service-lumi/brilnotebook/brildaqrun.html)"
     ]
    },
    {
     "cell_type": "heading",
     "level": 3,
     "metadata": {},
     "source": [
      "Data analysis with python: [Survivor](http://cms-service-lumi.web.cern.ch/cms-service-lumi/brilnotebook/BrilcondaGuide.html) - [Advanced](http://cms-service-lumi.web.cern.ch/cms-service-lumi/brilnotebook/BrilcondaAdvanced.html)"
     ]
    },
    {
     "cell_type": "heading",
     "level": 3,
     "metadata": {},
     "source": [
      "BrilDAQ components"
     ]
    },
    {
     "cell_type": "markdown",
     "metadata": {},
     "source": [
      "\n",
      "| Application       | Module          | Purpose  | Configuration |\n",
      "|:-------------|:-------------|:-----| :----- |\n",
      "| timesource    | libbriltimesource | simulated nibble clock and retransmission of TCDS software clock | to fill | \n",
      "| DiskWriter    | libbrillumistore  | eventing subscriber writing subscribed topics to file | to fill | \n",
      "| bhmsource | libbrilbhmsource | bhm occupancy, amplitude histogram readout, 40 channels | to fill |\n",
      "| bhmprocessor | libbrilbhmprocessor | bhm histogram accumulation, data reduction and beam background calculation | to fill | \n",
      "| bcm1fsource | libbrilbcm1fsource | bcm1f rhu histogram readout, 8 channels per instance x 6 instances | to fill | \n",
      "| bcm1fprocessor | libbrilbcm1fprocessor | bcm1f histogram accumulation, data reduction and bcm1flumi/background calculation | to fill | \n",
      "| pltsource | libbrilpltsource | plt occupancy histogram readout, 16 channels per instance x 1 instance | to fill | \n",
      "| pltprocessor | libbrilpltprocessor | plt histogram accumulation, data reduction and pltlumi calculation | to fill | \n",
      "| CommonDataExchange | libbrildipprocessor | common dip data exchange with LHC | to fill |\n",
      "| BCMLAnalyzer | liblibbrildipprocessor | BCML data analysis and exchange via DIP | to fill |\n",
      "| BKG3Analyzer | liblibbrildipprocessor | beam abort percentage data exchange via DIP | to fill |\n",
      "| MagnetAnalyzer | liblibbrildipprocessor | magnet data analysis and exchange via DIP | to fill |\n",
      "\n"
     ]
    },
    {
     "cell_type": "heading",
     "level": 3,
     "metadata": {},
     "source": [
      "Requirements"
     ]
    },
    {
     "cell_type": "heading",
     "level": 4,
     "metadata": {},
     "source": [
      "Data rate "
     ]
    },
    {
     "cell_type": "markdown",
     "metadata": {},
     "source": [
      "[bhm](http://cms-service-lumi.web.cern.ch/cms-service-lumi/brilnotebook/bhmdata.txt) - [bcm1f](http://cms-service-lumi.web.cern.ch/cms-service-lumi/brilnotebook/bcm1fdata.txt) - [plt](http://cms-service-lumi.web.cern.ch/cms-service-lumi/brilnotebook/pltdata.txt)"
     ]
    },
    {
     "cell_type": "heading",
     "level": 4,
     "metadata": {},
     "source": [
      "Monitoring matrix"
     ]
    },
    {
     "cell_type": "markdown",
     "metadata": {},
     "source": [
      "[bhm](http://cern.ch/cmslumisw/brilnotebook/bhmmonitor.txt) - [bcm1f](http://cern.ch/cmslumisw/brilnotebook/bcm1fmonitor.txt)"
     ]
    }
   ],
   "metadata": {}
  }
 ]
}