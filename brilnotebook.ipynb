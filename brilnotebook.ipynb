{
 "metadata": {
  "name": "",
  "signature": "sha256:953796f6ccfe2f4e6a7650fd5ab422c12ec26ed34cee8b9449e33df85d1d2dd6"
 },
 "nbformat": 3,
 "nbformat_minor": 0,
 "worksheets": [
  {
   "cells": [
    {
     "cell_type": "heading",
     "level": 1,
     "metadata": {},
     "source": [
      "Brildaq workbook "
     ]
    },
    {
     "cell_type": "markdown",
     "metadata": {},
     "source": [
      "\n",
      "* It is assumed that you know how to use [svn](https://svnweb.cern.ch/trac/cmsos/browser/branches/bril/daq)\n",
      " \n",
      "* It is assumed that you have read and have basic understanding of the xdaq framework: [svn/trac](https://svnweb.cern.ch/trac/cmsos/browser/trunk/daq) [user](https://edms.cern.ch/document/1001791) [developer](https://edms.cern.ch/document/998717) [build](https://edms.cern.ch/document/984719)    \n",
      "\n",
      "* It is assumed that you have basic programming skills in c/c++\n",
      "\n",
      "* It is assumed that you understand, agree on the brildaq architecture and know what your packages are and what they should do"
     ]
    },
    {
     "cell_type": "heading",
     "level": 2,
     "metadata": {},
     "source": [
      "1. [working environment](http://cern.ch/cmslumisw/brilnotebook/workenv.html)"
     ]
    },
    {
     "cell_type": "heading",
     "level": 2,
     "metadata": {},
     "source": [
      "2. [build a component with simulation/real switch, configure it in global/local run scenarios](http://cern.ch/cmslumisw/brilnotebook/brilsimulator.html) "
     ]
    },
    {
     "cell_type": "heading",
     "level": 2,
     "metadata": {},
     "source": [
      "3. [turn application monitorable, \"pull\" from application page and \"push\" to a collector](http://cern.ch/cmslumisw/brilnotebook/brilmonitoring.html)"
     ]
    },
    {
     "cell_type": "heading",
     "level": 2,
     "metadata": {},
     "source": [
      "4. [data model; write data to file](http://cern.ch/cmslumisw/brilnotebook/brildata.html)"
     ]
    },
    {
     "cell_type": "heading",
     "level": 2,
     "metadata": {},
     "source": [
      "5. customization and customization checkpoints"
     ]
    },
    {
     "cell_type": "markdown",
     "metadata": {},
     "source": [
      "A checkpoint is where we check if your code in svn meets the defined goal. The time to deliver of each checkpoint for one person is calculated assuming one in five working day (20% FTE) per week. \n",
      "\n",
      "Starting from the basic packages built in Chapter 2, each component (can be more than one package) should customize in the following directions according to its detector requirement. \n",
      "\n",
      "Themes:\n",
      "\n",
      "* <font color=\"blue\">know your data :</font> customize your sim mode to simulate as real as possible data \n",
      "   * [BHM data](http://cern.ch/cmslumisw/brilnotebook/bhmdata.txt) [PLT data](http://cern.ch/cmslumisw/brilnotebook/pltdata.txt) [BCM1F data](http://cern.ch/cmslumisw/brilnotebook/bcm1fdata.txt)\n",
      "   \n",
      "* <font color=\"blue\">know your monitoring metric:</font> build your monitoring metric as real as possible\n",
      "   * [BHM metrics](http://cern.ch/cmslumisw/brilnotebook/bhmmonitor.txt) [PLT metrics](http://cern.ch/cmslumisw/brilnotebook/pltmonitor.txt) [BCM1F metrics](http://cern.ch/cmslumisw/brilnotebook/bcm1fmonitor.txt)\n",
      "   \n",
      "* <font color=\"blue\">know your readout:</font> customize your real mode to match your readout:\n",
      "   * [HF readout](http://cern.ch/cmslumisw/brilnotebook/HF_Lumi_Development_Guideline_Notes.docx)"
     ]
    },
    {
     "cell_type": "markdown",
     "metadata": {},
     "source": [
      "##  release package feature list\n",
      "     \n",
      "  | **package** | **dependency** | **type** | **description** | **in_topic** | **out_topic** | **(implemented) modes** | **at designed data rate** | **monitoring** | **highlights** |\n",
      "  | --- | --- | --- | --- | --- | --- | --- | --- | --- | --- |\n",
      "  | interface/bril | no | header | common data format and utility    |  x | x | x | x | x |  |\n",
      "  | bril/scripts   | no | scripts     | runtime configuration and scripts | x | x | x | x | x |  |\n",
      "  | bril/timesource | common header | service | bril time generator | none | startrun,NB1,NB4,NB64 | (sim)/real | yes | yes |  |\n",
      "  | bril/lumistore  | common header | service | bril storage service | bhmocchist_NB1,bhmbxbkg_NB64,bhmbkg_NB64(configurable) | none  | passive | (binary) yes | yes | switch serialized binary/hiearchical hd5 |\n",
      "  | bril/bcm1fsource | common header, brilconda | service | bcm1f readout | NB1 in sim | bcm1fhist | (sim)/(real) | yes | yes | real mode uses RHU interface |\n",
      "  | bril/bcm1fprocessor | common header | service | bcm1f histogram processing    | bcm1fhist  | bcm1fbxlumi | passive | yes | yes | aggregate 4 to 1 bin per bx hist; manage time boundary |\n",
      "  | bril/bhmsource | common header | service | bhm readout | NB1 in sim | bhmocchist,bhmamphist | (sim)/(real) | yes | yes | real mode takes lutfile parameter |\n",
      "  | bril/bhmprocessor | common header | service | bhm histogram processing | bhmocchist,bhmamphist | bhmbxbkg,bhmbkg | passive | yes | yes | aggregate 4 to 1 bin per bx hist; manage time boundary |\n",
      "  | bril/pltsource | common header | service | plt readout | NB1 in sim | plthist | (sim)/real | yes | yes | |\n",
      "  | bril/pltprocessor | common header | service | plt histogram processing        | plthist     | pltagghist | passive             | yes | yes | |\n",
      " \n",
      "  "
     ]
    },
    {
     "cell_type": "heading",
     "level": 2,
     "metadata": {},
     "source": [
      "<font color=\"green\">Code Freeze (Sep 8)</font>"
     ]
    },
    {
     "cell_type": "markdown",
     "metadata": {},
     "source": [
      "\n",
      "   * centrally adopt to new style hyperdaq (extra [doc](http://cern.ch/cmslumisw/brilnotebook/xdaq12_hyperdaq.pdf) by daq team )"
     ]
    },
    {
     "cell_type": "heading",
     "level": 2,
     "metadata": {},
     "source": [
      "<font color=\"green\">Milestone and release: bril global run with simulation mode in bril zone with xdaq>=12.1 (Sep 12)</font>"
     ]
    },
    {
     "cell_type": "markdown",
     "metadata": {},
     "source": [
      "This brildaq deliverable should run in a global settings in the bril zone:\n",
      "\n",
      "* the global run must be configurable to a simulation or real mode\n",
      "\n",
      "* in simulation mode, all components can synchronise to the bril central time authority, sending and receiving data to eventing according to its duty\n",
      "   \n",
      "* in real mode, all component connected to readout(sources) should synchronise to hardware. In the case of missing hardware connection or software by September, the component should be able to simulate a basic readout queue in its place\n",
      "\n",
      "* in all modes, according to its duty, each component should send/receive as well as write out data in bril common dataformat and fileformat \n",
      "\n",
      "* optionally, each component should be able to define its monitoring metrics and implement item and/or error monitoring feature\n",
      "\n",
      "* in the case of missing deliverable, this project should be considered failure and previous understanding should be revisited\n",
      "\n",
      "* in case of success, collected experience with this gobal run should be used to refine the data model, the deployment model and the bril global monitoring metrics and infrastructure"
     ]
    },
    {
     "cell_type": "heading",
     "level": 1,
     "metadata": {},
     "source": [
      "Efficiency booster"
     ]
    },
    {
     "cell_type": "markdown",
     "metadata": {},
     "source": [
      "   * [vi](http://www.keyxl.com/aaa8263/290/vim-keyboard-shortcuts.htm) \n",
      "   \n",
      "            :wq! x, dd, :u, 0, ^ , $, w, gg , /his n, :s/his/her/g\n",
      "             \n",
      "   * [emacs, emacs -nw](http://sean.wenzel.net/docs/emacs/quick_reference/) \n",
      "            C-xf , C-xc, C-xs, C-xw, C-w, C-y, C-s, M-x replace-string\n",
      "            \n",
      "   * [nano](http://linux.goeszen.com/nano-editor-keyboard-shortcuts.html)\n",
      "\n",
      "   * [Markdown cheatsheet](https://github.com/adam-p/markdown-here/wiki/Markdown-Cheatsheet)\n",
      "\n",
      "   * [ipython notebook shortcuts](http://johnlaudun.org/20131228-ipython-notebook-keyboard-shortcuts/)\n",
      "    "
     ]
    },
    {
     "cell_type": "heading",
     "level": 1,
     "metadata": {},
     "source": [
      "Clipboard"
     ]
    },
    {
     "cell_type": "code",
     "collapsed": false,
     "input": [
      "# /opt/xdaq/bin/xdaq.exe --stdout /tmp/brilevent.stdout --stderr /tmp/brilevent.stderr -u file.append:/tmp/brilevent.log -z bril -p 12345 -c /blah/eventing_inzone.xml &\n",
      "# https://xdaq.web.cern.ch/xdaq/xmas/12/smarthub \n",
      "# sudo /sbin/service xdaqd start|stop|status bril \n",
      "# sudo yum -y --nogpgcheck groupinstall xaas_bril\n",
      "# ssh -D 10880 myname@cmsusr\n",
      "# https://j2eeps.cern.ch/wikis/display/expcomm/\n",
      "# jdk1.6.0_45/bin/jcontrol -> directconnect\n",
      "# jdk1.6.0_45/bin/javaws http://cmsrc-srv:9000/rs_manager/1_13_1/manager.jnlp\n",
      "# http://cmsrc-lumi:46000/rcms\n",
      "# jdk1.6.0_45/bin/java -jar duck.jar configxml.xml -c \"blah\"\n",
      "# /nfshome0/lumidev/.functionmanagers"
     ],
     "language": "python",
     "metadata": {},
     "outputs": [],
     "prompt_number": 1
    },
    {
     "cell_type": "code",
     "collapsed": false,
     "input": [],
     "language": "python",
     "metadata": {},
     "outputs": []
    }
   ],
   "metadata": {}
  }
 ]
}