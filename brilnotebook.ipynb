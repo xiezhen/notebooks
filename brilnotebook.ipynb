{
 "cells": [
  {
   "cell_type": "markdown",
   "metadata": {},
   "source": [
    "# BrilDAQ Work Book"
   ]
  },
  {
   "cell_type": "markdown",
   "metadata": {},
   "source": [
    "### [daq tutorial](http://cms-service-lumi.web.cern.ch/cms-service-lumi/brilnotebook/daqtutorial.html)"
   ]
  },
  {
   "cell_type": "markdown",
   "metadata": {},
   "source": [
    "### [Developer Area](http://cms-service-lumi.web.cern.ch/cms-service-lumi/brilnotebook/brildaqdev.html)"
   ]
  },
  {
   "cell_type": "markdown",
   "metadata": {},
   "source": [
    "### [Build](http://cms-service-lumi.web.cern.ch/cms-service-lumi/brilnotebook/brildaqbuild.html) - [Deployment](http://cms-service-lumi.web.cern.ch/cms-service-lumi/brilnotebook/brildaqdeploy.html) - [Run](http://cms-service-lumi.web.cern.ch/cms-service-lumi/brilnotebook/brildaqrun.html)"
   ]
  },
  {
   "cell_type": "markdown",
   "metadata": {},
   "source": [
    "### Data analysis with python: [Survivor](http://cms-service-lumi.web.cern.ch/cms-service-lumi/brilnotebook/BrilcondaGuide.html) - [Advanced](http://cms-service-lumi.web.cern.ch/cms-service-lumi/brilnotebook/BrilcondaAdvanced.html)"
   ]
  },
  {
   "cell_type": "markdown",
   "metadata": {},
   "source": [
    "### [BRIL Work Suite User's Guide](http://cms-service-lumi.web.cern.ch/cms-service-lumi/brilwsdoc.html)"
   ]
  },
  {
   "cell_type": "markdown",
   "metadata": {},
   "source": [
    "### Requirements"
   ]
  },
  {
   "cell_type": "markdown",
   "metadata": {},
   "source": [
    "#### Data rate "
   ]
  },
  {
   "cell_type": "markdown",
   "metadata": {},
   "source": [
    "[bhm](http://cms-service-lumi.web.cern.ch/cms-service-lumi/brilnotebook/bhmdata.txt) - [bcm1f](http://cms-service-lumi.web.cern.ch/cms-service-lumi/brilnotebook/bcm1fdata.txt) - [plt](http://cms-service-lumi.web.cern.ch/cms-service-lumi/brilnotebook/pltdata.txt)"
   ]
  },
  {
   "cell_type": "markdown",
   "metadata": {},
   "source": [
    "#### Monitoring matrix"
   ]
  },
  {
   "cell_type": "markdown",
   "metadata": {},
   "source": [
    "[bhm](http://cern.ch/cmslumisw/brilnotebook/bhmmonitor.txt) - [bcm1f](http://cern.ch/cmslumisw/brilnotebook/bcm1fmonitor.txt)"
   ]
  }
 ],
 "metadata": {
  "kernelspec": {
   "display_name": "Python 2",
   "language": "python",
   "name": "python2"
  },
  "language_info": {
   "codemirror_mode": {
    "name": "ipython",
    "version": 2
   },
   "file_extension": ".py",
   "mimetype": "text/x-python",
   "name": "python",
   "nbconvert_exporter": "python",
   "pygments_lexer": "ipython2",
   "version": "2.7.12"
  }
 },
 "nbformat": 4,
 "nbformat_minor": 0
}
