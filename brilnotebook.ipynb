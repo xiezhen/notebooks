{
 "metadata": {
  "name": "",
  "signature": "sha256:8940f0bb0b75404b8c77bb6d49889939950745982b373ed82b52e6e7f04767d3"
 },
 "nbformat": 3,
 "nbformat_minor": 0,
 "worksheets": [
  {
   "cells": [
    {
     "cell_type": "heading",
     "level": 1,
     "metadata": {},
     "source": [
      "Brildaq workbook \n",
      "<div>\n",
      "[home](http://cern.ch/cmslumisw/brilnotebook/) \n",
      "[svn](https://svnweb.cern.ch/trac/cmsos/browser/branches/bril/daq)\n",
      "</div>"
     ]
    },
    {
     "cell_type": "heading",
     "level": 2,
     "metadata": {},
     "source": [
      "1. [working environment](http://cern.ch/cmslumisw/brilnotebook/workenv.html)"
     ]
    },
    {
     "cell_type": "heading",
     "level": 2,
     "metadata": {},
     "source": [
      "2. [build a component with simulation/real switch, configure it in global/local run scenarios](http://cern.ch/cmslumisw/brilnotebook/brilsimulator.html) "
     ]
    },
    {
     "cell_type": "heading",
     "level": 2,
     "metadata": {},
     "source": [
      "3. [turn application monitorable, \"pull\" from application page and \"push\" to a collector](http://cern.ch/cmslumisw/brilnotebook/brilmonitoring.html)"
     ]
    },
    {
     "cell_type": "heading",
     "level": 2,
     "metadata": {},
     "source": [
      "4. data model; write data to file"
     ]
    },
    {
     "cell_type": "heading",
     "level": 2,
     "metadata": {},
     "source": [
      "5. customization and customization checkpoints"
     ]
    },
    {
     "cell_type": "markdown",
     "metadata": {},
     "source": [
      "Themes:\n",
      "\n",
      "* <font color=\"blue\">know your data :</font> customize your sim mode to simulate as real as possible data \n",
      "   \n",
      "* <font color=\"blue\">know your monitoring metric:</font> build your monitoring metric as real as possible\n",
      "   \n",
      "* <font color=\"blue\">know your readout:</font> customize your real mode to match your readout"
     ]
    },
    {
     "cell_type": "heading",
     "level": 2,
     "metadata": {},
     "source": [
      "<font color=\"green\">Code Freeze (Sep 8)</font>"
     ]
    },
    {
     "cell_type": "markdown",
     "metadata": {},
     "source": [
      "\n",
      "   * centrally adopt to new style hyperdaq (extra [doc](http://cern.ch/cmslumisw/brilnotebook/xdaq12_hyperdaq.pdf) by daq team )"
     ]
    },
    {
     "cell_type": "heading",
     "level": 2,
     "metadata": {},
     "source": [
      "<font color=\"green\">Milestone and release: bril global run with simulation mode in bril zone with xdaq>=12.1 (Sep 12)</font>"
     ]
    },
    {
     "cell_type": "heading",
     "level": 1,
     "metadata": {},
     "source": [
      "Efficiency booster"
     ]
    },
    {
     "cell_type": "markdown",
     "metadata": {},
     "source": [
      "   * [vi](http://www.keyxl.com/aaa8263/290/vim-keyboard-shortcuts.htm) \n",
      "   \n",
      "            :wq! x, dd, :u, 0, ^ , $, w, gg , /his n, :s/his/her/g\n",
      "             \n",
      "   * [emacs, emacs -nw](http://sean.wenzel.net/docs/emacs/quick_reference/) \n",
      "            C-xf , C-xc, C-xs, C-xw, C-w, C-y, C-s, M-x replace-string\n",
      "            \n",
      "   * [nano](http://linux.goeszen.com/nano-editor-keyboard-shortcuts.html)\n",
      "\n",
      "   * [Markdown cheatsheet](https://github.com/adam-p/markdown-here/wiki/Markdown-Cheatsheet)\n",
      "\n",
      "   * [ipython notebook shortcuts](http://johnlaudun.org/20131228-ipython-notebook-keyboard-shortcuts/)\n",
      "    \n",
      "   * xdaq: [svn/trac](https://svnweb.cern.ch/trac/cmsos/browser/trunk/daq) [user](https://edms.cern.ch/document/1001791) [developer](https://edms.cern.ch/document/998717) [build](https://edms.cern.ch/document/984719)\n"
     ]
    },
    {
     "cell_type": "heading",
     "level": 1,
     "metadata": {},
     "source": [
      "[interactive tutorial workflow](http://cern.ch/cmslumisw/brilnotebook/workflow.html)"
     ]
    }
   ],
   "metadata": {}
  }
 ]
}