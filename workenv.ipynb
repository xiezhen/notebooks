{
 "metadata": {
  "name": "",
  "signature": "sha256:46c2ea66cce85d071cd9ec1fd79d404073bc66d4094409b4879900a621b76963"
 },
 "nbformat": 3,
 "nbformat_minor": 0,
 "worksheets": [
  {
   "cells": [
    {
     "cell_type": "code",
     "collapsed": false,
     "input": [
      "# Remember workdir\n",
      "workdir=%pwd"
     ],
     "language": "python",
     "metadata": {},
     "outputs": [],
     "prompt_number": 48
    },
    {
     "cell_type": "code",
     "collapsed": false,
     "input": [
      "%%bash --out output --err error\n",
      "svn co \"https://svn.cern.ch/reps/cmsos/branches/bril/daq/bril\""
     ],
     "language": "python",
     "metadata": {},
     "outputs": [],
     "prompt_number": 49
    },
    {
     "cell_type": "code",
     "collapsed": false,
     "input": [
      "# Check bash output\n",
      "print output"
     ],
     "language": "python",
     "metadata": {},
     "outputs": [
      {
       "output_type": "stream",
       "stream": "stdout",
       "text": [
        "A    bril/pltprocessor\n",
        "A    bril/timesource\n",
        "A    bril/timesource/xml\n",
        "A    bril/timesource/xml/timesource.sensor\n",
        "A    bril/timesource/xml/timesource.pulser\n",
        "A    bril/timesource/xml/timesource.flash\n",
        "A    bril/timesource/include\n",
        "A    bril/timesource/include/bril\n",
        "A    bril/timesource/include/bril/timesource\n",
        "A    bril/timesource/include/bril/timesource/DataGenerator.h\n",
        "A    bril/timesource/include/bril/timesource/NBTimer.h\n",
        "A    bril/timesource/include/bril/timesource/Application.h\n",
        "A    bril/timesource/include/bril/timesource/AppGUI.h\n",
        "A    bril/timesource/include/bril/timesource/version.h\n",
        "A    bril/timesource/include/bril/timesource/Common.h\n",
        "A    bril/timesource/include/bril/timesource/exception\n",
        "A    bril/timesource/include/bril/timesource/exception/TimeSourceAlarm.h\n",
        "A    bril/timesource/include/bril/timesource/exception/Exception.h\n",
        "A    bril/timesource/html\n",
        "A    bril/timesource/html/js\n",
        "A    bril/timesource/html/js/toggle.js\n",
        "A    bril/timesource/src\n",
        "A    bril/timesource/src/common\n",
        "A    bril/timesource/src/common/DataGenerator.cc\n",
        "A    bril/timesource/src/common/NBTimer.cc\n",
        "A    bril/timesource/src/common/Application.cc\n",
        "A    bril/timesource/src/common/AppGUI.cc\n",
        "A    bril/timesource/src/common/version.cc\n",
        "A    bril/timesource/Makefile\n",
        "A    bril/pltslinkprocessor\n",
        "A    bril/pltsource\n",
        "A    bril/dipbroker\n",
        "A    bril/pltslinksource\n",
        "A    bril/lumistore\n",
        "A    bril/lumistore/test\n",
        "A    bril/lumistore/test/common\n",
        "A    bril/lumistore/test/common/test_OutputFile.cpp\n",
        "A    bril/lumistore/test/common/test_readback.py\n",
        "A    bril/lumistore/test/common/test_StorageUnit.cpp\n",
        "A    bril/lumistore/test/common/hdf5\n",
        "A    bril/lumistore/test/common/hdf5/test_Utils.cpp\n",
        "A    bril/lumistore/test/common/hdf5/test_hdf5write.cpp\n",
        "A    bril/lumistore/test/common/hdf5/test_VariableTable.cpp\n",
        "A    bril/lumistore/test/common/test_DiskWriter.cpp\n",
        "A    bril/lumistore/xml\n",
        "A    bril/lumistore/include\n",
        "A    bril/lumistore/include/bril\n",
        "A    bril/lumistore/include/bril/lumistore\n",
        "A    bril/lumistore/include/bril/lumistore/StreamConfigStore.h\n",
        "A    bril/lumistore/include/bril/lumistore/OutputFile.h\n",
        "A    bril/lumistore/include/bril/lumistore/StreamQueue.h\n",
        "A    bril/lumistore/include/bril/lumistore/hdf5\n",
        "A    bril/lumistore/include/bril/lumistore/hdf5/VariableTable.h\n",
        "A    bril/lumistore/include/bril/lumistore/hdf5/Utils.h\n",
        "A    bril/lumistore/include/bril/lumistore/hdf5/VariableCollection.h\n",
        "A    bril/lumistore/include/bril/lumistore/hdf5/DataSet.h\n",
        "A    bril/lumistore/include/bril/lumistore/hdf5/Variable.h\n",
        "A    bril/lumistore/include/bril/lumistore/hdf5/TimeIndex.h\n",
        "A    bril/lumistore/include/bril/lumistore/hdf5/exception\n",
        "A    bril/lumistore/include/bril/lumistore/Application.h\n",
        "A    bril/lumistore/include/bril/lumistore/OutputFileStatus.h\n",
        "A    bril/lumistore/include/bril/lumistore/StorageUnit.h\n",
        "A    bril/lumistore/include/bril/lumistore/HDF5OutputFile.h\n",
        "A    bril/lumistore/include/bril/lumistore/StreamID.h\n",
        "A    bril/lumistore/include/bril/lumistore/exception\n",
        "A    bril/lumistore/include/bril/lumistore/exception/Exception.h\n",
        "A    bril/lumistore/include/bril/lumistore/StreamQueueStore.h\n",
        "A    bril/lumistore/include/bril/lumistore/StreamConfig.h\n",
        "A    bril/lumistore/include/bril/lumistore/TopicDescription.h\n",
        "A    bril/lumistore/include/bril/lumistore/version.h\n",
        "A    bril/lumistore/include/bril/lumistore/OutputFileConfig.h\n",
        "A    bril/lumistore/include/bril/lumistore/DiskWriter.h\n",
        "A    bril/lumistore/singletests\n",
        "A    bril/lumistore/singletests/test\n",
        "A    bril/lumistore/singletests/test/common\n",
        "A    bril/lumistore/singletests/test/common/test_hdf5_hyperslab.cpp\n",
        "A    bril/lumistore/singletests/test/common/test_coral.cpp\n",
        "A    bril/lumistore/singletests/test/common/test_hdf5_unlimited.cpp\n",
        "A    bril/lumistore/singletests/test/common/test_hdf5_ref.cpp\n",
        "A    bril/lumistore/singletests/test/common/test_hdf5_vlenstr.cpp\n",
        "A    bril/lumistore/singletests/test/common/test_hdf5.cpp\n",
        "A    bril/lumistore/singletests/test/common/test_hdf5_stdstr.cpp\n",
        "A    bril/lumistore/singletests/test/common/test_hdf5_compound.cpp\n",
        "A    bril/lumistore/singletests/test/common/test_hdf5_table.cpp\n",
        "A    bril/lumistore/singletests/mfDefs.linux\n",
        "A    bril/lumistore/singletests/Makefile.rules\n",
        "A    bril/lumistore/singletests/mfAutoconf.rules\n",
        "A    bril/lumistore/singletests/Makefile\n",
        "A    bril/lumistore/db\n",
        "A    bril/lumistore/db/test\n",
        "A    bril/lumistore/db/test/common\n",
        "A    bril/lumistore/db/test/common/test_query.cpp\n",
        "A    bril/lumistore/db/test/common/test_hltquery.cpp\n",
        "A    bril/lumistore/db/mfDefs.linux\n",
        "A    bril/lumistore/db/include\n",
        "A    bril/lumistore/db/include/bril\n",
        "A    bril/lumistore/db/include/bril/lumistore\n",
        "A    bril/lumistore/db/include/bril/lumistore/db\n",
        "A    bril/lumistore/db/include/bril/lumistore/db/DBQuery.h\n",
        "A    bril/lumistore/db/include/bril/lumistore/db/DBFactory.h\n",
        "A    bril/lumistore/db/Makefile.rules\n",
        "A    bril/lumistore/db/src\n",
        "A    bril/lumistore/db/src/common\n",
        "A    bril/lumistore/db/src/common/DBQuery.cc\n",
        "A    bril/lumistore/db/src/common/DBFactory.cc\n",
        "A    bril/lumistore/db/mfAutoconf.rules\n",
        "A    bril/lumistore/db/Makefile\n",
        "A    bril/lumistore/scripts\n",
        "A    bril/lumistore/src\n",
        "A    bril/lumistore/src/common\n",
        "A    bril/lumistore/src/common/StreamQueueStore.cc\n",
        "A    bril/lumistore/src/common/StreamConfigStore.cc\n",
        "A    bril/lumistore/src/common/OutputFile.cc\n",
        "A    bril/lumistore/src/common/hdf5\n",
        "A    bril/lumistore/src/common/hdf5/VariableTable.cc\n",
        "A    bril/lumistore/src/common/hdf5/Utils.cc\n",
        "A    bril/lumistore/src/common/hdf5/VariableCollection.cc\n",
        "A    bril/lumistore/src/common/hdf5/DataSet.cc\n",
        "A    bril/lumistore/src/common/hdf5/Variable.cc\n",
        "A    bril/lumistore/src/common/hdf5/TimeIndex.cc\n",
        "A    bril/lumistore/src/common/Application.cc\n",
        "A    bril/lumistore/src/common/StorageUnit.cc\n",
        "A    bril/lumistore/src/common/version.cc\n",
        "A    bril/lumistore/src/common/DiskWriter.cc\n",
        "A    bril/lumistore/src/common/HDF5OutputFile.cc\n",
        "A    bril/lumistore/src/common/StreamID.cc\n",
        "A    bril/lumistore/pyfile\n",
        "A    bril/lumistore/pyfile/pyhd5lumi.py\n",
        "A    bril/lumistore/Makefile\n",
        "A    bril/lumistore/pydb\n",
        "A    bril/lumistore/pydb/genoracle.py\n",
        "A    bril/lumistore/pydb/data\n",
        "A    bril/lumistore/pydb/data/schema_global.yaml\n",
        "A    bril/lumistore/pydb/data/resource.yaml\n",
        "A    bril/lumistore/pydb/data/schema_data.yaml\n",
        "A    bril/extern\n",
        "A    bril/extern/brilcondacore\n",
        "A    bril/extern/brilcondacore/brilcondaheader.sh\n",
        "A    bril/extern/brilcondacore/build_brilconda_core_pkgs.sh\n",
        "A    bril/extern/brilcondacore/gen_brilconda_core_installer.sh\n",
        "A    bril/extern/brilcondacore/daq-extern-brilcondacore.spec\n",
        "A    bril/extern/brilcondacore/README.md\n",
        "A    bril/extern/brilcondacore/Makefile\n",
        "A    bril/extern/brilcondacore/dellist.txt\n",
        "A    bril/extern/README.md\n",
        "A    bril/extern/dip\n",
        "A    bril/extern/dip/daq-extern-dip.spec\n",
        "A    bril/extern/dip/Makefile\n",
        "A    bril/scripts\n",
        "A    bril/scripts/eventing\n",
        "A    bril/scripts/eventing/eventing.template\n",
        "A    bril/scripts/eventing/template.param\n",
        "A    bril/scripts/eventing/eventing_inzone.template\n",
        "A    bril/scripts/stopApp.sh\n",
        "A    bril/scripts/timesource\n",
        "A    bril/scripts/timesource/timesource_datagenerator.template\n",
        "A    bril/scripts/timesource/template.param\n",
        "A    bril/scripts/timesource/timesource_datagenerator_inzone.template\n",
        "A    bril/scripts/xaas_bril.txt\n",
        "A    bril/scripts/default.profile\n",
        "A    bril/scripts/lumistore\n",
        "A    bril/scripts/lumistore/lumistore_inzone.template\n",
        "A    bril/scripts/lumistore/template.param\n",
        "A    bril/scripts/lumistore/lumistore.template\n",
        "A    bril/scripts/generatexml.sh\n",
        "A    bril/scripts/generator.txt\n",
        "A    bril/scripts/spec.template\n",
        "A    bril/scripts/freeportscanner.py\n",
        "A    bril/scripts/brilenv.sh\n",
        "A    bril/scripts/ReadMe.txt\n",
        "A    bril/scripts/test_brilcondacore.py\n",
        "A    bril/scripts/Makefile\n",
        "A    bril/scripts/webprogramming.txt\n",
        "A    bril/bcm1fprocessor\n",
        "A    bril/bcm1fsource\n",
        "Checked out revision 23988.\n",
        "\n"
       ]
      }
     ],
     "prompt_number": 50
    },
    {
     "cell_type": "code",
     "collapsed": false,
     "input": [
      "# Where I am now \n",
      "%pwd"
     ],
     "language": "python",
     "metadata": {},
     "outputs": [
      {
       "metadata": {},
       "output_type": "pyout",
       "prompt_number": 51,
       "text": [
        "u'/home/zhen/work/pynb/sandbox/zx/bril/scripts'"
       ]
      }
     ],
     "prompt_number": 51
    },
    {
     "cell_type": "code",
     "collapsed": false,
     "input": [
      "# list from top level workdir\n",
      "%ls\n"
     ],
     "language": "python",
     "metadata": {},
     "outputs": [
      {
       "output_type": "stream",
       "stream": "stdout",
       "text": [
        "\u001b[0m\u001b[01;34mbril\u001b[0m/            \u001b[01;32mfreeportscanner.py\u001b[0m*  Makefile       test_brilcondacore.py                webprogramming.txt\r\n",
        "\u001b[01;32mbrilenv.sh\u001b[0m*      \u001b[01;32mgeneratexml.sh\u001b[0m*      ReadMe.txt     \u001b[01;34mtimesource\u001b[0m/                          xaas_bril.txt\r\n",
        "default.profile  generator.txt        spec.template  timesource_datagenerator_inzone.xml\r\n",
        "\u001b[01;34meventing\u001b[0m/        \u001b[01;34mlumistore\u001b[0m/           \u001b[01;32mstopApp.sh\u001b[0m*    timesource_datagenerator.xml\r\n",
        "\u001b[m"
       ]
      }
     ],
     "prompt_number": 52
    },
    {
     "cell_type": "code",
     "collapsed": false,
     "input": [
      "# Go to scripts directory where all the controls are\n",
      "%cd bril/scripts"
     ],
     "language": "python",
     "metadata": {},
     "outputs": [
      {
       "output_type": "stream",
       "stream": "stdout",
       "text": [
        "/home/zhen/work/pynb/sandbox/zx/bril/scripts/bril/scripts\n"
       ]
      }
     ],
     "prompt_number": 53
    },
    {
     "cell_type": "code",
     "collapsed": false,
     "input": [
      "%ls"
     ],
     "language": "python",
     "metadata": {},
     "outputs": [
      {
       "output_type": "stream",
       "stream": "stdout",
       "text": [
        "\u001b[0m\u001b[01;32mbrilenv.sh\u001b[0m*      \u001b[01;32mfreeportscanner.py\u001b[0m*  \u001b[01;34mlumistore\u001b[0m/  spec.template          \u001b[01;34mtimesource\u001b[0m/\r\n",
        "default.profile  \u001b[01;32mgeneratexml.sh\u001b[0m*      Makefile    \u001b[01;32mstopApp.sh\u001b[0m*            webprogramming.txt\r\n",
        "\u001b[01;34meventing\u001b[0m/        generator.txt        ReadMe.txt  test_brilcondacore.py  xaas_bril.txt\r\n",
        "\u001b[m"
       ]
      }
     ],
     "prompt_number": 54
    },
    {
     "cell_type": "code",
     "collapsed": false,
     "input": [
      "%%bash\n",
      "source brilenv.sh"
     ],
     "language": "python",
     "metadata": {},
     "outputs": [
      {
       "output_type": "stream",
       "stream": "stdout",
       "text": [
        "LD_LIBRARY_PATH is  /home/zhen/work/pynb/sandbox/zx/bril/scripts/bril/scripts/../../../x86_64_slc6/lib:/opt/brilconda/lib:/opt/xdaq/lib:/home/zhen/brilconda/lib:/home/zhen/brilconda/root/lib\n",
        "PATH is  /opt/brilconda/bin:/home/zhen/brilconda/bin:/home/zhen/brilconda/root/bin:/usr/lib/jvm/java-1.6.0/bin:/home/zhen/scripts:/home/zhen/brilconda/bin:/home/zhen/brilconda/root/bin:/usr/lib/jvm/java-1.6.0/bin:/usr/sue/bin:/opt/WinCC_OA/3.11/bin:/usr/lib64/qt-3.3/bin:/usr/local/bin:/usr/bin:/bin:/usr/local/sbin:/usr/sbin:/sbin:/home/zhen/bin:/home/zhen/bin\n"
       ]
      }
     ],
     "prompt_number": 55
    },
    {
     "cell_type": "code",
     "collapsed": false,
     "input": [
      "%%bash \n",
      "./generatexml.sh timesource"
     ],
     "language": "python",
     "metadata": {},
     "outputs": [
      {
       "output_type": "stream",
       "stream": "stdout",
       "text": [
        "sources:\n",
        "    timesource/template.param,timesource/timesource_datagenerator.template\n",
        "generated:\n",
        "    /home/zhen/work/pynb/sandbox/zx/bril/scripts/bril/scripts/timesource_datagenerator.xml\n",
        "command per context:\n",
        "   /opt/xdaq/bin/xdaq.exe -p 40000 -c /home/zhen/work/pynb/sandbox/zx/bril/scripts/bril/scripts/timesource_datagenerator.xml \n",
        "   /opt/xdaq/bin/xdaq.exe -p 40001 -c /home/zhen/work/pynb/sandbox/zx/bril/scripts/bril/scripts/timesource_datagenerator.xml \n",
        "\n",
        "sources:\n",
        "    timesource/template.param,timesource/timesource_datagenerator_inzone.template\n",
        "generated:\n",
        "    /home/zhen/work/pynb/sandbox/zx/bril/scripts/bril/scripts/timesource_datagenerator_inzone.xml\n",
        "command per context:\n",
        "   /opt/xdaq/bin/xdaq.exe -p 40000 -c /home/zhen/work/pynb/sandbox/zx/bril/scripts/bril/scripts/timesource_datagenerator_inzone.xml -z bril\n",
        "   /opt/xdaq/bin/xdaq.exe -p 40001 -c /home/zhen/work/pynb/sandbox/zx/bril/scripts/bril/scripts/timesource_datagenerator_inzone.xml -z bril\n",
        "\n"
       ]
      }
     ],
     "prompt_number": 56
    },
    {
     "cell_type": "code",
     "collapsed": false,
     "input": [
      "%cat timesource/template.param"
     ],
     "language": "python",
     "metadata": {},
     "outputs": [
      {
       "output_type": "stream",
       "stream": "stdout",
       "text": [
        "%hostname%=`hostname -f`\r\n",
        "%tscontextport%=40000\r\n",
        "%tsendpoint%=400001\r\n",
        "%dgcontextport%=40001\r\n",
        "%dgendpoint%=400011\r\n",
        "%eventinghostname%=`hostname -f`\r\n",
        "%utcpport%=30020\r\n",
        "%localdaqroot%=\r\n"
       ]
      }
     ],
     "prompt_number": 57
    },
    {
     "cell_type": "code",
     "collapsed": false,
     "input": [
      "%cat timesource/timesource_datagenerator.template"
     ],
     "language": "python",
     "metadata": {},
     "outputs": [
      {
       "output_type": "stream",
       "stream": "stdout",
       "text": [
        "<?xml version=\"1.0\" encoding=\"UTF-8\"?>\r\n",
        "<xc:Partition xmlns:soapenc=\"http://schemas.xmlsoap.org/soap/encoding/\" xmlns:xc=\"http://xdaq.web.cern.ch/xdaq/xsd/2004/XMLConfiguration-30\" xmlns:xsi=\"http://www.w3.org/2001/XMLSchema-instance\">\r\n",
        "\r\n",
        " <xc:Context url=\"http://%hostname%:%tscontextport%\">\r\n",
        "    <xc:Endpoint protocol=\"utcp\" service=\"b2in\" rmode=\"select\" hostname=\"%hostname%\" port=\"%tsendpoint%\" network=\"utcp1\" sndTimeout=\"0\" rcvTimeout=\"0\" affinity=\"RCV:P,SND:W,DSR:W,DSS:W\" singleThread=\"true\" publish=\"true\"/>\r\n",
        "\r\n",
        "    <xc:Application class=\"pt::utcp::Application\" id=\"12\" instance=\"0\" network=\"local\">\r\n",
        "      <properties xmlns=\"urn:xdaq-application:pt::utcp::Application\" xsi:type=\"soapenc:Struct\">\r\n",
        "\t<maxClients xsi:type=\"xsd:unsignedInt\">10</maxClients>\r\n",
        "        <autoConnect xsi:type=\"xsd:boolean\">false</autoConnect>\r\n",
        "        <ioQueueSize xsi:type=\"xsd:unsignedInt\">65536</ioQueueSize>\r\n",
        "        <eventQueueSize xsi:type=\"xsd:unsignedInt\">65536</eventQueueSize>\r\n",
        "        <maxReceiveBuffers xsi:type=\"xsd:unsignedInt\">2</maxReceiveBuffers>\r\n",
        "        <maxBlockSize xsi:type=\"xsd:unsignedInt\">4096</maxBlockSize>\r\n",
        "        <committedPoolSize xsi:type=\"xsd:double\">0x100000</committedPoolSize> \r\n",
        "      </properties>\r\n",
        "    </xc:Application>\r\n",
        "    <xc:Module>${XDAQ_ROOT}/lib/libtcpla.so</xc:Module>\r\n",
        "    <xc:Module>${XDAQ_ROOT}/lib/libptutcp.so</xc:Module>\r\n",
        "\t       \r\n",
        "    <xc:Application class=\"eventing::core::Publisher\" id=\"16\" instance=\"0\" network=\"utcp1\" group=\"b2in\" service=\"tx\">\r\n",
        "      <properties xmlns=\"urn:xdaq-application:eventing::core::Publisher\" xsi:type=\"soapenc:Struct\">\r\n",
        "\t<eventings xsi:type=\"soapenc:Array\" soapenc:arrayType=\"xsd:ur-type[1]\">\r\n",
        "          <item xsi:type=\"xsd:string\" soapenc:position=\"[0]\">utcp://%eventinghostname%:%utcpport%</item>\r\n",
        "        </eventings>\r\n",
        "      </properties>\r\n",
        "    </xc:Application>\r\n",
        "    \r\n",
        "    <xc:Module>${XDAQ_ROOT}/lib/libb2inutils.so</xc:Module>\r\n",
        "    <xc:Module>${XDAQ_ROOT}/lib/libeventingcore.so</xc:Module>\r\n",
        "    \r\n",
        "<xc:Application class=\"bril::timesource::Application\" id=\"11\" instance=\"0\" network=\"local\">\r\n",
        "  <properties xmlns=\"urn:xdaq-application:bril::timesource::Application\" xsi:type=\"soapenc:Struct\">\r\n",
        "    <simSource xsi:type=\"xsd:boolean\">true</simSource>\r\n",
        "    <swInitRun xsi:type=\"xsd:unsignedInt\">65536</swInitRun>\r\n",
        "    <swLSPerRun xsi:type=\"xsd:unsignedInt\">2</swLSPerRun>\r\n",
        "    <swNRuns xsi:type=\"xsd:unsignedInt\">2</swNRuns>\r\n",
        "    <swRunPerFill xsi:type=\"xsd:unsignedInt\">1</swRunPerFill>\r\n",
        "    <swNBTimers xsi:type=\"soapenc:Array\" soapenc:arrayType=\"xsd:ur-type[2]\">\r\n",
        "      <item xsi:type=\"soapenc:Struct\"  soapenc:position=\"[0]\"> \r\n",
        "        <properties xsi:type=\"soapenc:Struct\">\r\n",
        "         <signalTopic xsi:type=\"xsd:string\">NB4</signalTopic>\r\n",
        "         <nbFrequency xsi:type=\"xsd:string\">4</nbFrequency>\r\n",
        "        </properties>\r\n",
        "      </item>\r\n",
        "      <item xsi:type=\"soapenc:Struct\"  soapenc:position=\"[1]\"> \r\n",
        "        <properties xsi:type=\"soapenc:Struct\">\r\n",
        "           <signalTopic xsi:type=\"xsd:string\">NB64</signalTopic>\r\n",
        "           <nbFrequency xsi:type=\"xsd:string\">64</nbFrequency>\r\n",
        "        </properties>\r\n",
        "      </item> \r\n",
        "    </swNBTimers>\r\n",
        "  </properties>\r\n",
        "</xc:Application>\r\n",
        "<xc:Module>${XDAQ_ROOT}/lib/libeventingapi.so</xc:Module>\r\n",
        "<xc:Module>%localdaqroot%/lib/libbriltimesource.so</xc:Module>\t   \r\n",
        "</xc:Context>\r\n",
        "\r\n",
        "  <xc:Context url=\"http://%hostname%:%dgcontextport%\">\r\n",
        " <xc:Endpoint protocol=\"utcp\" service=\"b2in\" rmode=\"select\" hostname=\"%hostname%\" port=\"%dgendpoint%\" network=\"utcp1\" sndTimeout=\"0\" rcvTimeout=\"0\" affinity=\"RCV:P,SND:W,DSR:W,DSS:W\" singleThread=\"true\" publish=\"true\"/>\r\n",
        " <xc:Application class=\"pt::utcp::Application\" id=\"12\" instance=\"0\" network=\"local\">\r\n",
        "      <properties xmlns=\"urn:xdaq-application:pt::utcp::Application\" xsi:type=\"soapenc:Struct\">\r\n",
        "\t<maxClients xsi:type=\"xsd:unsignedInt\">10</maxClients>\r\n",
        "        <autoConnect xsi:type=\"xsd:boolean\">false</autoConnect>\r\n",
        "        <ioQueueSize xsi:type=\"xsd:unsignedInt\">65536</ioQueueSize>\r\n",
        "        <eventQueueSize xsi:type=\"xsd:unsignedInt\">65536</eventQueueSize>\r\n",
        "        <maxReceiveBuffers xsi:type=\"xsd:unsignedInt\">2</maxReceiveBuffers>\r\n",
        "        <maxBlockSize xsi:type=\"xsd:unsignedInt\">4096</maxBlockSize>\r\n",
        "        <committedPoolSize xsi:type=\"xsd:double\">0x100000</committedPoolSize> \r\n",
        "      </properties>\r\n",
        "   </xc:Application>\r\n",
        "   <xc:Module>${XDAQ_ROOT}/lib/libtcpla.so</xc:Module>\r\n",
        "   <xc:Module>${XDAQ_ROOT}/lib/libptutcp.so</xc:Module>\r\n",
        "\t       \r\n",
        " <xc:Application class=\"eventing::core::Publisher\" id=\"19\" instance=\"0\" network=\"utcp1\" group=\"b2in\" service=\"ts\">\r\n",
        "    <properties xmlns=\"urn:xdaq-application:eventing::core::Publisher\" xsi:type=\"soapenc:Struct\">\r\n",
        "      <eventings xsi:type=\"soapenc:Array\" soapenc:arrayType=\"xsd:ur-type[1]\">\r\n",
        "        <item xsi:type=\"xsd:string\" soapenc:position=\"[0]\">utcp://%eventinghostname%:%utcpport%</item>\r\n",
        "      </eventings>\r\n",
        "    </properties>\r\n",
        " </xc:Application>\r\n",
        " <xc:Application class=\"eventing::core::Subscriber\" id=\"18\" instance=\"0\" network=\"utcp1\" group=\"b2in\" service=\"tx\">\r\n",
        "    <properties xmlns=\"urn:xdaq-application:eventing::core::Subscriber\" xsi:type=\"soapenc:Struct\">\r\n",
        "     <eventings xsi:type=\"soapenc:Array\" soapenc:arrayType=\"xsd:ur-type[1]\">\r\n",
        "       <item xsi:type=\"xsd:string\" soapenc:position=\"[0]\">utcp://%eventinghostname%:%utcpport%</item>\r\n",
        "     </eventings>\r\n",
        "   </properties>\r\n",
        " </xc:Application>\r\n",
        " <xc:Module>${XDAQ_ROOT}/lib/libb2inutils.so</xc:Module>\r\n",
        " <xc:Module>${XDAQ_ROOT}/lib/libeventingcore.so</xc:Module>\r\n",
        " <xc:Application class=\"bril::timesource::DataGenerator\" id=\"111\" instance=\"0\" network=\"local\" service=\"simdata\" >\r\n",
        "   <properties xmlns=\"urn:xdaq-application:bril::timesource::DataGenerator\" xsi:type=\"soapenc:Struct\">\r\n",
        "     <dataTopics xsi:type=\"soapenc:Array\" soapenc:arrayType=\"xsd:ur-type[1]\">\r\n",
        "       <item xsi:type=\"soapenc:Struct\"  soapenc:position=\"[0]\"> \r\n",
        "          <properties xsi:type=\"soapenc:Struct\">\r\n",
        "\t    <signalTopic xsi:type=\"xsd:string\">NB4</signalTopic>\r\n",
        "            <dataTopic xsi:type=\"xsd:string\">bestbxlumi</dataTopic>\r\n",
        "\t  </properties>\r\n",
        "       </item>\r\n",
        "     </dataTopics>\r\n",
        "   </properties>\r\n",
        " </xc:Application>\r\n",
        " <xc:Module>${XDAQ_ROOT}/lib/libeventingapi.so</xc:Module>\r\n",
        " <xc:Module>%localdaqroot%/lib/libbriltimesource.so</xc:Module>\t   \r\n",
        "</xc:Context>\r\n",
        "</xc:Partition>\r\n"
       ]
      }
     ],
     "prompt_number": 58
    },
    {
     "cell_type": "code",
     "collapsed": false,
     "input": [
      "# Scan for 10 free ports in default range\n",
      "%run freeportscanner.py "
     ],
     "language": "python",
     "metadata": {},
     "outputs": [
      {
       "output_type": "stream",
       "stream": "stdout",
       "text": [
        "scan range: [30000,30010)\n",
        "free ports: [30000, 30002, 30003, 30004, 30005, 30006, 30007, 30008, 30009]\n"
       ]
      }
     ],
     "prompt_number": 59
    },
    {
     "cell_type": "code",
     "collapsed": false,
     "input": [
      "# Scan for 10 free ports starting from the mininal value\n",
      "%run freeportscanner.py 50000 "
     ],
     "language": "python",
     "metadata": {},
     "outputs": [
      {
       "output_type": "stream",
       "stream": "stdout",
       "text": [
        "scan range: [50000,50010)\n",
        "free ports: [50000, 50001, 50002, 50003, 50004, 50005, 50006, 50007, 50008, 50009]\n"
       ]
      }
     ],
     "prompt_number": 60
    },
    {
     "cell_type": "code",
     "collapsed": false,
     "input": [
      "# Scan for free ports in a precise range\n",
      "%run freeportscanner.py 50000 50020"
     ],
     "language": "python",
     "metadata": {},
     "outputs": [
      {
       "output_type": "stream",
       "stream": "stdout",
       "text": [
        "scan range: [50000,50020)\n",
        "free ports: [50000, 50001, 50002, 50003, 50004, 50005, 50006, 50007, 50008, 50009, 50010, 50011, 50012, 50013, 50014, 50015, 50016, 50017, 50018, 50019]\n"
       ]
      }
     ],
     "prompt_number": 61
    },
    {
     "cell_type": "code",
     "collapsed": false,
     "input": [
      "# Select your free context port number, and remember it\n",
      "contextport = 40000"
     ],
     "language": "python",
     "metadata": {},
     "outputs": [],
     "prompt_number": 62
    },
    {
     "cell_type": "code",
     "collapsed": false,
     "input": [
      "import socket\n",
      "hostname = socket.gethostname()\n",
      "xdaqcontexturl = 'http://%s:%d'%(hostname,contextport)\n",
      "from IPython.display import IFrame\n",
      "display(IFrame(xdaqcontexturl, '100%', '600px'))"
     ],
     "language": "python",
     "metadata": {},
     "outputs": [
      {
       "html": [
        "\n",
        "        <iframe\n",
        "            width=\"100%\"\n",
        "            height=600px\"\n",
        "            src=\"http://pczhen.cern.ch:40000\"\n",
        "            frameborder=\"0\"\n",
        "            allowfullscreen\n",
        "        ></iframe>\n",
        "        "
       ],
       "metadata": {},
       "output_type": "display_data",
       "text": [
        "<IPython.lib.display.IFrame at 0x7fda62b65a90>"
       ]
      }
     ],
     "prompt_number": 63
    },
    {
     "cell_type": "markdown",
     "metadata": {},
     "source": [
      "yay! Play with xdaq web now . \"bril timesource\" is you, all the others are the xdaq services you are using. "
     ]
    },
    {
     "cell_type": "code",
     "collapsed": false,
     "input": [
      "!echo $EDITOR"
     ],
     "language": "python",
     "metadata": {},
     "outputs": [
      {
       "output_type": "stream",
       "stream": "stdout",
       "text": [
        "/bin/nano -w\r\n"
       ]
      }
     ],
     "prompt_number": 64
    },
    {
     "cell_type": "code",
     "collapsed": false,
     "input": [
      "%edit timesource/template.param"
     ],
     "language": "python",
     "metadata": {},
     "outputs": [],
     "prompt_number": 67
    },
    {
     "cell_type": "heading",
     "level": 3,
     "metadata": {},
     "source": [
      "stop application by port number"
     ]
    },
    {
     "cell_type": "code",
     "collapsed": false,
     "input": [
      "# Export contextport from python to bash \n",
      "import os\n",
      "os.environ['mycontextport'] = str(contextport)"
     ],
     "language": "python",
     "metadata": {},
     "outputs": [],
     "prompt_number": 65
    },
    {
     "cell_type": "code",
     "collapsed": false,
     "input": [
      "!./stopApp.sh $mycontextport"
     ],
     "language": "python",
     "metadata": {},
     "outputs": [
      {
       "output_type": "stream",
       "stream": "stdout",
       "text": [
        "                     USER        PID ACCESS COMMAND\r\n",
        "40000/tcp:           zhen      23746 F.... xdaq.exe\r\n"
       ]
      }
     ],
     "prompt_number": 47
    },
    {
     "cell_type": "heading",
     "level": 2,
     "metadata": {},
     "source": [
      "Working with graphics"
     ]
    },
    {
     "cell_type": "code",
     "collapsed": false,
     "input": [
      "!vim timesource/template.param"
     ],
     "language": "python",
     "metadata": {},
     "outputs": [
      {
       "output_type": "stream",
       "stream": "stdout",
       "text": [
        "\u001b7\u001b[?47h\u001b[?1h\u001b=\u001b[1;32r\u001b[m\u001b[H\u001b[2J\u001b[32;1H\"timesource/template.param\" 8L, 175C\u001b[>c\u001b[1;1H%hostname%=`hostname -f`\r\n",
        "%tscontextport%=40000\r\n",
        "%tsendpoint%=400001\r\n",
        "%dgcontextport%=40001\r\n",
        "%dgendpoint%=400011\r\n",
        "%eventinghostname%=`hostname -f`\r\n",
        "%utcpport%=30020\r\n",
        "%localdaqroot%=\r\n",
        "\u001b[1m\u001b[34m~                                                                                                                              \u001b[10;1H~                                                                                                                              \u001b[11;1H~                                                                                                                              \u001b[12;1H~                                                                                                                              \u001b[13;1H~                                                                                                                              \u001b[14;1H~                                                                                                                              \u001b[15;1H~                                                                                                                              \u001b[16;1H~                                                                                                                              \u001b[17;1H~                                                                                                                              \u001b[18;1H~                                                                                                                              \u001b[19;1H~                                                                                                                              \u001b[20;1H~                                                                                                                              \u001b[21;1H~                                                                                                                              \u001b[22;1H~                                                                                                                              \u001b[23;1H~                                                                                                                              \u001b[24;1H~                                                                                                                              \u001b[25;1H~                                                                                                                              \u001b[26;1H~                                                                                                                              \u001b[27;1H~                                                                                                                              \u001b[28;1H~                                                                                                                              \u001b[29;1H~                                                                                                                              \u001b[30;1H~                                                                                                                              \u001b[31;1H~                                                                                                                              \u001b[m\u001b[32;110H1,1\u001b[11CAll\u001b[1;1H"
       ]
      },
      {
       "output_type": "stream",
       "stream": "stdout",
       "text": [
        "\u001b[32;1HType  :quit<Enter>  to exit Vim\u001b[32;33H\u001b[K\u0007\u001b[32;110H1,1\u001b[11CAll\u001b[1;1H\u001b[32;110H2\u001b[2;1H"
       ]
      }
     ],
     "prompt_number": 70
    },
    {
     "cell_type": "code",
     "collapsed": false,
     "input": [
      "fda"
     ],
     "language": "python",
     "metadata": {},
     "outputs": [
      {
       "ename": "NameError",
       "evalue": "name 'fda' is not defined",
       "output_type": "pyerr",
       "traceback": [
        "\u001b[1;31m---------------------------------------------------------------------------\u001b[0m\n\u001b[1;31mNameError\u001b[0m                                 Traceback (most recent call last)",
        "\u001b[1;32m<ipython-input-69-13e4408a3b42>\u001b[0m in \u001b[0;36m<module>\u001b[1;34m()\u001b[0m\n\u001b[1;32m----> 1\u001b[1;33m \u001b[0mfda\u001b[0m\u001b[1;33m\u001b[0m\u001b[0m\n\u001b[0m",
        "\u001b[1;31mNameError\u001b[0m: name 'fda' is not defined"
       ]
      }
     ],
     "prompt_number": 69
    },
    {
     "cell_type": "code",
     "collapsed": false,
     "input": [
      "!gvim timesource/template.param"
     ],
     "language": "python",
     "metadata": {},
     "outputs": [
      {
       "output_type": "stream",
       "stream": "stdout",
       "text": [
        "/bin/sh: gvim: command not found\r\n"
       ]
      },
      {
       "ename": "NameError",
       "evalue": "name 'urce' is not defined",
       "output_type": "pyerr",
       "traceback": [
        "\u001b[1;31m---------------------------------------------------------------------------\u001b[0m\n\u001b[1;31mNameError\u001b[0m                                 Traceback (most recent call last)",
        "\u001b[1;32m<ipython-input-72-3ae67933ec06>\u001b[0m in \u001b[0;36m<module>\u001b[1;34m()\u001b[0m\n\u001b[0;32m      1\u001b[0m \u001b[0mget_ipython\u001b[0m\u001b[1;33m(\u001b[0m\u001b[1;33m)\u001b[0m\u001b[1;33m.\u001b[0m\u001b[0msystem\u001b[0m\u001b[1;33m(\u001b[0m\u001b[1;34mu'gvim timeso'\u001b[0m\u001b[1;33m)\u001b[0m\u001b[1;33m\u001b[0m\u001b[0m\n\u001b[1;32m----> 2\u001b[1;33m \u001b[0murce\u001b[0m\u001b[1;33m/\u001b[0m\u001b[0mtemplate\u001b[0m\u001b[1;33m.\u001b[0m\u001b[0mparam\u001b[0m\u001b[1;33m\u001b[0m\u001b[0m\n\u001b[0m",
        "\u001b[1;31mNameError\u001b[0m: name 'urce' is not defined"
       ]
      }
     ],
     "prompt_number": 72
    },
    {
     "cell_type": "code",
     "collapsed": false,
     "input": [
      "%ls"
     ],
     "language": "python",
     "metadata": {},
     "outputs": [
      {
       "output_type": "stream",
       "stream": "stdout",
       "text": [
        "\u001b[0m\u001b[01;34mbril\u001b[0m/  workenv.ipynb  workenv.py\r\n",
        "\u001b[m"
       ]
      }
     ],
     "prompt_number": 2
    },
    {
     "cell_type": "code",
     "collapsed": false,
     "input": [],
     "language": "python",
     "metadata": {},
     "outputs": [],
     "prompt_number": 71
    }
   ],
   "metadata": {}
  }
 ]
}