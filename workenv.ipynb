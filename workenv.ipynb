{
 "cells": [
  {
   "cell_type": "markdown",
   "metadata": {},
   "source": [
    "## Preparation"
   ]
  },
  {
   "cell_type": "code",
   "execution_count": 1,
   "metadata": {
    "collapsed": true
   },
   "outputs": [
    {
     "name": "stdout",
     "output_type": "stream",
     "text": [
      "/home/zhen/work/pynb/sandbox/zx/notebooks\n"
     ]
    }
   ],
   "source": [
    "# Use bash in .cms cluster\n",
    "export workdir=`pwd`\n",
    "cd $workdir\n",
    "rm -rf daq\n",
    "svn export https://svn.cern.ch/reps/cmsos/branches/bril/daq daq\n",
    "    "
   ]
  },
  {
   "cell_type": "markdown",
   "metadata": {},
   "source": [
    "## Set up working environment"
   ]
  },
  {
   "cell_type": "code",
   "execution_count": 5,
   "metadata": {
    "collapsed": true
   },
   "outputs": [
    {
     "name": "stdout",
     "output_type": "stream",
     "text": [
      "/home/zhen/work/pynb/sandbox/zx/notebooks/daq/bril/scripts\n"
     ]
    }
   ],
   "source": [
    "# Go to scripts directory where all the controls are\n",
    "%cd $workdir/daq/bril/scripts"
   ]
  },
  {
   "cell_type": "code",
   "execution_count": 6,
   "metadata": {
    "collapsed": true
   },
   "outputs": [
    {
     "name": "stdout",
     "output_type": "stream",
     "text": [
      "\u001b[0m\u001b[01;32mbrilenv.sh\u001b[0m*          \u001b[01;32mgeneratexml.sh\u001b[0m*  ReadMe.txt             \u001b[01;34mtimesource\u001b[0m/\r\n",
      "default.profile      generator.txt    spec.template          webprogramming.txt\r\n",
      "\u001b[01;34meventing\u001b[0m/            \u001b[01;34mlumistore\u001b[0m/       \u001b[01;32mstopApp.sh\u001b[0m*            xaas_bril.txt\r\n",
      "\u001b[01;32mfreeportscanner.py\u001b[0m*  Makefile         test_brilcondacore.py\r\n",
      "\u001b[m"
     ]
    }
   ],
   "source": [
    "# Look at scripts directory contents\n",
    "%ls"
   ]
  },
  {
   "cell_type": "code",
   "execution_count": 7,
   "metadata": {
    "collapsed": true
   },
   "outputs": [
    {
     "name": "stdout",
     "output_type": "stream",
     "text": [
      "LD_LIBRARY_PATH is  /home/zhen/work/pynb/sandbox/zx/notebooks/daq/bril/scripts/../../../x86_64_slc6/lib:/opt/brilconda/lib:/opt/xdaq/lib:/home/zhen/brilconda/lib:/home/zhen/brilconda/root/lib\r\n",
      "PATH is  /opt/brilconda/bin:/home/zhen/brilconda/bin:/home/zhen/brilconda/root/bin:/usr/lib/jvm/java-1.6.0/bin:/home/zhen/scripts:/home/zhen/brilconda/bin:/home/zhen/brilconda/root/bin:/usr/lib/jvm/java-1.6.0/bin:/usr/sue/bin:/opt/WinCC_OA/3.11/bin:/usr/lib64/qt-3.3/bin:/usr/local/bin:/usr/bin:/bin:/usr/local/sbin:/usr/sbin:/sbin:/home/zhen/bin:/home/zhen/bin\r\n"
     ]
    }
   ],
   "source": [
    "# scripts/brilenv.sh sets runtime bash environment\n",
    "# It must be run from inside the scripts directory\n",
    "# It must be run in every new shell\n",
    "! source ./brilenv.sh"
   ]
  },
  {
   "cell_type": "markdown",
   "metadata": {},
   "source": [
    "## Compile Application Package (skip if done once today)"
   ]
  },
  {
   "cell_type": "code",
   "execution_count": 8,
   "metadata": {
    "collapsed": true
   },
   "outputs": [
    {
     "name": "stdout",
     "output_type": "stream",
     "text": [
      "/home/zhen/work/pynb/sandbox/zx/notebooks/daq/bril/timesource\n"
     ]
    }
   ],
   "source": [
    "# Change to the package directory in order to compile\n",
    "%cd $workdir/daq/bril/timesource"
   ]
  },
  {
   "cell_type": "code",
   "execution_count": 9,
   "metadata": {
    "collapsed": true
   },
   "outputs": [],
   "source": [
    "%%bash --out output --err error\n",
    "make install"
   ]
  },
  {
   "cell_type": "markdown",
   "metadata": {},
   "source": [
    "## Application configuration templates and their parameter file"
   ]
  },
  {
   "cell_type": "markdown",
   "metadata": {},
   "source": [
    "<p> \n",
    "   <pre>\n",
    "    scripts/$package/myapp.template  this is the xdaq configuration file, except variables can be templated.\n",
    "    scripts/$package/template.param  template.param file contains substitutions of parameters defined in all the templates \n",
    "                                     (you might have more than one).\n",
    "    </pre>\n",
    "</p>\n",
    "* in the template file, \"%\" enclosed are template variables.\n",
    "* \"%brildaqroot%\" is special, when empty, it can be deduced\n",
    "* The rightside value is bash expanded. For example, the formats below are allowed and evaluated.\n",
    "    <pre>\n",
    "       %a%=`ls` \n",
    "       %b%=$BVAL \n",
    "   </pre>\n",
    "\n"
   ]
  },
  {
   "cell_type": "code",
   "execution_count": 10,
   "metadata": {
    "collapsed": true
   },
   "outputs": [
    {
     "name": "stdout",
     "output_type": "stream",
     "text": [
      "/home/zhen/work/pynb/sandbox/zx/notebooks/daq/bril/scripts\n"
     ]
    }
   ],
   "source": [
    "# Go to scripts directory to work with configurations\n",
    "%cd $workdir/daq/bril/scripts"
   ]
  },
  {
   "cell_type": "code",
   "execution_count": 11,
   "metadata": {
    "collapsed": true
   },
   "outputs": [
    {
     "name": "stdout",
     "output_type": "stream",
     "text": [
      "<?xml version=\"1.0\" encoding=\"UTF-8\"?>\r\n",
      "<xc:Partition xmlns:soapenc=\"http://schemas.xmlsoap.org/soap/encoding/\" xmlns:xc=\"http://xdaq.web.cern.ch/xdaq/xsd/2004/XMLConfiguration-30\" xmlns:xsi=\"http://www.w3.org/2001/XMLSchema-instance\">\r\n",
      "\r\n",
      " <xc:Context url=\"http://%hostname%:%tscontextport%\">\r\n",
      "    <xc:Endpoint protocol=\"utcp\" service=\"b2in\" rmode=\"select\" hostname=\"%hostname%\" port=\"%tsendpoint%\" network=\"utcp1\" sndTimeout=\"0\" rcvTimeout=\"0\" affinity=\"RCV:P,SND:W,DSR:W,DSS:W\" singleThread=\"true\" publish=\"true\"/>\r\n",
      "\r\n",
      "    <xc:Application class=\"pt::utcp::Application\" id=\"12\" instance=\"0\" network=\"local\">\r\n",
      "      <properties xmlns=\"urn:xdaq-application:pt::utcp::Application\" xsi:type=\"soapenc:Struct\">\r\n",
      "\t<maxClients xsi:type=\"xsd:unsignedInt\">10</maxClients>\r\n",
      "        <autoConnect xsi:type=\"xsd:boolean\">false</autoConnect>\r\n",
      "        <ioQueueSize xsi:type=\"xsd:unsignedInt\">65536</ioQueueSize>\r\n",
      "        <eventQueueSize xsi:type=\"xsd:unsignedInt\">65536</eventQueueSize>\r\n",
      "        <maxReceiveBuffers xsi:type=\"xsd:unsignedInt\">2</maxReceiveBuffers>\r\n",
      "        <maxBlockSize xsi:type=\"xsd:unsignedInt\">4096</maxBlockSize>\r\n",
      "        <committedPoolSize xsi:type=\"xsd:double\">0x100000</committedPoolSize> \r\n",
      "      </properties>\r\n",
      "    </xc:Application>\r\n",
      "    <xc:Module>${XDAQ_ROOT}/lib/libtcpla.so</xc:Module>\r\n",
      "    <xc:Module>${XDAQ_ROOT}/lib/libptutcp.so</xc:Module>\r\n",
      "\t       \r\n",
      "    <xc:Application class=\"eventing::core::Publisher\" id=\"16\" instance=\"0\" network=\"utcp1\" group=\"b2in\" service=\"tx\">\r\n",
      "      <properties xmlns=\"urn:xdaq-application:eventing::core::Publisher\" xsi:type=\"soapenc:Struct\">\r\n",
      "\t<eventings xsi:type=\"soapenc:Array\" soapenc:arrayType=\"xsd:ur-type[1]\">\r\n",
      "          <item xsi:type=\"xsd:string\" soapenc:position=\"[0]\">utcp://%eventinghostname%:%utcpport%</item>\r\n",
      "        </eventings>\r\n",
      "      </properties>\r\n",
      "    </xc:Application>\r\n",
      "    \r\n",
      "    <xc:Module>${XDAQ_ROOT}/lib/libb2inutils.so</xc:Module>\r\n",
      "    <xc:Module>${XDAQ_ROOT}/lib/libeventingcore.so</xc:Module>\r\n",
      "    \r\n",
      "<xc:Application class=\"bril::timesource::Application\" id=\"11\" instance=\"0\" network=\"local\">\r\n",
      "  <properties xmlns=\"urn:xdaq-application:bril::timesource::Application\" xsi:type=\"soapenc:Struct\">\r\n",
      "    <simSource xsi:type=\"xsd:boolean\">true</simSource>\r\n",
      "    <swInitRun xsi:type=\"xsd:unsignedInt\">65536</swInitRun>\r\n",
      "    <swLSPerRun xsi:type=\"xsd:unsignedInt\">2</swLSPerRun>\r\n",
      "    <swNRuns xsi:type=\"xsd:unsignedInt\">2</swNRuns>\r\n",
      "    <swRunPerFill xsi:type=\"xsd:unsignedInt\">1</swRunPerFill>\r\n",
      "    <swNBTimers xsi:type=\"soapenc:Array\" soapenc:arrayType=\"xsd:ur-type[2]\">\r\n",
      "      <item xsi:type=\"soapenc:Struct\"  soapenc:position=\"[0]\"> \r\n",
      "        <properties xsi:type=\"soapenc:Struct\">\r\n",
      "         <signalTopic xsi:type=\"xsd:string\">NB4</signalTopic>\r\n",
      "         <nbFrequency xsi:type=\"xsd:string\">4</nbFrequency>\r\n",
      "        </properties>\r\n",
      "      </item>\r\n",
      "      <item xsi:type=\"soapenc:Struct\"  soapenc:position=\"[1]\"> \r\n",
      "        <properties xsi:type=\"soapenc:Struct\">\r\n",
      "           <signalTopic xsi:type=\"xsd:string\">NB64</signalTopic>\r\n",
      "           <nbFrequency xsi:type=\"xsd:string\">64</nbFrequency>\r\n",
      "        </properties>\r\n",
      "      </item> \r\n",
      "    </swNBTimers>\r\n",
      "  </properties>\r\n",
      "</xc:Application>\r\n",
      "<xc:Module>${XDAQ_ROOT}/lib/libeventingapi.so</xc:Module>\r\n",
      "<xc:Module>%localdaqroot%/lib/libbriltimesource.so</xc:Module>\t   \r\n",
      "</xc:Context>\r\n",
      "\r\n",
      "  <xc:Context url=\"http://%hostname%:%dgcontextport%\">\r\n",
      " <xc:Endpoint protocol=\"utcp\" service=\"b2in\" rmode=\"select\" hostname=\"%hostname%\" port=\"%dgendpoint%\" network=\"utcp1\" sndTimeout=\"0\" rcvTimeout=\"0\" affinity=\"RCV:P,SND:W,DSR:W,DSS:W\" singleThread=\"true\" publish=\"true\"/>\r\n",
      " <xc:Application class=\"pt::utcp::Application\" id=\"12\" instance=\"0\" network=\"local\">\r\n",
      "      <properties xmlns=\"urn:xdaq-application:pt::utcp::Application\" xsi:type=\"soapenc:Struct\">\r\n",
      "\t<maxClients xsi:type=\"xsd:unsignedInt\">10</maxClients>\r\n",
      "        <autoConnect xsi:type=\"xsd:boolean\">false</autoConnect>\r\n",
      "        <ioQueueSize xsi:type=\"xsd:unsignedInt\">65536</ioQueueSize>\r\n",
      "        <eventQueueSize xsi:type=\"xsd:unsignedInt\">65536</eventQueueSize>\r\n",
      "        <maxReceiveBuffers xsi:type=\"xsd:unsignedInt\">2</maxReceiveBuffers>\r\n",
      "        <maxBlockSize xsi:type=\"xsd:unsignedInt\">4096</maxBlockSize>\r\n",
      "        <committedPoolSize xsi:type=\"xsd:double\">0x100000</committedPoolSize> \r\n",
      "      </properties>\r\n",
      "   </xc:Application>\r\n",
      "   <xc:Module>${XDAQ_ROOT}/lib/libtcpla.so</xc:Module>\r\n",
      "   <xc:Module>${XDAQ_ROOT}/lib/libptutcp.so</xc:Module>\r\n",
      "\t       \r\n",
      " <xc:Application class=\"eventing::core::Publisher\" id=\"19\" instance=\"0\" network=\"utcp1\" group=\"b2in\" service=\"ts\">\r\n",
      "    <properties xmlns=\"urn:xdaq-application:eventing::core::Publisher\" xsi:type=\"soapenc:Struct\">\r\n",
      "      <eventings xsi:type=\"soapenc:Array\" soapenc:arrayType=\"xsd:ur-type[1]\">\r\n",
      "        <item xsi:type=\"xsd:string\" soapenc:position=\"[0]\">utcp://%eventinghostname%:%utcpport%</item>\r\n",
      "      </eventings>\r\n",
      "    </properties>\r\n",
      " </xc:Application>\r\n",
      " <xc:Application class=\"eventing::core::Subscriber\" id=\"18\" instance=\"0\" network=\"utcp1\" group=\"b2in\" service=\"tx\">\r\n",
      "    <properties xmlns=\"urn:xdaq-application:eventing::core::Subscriber\" xsi:type=\"soapenc:Struct\">\r\n",
      "     <eventings xsi:type=\"soapenc:Array\" soapenc:arrayType=\"xsd:ur-type[1]\">\r\n",
      "       <item xsi:type=\"xsd:string\" soapenc:position=\"[0]\">utcp://%eventinghostname%:%utcpport%</item>\r\n",
      "     </eventings>\r\n",
      "   </properties>\r\n",
      " </xc:Application>\r\n",
      " <xc:Module>${XDAQ_ROOT}/lib/libb2inutils.so</xc:Module>\r\n",
      " <xc:Module>${XDAQ_ROOT}/lib/libeventingcore.so</xc:Module>\r\n",
      " <xc:Application class=\"bril::timesource::DataGenerator\" id=\"111\" instance=\"0\" network=\"local\" service=\"simdata\" >\r\n",
      "   <properties xmlns=\"urn:xdaq-application:bril::timesource::DataGenerator\" xsi:type=\"soapenc:Struct\">\r\n",
      "     <dataTopics xsi:type=\"soapenc:Array\" soapenc:arrayType=\"xsd:ur-type[1]\">\r\n",
      "       <item xsi:type=\"soapenc:Struct\"  soapenc:position=\"[0]\"> \r\n",
      "          <properties xsi:type=\"soapenc:Struct\">\r\n",
      "\t    <signalTopic xsi:type=\"xsd:string\">NB4</signalTopic>\r\n",
      "            <dataTopic xsi:type=\"xsd:string\">bestbxlumi</dataTopic>\r\n",
      "\t  </properties>\r\n",
      "       </item>\r\n",
      "     </dataTopics>\r\n",
      "   </properties>\r\n",
      " </xc:Application>\r\n",
      " <xc:Module>${XDAQ_ROOT}/lib/libeventingapi.so</xc:Module>\r\n",
      " <xc:Module>%localdaqroot%/lib/libbriltimesource.so</xc:Module>\t   \r\n",
      "</xc:Context>\r\n",
      "</xc:Partition>\r\n"
     ]
    }
   ],
   "source": [
    "# Look at the current application config template \n",
    "%cat $workdir/daq/bril/scripts/timesource/timesource_datagenerator.template"
   ]
  },
  {
   "cell_type": "code",
   "execution_count": 12,
   "metadata": {
    "collapsed": false
   },
   "outputs": [
    {
     "name": "stdout",
     "output_type": "stream",
     "text": [
      "%hostname%=`hostname -f`\r\n",
      "%tscontextport%=40000\r\n",
      "%tsendpoint%=400001\r\n",
      "%dgcontextport%=40001\r\n",
      "%dgendpoint%=400011\r\n",
      "%eventinghostname%=`hostname -f`\r\n",
      "%utcpport%=30020\r\n",
      "%localdaqroot%=\r\n",
      "#EOF need this fake lastline if using ipython notebook editor#\r\n"
     ]
    }
   ],
   "source": [
    "# Look at the current template.param\n",
    "# Note: all the template variables in the previous file are defined here\n",
    "# Note: localdaqroot is special, when the righthand side is whitespace, it means the generator script will guess it\n",
    "%cat $workdir/daq/bril/scripts/timesource/template.param"
   ]
  },
  {
   "cell_type": "code",
   "execution_count": 13,
   "metadata": {
    "collapsed": true
   },
   "outputs": [
    {
     "name": "stdout",
     "output_type": "stream",
     "text": [
      "sources:\n",
      "    timesource/template.param,timesource/timesource_datagenerator.template\n",
      "generated:\n",
      "    /home/zhen/work/pynb/sandbox/zx/notebooks/daq/bril/scripts/timesource_datagenerator.xml\n",
      "command per context:\n",
      "   /opt/xdaq/bin/xdaq.exe -p 40000 -c /home/zhen/work/pynb/sandbox/zx/notebooks/daq/bril/scripts/timesource_datagenerator.xml \n",
      "   /opt/xdaq/bin/xdaq.exe -p 40001 -c /home/zhen/work/pynb/sandbox/zx/notebooks/daq/bril/scripts/timesource_datagenerator.xml \n",
      "\n",
      "sources:\n",
      "    timesource/template.param,timesource/timesource_datagenerator_inzone.template\n",
      "generated:\n",
      "    /home/zhen/work/pynb/sandbox/zx/notebooks/daq/bril/scripts/timesource_datagenerator_inzone.xml\n",
      "command per context:\n",
      "   /opt/xdaq/bin/xdaq.exe -p 40000 -c /home/zhen/work/pynb/sandbox/zx/notebooks/daq/bril/scripts/timesource_datagenerator_inzone.xml -z bril\n",
      "   /opt/xdaq/bin/xdaq.exe -p 40001 -c /home/zhen/work/pynb/sandbox/zx/notebooks/daq/bril/scripts/timesource_datagenerator_inzone.xml -z bril\n",
      "\n"
     ]
    }
   ],
   "source": [
    "# Generate application configuration files based on templates and parameters in directory timesource\n",
    "!./generatexml.sh timesource"
   ]
  },
  {
   "cell_type": "markdown",
   "metadata": {},
   "source": [
    "<div style=\"color:DarkCyan\">\n",
    "    The output of this script suggests possible xdaq commands to run. <br>\n",
    "    In this example, it configures two xdaq executives. <br>\n",
    "    The first Context block is the one we are going to run. This is a timing simulator and a b2in eventing publisher. <br>\n",
    "    Since this notebook server is not in bril zone, we are going to run the configuratio without _inzone.<br>\n",
    "    Ready to go?\n",
    "    Wait...all the same xdaq applications running on this notebook server, port 40000 will not be free for everyone.<br>\n",
    "    We need to edit the port numbers to free ones.\n",
    "</div>"
   ]
  },
  {
   "cell_type": "markdown",
   "metadata": {},
   "source": [
    "## Configure XDAQ Application"
   ]
  },
  {
   "cell_type": "code",
   "execution_count": 14,
   "metadata": {
    "collapsed": true
   },
   "outputs": [
    {
     "name": "stdout",
     "output_type": "stream",
     "text": [
      "scan range: [30000,30010)\n",
      "free ports: [30000, 30002, 30003, 30004, 30005, 30006, 30007, 30008, 30009]\n",
      "scan range: [50000,50010)\n",
      "free ports: [50000, 50001, 50002, 50003, 50004, 50005, 50006, 50007, 50008, 50009]\n",
      "scan range: [50000,50020)\n",
      "free ports: [50000, 50001, 50002, 50003, 50004, 50005, 50006, 50007, 50008, 50009, 50010, 50011, 50012, 50013, 50014, 50015, 50016, 50017, 50018, 50019]\n"
     ]
    }
   ],
   "source": [
    "# Scan for 10 free ports in default range [30000,30010)\n",
    "%run freeportscanner.py \n",
    "# Scan for 10 free ports starting from the mininal value\n",
    "%run freeportscanner.py 50000 \n",
    "# Scan for free ports in a precise range\n",
    "%run freeportscanner.py 50000 50020"
   ]
  },
  {
   "cell_type": "code",
   "execution_count": 15,
   "metadata": {
    "collapsed": true
   },
   "outputs": [],
   "source": [
    "# Select your context port number and endpoint port number, and remember it\n",
    "# This Application is a b2in publisher, it uses two ports: http for xdaq context and endpoint for pt transport\n",
    "contextport = 50002\n",
    "endpointport = 50003"
   ]
  },
  {
   "cell_type": "markdown",
   "metadata": {},
   "source": [
    "<div style=\"color:DarkCyan\">\n",
    "Open the template file <br>\n",
    "modify %tscontextport% and %tsendpoint% <br>\n",
    "Execution of the command will overwrite file timesource/template.param\n",
    "</div>"
   ]
  },
  {
   "cell_type": "code",
   "execution_count": 16,
   "metadata": {
    "collapsed": false
   },
   "outputs": [
    {
     "name": "stdout",
     "output_type": "stream",
     "text": [
      "%hostname%=`hostname -f`\r\n",
      "%tscontextport%=40000\r\n",
      "%tsendpoint%=400001\r\n",
      "%dgcontextport%=40001\r\n",
      "%dgendpoint%=400011\r\n",
      "%eventinghostname%=`hostname -f`\r\n",
      "%utcpport%=30020\r\n",
      "%localdaqroot%=\r\n",
      "#EOF need this fake lastline if using ipython notebook editor#\r\n"
     ]
    }
   ],
   "source": [
    "%cat $workdir/daq/bril/scripts/timesource/template.param"
   ]
  },
  {
   "cell_type": "markdown",
   "metadata": {},
   "source": [
    "<div style=\"color:DarkCyan\">\n",
    " Replace the line \"To Paste\" with the output of last command, then modify tscontextport, tsendpoint values. Control-Enter to save file\n",
    "</div>"
   ]
  },
  {
   "cell_type": "code",
   "execution_count": 17,
   "metadata": {
    "collapsed": false
   },
   "outputs": [
    {
     "name": "stdout",
     "output_type": "stream",
     "text": [
      "Overwriting /home/zhen/work/pynb/sandbox/zx/notebooks/daq/bril/scripts/timesource/template.param\n"
     ]
    }
   ],
   "source": [
    "%%file $workdir/daq/bril/scripts/timesource/template.param\n",
    "%hostname%=`hostname -f`\n",
    "%tscontextport%=50002\n",
    "%tsendpoint%=50003\n",
    "%dgcontextport%=40001\n",
    "%dgendpoint%=400011\n",
    "%eventinghostname%=`hostname -f`\n",
    "%utcpport%=30020\n",
    "%localdaqroot%=\n",
    "#EOF need this fake lastline if using ipython notebook editor#\n"
   ]
  },
  {
   "cell_type": "code",
   "execution_count": 18,
   "metadata": {
    "collapsed": true
   },
   "outputs": [
    {
     "name": "stdout",
     "output_type": "stream",
     "text": [
      "sources:\n",
      "    timesource/template.param,timesource/timesource_datagenerator.template\n",
      "generated:\n",
      "    /home/zhen/work/pynb/sandbox/zx/notebooks/daq/bril/scripts/timesource_datagenerator.xml\n",
      "command per context:\n",
      "   /opt/xdaq/bin/xdaq.exe -p 50002 -c /home/zhen/work/pynb/sandbox/zx/notebooks/daq/bril/scripts/timesource_datagenerator.xml \n",
      "   /opt/xdaq/bin/xdaq.exe -p 40001 -c /home/zhen/work/pynb/sandbox/zx/notebooks/daq/bril/scripts/timesource_datagenerator.xml \n",
      "\n",
      "sources:\n",
      "    timesource/template.param,timesource/timesource_datagenerator_inzone.template\n",
      "generated:\n",
      "    /home/zhen/work/pynb/sandbox/zx/notebooks/daq/bril/scripts/timesource_datagenerator_inzone.xml\n",
      "command per context:\n",
      "   /opt/xdaq/bin/xdaq.exe -p 50002 -c /home/zhen/work/pynb/sandbox/zx/notebooks/daq/bril/scripts/timesource_datagenerator_inzone.xml -z bril\n",
      "   /opt/xdaq/bin/xdaq.exe -p 40001 -c /home/zhen/work/pynb/sandbox/zx/notebooks/daq/bril/scripts/timesource_datagenerator_inzone.xml -z bril\n",
      "\n"
     ]
    }
   ],
   "source": [
    "# Generate application configuration again to get your runnable version\n",
    "!./generatexml.sh timesource"
   ]
  },
  {
   "cell_type": "code",
   "execution_count": 19,
   "metadata": {
    "collapsed": false
   },
   "outputs": [
    {
     "name": "stdout",
     "output_type": "stream",
     "text": [
      "<?xml version=\"1.0\" encoding=\"UTF-8\"?>\r\n",
      "<xc:Partition xmlns:soapenc=\"http://schemas.xmlsoap.org/soap/encoding/\" xmlns:xc=\"http://xdaq.web.cern.ch/xdaq/xsd/2004/XMLConfiguration-30\" xmlns:xsi=\"http://www.w3.org/2001/XMLSchema-instance\">\r\n",
      "\r\n",
      " <xc:Context url=\"http://pczhen.cern.ch:50002\">\r\n",
      "    <xc:Endpoint protocol=\"utcp\" service=\"b2in\" rmode=\"select\" hostname=\"pczhen.cern.ch\" port=\"50003\" network=\"utcp1\" sndTimeout=\"0\" rcvTimeout=\"0\" affinity=\"RCV:P,SND:W,DSR:W,DSS:W\" singleThread=\"true\" publish=\"true\"/>\r\n",
      "\r\n",
      "    <xc:Application class=\"pt::utcp::Application\" id=\"12\" instance=\"0\" network=\"local\">\r\n",
      "      <properties xmlns=\"urn:xdaq-application:pt::utcp::Application\" xsi:type=\"soapenc:Struct\">\r\n",
      "\t<maxClients xsi:type=\"xsd:unsignedInt\">10</maxClients>\r\n",
      "        <autoConnect xsi:type=\"xsd:boolean\">false</autoConnect>\r\n",
      "        <ioQueueSize xsi:type=\"xsd:unsignedInt\">65536</ioQueueSize>\r\n",
      "        <eventQueueSize xsi:type=\"xsd:unsignedInt\">65536</eventQueueSize>\r\n",
      "        <maxReceiveBuffers xsi:type=\"xsd:unsignedInt\">2</maxReceiveBuffers>\r\n",
      "        <maxBlockSize xsi:type=\"xsd:unsignedInt\">4096</maxBlockSize>\r\n",
      "        <committedPoolSize xsi:type=\"xsd:double\">0x100000</committedPoolSize> \r\n",
      "      </properties>\r\n",
      "    </xc:Application>\r\n",
      "    <xc:Module>${XDAQ_ROOT}/lib/libtcpla.so</xc:Module>\r\n",
      "    <xc:Module>${XDAQ_ROOT}/lib/libptutcp.so</xc:Module>\r\n",
      "\t       \r\n",
      "    <xc:Application class=\"eventing::core::Publisher\" id=\"16\" instance=\"0\" network=\"utcp1\" group=\"b2in\" service=\"tx\">\r\n",
      "      <properties xmlns=\"urn:xdaq-application:eventing::core::Publisher\" xsi:type=\"soapenc:Struct\">\r\n",
      "\t<eventings xsi:type=\"soapenc:Array\" soapenc:arrayType=\"xsd:ur-type[1]\">\r\n",
      "          <item xsi:type=\"xsd:string\" soapenc:position=\"[0]\">utcp://pczhen.cern.ch:30020</item>\r\n",
      "        </eventings>\r\n",
      "      </properties>\r\n",
      "    </xc:Application>\r\n",
      "    \r\n",
      "    <xc:Module>${XDAQ_ROOT}/lib/libb2inutils.so</xc:Module>\r\n",
      "    <xc:Module>${XDAQ_ROOT}/lib/libeventingcore.so</xc:Module>\r\n",
      "    \r\n",
      "<xc:Application class=\"bril::timesource::Application\" id=\"11\" instance=\"0\" network=\"local\">\r\n",
      "  <properties xmlns=\"urn:xdaq-application:bril::timesource::Application\" xsi:type=\"soapenc:Struct\">\r\n",
      "    <simSource xsi:type=\"xsd:boolean\">true</simSource>\r\n",
      "    <swInitRun xsi:type=\"xsd:unsignedInt\">65536</swInitRun>\r\n",
      "    <swLSPerRun xsi:type=\"xsd:unsignedInt\">2</swLSPerRun>\r\n",
      "    <swNRuns xsi:type=\"xsd:unsignedInt\">2</swNRuns>\r\n",
      "    <swRunPerFill xsi:type=\"xsd:unsignedInt\">1</swRunPerFill>\r\n",
      "    <swNBTimers xsi:type=\"soapenc:Array\" soapenc:arrayType=\"xsd:ur-type[2]\">\r\n",
      "      <item xsi:type=\"soapenc:Struct\"  soapenc:position=\"[0]\"> \r\n",
      "        <properties xsi:type=\"soapenc:Struct\">\r\n",
      "         <signalTopic xsi:type=\"xsd:string\">NB4</signalTopic>\r\n",
      "         <nbFrequency xsi:type=\"xsd:string\">4</nbFrequency>\r\n",
      "        </properties>\r\n",
      "      </item>\r\n",
      "      <item xsi:type=\"soapenc:Struct\"  soapenc:position=\"[1]\"> \r\n",
      "        <properties xsi:type=\"soapenc:Struct\">\r\n",
      "           <signalTopic xsi:type=\"xsd:string\">NB64</signalTopic>\r\n",
      "           <nbFrequency xsi:type=\"xsd:string\">64</nbFrequency>\r\n",
      "        </properties>\r\n",
      "      </item> \r\n",
      "    </swNBTimers>\r\n",
      "  </properties>\r\n",
      "</xc:Application>\r\n",
      "<xc:Module>${XDAQ_ROOT}/lib/libeventingapi.so</xc:Module>\r\n",
      "<xc:Module>/home/zhen/work/pynb/sandbox/zx/notebooks/daq/bril/scripts/../../../x86_64_slc6/lib/libbriltimesource.so</xc:Module>\t   \r\n",
      "</xc:Context>\r\n",
      "\r\n",
      "  <xc:Context url=\"http://pczhen.cern.ch:40001\">\r\n",
      " <xc:Endpoint protocol=\"utcp\" service=\"b2in\" rmode=\"select\" hostname=\"pczhen.cern.ch\" port=\"400011\" network=\"utcp1\" sndTimeout=\"0\" rcvTimeout=\"0\" affinity=\"RCV:P,SND:W,DSR:W,DSS:W\" singleThread=\"true\" publish=\"true\"/>\r\n",
      " <xc:Application class=\"pt::utcp::Application\" id=\"12\" instance=\"0\" network=\"local\">\r\n",
      "      <properties xmlns=\"urn:xdaq-application:pt::utcp::Application\" xsi:type=\"soapenc:Struct\">\r\n",
      "\t<maxClients xsi:type=\"xsd:unsignedInt\">10</maxClients>\r\n",
      "        <autoConnect xsi:type=\"xsd:boolean\">false</autoConnect>\r\n",
      "        <ioQueueSize xsi:type=\"xsd:unsignedInt\">65536</ioQueueSize>\r\n",
      "        <eventQueueSize xsi:type=\"xsd:unsignedInt\">65536</eventQueueSize>\r\n",
      "        <maxReceiveBuffers xsi:type=\"xsd:unsignedInt\">2</maxReceiveBuffers>\r\n",
      "        <maxBlockSize xsi:type=\"xsd:unsignedInt\">4096</maxBlockSize>\r\n",
      "        <committedPoolSize xsi:type=\"xsd:double\">0x100000</committedPoolSize> \r\n",
      "      </properties>\r\n",
      "   </xc:Application>\r\n",
      "   <xc:Module>${XDAQ_ROOT}/lib/libtcpla.so</xc:Module>\r\n",
      "   <xc:Module>${XDAQ_ROOT}/lib/libptutcp.so</xc:Module>\r\n",
      "\t       \r\n",
      " <xc:Application class=\"eventing::core::Publisher\" id=\"19\" instance=\"0\" network=\"utcp1\" group=\"b2in\" service=\"ts\">\r\n",
      "    <properties xmlns=\"urn:xdaq-application:eventing::core::Publisher\" xsi:type=\"soapenc:Struct\">\r\n",
      "      <eventings xsi:type=\"soapenc:Array\" soapenc:arrayType=\"xsd:ur-type[1]\">\r\n",
      "        <item xsi:type=\"xsd:string\" soapenc:position=\"[0]\">utcp://pczhen.cern.ch:30020</item>\r\n",
      "      </eventings>\r\n",
      "    </properties>\r\n",
      " </xc:Application>\r\n",
      " <xc:Application class=\"eventing::core::Subscriber\" id=\"18\" instance=\"0\" network=\"utcp1\" group=\"b2in\" service=\"tx\">\r\n",
      "    <properties xmlns=\"urn:xdaq-application:eventing::core::Subscriber\" xsi:type=\"soapenc:Struct\">\r\n",
      "     <eventings xsi:type=\"soapenc:Array\" soapenc:arrayType=\"xsd:ur-type[1]\">\r\n",
      "       <item xsi:type=\"xsd:string\" soapenc:position=\"[0]\">utcp://pczhen.cern.ch:30020</item>\r\n",
      "     </eventings>\r\n",
      "   </properties>\r\n",
      " </xc:Application>\r\n",
      " <xc:Module>${XDAQ_ROOT}/lib/libb2inutils.so</xc:Module>\r\n",
      " <xc:Module>${XDAQ_ROOT}/lib/libeventingcore.so</xc:Module>\r\n",
      " <xc:Application class=\"bril::timesource::DataGenerator\" id=\"111\" instance=\"0\" network=\"local\" service=\"simdata\" >\r\n",
      "   <properties xmlns=\"urn:xdaq-application:bril::timesource::DataGenerator\" xsi:type=\"soapenc:Struct\">\r\n",
      "     <dataTopics xsi:type=\"soapenc:Array\" soapenc:arrayType=\"xsd:ur-type[1]\">\r\n",
      "       <item xsi:type=\"soapenc:Struct\"  soapenc:position=\"[0]\"> \r\n",
      "          <properties xsi:type=\"soapenc:Struct\">\r\n",
      "\t    <signalTopic xsi:type=\"xsd:string\">NB4</signalTopic>\r\n",
      "            <dataTopic xsi:type=\"xsd:string\">bestbxlumi</dataTopic>\r\n",
      "\t  </properties>\r\n",
      "       </item>\r\n",
      "     </dataTopics>\r\n",
      "   </properties>\r\n",
      " </xc:Application>\r\n",
      " <xc:Module>${XDAQ_ROOT}/lib/libeventingapi.so</xc:Module>\r\n",
      " <xc:Module>/home/zhen/work/pynb/sandbox/zx/notebooks/daq/bril/scripts/../../../x86_64_slc6/lib/libbriltimesource.so</xc:Module>\t   \r\n",
      "</xc:Context>\r\n",
      "</xc:Partition>\r\n"
     ]
    }
   ],
   "source": [
    "# Look at the configuration you want to run, simbol % should not be there if template substitution worked\n",
    "%cat ./timesource_datagenerator.xml"
   ]
  },
  {
   "cell_type": "markdown",
   "metadata": {},
   "source": [
    "## Run XDAQ application and check its web page"
   ]
  },
  {
   "cell_type": "markdown",
   "metadata": {},
   "source": [
    "<div style=\"color:DarkCyan\">\n",
    "    Pick the command to run from generatexml.sh output.\n",
    "    Copy and paste it inside the quote of xdaqcommand\n",
    "</div>"
   ]
  },
  {
   "cell_type": "code",
   "execution_count": 20,
   "metadata": {
    "collapsed": true
   },
   "outputs": [],
   "source": [
    "#\n",
    "# Pick and Copy-Paste the command to run in the double quotes of xdaqcmd .\n",
    "# 'source brilenv.sh' is run again because we are going to send xdaq to a python subprocess to run in the background.\n",
    "# And we want that new shell has the correct environment.\n",
    "# If in a normal main bash session, you don't need to source again\n",
    "#\n",
    "xdaqcmd=\"/opt/xdaq/bin/xdaq.exe -p 50002 -c /home/zhen/work/pynb/sandbox/zx/notebooks/daq/bril/scripts/timesource_datagenerator.xml\"\n",
    "mycmd=\"source ./brilenv.sh; \"+xdaqcmd"
   ]
  },
  {
   "cell_type": "markdown",
   "metadata": {},
   "source": [
    "## Extra about .cms environment"
   ]
  },
  {
   "cell_type": "markdown",
   "metadata": {},
   "source": [
    "<div style=\"color:Darkgreen\">\n",
    "This IPython notebook virtual environment is identical to brildev installations in .cms network except that it does not simulate inside .cms firewall setup.\n",
    "\n",
    "Working with real online nodes, if you want to see inside .cms applications through your outside browser, you need to setup proxy and ssh tunnel\n",
    "\n",
    "The following setting need to be done once (on the browser you use to see .cms)\n",
    "\n",
    "in browser url field type \"about:config\"\n",
    " <pre>\n",
    "->search \"proxy\" \n",
    "   make sure the following values\n",
    "  ->network.proxy.type value 1\n",
    "  ->network.proxy.socks value localhost\n",
    "  ->network.proxy.socks_port value 10880\n",
    "  ->network.proxy.socks_remote_dns value true\n",
    "  ->network.proxy.no_proxies_on add your noproxy whitelist,e.g. localhost,127.0.0.1,.fr,.ch,.us,.gov,.edu\n",
    "    This list can be also modified anytime later from browser(firefox) Preference -> Advanced-> Network->Settings menu    \n",
    "  </pre>\n",
    "  \n",
    "  \n",
    "  ssh tunnel :\n",
    "  <pre>\n",
    "    ssh -D 10880 yourusername@cmsusr\n",
    "    password\n",
    "    </pre>\n",
    "  open browser and test url:\n",
    "  <pre>\n",
    "     srv-c2d05-18.cms:30001\n",
    "     </pre>\n",
    " </div>    "
   ]
  },
  {
   "cell_type": "code",
   "execution_count": null,
   "metadata": {
    "collapsed": false
   },
   "outputs": [],
   "source": []
  }
 ],
 "metadata": {
  "kernelspec": {
   "display_name": "Python 2",
   "language": "python",
   "name": "python2"
  },
  "language_info": {
   "codemirror_mode": {
    "name": "ipython",
    "version": 2
   },
   "file_extension": ".py",
   "mimetype": "text/x-python",
   "name": "python",
   "nbconvert_exporter": "python",
   "pygments_lexer": "ipython2",
   "version": "2.7.12"
  }
 },
 "nbformat": 4,
 "nbformat_minor": 0
}
