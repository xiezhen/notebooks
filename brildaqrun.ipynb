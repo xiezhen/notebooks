{
 "metadata": {
  "name": "",
  "signature": "sha256:c0c63eb940e12fee158fd0c502dae3d8191d3f6e6909a73ad6622750f2843346"
 },
 "nbformat": 3,
 "nbformat_minor": 0,
 "worksheets": [
  {
   "cells": [
    {
     "cell_type": "heading",
     "level": 1,
     "metadata": {},
     "source": [
      "BrilDAQ Run"
     ]
    },
    {
     "cell_type": "heading",
     "level": 3,
     "metadata": {},
     "source": [
      "Application development "
     ]
    },
    {
     "cell_type": "markdown",
     "metadata": {},
     "source": [
      "```\n",
      "svn co <daq/bril/package>\n",
      "cd scripts\n",
      "source brilenv.sh\n",
      "./generatexml.sh <your configuration template directory>\n",
      "/opt/xdaq/bin/xdaq.exe -p <port> -c <configuration xml of your choice> [-e /opt/xdaq/etc/default.profile] [-z bril] [--stdout /tmp/myapp.stdout] [--stderr /tmp/myapp.stderr] [-u file.append:/tmp/myapp.log] [-l debug]\n",
      "```\n",
      "\n",
      "Note: only -p -c options are mandatory\n",
      "\n",
      "Note: -z and -e are mutually exclusive, -e /opt/xdaq/etc/default.profile should be used when running without bril zone\n",
      "\n",
      "Note: -l specifies the message threshould \n"
     ]
    },
    {
     "cell_type": "heading",
     "level": 3,
     "metadata": {},
     "source": [
      "Local run without rcms"
     ]
    },
    {
     "cell_type": "markdown",
     "metadata": {},
     "source": [
      "Local run is for subsystem or person to run its own stable applications in a distributed environment for integration or local data acquisition purpose. \n",
      "\n",
      "The participating applications must have been installed into the standard /opt/xdaq area with yum install steps. \n",
      "\n",
      "This is not a development setup. Locally compiled libraries are not allowed.\n",
      "```\n",
      "svn co daq/bril/scripts scripts\n",
      "source brilenv.sh\n",
      "cd scripts/globalrun\n",
      "start job control service on each participating host:\n",
      "    /opt/xdaq/bin/xdaq.exe -e jc.profile -p  9999\n",
      "./jc.py startAll <configfile> [-z=<zone>] [-u=<user>] [--with-backstore] [--dryrun] [--debug]\n",
      "```\n",
      "Stop local run, from the command host send killAll to each participating host:\n",
      "```\n",
      "./jc.py killAll <hostname>\n",
      "```"
     ]
    },
    {
     "cell_type": "heading",
     "level": 3,
     "metadata": {},
     "source": [
      "Global or local run with rcms"
     ]
    },
    {
     "cell_type": "markdown",
     "metadata": {},
     "source": [
      "When using the rcms infrastructure to control applications in the cluster, you must first populate the run configuration into the rc database. \n",
      "\n",
      "The configuration file to drive this process is identical to the one used in the above case. \n",
      "```\n",
      "svn co daq/bril/scripts scripts\n",
      "source brilenv.sh\n",
      "\n",
      "cd scripts/globalrun\n",
      "export JAVA_HOME=<javahome>\n",
      "export PATH=${JAVA_HOME}/bin:$PATH\n",
      "ln -s /afs/cern.ch/cms/lumi/DB/DUCK.properties DUCK.properties\n",
      "mkdir out\n",
      "./fm.py <configfile> -o out\n",
      "for each generated function manager configuration:\n",
      "     java -jar /afs/cern.ch/cms/lumi/DB/duck.jar out/thisfm.xml\n",
      "     \n",
      "check configuration in rc database:\n",
      "javaws http://cmsrc-srv:9000/rs_manager/1_13_1/manager.jnlp \n",
      "\n",
      "access bril rcms control panel: \n",
      "      http://cmsrc-lumidev.cms:46000/rcms\n",
      "```\n",
      "Note: if your configuration is in the databsae and stable, just control the processes from the rcms GUI. \n"
     ]
    }
   ],
   "metadata": {}
  }
 ]
}