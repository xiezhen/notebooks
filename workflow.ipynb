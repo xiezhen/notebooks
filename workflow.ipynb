{
 "metadata": {
  "name": "",
  "signature": "sha256:2d3ceb298ad24580fc15158c37735a32fcfde47460c038bd44ec70bf36db5cbe"
 },
 "nbformat": 3,
 "nbformat_minor": 0,
 "worksheets": [
  {
   "cells": [
    {
     "cell_type": "heading",
     "level": 1,
     "metadata": {},
     "source": [
      "Workflow"
     ]
    },
    {
     "cell_type": "code",
     "collapsed": false,
     "input": [
      "#set session variables\n",
      "## your name or id to distinguish with other users\n",
      "me = \"zx\" \n",
      "## notebook repository name\n",
      "gitrepo = \"https://github.com/xiezhen/notebooks.git\""
     ],
     "language": "python",
     "metadata": {},
     "outputs": [],
     "prompt_number": 29
    },
    {
     "cell_type": "markdown",
     "metadata": {},
     "source": [
      "### make your work directory in the sandbox"
     ]
    },
    {
     "cell_type": "code",
     "collapsed": false,
     "input": [
      "# Create your sandbox for today (all sandboxes will be wiped by the end of the day)\n",
      "!mkdir $me"
     ],
     "language": "python",
     "metadata": {},
     "outputs": []
    },
    {
     "cell_type": "code",
     "collapsed": false,
     "input": [
      "# Change into your sandbox\n",
      "%cd $me"
     ],
     "language": "python",
     "metadata": {},
     "outputs": []
    },
    {
     "cell_type": "markdown",
     "metadata": {},
     "source": [
      "### check out the notebook to work with from git"
     ]
    },
    {
     "cell_type": "code",
     "collapsed": false,
     "input": [
      "# Clone Zhen's notebook repository\n",
      "!git clone $gitrepo"
     ],
     "language": "python",
     "metadata": {},
     "outputs": []
    },
    {
     "cell_type": "markdown",
     "metadata": {},
     "source": [
      "### Open selected template notebook from File menu\n",
      "\n",
      " *File->Open->Your personal directory->notebooks*\n",
      " \n",
      " #### In the created new tab\n",
      " \n",
      " *File->Rename->Your prefered filename*\n",
      " \n",
      " #### Now you can run and modify in the new tab.\n",
      " \n",
      " #### You can close this kernel if no more needed. \n",
      " \n",
      " Note: closing the browser tab does not kill this session.\n",
      " You will be reconnected to this session when reopen."
     ]
    },
    {
     "cell_type": "markdown",
     "metadata": {},
     "source": [
      "### In case you want to save your own notebook \n",
      "\n",
      "File->Download as selected format-> run a bash session to do all the movings\n",
      "\n",
      "\n",
      "    %% bash\n",
      "       pwd\n",
      "       cp mynotebook.ipynb dest\n"
     ]
    },
    {
     "cell_type": "markdown",
     "metadata": {},
     "source": [
      "### Appendix"
     ]
    },
    {
     "cell_type": "markdown",
     "metadata": {},
     "source": [
      "#### Shortcuts [IPython-quick-ref-sheets](http://damontallen.github.io/IPython-quick-ref-sheets)"
     ]
    },
    {
     "cell_type": "markdown",
     "metadata": {},
     "source": [
      "#### How to clear all outputs for publishing \n",
      "\n",
      "   From menu *Cell->All Output->Clear*"
     ]
    },
    {
     "cell_type": "markdown",
     "metadata": {},
     "source": [
      "#### How to share readonly version of notebook"
     ]
    },
    {
     "cell_type": "markdown",
     "metadata": {},
     "source": [
      "copy .ipynb file to [gist](http://gist.github.com/), gist generates a number\n",
      "\n",
      "go to [nbviewer](http://nbviewer.ipython.org/) and insert the gist number"
     ]
    },
    {
     "cell_type": "code",
     "collapsed": false,
     "input": [],
     "language": "python",
     "metadata": {},
     "outputs": []
    }
   ],
   "metadata": {}
  }
 ]
}