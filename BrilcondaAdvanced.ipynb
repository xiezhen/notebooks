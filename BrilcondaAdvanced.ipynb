{
 "metadata": {
  "name": "",
  "signature": "sha256:232cfec07fcd8699bb45ba0615aae3e774a81bfb251bc82f779f9ba9d92f7863"
 },
 "nbformat": 3,
 "nbformat_minor": 0,
 "worksheets": [
  {
   "cells": [
    {
     "cell_type": "heading",
     "level": 1,
     "metadata": {},
     "source": [
      "Brilconda advanced topics"
     ]
    },
    {
     "cell_type": "markdown",
     "metadata": {},
     "source": [
      "There are two ways to fit data in brilconda. One can either use the minuit fitting facility via PyROOT or use fitting modules provided by SciPy package.  "
     ]
    },
    {
     "cell_type": "heading",
     "level": 2,
     "metadata": {},
     "source": [
      "Access PyROOT from brilconda"
     ]
    },
    {
     "cell_type": "markdown",
     "metadata": {},
     "source": [
      "Who is familiar with ROOT can access its fitting and plotting utilities via PyROOT built with Brilconda. PyROOT work with numpy array normally.\n",
      "\n",
      "However beware that PyROOT is unavailable with __macos__ brilconda distribution. And runtime environment variable __LD_LIBRARY_PATH__ must be set before invoking python. \n",
      "\n",
      "    export LD_LIBRARY_PATH=$BRILCONDA_HOME/root/lib:$BRILCONDA_HOME/lib:$LD_LIBRARY_PATH"
     ]
    },
    {
     "cell_type": "code",
     "collapsed": false,
     "input": [
      "# this ipython syntax, from bash you just do normal export\n",
      "import os\n",
      "os.environ['LD_LIBRARY_PATH']='/home/zhen/brilconda/root/lib:/home/zhen/brilconda/lib'\n",
      "\n",
      "import ROOT as r\n",
      "import numpy as np\n",
      "\n",
      "r.gROOT.Reset()\n",
      "x = np.array( [1.913521, 1.953769, 2.347435, 2.883654, 3.493567,\n",
      "4.047560, 4.337210, 4.364347, 4.563004, 5.054247,\n",
      "5.194183, 5.380521, 5.303213, 5.384578, 5.563983,\n",
      "5.728500, 5.685752, 5.080029, 4.251809, 3.372246,\n",
      "2.207432, 1.227541, 0.8597788,0.8220503,0.8046592,\n",
      "0.7684097,0.7469761,0.8019787,0.8362375,0.8744895,\n",
      "0.9143721,0.9462768,0.9285364,0.8954604,0.8410891,\n",
      "0.7853871,0.7100883,0.6938808,0.7363682,0.7032954,\n",
      "0.6029015,0.5600163,0.7477068,1.188785, 1.938228,\n",
      "2.602717, 3.472962, 4.465014, 5.177035] )\n",
      "\n",
      "l = len(x)\n",
      "hist = r.TH1F( 'hist', 'Example of several fits in subranges', l, 85, 134 )\n",
      "hist.SetMaximum( 7 )\n",
      "for i in xrange(l): \n",
      "    hist.SetBinContent( i+1, x[i] )\n",
      "\n",
      "par = np.zeros(9)\n",
      "g1 = r.TF1( 'g1', 'gaus', 85, 95 )\n",
      "g2 = r.TF1( 'g2', 'gaus', 98, 108 )\n",
      "g3 = r.TF1( 'g3', 'gaus', 110, 121 )\n",
      "total = r.TF1( 'total', 'gaus(0)+gaus(3)+gaus(6)', 85, 125 )\n",
      "total.SetLineColor( 2 )\n",
      "hist.Fit( g1, 'R' )\n",
      "hist.Fit( g2, 'R+' )\n",
      "hist.Fit( g3, 'R+' )\n",
      "par1 = g1.GetParameters()\n",
      "par2 = g2.GetParameters()\n",
      "par3 = g3.GetParameters()\n",
      "par[0], par[1], par[2] = par1[0], par1[1], par1[2]\n",
      "par[3], par[4], par[5] = par2[0], par2[1], par2[2]\n",
      "par[6], par[7], par[8] = par3[0], par3[1], par3[2]\n",
      "total.SetParameters( par )\n",
      "hist.Fit( total, 'R+' )\n"
     ],
     "language": "python",
     "metadata": {},
     "outputs": [
      {
       "metadata": {},
       "output_type": "pyout",
       "prompt_number": 1,
       "text": [
        "<ROOT.TFitResultPtr object at 0x4634b58>"
       ]
      }
     ],
     "prompt_number": 1
    },
    {
     "cell_type": "heading",
     "level": 1,
     "metadata": {},
     "source": [
      "Fitting with scipy,numpy"
     ]
    },
    {
     "cell_type": "markdown",
     "metadata": {},
     "source": [
      "\n",
      "* Linear regression\n",
      "\n",
      "* Polynomial curve fitting\n",
      "\n",
      "* Curve fitting\n",
      "\n",
      "* Distribution fitting\n",
      "\n",
      "* [The Glowing Python: a fantastic resource](http://glowingpython.blogspot.ch/)\n"
     ]
    },
    {
     "cell_type": "heading",
     "level": 2,
     "metadata": {},
     "source": [
      "Linear regression"
     ]
    },
    {
     "cell_type": "markdown",
     "metadata": {},
     "source": [
      "A linear regression line is of the form __w1x+w2=y__ and it is the line that minimizes the sum of the squares of the distance from each data point to the line"
     ]
    },
    {
     "cell_type": "markdown",
     "metadata": {},
     "source": [
      "__scipy.stats.linregress__ returns the least-squares solution to a linear matrix equation "
     ]
    },
    {
     "cell_type": "code",
     "collapsed": false,
     "input": [
      "import numpy as np\n",
      "from scipy import stats\n",
      "import matplotlib.pyplot as plt\n",
      "\n",
      "x = np.arange(0,9)\n",
      "y = np.array([19, 20, 20.5, 21.5, 22, 23, 23, 25.5, 24])\n",
      "slope, intercept, r_value, p_value, std_err = stats.linregress(x,y)\n",
      "line = slope*x+intercept\n",
      "plt.plot(x,y,'o',label='data')\n",
      "plt.plot(x,line,'r-',label='slope=%.2f intercept=%.2f\\nrsqrt=%.2f stderr=%.2f'%(slope,intercept,r_value,std_err))\n",
      "plt.xlim([ x[0]-1,x[-1]+1 ] )\n",
      "plt.ylim([ line[0]-0.5, line[-1]+4 ])\n",
      "plt.legend()\n",
      "show()"
     ],
     "language": "python",
     "metadata": {},
     "outputs": [
      {
       "metadata": {},
       "output_type": "display_data",
       "png": "[encoded data removed]",
       "text": [
        "<matplotlib.figure.Figure at 0x7f5b5eb37a90>"
       ]
      }
     ],
     "prompt_number": 2
    },
    {
     "cell_type": "heading",
     "level": 2,
     "metadata": {},
     "source": [
      "Polynomial curve fitting "
     ]
    },
    {
     "cell_type": "markdown",
     "metadata": {},
     "source": [
      "Least-squares fit of a polynomial to data with __numpy.polyfit__"
     ]
    },
    {
     "cell_type": "code",
     "collapsed": false,
     "input": [
      "import numpy as np\n",
      "from scipy import stats\n",
      "import matplotlib.pyplot as plt"
     ],
     "language": "python",
     "metadata": {},
     "outputs": [],
     "prompt_number": 3
    },
    {
     "cell_type": "code",
     "collapsed": false,
     "input": [
      "points = np.array([ [1,1.3],[2,1.5],[3,1.8],[5,1.9],[6,2] ] )\n",
      "np.sort(points, axis=0)         # note: data should be properly sorted along the x-axis before feeding to polyfit\n",
      "\n",
      "# get x and y vectors         \n",
      "x = points[:,0]         \n",
      "y = points[:,1]"
     ],
     "language": "python",
     "metadata": {},
     "outputs": [],
     "prompt_number": 4
    },
    {
     "cell_type": "code",
     "collapsed": false,
     "input": [
      "# calculate polynominal\n",
      "coef2 = np.polyfit(x, y, 2)  # 2 is the degree of the degrees of the polynomials to be fit"
     ],
     "language": "python",
     "metadata": {},
     "outputs": [],
     "prompt_number": 5
    },
    {
     "cell_type": "code",
     "collapsed": false,
     "input": [
      "# create a polynomial using coefficients\n",
      "ffit2 = np.poly1d(coef2)\n",
      "print '2nd degree polynomial is : \\n %s'%ffit2"
     ],
     "language": "python",
     "metadata": {},
     "outputs": [
      {
       "output_type": "stream",
       "stream": "stdout",
       "text": [
        "2nd degree polynomial is : \n",
        "           2\n",
        "-0.02841 x + 0.3352 x + 0.9864\n"
       ]
      }
     ],
     "prompt_number": 6
    },
    {
     "cell_type": "code",
     "collapsed": false,
     "input": [
      "# try another 3rd degree polyfit\n",
      "coef3 = np.polyfit(x, y, 3)\n",
      "ffit3 = np.poly1d(coef3)\n",
      "print '3rd degree polynomial \\n %s'%ffit3"
     ],
     "language": "python",
     "metadata": {},
     "outputs": [
      {
       "output_type": "stream",
       "stream": "stdout",
       "text": [
        "3rd degree polynomial \n",
        "           3           2\n",
        "0.004412 x - 0.07353 x + 0.4662 x + 0.8853\n"
       ]
      }
     ],
     "prompt_number": 7
    },
    {
     "cell_type": "code",
     "collapsed": false,
     "input": [
      "# calculate new x's and y's in the original range with total 50 points\n",
      "x_new = np.linspace(x[0], x[-1], 50)\n",
      "y_new2 = ffit2(x_new)\n",
      "y_new3 = ffit3(x_new)"
     ],
     "language": "python",
     "metadata": {},
     "outputs": [],
     "prompt_number": 8
    },
    {
     "cell_type": "code",
     "collapsed": false,
     "input": [
      "# create a plot \n",
      "plt.plot(x, y, '.', label='data')\n",
      "plt.plot(x_new, y_new2, 'r-', label = str(ffit2))\n",
      "plt.plot(x_new, y_new3, 'g-', label = str(ffit3))\n",
      "plt.xlim([ x[0]-0.5, x[-1]+0.5 ])\n",
      "plt.ylim([ y[0]-0.1, y[-1]+0.8 ])\n",
      "plt.title('polyfit')\n",
      "plt.legend()\n",
      "plt.show()"
     ],
     "language": "python",
     "metadata": {},
     "outputs": [
      {
       "metadata": {},
       "output_type": "display_data",
       "png": "[encoded data removed]",
       "text": [
        "<matplotlib.figure.Figure at 0x7f5b5eb36c50>"
       ]
      }
     ],
     "prompt_number": 9
    },
    {
     "cell_type": "heading",
     "level": 2,
     "metadata": {},
     "source": [
      "General nonlinear least squares curve fitting"
     ]
    },
    {
     "cell_type": "markdown",
     "metadata": {},
     "source": [
      "   There are several classical optimization algorithms provided by SciPy in the optimize package. __curve_fit__ is a wrapper for scipy.optimize.leastsq which uses a Levenburg-Marquardt gradient method (greedy algorithm) to minimise the objective function.\n",
      "   \n",
      "    scipy.optimize.curve_fit \n",
      "    \n",
      "   An overview of the module is available using help."
     ]
    },
    {
     "cell_type": "code",
     "collapsed": false,
     "input": [
      "import numpy as np\n",
      "from scipy import optimize\n",
      "\n",
      "# data\n",
      "x = np.array([-2,-1.64,-1.33,-0.7,0,0.45,1.2,1.64,2.32,2.9])\n",
      "y = np.array([0.699369,0.700462,0.695354,1.03905,1.97389,2.41143,1.91091,0.919576,-0.730975,-1.42001])"
     ],
     "language": "python",
     "metadata": {},
     "outputs": [],
     "prompt_number": 10
    },
    {
     "cell_type": "markdown",
     "metadata": {},
     "source": [
      "We would like to fit the fuction f(p1,p2,x)=p1cos(p2x) + p2sin(p1x) using nonlinear least squares.\n",
      "\n",
      "We start guesses for the parameters are p1 = 1 and p2 = 0.2"
     ]
    },
    {
     "cell_type": "code",
     "collapsed": false,
     "input": [
      "# define the fitting function\n",
      "def func(x,p1,p2):\n",
      "    return p1*np.cos(p2*x) + p2*np.sin(p1*x)\n",
      "# do the fit\n",
      "popt, pcov = optimize.curve_fit(func, x, y, p0=(1.0,0.2))\n",
      "# the output variable popt contains the actual parameter estimate (p1,p2) and pcov the covariance matrix.\n",
      "print popt"
     ],
     "language": "python",
     "metadata": {},
     "outputs": [
      {
       "output_type": "stream",
       "stream": "stdout",
       "text": [
        "[ 1.88185099  0.70022986]\n"
       ]
      }
     ],
     "prompt_number": 11
    },
    {
     "cell_type": "code",
     "collapsed": false,
     "input": [
      "# a bit more work to get the sum of squared residuals\n",
      "p1 = popt[0]\n",
      "p2 = popt[1]\n",
      "residuals = y - func(x,p1,p2)\n",
      "fres = np.sum(residuals**2)\n",
      "fres"
     ],
     "language": "python",
     "metadata": {},
     "outputs": [
      {
       "metadata": {},
       "output_type": "pyout",
       "prompt_number": 12,
       "text": [
        "0.053812696418763392"
       ]
      }
     ],
     "prompt_number": 12
    },
    {
     "cell_type": "heading",
     "level": 2,
     "metadata": {},
     "source": [
      "Distribution Fitting"
     ]
    },
    {
     "cell_type": "markdown",
     "metadata": {},
     "source": [
      "select a statistical distribution that best fits to a dataset with scipy.stats. The general pattern is:\n",
      "\n",
      "    scipy.stats.<distribution family>.<function>\n",
      "    \n",
      "There are 81 supported continuous distribution families and 12 discrete distribution families.\n",
      "\n",
      "All distributions begin with a lower-case letter, e.g. norm, expon, chi2\n",
      "\n",
      "Each distribution supports several functions. The density and cumulative distribution functions are __pdf__ and __cdf__ respectively.\n",
      "\n",
      "Random values are generated using __rvs__ which takes an optional size argument. The size is set to 1 by default."
     ]
    },
    {
     "cell_type": "heading",
     "level": 3,
     "metadata": {},
     "source": [
      "Normal distribution"
     ]
    },
    {
     "cell_type": "code",
     "collapsed": false,
     "input": [
      "from scipy import stats\n",
      "import numpy as np\n",
      "import matplotlib.pyplot as plt"
     ],
     "language": "python",
     "metadata": {},
     "outputs": [],
     "prompt_number": 13
    },
    {
     "cell_type": "code",
     "collapsed": false,
     "input": [
      "# generate a random samples, of size 250, from a normal (Gaussian) random variable with mean 0 and standard deviation 1 \n",
      "sample = stats.norm.rvs(loc=0, scale=1, size=250) #scipy.stats.norm.rvs : generate normal continuous random variables"
     ],
     "language": "python",
     "metadata": {},
     "outputs": [],
     "prompt_number": 14
    },
    {
     "cell_type": "code",
     "collapsed": false,
     "input": [
      "# fitting sample distribution with gaussian\n",
      "mean,std = stats.norm.fit(sample)                    #scipy.stats.norm.fit : fit data with normal distribution\n",
      "print mean, std"
     ],
     "language": "python",
     "metadata": {},
     "outputs": [
      {
       "output_type": "stream",
       "stream": "stdout",
       "text": [
        "0.0750280037303 0.975412281702\n"
       ]
      }
     ],
     "prompt_number": 15
    },
    {
     "cell_type": "code",
     "collapsed": false,
     "input": [
      "# now, the fitted result mean and the standard deviation of the fitted distribution\n",
      "x = np.linspace(-5,5,100)\n",
      "# fitted distribution , probability function\n",
      "pdf_fitted = stats.norm.pdf(x, loc=mean, scale=std)  #scipy.stats.norm.pdf : probability function of the distribution\n",
      "# original distribution, probability function\n",
      "pdf = stats.norm.pdf(x, loc=0, scale=1)"
     ],
     "language": "python",
     "metadata": {},
     "outputs": [],
     "prompt_number": 16
    },
    {
     "cell_type": "code",
     "collapsed": false,
     "input": [
      "plt.title('Normal distribution')\n",
      "plt.plot( x,pdf_fitted,'r-',label='fitted mean=%.2f std=%.2f'%(mean,std) )\n",
      "plt.plot(x,pdf,'b-',label='sample mean=%.2f std=%.2f'%(0,1),)\n",
      "plt.hist(sample,normed=True)\n",
      "plt.ylim([ 0, 0.55 ])\n",
      "plt.legend()\n",
      "plt.show()"
     ],
     "language": "python",
     "metadata": {},
     "outputs": [
      {
       "metadata": {},
       "output_type": "display_data",
       "png": "[encoded data removed]",
       "text": [
        "<matplotlib.figure.Figure at 0x7fa5980dffd0>"
       ]
      }
     ],
     "prompt_number": 179
    }
   ],
   "metadata": {}
  }
 ]
}