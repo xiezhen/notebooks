{
 "metadata": {
  "name": "",
  "signature": "sha256:b570c492c9a04e0e41ae2975ea20956759d97ee962c1967e7af65180123b406d"
 },
 "nbformat": 3,
 "nbformat_minor": 0,
 "worksheets": [
  {
   "cells": [
    {
     "cell_type": "heading",
     "level": 1,
     "metadata": {},
     "source": [
      "Brildaq Developer area"
     ]
    },
    {
     "cell_type": "markdown",
     "metadata": {},
     "source": [
      "\n",
      "* It is assumed that you know how to use [svn](https://svnweb.cern.ch/trac/cmsos/browser/branches/bril/daq)\n",
      " \n",
      "* It is assumed that you have read and have basic understanding of the xdaq framework: [svn/trac](https://svnweb.cern.ch/trac/cmsos/browser/trunk/daq) [user](https://edms.cern.ch/document/1001791) [developer](https://edms.cern.ch/document/998717) [build](https://edms.cern.ch/document/984719)    \n",
      "\n",
      "* It is assumed that you have basic programming skills in c/c++\n",
      "\n",
      "* It is assumed that you understand, agree on the brildaq architecture and know what your packages are and what they should do"
     ]
    },
    {
     "cell_type": "heading",
     "level": 2,
     "metadata": {},
     "source": [
      "1. [working environment](http://cern.ch/cmslumisw/brilnotebook/workenv.html)"
     ]
    },
    {
     "cell_type": "heading",
     "level": 2,
     "metadata": {},
     "source": [
      "2. [build a component with simulation/real switch, configure it in global/local run scenarios](http://cern.ch/cmslumisw/brilnotebook/brilsimulator.html) "
     ]
    },
    {
     "cell_type": "heading",
     "level": 2,
     "metadata": {},
     "source": [
      "3. [turn application monitorable, \"pull\" from application page and \"push\" to a collector](http://cern.ch/cmslumisw/brilnotebook/brilmonitoring.html)"
     ]
    },
    {
     "cell_type": "heading",
     "level": 2,
     "metadata": {},
     "source": [
      "4. [data model](http://cern.ch/cmslumisw/brilnotebook/brildata.html)"
     ]
    },
    {
     "cell_type": "heading",
     "level": 2,
     "metadata": {},
     "source": [
      "\n",
      "5. [new style hyperdaq](http://cern.ch/cmslumisw/brilnotebook/xdaq12_hyperdaq.pdf)"
     ]
    },
    {
     "cell_type": "heading",
     "level": 1,
     "metadata": {},
     "source": [
      "Clipboard"
     ]
    },
    {
     "cell_type": "code",
     "collapsed": false,
     "input": [
      "# /opt/xdaq/bin/xdaq.exe --stdout /tmp/brilevent.stdout --stderr /tmp/brilevent.stderr -u file.append:/tmp/brilevent.log -z bril -p 12345 -c /blah/eventing_inzone.xml &\n",
      "# xmas-smarthub: https://xdaq.web.cern.ch/xdaq/xmas/12/smarthub \n",
      "# dipbrowser:    http://cmsonline.cern.ch/dimConnectivity/mobileDipBrowser.do\n",
      "# zone      :   sudo /sbin/service xdaqd start|stop|status bril \n",
      "# sudo yum -y --nogpgcheck groupinstall xaas_bril\n",
      "# ssh -D 10880 myname@cmsusr\n",
      "# double tunnel from outside cern: ssh -t myname@lxplus.cern.ch -L 10880:localhost:8089 \"ssh -D 8089 myname@cmsusr.cern.ch\"\n",
      "# https://j2eeps.cern.ch/wikis/display/expcomm/\n",
      "# jdk1.6.0_45/bin/jcontrol -> directconnect\n",
      "# jdk1.6.0_45/bin/javaws http://cmsrc-srv:9000/rs_manager/1_13_1/manager.jnlp\n",
      "# http://cmsrc-lumi:46000/rcms\n",
      "# jdk1.6.0_45/bin/java -jar duck.jar configxml.xml -c \"blah\"\n",
      "# /nfshome0/lumidev/.functionmanagers"
     ],
     "language": "python",
     "metadata": {},
     "outputs": [],
     "prompt_number": 2
    },
    {
     "cell_type": "markdown",
     "metadata": {},
     "source": [
      "link [HF developer guide](http://cern.ch/cmslumisw/brilnotebook/HF_LumiThemes_Development_Guideline_Notes.docx)"
     ]
    },
    {
     "cell_type": "code",
     "collapsed": false,
     "input": [],
     "language": "python",
     "metadata": {},
     "outputs": []
    }
   ],
   "metadata": {}
  }
 ]
}