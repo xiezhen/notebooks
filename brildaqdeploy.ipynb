{
 "metadata": {
  "name": "",
  "signature": "sha256:7426551542e984275f192bf54995d405db92b45e55942b1982d22f8771d14c1c"
 },
 "nbformat": 3,
 "nbformat_minor": 0,
 "worksheets": [
  {
   "cells": [
    {
     "cell_type": "heading",
     "level": 1,
     "metadata": {},
     "source": [
      "BrilDAQ Deployment"
     ]
    },
    {
     "cell_type": "heading",
     "level": 3,
     "metadata": {},
     "source": [
      "install brildaq software"
     ]
    },
    {
     "cell_type": "markdown",
     "metadata": {},
     "source": [
      "```\n",
      "sudo cp ~lumipro/bril.repo /etc/yum.repos.d\n",
      "sudo yum clean all\n",
      "sudo yum groupinstall -y --nogpgcheck extern_brildaqcore brildaqcore\n",
      "```\n",
      "Note: the division of groups could change in the future"
     ]
    },
    {
     "cell_type": "heading",
     "level": 3,
     "metadata": {},
     "source": [
      "install bril zone clients"
     ]
    },
    {
     "cell_type": "markdown",
     "metadata": {},
     "source": [
      "```\n",
      "sudo yum groupinstall -y --nogpgcheck xaas_bril\n",
      "```"
     ]
    },
    {
     "cell_type": "heading",
     "level": 3,
     "metadata": {},
     "source": [
      "start bril zone services"
     ]
    },
    {
     "cell_type": "markdown",
     "metadata": {},
     "source": [
      "```\n",
      "sudo service xdaqd status bril\n",
      "sudo service xdaqd start bril\n",
      "ps -ef |grep xdaq.exe\n",
      "```\n",
      "bril zone access: https://xdaq.web.cern.ch/xdaq/xmas/12/smarthub "
     ]
    },
    {
     "cell_type": "code",
     "collapsed": false,
     "input": [],
     "language": "python",
     "metadata": {},
     "outputs": []
    }
   ],
   "metadata": {}
  }
 ]
}