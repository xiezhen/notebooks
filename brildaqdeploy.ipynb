{
 "metadata": {
  "name": "",
  "signature": "sha256:2fe6dd40d79c4d110e82dfb647b307659f3155eb2943954b71d9f6acb4c992c0"
 },
 "nbformat": 3,
 "nbformat_minor": 0,
 "worksheets": [
  {
   "cells": [
    {
     "cell_type": "heading",
     "level": 1,
     "metadata": {},
     "source": [
      "BrilDAQ Deployment"
     ]
    },
    {
     "cell_type": "heading",
     "level": 3,
     "metadata": {},
     "source": [
      "install brildaq software"
     ]
    },
    {
     "cell_type": "markdown",
     "metadata": {},
     "source": [
      "```\n",
      "sudo cp ~lumipro/bril.repo /etc/yum.repos.d\n",
      "sudo yum clean all\n",
      "sudo yum groupinstall -y --nogpgcheck extern_brildaqcore brildaqcore\n",
      "```\n",
      "Note: the division of groups could change in the future"
     ]
    },
    {
     "cell_type": "heading",
     "level": 3,
     "metadata": {},
     "source": [
      "install bril zone clients"
     ]
    },
    {
     "cell_type": "markdown",
     "metadata": {},
     "source": [
      "```\n",
      "sudo yum groupinstall -y --nogpgcheck xaas_bril\n",
      "```"
     ]
    },
    {
     "cell_type": "heading",
     "level": 3,
     "metadata": {},
     "source": [
      "start bril zone services"
     ]
    },
    {
     "cell_type": "markdown",
     "metadata": {},
     "source": [
      "```\n",
      "sudo service xdaqd status\n",
      "sudo service xdaqd start\n",
      "ps -ef |grep xdaq.exe\n",
      "```\n",
      "bril zone access: https://xdaq.web.cern.ch/xdaq/xmas/12/smarthub "
     ]
    },
    {
     "cell_type": "code",
     "collapsed": false,
     "input": [],
     "language": "python",
     "metadata": {},
     "outputs": []
    }
   ],
   "metadata": {}
  }
 ]
}